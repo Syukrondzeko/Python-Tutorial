{
  "cells": [
    {
      "cell_type": "markdown",
      "metadata": {
        "id": "LBSYoWbi-45k"
      },
      "source": [
        "# **Fine-tuning Wav2Vec2 for English ASR with Huggingface Transformers**"
      ]
    },
    {
      "cell_type": "code",
      "source": [
        "!pip install -q datasets==1.18.3\n",
        "!pip install -q transformers==4.17.0\n",
        "!pip install -q jiwer"
      ],
      "metadata": {
        "id": "GPGjYEO6YMHV"
      },
      "execution_count": 1,
      "outputs": []
    },
    {
      "cell_type": "code",
      "execution_count": 2,
      "metadata": {
        "id": "zFLBDyzQIA3R"
      },
      "outputs": [],
      "source": [
        "# from huggingface_hub import notebook_login\n",
        "\n",
        "# notebook_login()"
      ]
    },
    {
      "cell_type": "code",
      "execution_count": 3,
      "metadata": {
        "id": "Q9BnQDhOITBC"
      },
      "outputs": [],
      "source": [
        "# %%capture\n",
        "# !apt install git-lfs"
      ]
    },
    {
      "cell_type": "markdown",
      "metadata": {
        "id": "0mW-C1Nt-j7k"
      },
      "source": [
        "## Prepare Data, Tokenizer, Feature Extractor"
      ]
    },
    {
      "cell_type": "markdown",
      "metadata": {
        "id": "sEXEWEJGQPqD"
      },
      "source": [
        "### Create Wav2Vec2CTCTokenizer"
      ]
    },
    {
      "cell_type": "code",
      "execution_count": 4,
      "metadata": {
        "id": "2MMXcWFFgCXU",
        "colab": {
          "base_uri": "https://localhost:8080/",
          "height": 86,
          "referenced_widgets": [
            "85e07a75fabd49a293865bd659625f82",
            "0def02df5e6f42d08d3d25c964bb09a5",
            "828756e9be1244a6be382bc46c589f3a",
            "46de9995ea404247b6bcf7c9c943a3c7",
            "fc64c03ef2f143538f5928b76910909c",
            "1de26709022c4dcc91bdf0dea2dfbada",
            "bd24b91cd2d84c24951c0c2a419e250f",
            "790e2896101846f9babc4845674fd6b9",
            "08e7123463114d63b332b906b31cb63a",
            "5b71c8e858634d5ba9f17bfe35099f3e",
            "03532fca73134ca78ecb7d18f2f7f7b7"
          ]
        },
        "outputId": "667ba01e-6ae5-41bf-a687-f4e82fbe858c"
      },
      "outputs": [
        {
          "output_type": "stream",
          "name": "stderr",
          "text": [
            "WARNING:datasets.builder:Reusing dataset timit_asr (/root/.cache/huggingface/datasets/timit_asr/clean/2.0.1/b11b576ddcccbcefa7c9f0c4e6c2a43756f3033adffe0fb686aa61043d0450ad)\n"
          ]
        },
        {
          "output_type": "display_data",
          "data": {
            "text/plain": [
              "  0%|          | 0/2 [00:00<?, ?it/s]"
            ],
            "application/vnd.jupyter.widget-view+json": {
              "version_major": 2,
              "version_minor": 0,
              "model_id": "85e07a75fabd49a293865bd659625f82"
            }
          },
          "metadata": {}
        }
      ],
      "source": [
        "from datasets import load_dataset, load_metric\n",
        "\n",
        "timit = load_dataset(\"timit_asr\")"
      ]
    },
    {
      "cell_type": "code",
      "execution_count": 5,
      "metadata": {
        "id": "QbIM-L0xdvf4",
        "colab": {
          "base_uri": "https://localhost:8080/"
        },
        "outputId": "8aa63290-c744-481b-db69-b0892b2079ce"
      },
      "outputs": [
        {
          "output_type": "execute_result",
          "data": {
            "text/plain": [
              "DatasetDict({\n",
              "    train: Dataset({\n",
              "        features: ['file', 'audio', 'text', 'phonetic_detail', 'word_detail', 'dialect_region', 'sentence_type', 'speaker_id', 'id'],\n",
              "        num_rows: 4620\n",
              "    })\n",
              "    test: Dataset({\n",
              "        features: ['file', 'audio', 'text', 'phonetic_detail', 'word_detail', 'dialect_region', 'sentence_type', 'speaker_id', 'id'],\n",
              "        num_rows: 1680\n",
              "    })\n",
              "})"
            ]
          },
          "metadata": {},
          "execution_count": 5
        }
      ],
      "source": [
        "timit"
      ]
    },
    {
      "cell_type": "code",
      "execution_count": 6,
      "metadata": {
        "id": "kbyq6lDgQc2a"
      },
      "outputs": [],
      "source": [
        "timit = timit.remove_columns([\"phonetic_detail\", \"word_detail\", \"dialect_region\", \"speaker_id\", \"sentence_type\", \"id\"])"
      ]
    },
    {
      "cell_type": "markdown",
      "metadata": {
        "id": "Go9Hq4e4NDT9"
      },
      "source": [
        "Let's write a short function to display some random samples of the dataset and run it a couple of times to get a feeling for the transcriptions."
      ]
    },
    {
      "cell_type": "code",
      "execution_count": 7,
      "metadata": {
        "id": "72737oog2F6U"
      },
      "outputs": [],
      "source": [
        "from datasets import ClassLabel\n",
        "import random\n",
        "import pandas as pd\n",
        "from IPython.display import display, HTML\n",
        "\n",
        "def show_random_elements(dataset, num_examples=10):\n",
        "    assert num_examples <= len(dataset), \"Can't pick more elements than there are in the dataset.\"\n",
        "    picks = []\n",
        "    for _ in range(num_examples):\n",
        "        pick = random.randint(0, len(dataset)-1)\n",
        "        while pick in picks:\n",
        "            pick = random.randint(0, len(dataset)-1)\n",
        "        picks.append(pick)\n",
        "\n",
        "    df = pd.DataFrame(dataset[picks])\n",
        "    display(HTML(df.to_html()))"
      ]
    },
    {
      "cell_type": "code",
      "execution_count": 13,
      "metadata": {
        "id": "K_JUmf3G3b9S",
        "colab": {
          "base_uri": "https://localhost:8080/",
          "height": 359
        },
        "outputId": "28d4b62b-68d9-469f-e3da-e453e9b17c0c"
      },
      "outputs": [
        {
          "output_type": "display_data",
          "data": {
            "text/plain": [
              "<IPython.core.display.HTML object>"
            ],
            "text/html": [
              "<table border=\"1\" class=\"dataframe\">\n",
              "  <thead>\n",
              "    <tr style=\"text-align: right;\">\n",
              "      <th></th>\n",
              "      <th>text</th>\n",
              "    </tr>\n",
              "  </thead>\n",
              "  <tbody>\n",
              "    <tr>\n",
              "      <th>0</th>\n",
              "      <td>She had your dark suit in greasy wash water all year.</td>\n",
              "    </tr>\n",
              "    <tr>\n",
              "      <th>1</th>\n",
              "      <td>Gently place Jim's foam sculpture in the box.</td>\n",
              "    </tr>\n",
              "    <tr>\n",
              "      <th>2</th>\n",
              "      <td>She had your dark suit in greasy wash water all year.</td>\n",
              "    </tr>\n",
              "    <tr>\n",
              "      <th>3</th>\n",
              "      <td>You're so preoccupied that you've let your faith grow dim.</td>\n",
              "    </tr>\n",
              "    <tr>\n",
              "      <th>4</th>\n",
              "      <td>She had your dark suit in greasy wash water all year.</td>\n",
              "    </tr>\n",
              "    <tr>\n",
              "      <th>5</th>\n",
              "      <td>A lawyer was appointed to execute her will.</td>\n",
              "    </tr>\n",
              "    <tr>\n",
              "      <th>6</th>\n",
              "      <td>What outfit does she drive for?</td>\n",
              "    </tr>\n",
              "    <tr>\n",
              "      <th>7</th>\n",
              "      <td>Forget we ever knew what?</td>\n",
              "    </tr>\n",
              "    <tr>\n",
              "      <th>8</th>\n",
              "      <td>The easygoing zoologist relaxed throughout the voyage.</td>\n",
              "    </tr>\n",
              "    <tr>\n",
              "      <th>9</th>\n",
              "      <td>She had your dark suit in greasy wash water all year.</td>\n",
              "    </tr>\n",
              "  </tbody>\n",
              "</table>"
            ]
          },
          "metadata": {}
        }
      ],
      "source": [
        "show_random_elements(timit[\"train\"].remove_columns([\"audio\", \"file\"]), num_examples=10)"
      ]
    },
    {
      "cell_type": "code",
      "execution_count": 14,
      "metadata": {
        "id": "svKzVJ_hQGK6"
      },
      "outputs": [],
      "source": [
        "import re\n",
        "chars_to_ignore_regex = '[\\,\\?\\.\\!\\-\\;\\:\\\"]'\n",
        "\n",
        "def remove_special_characters(batch):\n",
        "    batch[\"text\"] = re.sub(chars_to_ignore_regex, '', batch[\"text\"]).lower() + \" \"\n",
        "    return batch"
      ]
    },
    {
      "cell_type": "code",
      "execution_count": 15,
      "metadata": {
        "id": "XIHocAuTQbBR",
        "colab": {
          "base_uri": "https://localhost:8080/",
          "height": 118,
          "referenced_widgets": [
            "cb9c0408a1884d10baf803b4eda54a5c",
            "3e1ad87ccf8c449c9915e8f4138e3ec7",
            "a042f4ebf6c64390840ced6e715d4817",
            "fdf629f66ce34025b30f445b6d4f5b27",
            "1797e0fc63e74cb1ba2a1776432c6594",
            "92c52d6bdf4546edb45b5d04267c7740",
            "3310731a980a4b27bb5b8613ac8713fb",
            "e80dcd901c4f4aeba315373d30bfe6a8",
            "028b96bd3fb74a87819eca39657657fa",
            "bf2913d6b1204307a03a94d2b1602c25",
            "00b267d4ecbb49e7907880d0581ae109",
            "44649c3f9b1c43799678cae19a49d135",
            "9b19d082e718462a9ec5f414a9133395",
            "271c55bd3f4245678029ff10040e3e63",
            "45f0ee40a31443a897085de5696c5216",
            "ab1ce0dd12984584844c8482a93c78b1",
            "f6c5bfd22ab24ff085321de7eba56a2b",
            "606bc58288744e9584898022dcea717f",
            "728e4b49370e4160aec242f42fbcab05",
            "de27bd7e92904546a9cdc5ff29d6ead8",
            "020b6b9b7c284b68ab44f8d274733fee",
            "fb3cafcd9dd94afe8dff1f01cfbbf5e7"
          ]
        },
        "outputId": "1d03f9a3-6ee4-48df-a496-136ada972fb7"
      },
      "outputs": [
        {
          "output_type": "stream",
          "name": "stderr",
          "text": [
            "WARNING:datasets.fingerprint:Parameter 'function'=<function remove_special_characters at 0x7948e1d03b50> of the transform datasets.arrow_dataset.Dataset._map_single couldn't be hashed properly, a random hash was used instead. Make sure your transforms and parameters are serializable with pickle or dill for the dataset fingerprinting and caching to work. If you reuse this transform, the caching mechanism will consider it to be different from the previous calls and recompute everything. This warning is only showed once. Subsequent hashing failures won't be showed.\n"
          ]
        },
        {
          "output_type": "display_data",
          "data": {
            "text/plain": [
              "0ex [00:00, ?ex/s]"
            ],
            "application/vnd.jupyter.widget-view+json": {
              "version_major": 2,
              "version_minor": 0,
              "model_id": "cb9c0408a1884d10baf803b4eda54a5c"
            }
          },
          "metadata": {}
        },
        {
          "output_type": "display_data",
          "data": {
            "text/plain": [
              "0ex [00:00, ?ex/s]"
            ],
            "application/vnd.jupyter.widget-view+json": {
              "version_major": 2,
              "version_minor": 0,
              "model_id": "44649c3f9b1c43799678cae19a49d135"
            }
          },
          "metadata": {}
        }
      ],
      "source": [
        "timit = timit.map(remove_special_characters)"
      ]
    },
    {
      "cell_type": "code",
      "execution_count": 16,
      "metadata": {
        "id": "RBDRAAYxRE6n",
        "colab": {
          "base_uri": "https://localhost:8080/",
          "height": 359
        },
        "outputId": "dad63a64-b0d4-4578-9132-0b2618c54b96"
      },
      "outputs": [
        {
          "output_type": "display_data",
          "data": {
            "text/plain": [
              "<IPython.core.display.HTML object>"
            ],
            "text/html": [
              "<table border=\"1\" class=\"dataframe\">\n",
              "  <thead>\n",
              "    <tr style=\"text-align: right;\">\n",
              "      <th></th>\n",
              "      <th>text</th>\n",
              "    </tr>\n",
              "  </thead>\n",
              "  <tbody>\n",
              "    <tr>\n",
              "      <th>0</th>\n",
              "      <td>this girl soon drops the bourgeoisie psychiatrist who disapproves of her life</td>\n",
              "    </tr>\n",
              "    <tr>\n",
              "      <th>1</th>\n",
              "      <td>she had your dark suit in greasy wash water all year</td>\n",
              "    </tr>\n",
              "    <tr>\n",
              "      <th>2</th>\n",
              "      <td>with her sharp tongue she'd have cut his pompousness to ribbons</td>\n",
              "    </tr>\n",
              "    <tr>\n",
              "      <th>3</th>\n",
              "      <td>some make beautiful chairs cabinets chests doll houses etc</td>\n",
              "    </tr>\n",
              "    <tr>\n",
              "      <th>4</th>\n",
              "      <td>a complete plan we have made limited application of the parallel ladder plan</td>\n",
              "    </tr>\n",
              "    <tr>\n",
              "      <th>5</th>\n",
              "      <td>the ward was a small one four beds kept reserved for female alcoholics</td>\n",
              "    </tr>\n",
              "    <tr>\n",
              "      <th>6</th>\n",
              "      <td>she had your dark suit in greasy wash water all year</td>\n",
              "    </tr>\n",
              "    <tr>\n",
              "      <th>7</th>\n",
              "      <td>lots of foreign movies have subtitles</td>\n",
              "    </tr>\n",
              "    <tr>\n",
              "      <th>8</th>\n",
              "      <td>the figure five is important in insurance</td>\n",
              "    </tr>\n",
              "    <tr>\n",
              "      <th>9</th>\n",
              "      <td>don't ask me to carry an oily rag like that</td>\n",
              "    </tr>\n",
              "  </tbody>\n",
              "</table>"
            ]
          },
          "metadata": {}
        }
      ],
      "source": [
        "show_random_elements(timit[\"train\"].remove_columns([\"audio\", \"file\"]))"
      ]
    },
    {
      "cell_type": "code",
      "execution_count": 17,
      "metadata": {
        "id": "LwCshNbbeRZR"
      },
      "outputs": [],
      "source": [
        "def extract_all_chars(batch):\n",
        "  all_text = \" \".join(batch[\"text\"])\n",
        "  vocab = list(set(all_text))\n",
        "  return {\"vocab\": [vocab], \"all_text\": [all_text]}"
      ]
    },
    {
      "cell_type": "code",
      "execution_count": 18,
      "metadata": {
        "id": "_m6uUjjcfbjH",
        "colab": {
          "base_uri": "https://localhost:8080/",
          "height": 81,
          "referenced_widgets": [
            "42c99d28fc5047b1947e5a773ffd24cf",
            "a65b1ebada854544b4e286419d1d1054",
            "8b53a301624e4e7ebd05dac4c35d33a0",
            "b02945ebe6044ef3bd647f26d1f471fa",
            "8cb16ebf48714360a69df4001f352f17",
            "2b7c95d644ad49429e6c8a71c67a67c1",
            "506cc5d2dbe04be3b1def3ee4d01c074",
            "cdaabda8aa524463a8070cc07a8f4ddf",
            "9a481ecc95604059afabbd2396874c24",
            "2b4ca18c8d2e4b8ba9cea04a3016bb64",
            "6be6130098344ec28bcd77d5d2e7012d",
            "aeff8a98bd6d42fcb0789f2d3111e67d",
            "e3ad71cbd8614bca8069acd057bb2e2a",
            "7631fe4ae696418e8bba554cfe36a8a8",
            "c73312e521fa480aa451939735957095",
            "45a2bd63f11e4830aab39eae5605c8f3",
            "d82a05bb077f4d608b21c9f7ad8b65d5",
            "b40db02ddbc444409d5881070aede13a",
            "ae19ead9778547e09265971528170826",
            "80ddff7e0ead4c4ba88fd704e46da0dd",
            "ea8b3d79e89347779d51fca887947695",
            "34b80be24ebd481ba958be858bd1db29"
          ]
        },
        "outputId": "5e884ae1-f4da-4c06-8232-ef881e991ddf"
      },
      "outputs": [
        {
          "output_type": "display_data",
          "data": {
            "text/plain": [
              "  0%|          | 0/1 [00:00<?, ?ba/s]"
            ],
            "application/vnd.jupyter.widget-view+json": {
              "version_major": 2,
              "version_minor": 0,
              "model_id": "42c99d28fc5047b1947e5a773ffd24cf"
            }
          },
          "metadata": {}
        },
        {
          "output_type": "display_data",
          "data": {
            "text/plain": [
              "  0%|          | 0/1 [00:00<?, ?ba/s]"
            ],
            "application/vnd.jupyter.widget-view+json": {
              "version_major": 2,
              "version_minor": 0,
              "model_id": "aeff8a98bd6d42fcb0789f2d3111e67d"
            }
          },
          "metadata": {}
        }
      ],
      "source": [
        "vocabs = timit.map(extract_all_chars, batched=True, batch_size=-1, keep_in_memory=True, remove_columns=timit.column_names[\"train\"])"
      ]
    },
    {
      "cell_type": "markdown",
      "metadata": {
        "id": "7oVgE8RZSJNP"
      },
      "source": [
        "Now, we create the union of all distinct letters in the training dataset and test dataset and convert the resulting list into an enumerated dictionary."
      ]
    },
    {
      "cell_type": "code",
      "execution_count": 19,
      "metadata": {
        "id": "aQfneNsmlJI0"
      },
      "outputs": [],
      "source": [
        "vocab_list = list(set(vocabs[\"train\"][\"vocab\"][0]) | set(vocabs[\"test\"][\"vocab\"][0]))"
      ]
    },
    {
      "cell_type": "code",
      "execution_count": 20,
      "metadata": {
        "id": "_0kRndSvqaKk",
        "colab": {
          "base_uri": "https://localhost:8080/"
        },
        "outputId": "dfb737dc-51b8-46a2-d3e3-cefc7f9431bd"
      },
      "outputs": [
        {
          "output_type": "execute_result",
          "data": {
            "text/plain": [
              "{'m': 0,\n",
              " \"'\": 1,\n",
              " 'q': 2,\n",
              " 't': 3,\n",
              " 'r': 4,\n",
              " 'i': 5,\n",
              " 'p': 6,\n",
              " 'y': 7,\n",
              " 'u': 8,\n",
              " 'd': 9,\n",
              " 'k': 10,\n",
              " 's': 11,\n",
              " 'o': 12,\n",
              " 'x': 13,\n",
              " 'n': 14,\n",
              " 'b': 15,\n",
              " 'g': 16,\n",
              " 'j': 17,\n",
              " 'e': 18,\n",
              " 'f': 19,\n",
              " 'w': 20,\n",
              " ' ': 21,\n",
              " 'a': 22,\n",
              " 'c': 23,\n",
              " 'z': 24,\n",
              " 'v': 25,\n",
              " 'h': 26,\n",
              " 'l': 27}"
            ]
          },
          "metadata": {},
          "execution_count": 20
        }
      ],
      "source": [
        "vocab_dict = {v: k for k, v in enumerate(vocab_list)}\n",
        "vocab_dict"
      ]
    },
    {
      "cell_type": "code",
      "execution_count": 21,
      "metadata": {
        "id": "npbIbBoLgaFX"
      },
      "outputs": [],
      "source": [
        "vocab_dict[\"|\"] = vocab_dict[\" \"]\n",
        "del vocab_dict[\" \"]"
      ]
    },
    {
      "cell_type": "code",
      "execution_count": 22,
      "metadata": {
        "id": "znF0bNunsjbl",
        "colab": {
          "base_uri": "https://localhost:8080/"
        },
        "outputId": "abac2ab5-3199-4199-92b5-5a6248ae92b8"
      },
      "outputs": [
        {
          "output_type": "execute_result",
          "data": {
            "text/plain": [
              "30"
            ]
          },
          "metadata": {},
          "execution_count": 22
        }
      ],
      "source": [
        "vocab_dict[\"[UNK]\"] = len(vocab_dict)\n",
        "vocab_dict[\"[PAD]\"] = len(vocab_dict)\n",
        "len(vocab_dict)"
      ]
    },
    {
      "cell_type": "code",
      "execution_count": 23,
      "metadata": {
        "id": "ehyUoh9vk191"
      },
      "outputs": [],
      "source": [
        "import json\n",
        "with open('/content/vocab.json', 'w') as vocab_file:\n",
        "    json.dump(vocab_dict, vocab_file)"
      ]
    },
    {
      "cell_type": "code",
      "execution_count": 24,
      "metadata": {
        "id": "xriFGEWQkO4M"
      },
      "outputs": [],
      "source": [
        "from transformers import Wav2Vec2CTCTokenizer\n",
        "\n",
        "tokenizer = Wav2Vec2CTCTokenizer(\"/content/vocab.json\", unk_token=\"[UNK]\", pad_token=\"[PAD]\", word_delimiter_token=\"|\")"
      ]
    },
    {
      "cell_type": "markdown",
      "metadata": {
        "id": "mYcIiR2FQ96i"
      },
      "source": [
        "### Create Wav2Vec2 Feature Extractor"
      ]
    },
    {
      "cell_type": "code",
      "execution_count": 25,
      "metadata": {
        "id": "kAR0-2KLkopp"
      },
      "outputs": [],
      "source": [
        "from transformers import Wav2Vec2FeatureExtractor\n",
        "\n",
        "feature_extractor = Wav2Vec2FeatureExtractor(feature_size=1, sampling_rate=16000, padding_value=0.0, do_normalize=True, return_attention_mask=False)"
      ]
    },
    {
      "cell_type": "code",
      "execution_count": 26,
      "metadata": {
        "id": "KYZtoW-tlZgl"
      },
      "outputs": [],
      "source": [
        "from transformers import Wav2Vec2Processor\n",
        "\n",
        "processor = Wav2Vec2Processor(feature_extractor=feature_extractor, tokenizer=tokenizer)"
      ]
    },
    {
      "cell_type": "markdown",
      "metadata": {
        "id": "YFmShnl7RE35"
      },
      "source": [
        "### Preprocess Data\n",
        "\n"
      ]
    },
    {
      "cell_type": "code",
      "execution_count": 27,
      "metadata": {
        "id": "TTCS7W6XJ9BG",
        "colab": {
          "base_uri": "https://localhost:8080/",
          "height": 35
        },
        "outputId": "76f0922b-c2b3-4b7c-e037-7a7f4db35c42"
      },
      "outputs": [
        {
          "output_type": "execute_result",
          "data": {
            "text/plain": [
              "'/root/.cache/huggingface/datasets/downloads/extracted/404950a46da14eac65eb4e2a8317b1372fb3971d980d91d5d5b221275b1fd7e0/data/TRAIN/DR4/MMDM0/SI681.WAV'"
            ],
            "application/vnd.google.colaboratory.intrinsic+json": {
              "type": "string"
            }
          },
          "metadata": {},
          "execution_count": 27
        }
      ],
      "source": [
        "timit[\"train\"][0][\"file\"]"
      ]
    },
    {
      "cell_type": "markdown",
      "metadata": {
        "id": "BwxprOw4Nzrl"
      },
      "source": [
        "`Wav2Vec2` expects the input in the format of a 1-dimensional array of 16 kHz. This means that the audio file has to be loaded and resampled.\n",
        "\n",
        " Thankfully, `datasets` does this automatically when calling the column `audio`. Let try it out."
      ]
    },
    {
      "cell_type": "code",
      "execution_count": 28,
      "metadata": {
        "id": "mk9QHuSsN7lf",
        "colab": {
          "base_uri": "https://localhost:8080/"
        },
        "outputId": "22d449ca-da65-4f49-f5a6-6531a0e07360"
      },
      "outputs": [
        {
          "output_type": "execute_result",
          "data": {
            "text/plain": [
              "{'path': '/root/.cache/huggingface/datasets/downloads/extracted/404950a46da14eac65eb4e2a8317b1372fb3971d980d91d5d5b221275b1fd7e0/data/TRAIN/DR4/MMDM0/SI681.WAV',\n",
              " 'array': array([-2.1362305e-04,  6.1035156e-05,  3.0517578e-05, ...,\n",
              "        -3.0517578e-05, -9.1552734e-05, -6.1035156e-05], dtype=float32),\n",
              " 'sampling_rate': 16000}"
            ]
          },
          "metadata": {},
          "execution_count": 28
        }
      ],
      "source": [
        "timit[\"train\"][0][\"audio\"]"
      ]
    },
    {
      "cell_type": "code",
      "execution_count": 29,
      "metadata": {
        "id": "dueM6U7Ev0OA",
        "colab": {
          "base_uri": "https://localhost:8080/",
          "height": 69
        },
        "outputId": "f8441304-8d1a-40dc-b3bf-87d7b7fb20a7"
      },
      "outputs": [
        {
          "output_type": "stream",
          "name": "stdout",
          "text": [
            "she had your dark suit in greasy wash water all year \n"
          ]
        },
        {
          "output_type": "execute_result",
          "data": {
            "text/plain": [
              "<IPython.lib.display.Audio object>"
            ],
            "text/html": [
              "\n",
              "                <audio  controls=\"controls\" autoplay=\"autoplay\">\n",
              "                    <source src=\"data:audio/wav;base64,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\" type=\"audio/wav\" />\n",
              "                    Your browser does not support the audio element.\n",
              "                </audio>\n",
              "              "
            ]
          },
          "metadata": {},
          "execution_count": 29
        }
      ],
      "source": [
        "import IPython.display as ipd\n",
        "import numpy as np\n",
        "import random\n",
        "\n",
        "rand_int = random.randint(0, len(timit[\"train\"]))\n",
        "\n",
        "print(timit[\"train\"][rand_int][\"text\"])\n",
        "ipd.Audio(data=np.asarray(timit[\"train\"][rand_int][\"audio\"][\"array\"]), autoplay=True, rate=16000)"
      ]
    },
    {
      "cell_type": "code",
      "execution_count": 31,
      "metadata": {
        "id": "1Po2g7YPuRTx",
        "colab": {
          "base_uri": "https://localhost:8080/"
        },
        "outputId": "657175d4-8252-44e6-dd2c-fdf355a6e292"
      },
      "outputs": [
        {
          "output_type": "stream",
          "name": "stdout",
          "text": [
            "Target text: those who teach values first abolish cheating \n",
            "Input array shape: (45671,)\n",
            "Sampling rate: 16000\n"
          ]
        }
      ],
      "source": [
        "rand_int = random.randint(0, len(timit[\"train\"]))\n",
        "\n",
        "print(\"Target text:\", timit[\"train\"][rand_int][\"text\"])\n",
        "print(\"Input array shape:\", np.asarray(timit[\"train\"][rand_int][\"audio\"][\"array\"]).shape)\n",
        "print(\"Sampling rate:\", timit[\"train\"][rand_int][\"audio\"][\"sampling_rate\"])"
      ]
    },
    {
      "cell_type": "code",
      "execution_count": 32,
      "metadata": {
        "id": "eJY7I0XAwe9p"
      },
      "outputs": [],
      "source": [
        "def prepare_dataset(batch):\n",
        "    audio = batch[\"audio\"]\n",
        "\n",
        "    # batched output is \"un-batched\" to ensure mapping is correct\n",
        "    batch[\"input_values\"] = processor(audio[\"array\"], sampling_rate=audio[\"sampling_rate\"]).input_values[0]\n",
        "    batch[\"input_length\"] = len(batch[\"input_values\"])\n",
        "\n",
        "    with processor.as_target_processor():\n",
        "        batch[\"labels\"] = processor(batch[\"text\"]).input_ids\n",
        "    return batch"
      ]
    },
    {
      "cell_type": "code",
      "source": [
        "import numpy as np\n",
        "\n",
        "np.object = object"
      ],
      "metadata": {
        "id": "deR-FieGoEzY"
      },
      "execution_count": 33,
      "outputs": []
    },
    {
      "cell_type": "code",
      "execution_count": 34,
      "metadata": {
        "id": "-np9xYK-wl8q",
        "colab": {
          "base_uri": "https://localhost:8080/"
        },
        "outputId": "5d7b3234-fe65-4312-c42e-cf469cb346d2"
      },
      "outputs": [
        {
          "output_type": "stream",
          "name": "stderr",
          "text": [
            "/usr/local/lib/python3.10/dist-packages/datasets/table.py:690: FutureWarning: promote has been superseded by mode='default'.\n",
            "  table = cls._concat_blocks(blocks, axis=0)\n"
          ]
        }
      ],
      "source": [
        "timit = timit.map(prepare_dataset, remove_columns=timit.column_names[\"train\"], num_proc=4)"
      ]
    },
    {
      "cell_type": "markdown",
      "metadata": {
        "id": "M4J0bU1WsvAg"
      },
      "source": [
        "Long input sequences require a lot of memory. Since `Wav2Vec2` is based on `self-attention` the memory requirement scales quadratically with the input length for long input sequences (*cf.* with [this](https://www.reddit.com/r/MachineLearning/comments/genjvb/d_why_is_the_maximum_input_sequence_length_of/) reddit post). For this demo, let's filter all sequences that are longer than 4 seconds out of the training dataset."
      ]
    },
    {
      "cell_type": "code",
      "execution_count": 35,
      "metadata": {
        "id": "nqGobEPUvG3v",
        "colab": {
          "base_uri": "https://localhost:8080/",
          "height": 49,
          "referenced_widgets": [
            "00c7482875db45729d8688ea14c7a8fb",
            "e23de0801c904db1b27b0230a2a4f6d3",
            "a0eeb97ece0e4de99b03283850541681",
            "97ffc64e24fc4c7baed8d63c59accffb",
            "69e73ca173634eef8a1735a6c88faa03",
            "7964799b85304336ba70ba11d325405d",
            "ed4fa33629104fbeac908e73a4971aaa",
            "ade3116f12bd473b914c880e2be35259",
            "d51f96d27bf6424c91f51ad378ddc0e6",
            "252f90a15f1d436d850b0990e7c05d45",
            "280f4ad74ef0464da37e4fb4df034a9d"
          ]
        },
        "outputId": "7fbebbbe-bbe5-48ea-cf1f-8118abfe0c04"
      },
      "outputs": [
        {
          "output_type": "display_data",
          "data": {
            "text/plain": [
              "  0%|          | 0/5 [00:00<?, ?ba/s]"
            ],
            "application/vnd.jupyter.widget-view+json": {
              "version_major": 2,
              "version_minor": 0,
              "model_id": "00c7482875db45729d8688ea14c7a8fb"
            }
          },
          "metadata": {}
        }
      ],
      "source": [
        "max_input_length_in_sec = 4.0\n",
        "timit[\"train\"] = timit[\"train\"].filter(lambda x: x < max_input_length_in_sec * processor.feature_extractor.sampling_rate, input_columns=[\"input_length\"])"
      ]
    },
    {
      "cell_type": "markdown",
      "metadata": {
        "id": "gYlQkKVoRUos"
      },
      "source": [
        "## Training & Evaluation"
      ]
    },
    {
      "cell_type": "markdown",
      "metadata": {
        "id": "Slk403unUS91"
      },
      "source": [
        "### Set-up Trainer\n"
      ]
    },
    {
      "cell_type": "code",
      "execution_count": 36,
      "metadata": {
        "id": "tborvC9hx88e"
      },
      "outputs": [],
      "source": [
        "import torch\n",
        "\n",
        "from dataclasses import dataclass, field\n",
        "from typing import Any, Dict, List, Optional, Union\n",
        "\n",
        "@dataclass\n",
        "class DataCollatorCTCWithPadding:\n",
        "    processor: Wav2Vec2Processor\n",
        "    padding: Union[bool, str] = True\n",
        "\n",
        "    def __call__(self, features: List[Dict[str, Union[List[int], torch.Tensor]]]) -> Dict[str, torch.Tensor]:\n",
        "        # split inputs and labels since they have to be of different lenghts and need\n",
        "        # different padding methods\n",
        "        input_features = [{\"input_values\": feature[\"input_values\"]} for feature in features]\n",
        "        label_features = [{\"input_ids\": feature[\"labels\"]} for feature in features]\n",
        "\n",
        "        batch = self.processor.pad(\n",
        "            input_features,\n",
        "            padding=self.padding,\n",
        "            return_tensors=\"pt\",\n",
        "        )\n",
        "        with self.processor.as_target_processor():\n",
        "            labels_batch = self.processor.pad(\n",
        "                label_features,\n",
        "                padding=self.padding,\n",
        "                return_tensors=\"pt\",\n",
        "            )\n",
        "\n",
        "        # replace padding with -100 to ignore loss correctly\n",
        "        labels = labels_batch[\"input_ids\"].masked_fill(labels_batch.attention_mask.ne(1), -100)\n",
        "\n",
        "        batch[\"labels\"] = labels\n",
        "\n",
        "        return batch"
      ]
    },
    {
      "cell_type": "code",
      "execution_count": 37,
      "metadata": {
        "id": "lbQf5GuZyQ4_"
      },
      "outputs": [],
      "source": [
        "data_collator = DataCollatorCTCWithPadding(processor=processor, padding=True)"
      ]
    },
    {
      "cell_type": "code",
      "execution_count": 38,
      "metadata": {
        "id": "9Xsux2gmyXso"
      },
      "outputs": [],
      "source": [
        "wer_metric = load_metric(\"wer\")"
      ]
    },
    {
      "cell_type": "code",
      "execution_count": 39,
      "metadata": {
        "id": "1XZ-kjweyTy_"
      },
      "outputs": [],
      "source": [
        "def compute_metrics(pred):\n",
        "    pred_logits = pred.predictions\n",
        "    pred_ids = np.argmax(pred_logits, axis=-1)\n",
        "\n",
        "    pred.label_ids[pred.label_ids == -100] = processor.tokenizer.pad_token_id\n",
        "\n",
        "    pred_str = processor.batch_decode(pred_ids)\n",
        "    # we do not want to group tokens when computing the metrics\n",
        "    label_str = processor.batch_decode(pred.label_ids, group_tokens=False)\n",
        "\n",
        "    wer = wer_metric.compute(predictions=pred_str, references=label_str)\n",
        "\n",
        "    return {\"wer\": wer}"
      ]
    },
    {
      "cell_type": "code",
      "execution_count": 40,
      "metadata": {
        "id": "e7cqAWIayn6w",
        "colab": {
          "base_uri": "https://localhost:8080/"
        },
        "outputId": "1e99c341-4cd9-405d-db80-7fd1ffcbb2a4"
      },
      "outputs": [
        {
          "output_type": "stream",
          "name": "stderr",
          "text": [
            "/usr/local/lib/python3.10/dist-packages/transformers/configuration_utils.py:356: UserWarning: Passing `gradient_checkpointing` to a config initialization is deprecated and will be removed in v5 Transformers. Using `model.gradient_checkpointing_enable()` instead, or if you are using the `Trainer` API, pass `gradient_checkpointing=True` in your `TrainingArguments`.\n",
            "  warnings.warn(\n",
            "/usr/local/lib/python3.10/dist-packages/torch/nn/utils/weight_norm.py:28: UserWarning: torch.nn.utils.weight_norm is deprecated in favor of torch.nn.utils.parametrizations.weight_norm.\n",
            "  warnings.warn(\"torch.nn.utils.weight_norm is deprecated in favor of torch.nn.utils.parametrizations.weight_norm.\")\n",
            "Some weights of the model checkpoint at facebook/wav2vec2-base were not used when initializing Wav2Vec2ForCTC: ['quantizer.weight_proj.bias', 'quantizer.weight_proj.weight', 'project_q.weight', 'project_hid.bias', 'project_hid.weight', 'quantizer.codevectors', 'project_q.bias']\n",
            "- This IS expected if you are initializing Wav2Vec2ForCTC from the checkpoint of a model trained on another task or with another architecture (e.g. initializing a BertForSequenceClassification model from a BertForPreTraining model).\n",
            "- This IS NOT expected if you are initializing Wav2Vec2ForCTC from the checkpoint of a model that you expect to be exactly identical (initializing a BertForSequenceClassification model from a BertForSequenceClassification model).\n",
            "Some weights of Wav2Vec2ForCTC were not initialized from the model checkpoint at facebook/wav2vec2-base and are newly initialized: ['lm_head.weight', 'lm_head.bias']\n",
            "You should probably TRAIN this model on a down-stream task to be able to use it for predictions and inference.\n"
          ]
        }
      ],
      "source": [
        "from transformers import Wav2Vec2ForCTC\n",
        "\n",
        "model = Wav2Vec2ForCTC.from_pretrained(\n",
        "    \"facebook/wav2vec2-base\",\n",
        "    ctc_loss_reduction=\"mean\",\n",
        "    pad_token_id=processor.tokenizer.pad_token_id,\n",
        ")"
      ]
    },
    {
      "cell_type": "code",
      "execution_count": 41,
      "metadata": {
        "id": "Et_NUAZjWppc"
      },
      "outputs": [],
      "source": [
        "model.freeze_feature_encoder()"
      ]
    },
    {
      "cell_type": "code",
      "execution_count": 42,
      "metadata": {
        "id": "KbeKSV7uzGPP"
      },
      "outputs": [],
      "source": [
        "from transformers import TrainingArguments\n",
        "\n",
        "training_args = TrainingArguments(\n",
        "  output_dir=\"nothing\",\n",
        "  group_by_length=True,\n",
        "  per_device_train_batch_size=8,\n",
        "  evaluation_strategy=\"steps\",\n",
        "  num_train_epochs=1, # 30\n",
        "  fp16=True,\n",
        "  gradient_checkpointing=True,\n",
        "  save_steps=500,\n",
        "  eval_steps=500,\n",
        "  logging_steps=500,\n",
        "  learning_rate=1e-4,\n",
        "  weight_decay=0.005,\n",
        "  warmup_steps=1000,\n",
        "  push_to_hub=False,\n",
        "  save_total_limit=2,\n",
        ")"
      ]
    },
    {
      "cell_type": "code",
      "execution_count": 43,
      "metadata": {
        "id": "rY7vBmFCPFgC",
        "colab": {
          "base_uri": "https://localhost:8080/"
        },
        "outputId": "ee3b7c62-8154-4d57-c29e-d03f97cfe14f"
      },
      "outputs": [
        {
          "output_type": "stream",
          "name": "stderr",
          "text": [
            "Using amp half precision backend\n"
          ]
        }
      ],
      "source": [
        "from transformers import Trainer\n",
        "\n",
        "trainer = Trainer(\n",
        "    model=model,\n",
        "    data_collator=data_collator,\n",
        "    args=training_args,\n",
        "    compute_metrics=compute_metrics,\n",
        "    train_dataset=timit[\"train\"],\n",
        "    eval_dataset=timit[\"test\"],\n",
        "    tokenizer=processor.feature_extractor,\n",
        ")"
      ]
    },
    {
      "cell_type": "markdown",
      "metadata": {
        "id": "rpvZHM1xReIW"
      },
      "source": [
        "### Training"
      ]
    },
    {
      "cell_type": "markdown",
      "metadata": {
        "id": "PmY6yqd1zvzU"
      },
      "source": [
        "Depending on what GPU was allocated to your google colab it might be possible that you are seeing an `\"out-of-memory\"` error here. In this case, it's probably best to reduce `per_device_train_batch_size` to 16 or even less and eventually make use of [`gradient_accumulation`](https://huggingface.co/transformers/master/main_classes/trainer.html#trainingarguments)."
      ]
    },
    {
      "cell_type": "code",
      "source": [
        "import numpy as np\n",
        "\n",
        "np.bool = np.bool_"
      ],
      "metadata": {
        "id": "ANfrzI-wsZP_"
      },
      "execution_count": 44,
      "outputs": []
    },
    {
      "cell_type": "code",
      "execution_count": 45,
      "metadata": {
        "id": "_UEjJqGsQw24",
        "colab": {
          "base_uri": "https://localhost:8080/",
          "height": 598
        },
        "outputId": "a5e58624-3adc-44da-8f8f-3e9230badd99"
      },
      "outputs": [
        {
          "output_type": "stream",
          "name": "stderr",
          "text": [
            "The following columns in the training set  don't have a corresponding argument in `Wav2Vec2ForCTC.forward` and have been ignored: input_length. If input_length are not expected by `Wav2Vec2ForCTC.forward`,  you can safely ignore this message.\n",
            "/usr/local/lib/python3.10/dist-packages/transformers/optimization.py:306: FutureWarning: This implementation of AdamW is deprecated and will be removed in a future version. Use the PyTorch implementation torch.optim.AdamW instead, or set `no_deprecation_warning=True` to disable this warning\n",
            "  warnings.warn(\n",
            "***** Running training *****\n",
            "  Num examples = 3978\n",
            "  Num Epochs = 1\n",
            "  Instantaneous batch size per device = 8\n",
            "  Total train batch size (w. parallel, distributed & accumulation) = 8\n",
            "  Gradient Accumulation steps = 1\n",
            "  Total optimization steps = 498\n",
            "/usr/local/lib/python3.10/dist-packages/torch/utils/checkpoint.py:464: UserWarning: torch.utils.checkpoint: the use_reentrant parameter should be passed explicitly. In version 2.4 we will raise an exception if use_reentrant is not passed. use_reentrant=False is recommended, but if you need to preserve the current default behavior, you can pass use_reentrant=True. Refer to docs for more details on the differences between the two variants.\n",
            "  warnings.warn(\n",
            "/usr/local/lib/python3.10/dist-packages/torch/autograd/graph.py:744: UserWarning: Plan failed with a cudnnException: CUDNN_BACKEND_EXECUTION_PLAN_DESCRIPTOR: cudnnFinalize Descriptor Failed cudnn_status: CUDNN_STATUS_NOT_SUPPORTED (Triggered internally at ../aten/src/ATen/native/cudnn/Conv_v8.cpp:919.)\n",
            "  return Variable._execution_engine.run_backward(  # Calls into the C++ engine to run the backward pass\n"
          ]
        },
        {
          "output_type": "display_data",
          "data": {
            "text/plain": [
              "<IPython.core.display.HTML object>"
            ],
            "text/html": [
              "\n",
              "    <div>\n",
              "      \n",
              "      <progress value='60' max='498' style='width:300px; height:20px; vertical-align: middle;'></progress>\n",
              "      [ 60/498 00:19 < 02:28, 2.94 it/s, Epoch 0.12/1]\n",
              "    </div>\n",
              "    <table border=\"1\" class=\"dataframe\">\n",
              "  <thead>\n",
              " <tr style=\"text-align: left;\">\n",
              "      <th>Step</th>\n",
              "      <th>Training Loss</th>\n",
              "      <th>Validation Loss</th>\n",
              "    </tr>\n",
              "  </thead>\n",
              "  <tbody>\n",
              "  </tbody>\n",
              "</table><p>"
            ]
          },
          "metadata": {}
        },
        {
          "output_type": "error",
          "ename": "KeyboardInterrupt",
          "evalue": "",
          "traceback": [
            "\u001b[0;31m---------------------------------------------------------------------------\u001b[0m",
            "\u001b[0;31mKeyboardInterrupt\u001b[0m                         Traceback (most recent call last)",
            "\u001b[0;32m<ipython-input-45-3435b262f1ae>\u001b[0m in \u001b[0;36m<cell line: 1>\u001b[0;34m()\u001b[0m\n\u001b[0;32m----> 1\u001b[0;31m \u001b[0mtrainer\u001b[0m\u001b[0;34m.\u001b[0m\u001b[0mtrain\u001b[0m\u001b[0;34m(\u001b[0m\u001b[0;34m)\u001b[0m\u001b[0;34m\u001b[0m\u001b[0;34m\u001b[0m\u001b[0m\n\u001b[0m",
            "\u001b[0;32m/usr/local/lib/python3.10/dist-packages/transformers/trainer.py\u001b[0m in \u001b[0;36mtrain\u001b[0;34m(self, resume_from_checkpoint, trial, ignore_keys_for_eval, **kwargs)\u001b[0m\n\u001b[1;32m   1372\u001b[0m \u001b[0;34m\u001b[0m\u001b[0m\n\u001b[1;32m   1373\u001b[0m             \u001b[0mstep\u001b[0m \u001b[0;34m=\u001b[0m \u001b[0;34m-\u001b[0m\u001b[0;36m1\u001b[0m\u001b[0;34m\u001b[0m\u001b[0;34m\u001b[0m\u001b[0m\n\u001b[0;32m-> 1374\u001b[0;31m             \u001b[0;32mfor\u001b[0m \u001b[0mstep\u001b[0m\u001b[0;34m,\u001b[0m \u001b[0minputs\u001b[0m \u001b[0;32min\u001b[0m \u001b[0menumerate\u001b[0m\u001b[0;34m(\u001b[0m\u001b[0mepoch_iterator\u001b[0m\u001b[0;34m)\u001b[0m\u001b[0;34m:\u001b[0m\u001b[0;34m\u001b[0m\u001b[0;34m\u001b[0m\u001b[0m\n\u001b[0m\u001b[1;32m   1375\u001b[0m \u001b[0;34m\u001b[0m\u001b[0m\n\u001b[1;32m   1376\u001b[0m                 \u001b[0;31m# Skip past any already trained steps if resuming training\u001b[0m\u001b[0;34m\u001b[0m\u001b[0;34m\u001b[0m\u001b[0m\n",
            "\u001b[0;32m/usr/local/lib/python3.10/dist-packages/torch/utils/data/dataloader.py\u001b[0m in \u001b[0;36m__next__\u001b[0;34m(self)\u001b[0m\n\u001b[1;32m    629\u001b[0m                 \u001b[0;31m# TODO(https://github.com/pytorch/pytorch/issues/76750)\u001b[0m\u001b[0;34m\u001b[0m\u001b[0;34m\u001b[0m\u001b[0m\n\u001b[1;32m    630\u001b[0m                 \u001b[0mself\u001b[0m\u001b[0;34m.\u001b[0m\u001b[0m_reset\u001b[0m\u001b[0;34m(\u001b[0m\u001b[0;34m)\u001b[0m  \u001b[0;31m# type: ignore[call-arg]\u001b[0m\u001b[0;34m\u001b[0m\u001b[0;34m\u001b[0m\u001b[0m\n\u001b[0;32m--> 631\u001b[0;31m             \u001b[0mdata\u001b[0m \u001b[0;34m=\u001b[0m \u001b[0mself\u001b[0m\u001b[0;34m.\u001b[0m\u001b[0m_next_data\u001b[0m\u001b[0;34m(\u001b[0m\u001b[0;34m)\u001b[0m\u001b[0;34m\u001b[0m\u001b[0;34m\u001b[0m\u001b[0m\n\u001b[0m\u001b[1;32m    632\u001b[0m             \u001b[0mself\u001b[0m\u001b[0;34m.\u001b[0m\u001b[0m_num_yielded\u001b[0m \u001b[0;34m+=\u001b[0m \u001b[0;36m1\u001b[0m\u001b[0;34m\u001b[0m\u001b[0;34m\u001b[0m\u001b[0m\n\u001b[1;32m    633\u001b[0m             \u001b[0;32mif\u001b[0m \u001b[0mself\u001b[0m\u001b[0;34m.\u001b[0m\u001b[0m_dataset_kind\u001b[0m \u001b[0;34m==\u001b[0m \u001b[0m_DatasetKind\u001b[0m\u001b[0;34m.\u001b[0m\u001b[0mIterable\u001b[0m \u001b[0;32mand\u001b[0m\u001b[0;31m \u001b[0m\u001b[0;31m\\\u001b[0m\u001b[0;34m\u001b[0m\u001b[0;34m\u001b[0m\u001b[0m\n",
            "\u001b[0;32m/usr/local/lib/python3.10/dist-packages/torch/utils/data/dataloader.py\u001b[0m in \u001b[0;36m_next_data\u001b[0;34m(self)\u001b[0m\n\u001b[1;32m    673\u001b[0m     \u001b[0;32mdef\u001b[0m \u001b[0m_next_data\u001b[0m\u001b[0;34m(\u001b[0m\u001b[0mself\u001b[0m\u001b[0;34m)\u001b[0m\u001b[0;34m:\u001b[0m\u001b[0;34m\u001b[0m\u001b[0;34m\u001b[0m\u001b[0m\n\u001b[1;32m    674\u001b[0m         \u001b[0mindex\u001b[0m \u001b[0;34m=\u001b[0m \u001b[0mself\u001b[0m\u001b[0;34m.\u001b[0m\u001b[0m_next_index\u001b[0m\u001b[0;34m(\u001b[0m\u001b[0;34m)\u001b[0m  \u001b[0;31m# may raise StopIteration\u001b[0m\u001b[0;34m\u001b[0m\u001b[0;34m\u001b[0m\u001b[0m\n\u001b[0;32m--> 675\u001b[0;31m         \u001b[0mdata\u001b[0m \u001b[0;34m=\u001b[0m \u001b[0mself\u001b[0m\u001b[0;34m.\u001b[0m\u001b[0m_dataset_fetcher\u001b[0m\u001b[0;34m.\u001b[0m\u001b[0mfetch\u001b[0m\u001b[0;34m(\u001b[0m\u001b[0mindex\u001b[0m\u001b[0;34m)\u001b[0m  \u001b[0;31m# may raise StopIteration\u001b[0m\u001b[0;34m\u001b[0m\u001b[0;34m\u001b[0m\u001b[0m\n\u001b[0m\u001b[1;32m    676\u001b[0m         \u001b[0;32mif\u001b[0m \u001b[0mself\u001b[0m\u001b[0;34m.\u001b[0m\u001b[0m_pin_memory\u001b[0m\u001b[0;34m:\u001b[0m\u001b[0;34m\u001b[0m\u001b[0;34m\u001b[0m\u001b[0m\n\u001b[1;32m    677\u001b[0m             \u001b[0mdata\u001b[0m \u001b[0;34m=\u001b[0m \u001b[0m_utils\u001b[0m\u001b[0;34m.\u001b[0m\u001b[0mpin_memory\u001b[0m\u001b[0;34m.\u001b[0m\u001b[0mpin_memory\u001b[0m\u001b[0;34m(\u001b[0m\u001b[0mdata\u001b[0m\u001b[0;34m,\u001b[0m \u001b[0mself\u001b[0m\u001b[0;34m.\u001b[0m\u001b[0m_pin_memory_device\u001b[0m\u001b[0;34m)\u001b[0m\u001b[0;34m\u001b[0m\u001b[0;34m\u001b[0m\u001b[0m\n",
            "\u001b[0;32m/usr/local/lib/python3.10/dist-packages/torch/utils/data/_utils/fetch.py\u001b[0m in \u001b[0;36mfetch\u001b[0;34m(self, possibly_batched_index)\u001b[0m\n\u001b[1;32m     49\u001b[0m                 \u001b[0mdata\u001b[0m \u001b[0;34m=\u001b[0m \u001b[0mself\u001b[0m\u001b[0;34m.\u001b[0m\u001b[0mdataset\u001b[0m\u001b[0;34m.\u001b[0m\u001b[0m__getitems__\u001b[0m\u001b[0;34m(\u001b[0m\u001b[0mpossibly_batched_index\u001b[0m\u001b[0;34m)\u001b[0m\u001b[0;34m\u001b[0m\u001b[0;34m\u001b[0m\u001b[0m\n\u001b[1;32m     50\u001b[0m             \u001b[0;32melse\u001b[0m\u001b[0;34m:\u001b[0m\u001b[0;34m\u001b[0m\u001b[0;34m\u001b[0m\u001b[0m\n\u001b[0;32m---> 51\u001b[0;31m                 \u001b[0mdata\u001b[0m \u001b[0;34m=\u001b[0m \u001b[0;34m[\u001b[0m\u001b[0mself\u001b[0m\u001b[0;34m.\u001b[0m\u001b[0mdataset\u001b[0m\u001b[0;34m[\u001b[0m\u001b[0midx\u001b[0m\u001b[0;34m]\u001b[0m \u001b[0;32mfor\u001b[0m \u001b[0midx\u001b[0m \u001b[0;32min\u001b[0m \u001b[0mpossibly_batched_index\u001b[0m\u001b[0;34m]\u001b[0m\u001b[0;34m\u001b[0m\u001b[0;34m\u001b[0m\u001b[0m\n\u001b[0m\u001b[1;32m     52\u001b[0m         \u001b[0;32melse\u001b[0m\u001b[0;34m:\u001b[0m\u001b[0;34m\u001b[0m\u001b[0;34m\u001b[0m\u001b[0m\n\u001b[1;32m     53\u001b[0m             \u001b[0mdata\u001b[0m \u001b[0;34m=\u001b[0m \u001b[0mself\u001b[0m\u001b[0;34m.\u001b[0m\u001b[0mdataset\u001b[0m\u001b[0;34m[\u001b[0m\u001b[0mpossibly_batched_index\u001b[0m\u001b[0;34m]\u001b[0m\u001b[0;34m\u001b[0m\u001b[0;34m\u001b[0m\u001b[0m\n",
            "\u001b[0;32m/usr/local/lib/python3.10/dist-packages/torch/utils/data/_utils/fetch.py\u001b[0m in \u001b[0;36m<listcomp>\u001b[0;34m(.0)\u001b[0m\n\u001b[1;32m     49\u001b[0m                 \u001b[0mdata\u001b[0m \u001b[0;34m=\u001b[0m \u001b[0mself\u001b[0m\u001b[0;34m.\u001b[0m\u001b[0mdataset\u001b[0m\u001b[0;34m.\u001b[0m\u001b[0m__getitems__\u001b[0m\u001b[0;34m(\u001b[0m\u001b[0mpossibly_batched_index\u001b[0m\u001b[0;34m)\u001b[0m\u001b[0;34m\u001b[0m\u001b[0;34m\u001b[0m\u001b[0m\n\u001b[1;32m     50\u001b[0m             \u001b[0;32melse\u001b[0m\u001b[0;34m:\u001b[0m\u001b[0;34m\u001b[0m\u001b[0;34m\u001b[0m\u001b[0m\n\u001b[0;32m---> 51\u001b[0;31m                 \u001b[0mdata\u001b[0m \u001b[0;34m=\u001b[0m \u001b[0;34m[\u001b[0m\u001b[0mself\u001b[0m\u001b[0;34m.\u001b[0m\u001b[0mdataset\u001b[0m\u001b[0;34m[\u001b[0m\u001b[0midx\u001b[0m\u001b[0;34m]\u001b[0m \u001b[0;32mfor\u001b[0m \u001b[0midx\u001b[0m \u001b[0;32min\u001b[0m \u001b[0mpossibly_batched_index\u001b[0m\u001b[0;34m]\u001b[0m\u001b[0;34m\u001b[0m\u001b[0;34m\u001b[0m\u001b[0m\n\u001b[0m\u001b[1;32m     52\u001b[0m         \u001b[0;32melse\u001b[0m\u001b[0;34m:\u001b[0m\u001b[0;34m\u001b[0m\u001b[0;34m\u001b[0m\u001b[0m\n\u001b[1;32m     53\u001b[0m             \u001b[0mdata\u001b[0m \u001b[0;34m=\u001b[0m \u001b[0mself\u001b[0m\u001b[0;34m.\u001b[0m\u001b[0mdataset\u001b[0m\u001b[0;34m[\u001b[0m\u001b[0mpossibly_batched_index\u001b[0m\u001b[0;34m]\u001b[0m\u001b[0;34m\u001b[0m\u001b[0;34m\u001b[0m\u001b[0m\n",
            "\u001b[0;32m/usr/local/lib/python3.10/dist-packages/datasets/arrow_dataset.py\u001b[0m in \u001b[0;36m__getitem__\u001b[0;34m(self, key)\u001b[0m\n\u001b[1;32m   1923\u001b[0m     \u001b[0;32mdef\u001b[0m \u001b[0m__getitem__\u001b[0m\u001b[0;34m(\u001b[0m\u001b[0mself\u001b[0m\u001b[0;34m,\u001b[0m \u001b[0mkey\u001b[0m\u001b[0;34m)\u001b[0m\u001b[0;34m:\u001b[0m  \u001b[0;31m# noqa: F811\u001b[0m\u001b[0;34m\u001b[0m\u001b[0;34m\u001b[0m\u001b[0m\n\u001b[1;32m   1924\u001b[0m         \u001b[0;34m\"\"\"Can be used to index columns (by string names) or rows (by integer index or iterable of indices or bools).\"\"\"\u001b[0m\u001b[0;34m\u001b[0m\u001b[0;34m\u001b[0m\u001b[0m\n\u001b[0;32m-> 1925\u001b[0;31m         return self._getitem(\n\u001b[0m\u001b[1;32m   1926\u001b[0m             \u001b[0mkey\u001b[0m\u001b[0;34m,\u001b[0m\u001b[0;34m\u001b[0m\u001b[0;34m\u001b[0m\u001b[0m\n\u001b[1;32m   1927\u001b[0m         )\n",
            "\u001b[0;32m/usr/local/lib/python3.10/dist-packages/datasets/arrow_dataset.py\u001b[0m in \u001b[0;36m_getitem\u001b[0;34m(self, key, decoded, **kwargs)\u001b[0m\n\u001b[1;32m   1908\u001b[0m         \u001b[0mformatter\u001b[0m \u001b[0;34m=\u001b[0m \u001b[0mget_formatter\u001b[0m\u001b[0;34m(\u001b[0m\u001b[0mformat_type\u001b[0m\u001b[0;34m,\u001b[0m \u001b[0mfeatures\u001b[0m\u001b[0;34m=\u001b[0m\u001b[0mself\u001b[0m\u001b[0;34m.\u001b[0m\u001b[0mfeatures\u001b[0m\u001b[0;34m,\u001b[0m \u001b[0mdecoded\u001b[0m\u001b[0;34m=\u001b[0m\u001b[0mdecoded\u001b[0m\u001b[0;34m,\u001b[0m \u001b[0;34m**\u001b[0m\u001b[0mformat_kwargs\u001b[0m\u001b[0;34m)\u001b[0m\u001b[0;34m\u001b[0m\u001b[0;34m\u001b[0m\u001b[0m\n\u001b[1;32m   1909\u001b[0m         \u001b[0mpa_subtable\u001b[0m \u001b[0;34m=\u001b[0m \u001b[0mquery_table\u001b[0m\u001b[0;34m(\u001b[0m\u001b[0mself\u001b[0m\u001b[0;34m.\u001b[0m\u001b[0m_data\u001b[0m\u001b[0;34m,\u001b[0m \u001b[0mkey\u001b[0m\u001b[0;34m,\u001b[0m \u001b[0mindices\u001b[0m\u001b[0;34m=\u001b[0m\u001b[0mself\u001b[0m\u001b[0;34m.\u001b[0m\u001b[0m_indices\u001b[0m \u001b[0;32mif\u001b[0m \u001b[0mself\u001b[0m\u001b[0;34m.\u001b[0m\u001b[0m_indices\u001b[0m \u001b[0;32mis\u001b[0m \u001b[0;32mnot\u001b[0m \u001b[0;32mNone\u001b[0m \u001b[0;32melse\u001b[0m \u001b[0;32mNone\u001b[0m\u001b[0;34m)\u001b[0m\u001b[0;34m\u001b[0m\u001b[0;34m\u001b[0m\u001b[0m\n\u001b[0;32m-> 1910\u001b[0;31m         formatted_output = format_table(\n\u001b[0m\u001b[1;32m   1911\u001b[0m             \u001b[0mpa_subtable\u001b[0m\u001b[0;34m,\u001b[0m \u001b[0mkey\u001b[0m\u001b[0;34m,\u001b[0m \u001b[0mformatter\u001b[0m\u001b[0;34m=\u001b[0m\u001b[0mformatter\u001b[0m\u001b[0;34m,\u001b[0m \u001b[0mformat_columns\u001b[0m\u001b[0;34m=\u001b[0m\u001b[0mformat_columns\u001b[0m\u001b[0;34m,\u001b[0m \u001b[0moutput_all_columns\u001b[0m\u001b[0;34m=\u001b[0m\u001b[0moutput_all_columns\u001b[0m\u001b[0;34m\u001b[0m\u001b[0;34m\u001b[0m\u001b[0m\n\u001b[1;32m   1912\u001b[0m         )\n",
            "\u001b[0;32m/usr/local/lib/python3.10/dist-packages/datasets/formatting/formatting.py\u001b[0m in \u001b[0;36mformat_table\u001b[0;34m(table, key, formatter, format_columns, output_all_columns)\u001b[0m\n\u001b[1;32m    538\u001b[0m     \u001b[0;32melse\u001b[0m\u001b[0;34m:\u001b[0m\u001b[0;34m\u001b[0m\u001b[0;34m\u001b[0m\u001b[0m\n\u001b[1;32m    539\u001b[0m         \u001b[0mpa_table_to_format\u001b[0m \u001b[0;34m=\u001b[0m \u001b[0mpa_table\u001b[0m\u001b[0;34m.\u001b[0m\u001b[0mdrop\u001b[0m\u001b[0;34m(\u001b[0m\u001b[0mcol\u001b[0m \u001b[0;32mfor\u001b[0m \u001b[0mcol\u001b[0m \u001b[0;32min\u001b[0m \u001b[0mpa_table\u001b[0m\u001b[0;34m.\u001b[0m\u001b[0mcolumn_names\u001b[0m \u001b[0;32mif\u001b[0m \u001b[0mcol\u001b[0m \u001b[0;32mnot\u001b[0m \u001b[0;32min\u001b[0m \u001b[0mformat_columns\u001b[0m\u001b[0;34m)\u001b[0m\u001b[0;34m\u001b[0m\u001b[0;34m\u001b[0m\u001b[0m\n\u001b[0;32m--> 540\u001b[0;31m         \u001b[0mformatted_output\u001b[0m \u001b[0;34m=\u001b[0m \u001b[0mformatter\u001b[0m\u001b[0;34m(\u001b[0m\u001b[0mpa_table_to_format\u001b[0m\u001b[0;34m,\u001b[0m \u001b[0mquery_type\u001b[0m\u001b[0;34m=\u001b[0m\u001b[0mquery_type\u001b[0m\u001b[0;34m)\u001b[0m\u001b[0;34m\u001b[0m\u001b[0;34m\u001b[0m\u001b[0m\n\u001b[0m\u001b[1;32m    541\u001b[0m         \u001b[0;32mif\u001b[0m \u001b[0moutput_all_columns\u001b[0m\u001b[0;34m:\u001b[0m\u001b[0;34m\u001b[0m\u001b[0;34m\u001b[0m\u001b[0m\n\u001b[1;32m    542\u001b[0m             \u001b[0;32mif\u001b[0m \u001b[0misinstance\u001b[0m\u001b[0;34m(\u001b[0m\u001b[0mformatted_output\u001b[0m\u001b[0;34m,\u001b[0m \u001b[0mMutableMapping\u001b[0m\u001b[0;34m)\u001b[0m\u001b[0;34m:\u001b[0m\u001b[0;34m\u001b[0m\u001b[0;34m\u001b[0m\u001b[0m\n",
            "\u001b[0;32m/usr/local/lib/python3.10/dist-packages/datasets/formatting/formatting.py\u001b[0m in \u001b[0;36m__call__\u001b[0;34m(self, pa_table, query_type)\u001b[0m\n\u001b[1;32m    279\u001b[0m     \u001b[0;32mdef\u001b[0m \u001b[0m__call__\u001b[0m\u001b[0;34m(\u001b[0m\u001b[0mself\u001b[0m\u001b[0;34m,\u001b[0m \u001b[0mpa_table\u001b[0m\u001b[0;34m:\u001b[0m \u001b[0mpa\u001b[0m\u001b[0;34m.\u001b[0m\u001b[0mTable\u001b[0m\u001b[0;34m,\u001b[0m \u001b[0mquery_type\u001b[0m\u001b[0;34m:\u001b[0m \u001b[0mstr\u001b[0m\u001b[0;34m)\u001b[0m \u001b[0;34m->\u001b[0m \u001b[0mUnion\u001b[0m\u001b[0;34m[\u001b[0m\u001b[0mRowFormat\u001b[0m\u001b[0;34m,\u001b[0m \u001b[0mColumnFormat\u001b[0m\u001b[0;34m,\u001b[0m \u001b[0mBatchFormat\u001b[0m\u001b[0;34m]\u001b[0m\u001b[0;34m:\u001b[0m\u001b[0;34m\u001b[0m\u001b[0;34m\u001b[0m\u001b[0m\n\u001b[1;32m    280\u001b[0m         \u001b[0;32mif\u001b[0m \u001b[0mquery_type\u001b[0m \u001b[0;34m==\u001b[0m \u001b[0;34m\"row\"\u001b[0m\u001b[0;34m:\u001b[0m\u001b[0;34m\u001b[0m\u001b[0;34m\u001b[0m\u001b[0m\n\u001b[0;32m--> 281\u001b[0;31m             \u001b[0;32mreturn\u001b[0m \u001b[0mself\u001b[0m\u001b[0;34m.\u001b[0m\u001b[0mformat_row\u001b[0m\u001b[0;34m(\u001b[0m\u001b[0mpa_table\u001b[0m\u001b[0;34m)\u001b[0m\u001b[0;34m\u001b[0m\u001b[0;34m\u001b[0m\u001b[0m\n\u001b[0m\u001b[1;32m    282\u001b[0m         \u001b[0;32melif\u001b[0m \u001b[0mquery_type\u001b[0m \u001b[0;34m==\u001b[0m \u001b[0;34m\"column\"\u001b[0m\u001b[0;34m:\u001b[0m\u001b[0;34m\u001b[0m\u001b[0;34m\u001b[0m\u001b[0m\n\u001b[1;32m    283\u001b[0m             \u001b[0;32mreturn\u001b[0m \u001b[0mself\u001b[0m\u001b[0;34m.\u001b[0m\u001b[0mformat_column\u001b[0m\u001b[0;34m(\u001b[0m\u001b[0mpa_table\u001b[0m\u001b[0;34m)\u001b[0m\u001b[0;34m\u001b[0m\u001b[0;34m\u001b[0m\u001b[0m\n",
            "\u001b[0;32m/usr/local/lib/python3.10/dist-packages/datasets/formatting/formatting.py\u001b[0m in \u001b[0;36mformat_row\u001b[0;34m(self, pa_table)\u001b[0m\n\u001b[1;32m    308\u001b[0m \u001b[0;32mclass\u001b[0m \u001b[0mPythonFormatter\u001b[0m\u001b[0;34m(\u001b[0m\u001b[0mFormatter\u001b[0m\u001b[0;34m[\u001b[0m\u001b[0mdict\u001b[0m\u001b[0;34m,\u001b[0m \u001b[0mlist\u001b[0m\u001b[0;34m,\u001b[0m \u001b[0mdict\u001b[0m\u001b[0;34m]\u001b[0m\u001b[0;34m)\u001b[0m\u001b[0;34m:\u001b[0m\u001b[0;34m\u001b[0m\u001b[0;34m\u001b[0m\u001b[0m\n\u001b[1;32m    309\u001b[0m     \u001b[0;32mdef\u001b[0m \u001b[0mformat_row\u001b[0m\u001b[0;34m(\u001b[0m\u001b[0mself\u001b[0m\u001b[0;34m,\u001b[0m \u001b[0mpa_table\u001b[0m\u001b[0;34m:\u001b[0m \u001b[0mpa\u001b[0m\u001b[0;34m.\u001b[0m\u001b[0mTable\u001b[0m\u001b[0;34m)\u001b[0m \u001b[0;34m->\u001b[0m \u001b[0mdict\u001b[0m\u001b[0;34m:\u001b[0m\u001b[0;34m\u001b[0m\u001b[0;34m\u001b[0m\u001b[0m\n\u001b[0;32m--> 310\u001b[0;31m         \u001b[0mrow\u001b[0m \u001b[0;34m=\u001b[0m \u001b[0mself\u001b[0m\u001b[0;34m.\u001b[0m\u001b[0mpython_arrow_extractor\u001b[0m\u001b[0;34m(\u001b[0m\u001b[0;34m)\u001b[0m\u001b[0;34m.\u001b[0m\u001b[0mextract_row\u001b[0m\u001b[0;34m(\u001b[0m\u001b[0mpa_table\u001b[0m\u001b[0;34m)\u001b[0m\u001b[0;34m\u001b[0m\u001b[0;34m\u001b[0m\u001b[0m\n\u001b[0m\u001b[1;32m    311\u001b[0m         \u001b[0;32mif\u001b[0m \u001b[0mself\u001b[0m\u001b[0;34m.\u001b[0m\u001b[0mdecoded\u001b[0m\u001b[0;34m:\u001b[0m\u001b[0;34m\u001b[0m\u001b[0;34m\u001b[0m\u001b[0m\n\u001b[1;32m    312\u001b[0m             \u001b[0mrow\u001b[0m \u001b[0;34m=\u001b[0m \u001b[0mself\u001b[0m\u001b[0;34m.\u001b[0m\u001b[0mpython_features_decoder\u001b[0m\u001b[0;34m.\u001b[0m\u001b[0mdecode_row\u001b[0m\u001b[0;34m(\u001b[0m\u001b[0mrow\u001b[0m\u001b[0;34m)\u001b[0m\u001b[0;34m\u001b[0m\u001b[0;34m\u001b[0m\u001b[0m\n",
            "\u001b[0;32m/usr/local/lib/python3.10/dist-packages/datasets/formatting/formatting.py\u001b[0m in \u001b[0;36mextract_row\u001b[0;34m(self, pa_table)\u001b[0m\n\u001b[1;32m    138\u001b[0m \u001b[0;32mclass\u001b[0m \u001b[0mPythonArrowExtractor\u001b[0m\u001b[0;34m(\u001b[0m\u001b[0mBaseArrowExtractor\u001b[0m\u001b[0;34m[\u001b[0m\u001b[0mdict\u001b[0m\u001b[0;34m,\u001b[0m \u001b[0mlist\u001b[0m\u001b[0;34m,\u001b[0m \u001b[0mdict\u001b[0m\u001b[0;34m]\u001b[0m\u001b[0;34m)\u001b[0m\u001b[0;34m:\u001b[0m\u001b[0;34m\u001b[0m\u001b[0;34m\u001b[0m\u001b[0m\n\u001b[1;32m    139\u001b[0m     \u001b[0;32mdef\u001b[0m \u001b[0mextract_row\u001b[0m\u001b[0;34m(\u001b[0m\u001b[0mself\u001b[0m\u001b[0;34m,\u001b[0m \u001b[0mpa_table\u001b[0m\u001b[0;34m:\u001b[0m \u001b[0mpa\u001b[0m\u001b[0;34m.\u001b[0m\u001b[0mTable\u001b[0m\u001b[0;34m)\u001b[0m \u001b[0;34m->\u001b[0m \u001b[0mdict\u001b[0m\u001b[0;34m:\u001b[0m\u001b[0;34m\u001b[0m\u001b[0;34m\u001b[0m\u001b[0m\n\u001b[0;32m--> 140\u001b[0;31m         \u001b[0;32mreturn\u001b[0m \u001b[0m_unnest\u001b[0m\u001b[0;34m(\u001b[0m\u001b[0mpa_table\u001b[0m\u001b[0;34m.\u001b[0m\u001b[0mto_pydict\u001b[0m\u001b[0;34m(\u001b[0m\u001b[0;34m)\u001b[0m\u001b[0;34m)\u001b[0m\u001b[0;34m\u001b[0m\u001b[0;34m\u001b[0m\u001b[0m\n\u001b[0m\u001b[1;32m    141\u001b[0m \u001b[0;34m\u001b[0m\u001b[0m\n\u001b[1;32m    142\u001b[0m     \u001b[0;32mdef\u001b[0m \u001b[0mextract_column\u001b[0m\u001b[0;34m(\u001b[0m\u001b[0mself\u001b[0m\u001b[0;34m,\u001b[0m \u001b[0mpa_table\u001b[0m\u001b[0;34m:\u001b[0m \u001b[0mpa\u001b[0m\u001b[0;34m.\u001b[0m\u001b[0mTable\u001b[0m\u001b[0;34m)\u001b[0m \u001b[0;34m->\u001b[0m \u001b[0mlist\u001b[0m\u001b[0;34m:\u001b[0m\u001b[0;34m\u001b[0m\u001b[0;34m\u001b[0m\u001b[0m\n",
            "\u001b[0;31mKeyboardInterrupt\u001b[0m: "
          ]
        }
      ],
      "source": [
        "trainer.train()"
      ]
    },
    {
      "cell_type": "code",
      "execution_count": null,
      "metadata": {
        "id": "JYGQYBhHNsvj"
      },
      "outputs": [],
      "source": [
        "#trainer.push_to_hub()"
      ]
    },
    {
      "cell_type": "code",
      "execution_count": 46,
      "metadata": {
        "id": "-rg0USDCnbo6",
        "colab": {
          "base_uri": "https://localhost:8080/"
        },
        "outputId": "5209a6bf-df03-4e23-927d-8fb10350cf39"
      },
      "outputs": [
        {
          "output_type": "stream",
          "name": "stderr",
          "text": [
            "loading feature extractor configuration file https://huggingface.co/facebook/wav2vec2-base-960h/resolve/main/preprocessor_config.json from cache at /root/.cache/huggingface/transformers/07e398f6c4f4eb4f676c75befc5ace223491c79cea1109fb4029751892d380a1.bc3155ca0bae3a39fc37fc6d64829c6a765f46480894658bb21c08db6155358d\n",
            "Feature extractor Wav2Vec2FeatureExtractor {\n",
            "  \"do_normalize\": true,\n",
            "  \"feature_extractor_type\": \"Wav2Vec2FeatureExtractor\",\n",
            "  \"feature_size\": 1,\n",
            "  \"padding_side\": \"right\",\n",
            "  \"padding_value\": 0.0,\n",
            "  \"return_attention_mask\": false,\n",
            "  \"sampling_rate\": 16000\n",
            "}\n",
            "\n",
            "loading configuration file https://huggingface.co/facebook/wav2vec2-base-960h/resolve/main/config.json from cache at /root/.cache/huggingface/transformers/cbb3014bb9f03ead9b94f4a791ff8e777465307670e85079d35e28cbc5d88727.0e2d739358c9b58747bd19db5f9f4320dacabbeb1e6282f5cc1069c5c55a82d2\n",
            "Model config Wav2Vec2Config {\n",
            "  \"_name_or_path\": \"facebook/wav2vec2-base-960h\",\n",
            "  \"activation_dropout\": 0.1,\n",
            "  \"adapter_kernel_size\": 3,\n",
            "  \"adapter_stride\": 2,\n",
            "  \"add_adapter\": false,\n",
            "  \"apply_spec_augment\": true,\n",
            "  \"architectures\": [\n",
            "    \"Wav2Vec2ForCTC\"\n",
            "  ],\n",
            "  \"attention_dropout\": 0.1,\n",
            "  \"bos_token_id\": 1,\n",
            "  \"classifier_proj_size\": 256,\n",
            "  \"codevector_dim\": 256,\n",
            "  \"contrastive_logits_temperature\": 0.1,\n",
            "  \"conv_bias\": false,\n",
            "  \"conv_dim\": [\n",
            "    512,\n",
            "    512,\n",
            "    512,\n",
            "    512,\n",
            "    512,\n",
            "    512,\n",
            "    512\n",
            "  ],\n",
            "  \"conv_kernel\": [\n",
            "    10,\n",
            "    3,\n",
            "    3,\n",
            "    3,\n",
            "    3,\n",
            "    2,\n",
            "    2\n",
            "  ],\n",
            "  \"conv_stride\": [\n",
            "    5,\n",
            "    2,\n",
            "    2,\n",
            "    2,\n",
            "    2,\n",
            "    2,\n",
            "    2\n",
            "  ],\n",
            "  \"ctc_loss_reduction\": \"sum\",\n",
            "  \"ctc_zero_infinity\": false,\n",
            "  \"diversity_loss_weight\": 0.1,\n",
            "  \"do_stable_layer_norm\": false,\n",
            "  \"eos_token_id\": 2,\n",
            "  \"feat_extract_activation\": \"gelu\",\n",
            "  \"feat_extract_dropout\": 0.0,\n",
            "  \"feat_extract_norm\": \"group\",\n",
            "  \"feat_proj_dropout\": 0.1,\n",
            "  \"feat_quantizer_dropout\": 0.0,\n",
            "  \"final_dropout\": 0.1,\n",
            "  \"gradient_checkpointing\": false,\n",
            "  \"hidden_act\": \"gelu\",\n",
            "  \"hidden_dropout\": 0.1,\n",
            "  \"hidden_dropout_prob\": 0.1,\n",
            "  \"hidden_size\": 768,\n",
            "  \"initializer_range\": 0.02,\n",
            "  \"intermediate_size\": 3072,\n",
            "  \"layer_norm_eps\": 1e-05,\n",
            "  \"layerdrop\": 0.1,\n",
            "  \"mask_feature_length\": 10,\n",
            "  \"mask_feature_min_masks\": 0,\n",
            "  \"mask_feature_prob\": 0.0,\n",
            "  \"mask_time_length\": 10,\n",
            "  \"mask_time_min_masks\": 2,\n",
            "  \"mask_time_prob\": 0.05,\n",
            "  \"model_type\": \"wav2vec2\",\n",
            "  \"num_adapter_layers\": 3,\n",
            "  \"num_attention_heads\": 12,\n",
            "  \"num_codevector_groups\": 2,\n",
            "  \"num_codevectors_per_group\": 320,\n",
            "  \"num_conv_pos_embedding_groups\": 16,\n",
            "  \"num_conv_pos_embeddings\": 128,\n",
            "  \"num_feat_extract_layers\": 7,\n",
            "  \"num_hidden_layers\": 12,\n",
            "  \"num_negatives\": 100,\n",
            "  \"output_hidden_size\": 768,\n",
            "  \"pad_token_id\": 0,\n",
            "  \"proj_codevector_dim\": 256,\n",
            "  \"tdnn_dilation\": [\n",
            "    1,\n",
            "    2,\n",
            "    3,\n",
            "    1,\n",
            "    1\n",
            "  ],\n",
            "  \"tdnn_dim\": [\n",
            "    512,\n",
            "    512,\n",
            "    512,\n",
            "    512,\n",
            "    1500\n",
            "  ],\n",
            "  \"tdnn_kernel\": [\n",
            "    5,\n",
            "    3,\n",
            "    3,\n",
            "    1,\n",
            "    1\n",
            "  ],\n",
            "  \"transformers_version\": \"4.17.0\",\n",
            "  \"use_weighted_layer_sum\": false,\n",
            "  \"vocab_size\": 32,\n",
            "  \"xvector_output_dim\": 512\n",
            "}\n",
            "\n",
            "loading file https://huggingface.co/facebook/wav2vec2-base-960h/resolve/main/vocab.json from cache at /root/.cache/huggingface/transformers/02595a4ae02bcd3f20d5fe783417b9b4ee9d11c244df7e3108bde6c2f37402da.7c838a0a103758bad6ef4922531682da23a8b1c45d25f8d8e7a6d857c0b26544\n",
            "loading file https://huggingface.co/facebook/wav2vec2-base-960h/resolve/main/tokenizer_config.json from cache at /root/.cache/huggingface/transformers/a2973721f0d595de6a1c43e48e80dab25bb6c707d364f85a6674c75859942183.b10dd18eae95dde984b32c748781505f0b8c9c20dd067fe083088149f66987c4\n",
            "loading file https://huggingface.co/facebook/wav2vec2-base-960h/resolve/main/added_tokens.json from cache at None\n",
            "loading file https://huggingface.co/facebook/wav2vec2-base-960h/resolve/main/special_tokens_map.json from cache at /root/.cache/huggingface/transformers/208086b2429fa2ba5b196810c1bcd7d61e2c8d4afd65d05d0670096d735fd5bb.9d6cd81ef646692fb1c169a880161ea1cb95f49694f220aced9b704b457e51dd\n",
            "loading configuration file https://huggingface.co/facebook/wav2vec2-base-960h/resolve/main/config.json from cache at /root/.cache/huggingface/transformers/cbb3014bb9f03ead9b94f4a791ff8e777465307670e85079d35e28cbc5d88727.0e2d739358c9b58747bd19db5f9f4320dacabbeb1e6282f5cc1069c5c55a82d2\n",
            "Model config Wav2Vec2Config {\n",
            "  \"_name_or_path\": \"facebook/wav2vec2-base-960h\",\n",
            "  \"activation_dropout\": 0.1,\n",
            "  \"adapter_kernel_size\": 3,\n",
            "  \"adapter_stride\": 2,\n",
            "  \"add_adapter\": false,\n",
            "  \"apply_spec_augment\": true,\n",
            "  \"architectures\": [\n",
            "    \"Wav2Vec2ForCTC\"\n",
            "  ],\n",
            "  \"attention_dropout\": 0.1,\n",
            "  \"bos_token_id\": 1,\n",
            "  \"classifier_proj_size\": 256,\n",
            "  \"codevector_dim\": 256,\n",
            "  \"contrastive_logits_temperature\": 0.1,\n",
            "  \"conv_bias\": false,\n",
            "  \"conv_dim\": [\n",
            "    512,\n",
            "    512,\n",
            "    512,\n",
            "    512,\n",
            "    512,\n",
            "    512,\n",
            "    512\n",
            "  ],\n",
            "  \"conv_kernel\": [\n",
            "    10,\n",
            "    3,\n",
            "    3,\n",
            "    3,\n",
            "    3,\n",
            "    2,\n",
            "    2\n",
            "  ],\n",
            "  \"conv_stride\": [\n",
            "    5,\n",
            "    2,\n",
            "    2,\n",
            "    2,\n",
            "    2,\n",
            "    2,\n",
            "    2\n",
            "  ],\n",
            "  \"ctc_loss_reduction\": \"sum\",\n",
            "  \"ctc_zero_infinity\": false,\n",
            "  \"diversity_loss_weight\": 0.1,\n",
            "  \"do_stable_layer_norm\": false,\n",
            "  \"eos_token_id\": 2,\n",
            "  \"feat_extract_activation\": \"gelu\",\n",
            "  \"feat_extract_dropout\": 0.0,\n",
            "  \"feat_extract_norm\": \"group\",\n",
            "  \"feat_proj_dropout\": 0.1,\n",
            "  \"feat_quantizer_dropout\": 0.0,\n",
            "  \"final_dropout\": 0.1,\n",
            "  \"gradient_checkpointing\": false,\n",
            "  \"hidden_act\": \"gelu\",\n",
            "  \"hidden_dropout\": 0.1,\n",
            "  \"hidden_dropout_prob\": 0.1,\n",
            "  \"hidden_size\": 768,\n",
            "  \"initializer_range\": 0.02,\n",
            "  \"intermediate_size\": 3072,\n",
            "  \"layer_norm_eps\": 1e-05,\n",
            "  \"layerdrop\": 0.1,\n",
            "  \"mask_feature_length\": 10,\n",
            "  \"mask_feature_min_masks\": 0,\n",
            "  \"mask_feature_prob\": 0.0,\n",
            "  \"mask_time_length\": 10,\n",
            "  \"mask_time_min_masks\": 2,\n",
            "  \"mask_time_prob\": 0.05,\n",
            "  \"model_type\": \"wav2vec2\",\n",
            "  \"num_adapter_layers\": 3,\n",
            "  \"num_attention_heads\": 12,\n",
            "  \"num_codevector_groups\": 2,\n",
            "  \"num_codevectors_per_group\": 320,\n",
            "  \"num_conv_pos_embedding_groups\": 16,\n",
            "  \"num_conv_pos_embeddings\": 128,\n",
            "  \"num_feat_extract_layers\": 7,\n",
            "  \"num_hidden_layers\": 12,\n",
            "  \"num_negatives\": 100,\n",
            "  \"output_hidden_size\": 768,\n",
            "  \"pad_token_id\": 0,\n",
            "  \"proj_codevector_dim\": 256,\n",
            "  \"tdnn_dilation\": [\n",
            "    1,\n",
            "    2,\n",
            "    3,\n",
            "    1,\n",
            "    1\n",
            "  ],\n",
            "  \"tdnn_dim\": [\n",
            "    512,\n",
            "    512,\n",
            "    512,\n",
            "    512,\n",
            "    1500\n",
            "  ],\n",
            "  \"tdnn_kernel\": [\n",
            "    5,\n",
            "    3,\n",
            "    3,\n",
            "    1,\n",
            "    1\n",
            "  ],\n",
            "  \"transformers_version\": \"4.17.0\",\n",
            "  \"use_weighted_layer_sum\": false,\n",
            "  \"vocab_size\": 32,\n",
            "  \"xvector_output_dim\": 512\n",
            "}\n",
            "\n",
            "loading configuration file https://huggingface.co/facebook/wav2vec2-base-960h/resolve/main/config.json from cache at /root/.cache/huggingface/transformers/cbb3014bb9f03ead9b94f4a791ff8e777465307670e85079d35e28cbc5d88727.0e2d739358c9b58747bd19db5f9f4320dacabbeb1e6282f5cc1069c5c55a82d2\n",
            "Model config Wav2Vec2Config {\n",
            "  \"_name_or_path\": \"facebook/wav2vec2-base-960h\",\n",
            "  \"activation_dropout\": 0.1,\n",
            "  \"adapter_kernel_size\": 3,\n",
            "  \"adapter_stride\": 2,\n",
            "  \"add_adapter\": false,\n",
            "  \"apply_spec_augment\": true,\n",
            "  \"architectures\": [\n",
            "    \"Wav2Vec2ForCTC\"\n",
            "  ],\n",
            "  \"attention_dropout\": 0.1,\n",
            "  \"bos_token_id\": 1,\n",
            "  \"classifier_proj_size\": 256,\n",
            "  \"codevector_dim\": 256,\n",
            "  \"contrastive_logits_temperature\": 0.1,\n",
            "  \"conv_bias\": false,\n",
            "  \"conv_dim\": [\n",
            "    512,\n",
            "    512,\n",
            "    512,\n",
            "    512,\n",
            "    512,\n",
            "    512,\n",
            "    512\n",
            "  ],\n",
            "  \"conv_kernel\": [\n",
            "    10,\n",
            "    3,\n",
            "    3,\n",
            "    3,\n",
            "    3,\n",
            "    2,\n",
            "    2\n",
            "  ],\n",
            "  \"conv_stride\": [\n",
            "    5,\n",
            "    2,\n",
            "    2,\n",
            "    2,\n",
            "    2,\n",
            "    2,\n",
            "    2\n",
            "  ],\n",
            "  \"ctc_loss_reduction\": \"sum\",\n",
            "  \"ctc_zero_infinity\": false,\n",
            "  \"diversity_loss_weight\": 0.1,\n",
            "  \"do_stable_layer_norm\": false,\n",
            "  \"eos_token_id\": 2,\n",
            "  \"feat_extract_activation\": \"gelu\",\n",
            "  \"feat_extract_dropout\": 0.0,\n",
            "  \"feat_extract_norm\": \"group\",\n",
            "  \"feat_proj_dropout\": 0.1,\n",
            "  \"feat_quantizer_dropout\": 0.0,\n",
            "  \"final_dropout\": 0.1,\n",
            "  \"gradient_checkpointing\": false,\n",
            "  \"hidden_act\": \"gelu\",\n",
            "  \"hidden_dropout\": 0.1,\n",
            "  \"hidden_dropout_prob\": 0.1,\n",
            "  \"hidden_size\": 768,\n",
            "  \"initializer_range\": 0.02,\n",
            "  \"intermediate_size\": 3072,\n",
            "  \"layer_norm_eps\": 1e-05,\n",
            "  \"layerdrop\": 0.1,\n",
            "  \"mask_feature_length\": 10,\n",
            "  \"mask_feature_min_masks\": 0,\n",
            "  \"mask_feature_prob\": 0.0,\n",
            "  \"mask_time_length\": 10,\n",
            "  \"mask_time_min_masks\": 2,\n",
            "  \"mask_time_prob\": 0.05,\n",
            "  \"model_type\": \"wav2vec2\",\n",
            "  \"num_adapter_layers\": 3,\n",
            "  \"num_attention_heads\": 12,\n",
            "  \"num_codevector_groups\": 2,\n",
            "  \"num_codevectors_per_group\": 320,\n",
            "  \"num_conv_pos_embedding_groups\": 16,\n",
            "  \"num_conv_pos_embeddings\": 128,\n",
            "  \"num_feat_extract_layers\": 7,\n",
            "  \"num_hidden_layers\": 12,\n",
            "  \"num_negatives\": 100,\n",
            "  \"output_hidden_size\": 768,\n",
            "  \"pad_token_id\": 0,\n",
            "  \"proj_codevector_dim\": 256,\n",
            "  \"tdnn_dilation\": [\n",
            "    1,\n",
            "    2,\n",
            "    3,\n",
            "    1,\n",
            "    1\n",
            "  ],\n",
            "  \"tdnn_dim\": [\n",
            "    512,\n",
            "    512,\n",
            "    512,\n",
            "    512,\n",
            "    1500\n",
            "  ],\n",
            "  \"tdnn_kernel\": [\n",
            "    5,\n",
            "    3,\n",
            "    3,\n",
            "    1,\n",
            "    1\n",
            "  ],\n",
            "  \"transformers_version\": \"4.17.0\",\n",
            "  \"use_weighted_layer_sum\": false,\n",
            "  \"vocab_size\": 32,\n",
            "  \"xvector_output_dim\": 512\n",
            "}\n",
            "\n",
            "loading weights file https://huggingface.co/facebook/wav2vec2-base-960h/resolve/main/pytorch_model.bin from cache at /root/.cache/huggingface/transformers/4cb133d3cf3e58e8a4e088b1fc826611a3bcf3d98b20a0bb49ce8cd5362411b7.beeaccfa4baf44ba6123c23938d8a17f48344361a5e7041782e537dfd78a2037\n",
            "/usr/local/lib/python3.10/dist-packages/torch/nn/utils/weight_norm.py:28: UserWarning: torch.nn.utils.weight_norm is deprecated in favor of torch.nn.utils.parametrizations.weight_norm.\n",
            "  warnings.warn(\"torch.nn.utils.weight_norm is deprecated in favor of torch.nn.utils.parametrizations.weight_norm.\")\n",
            "All model checkpoint weights were used when initializing Wav2Vec2ForCTC.\n",
            "\n",
            "Some weights of Wav2Vec2ForCTC were not initialized from the model checkpoint at facebook/wav2vec2-base-960h and are newly initialized: ['wav2vec2.masked_spec_embed']\n",
            "You should probably TRAIN this model on a down-stream task to be able to use it for predictions and inference.\n"
          ]
        }
      ],
      "source": [
        "from transformers import Wav2Vec2Processor, Wav2Vec2ForCTC\n",
        "\n",
        "processor = Wav2Vec2Processor.from_pretrained(\"facebook/wav2vec2-base-960h\")\n",
        "model = Wav2Vec2ForCTC.from_pretrained(\"facebook/wav2vec2-base-960h\")\n"
      ]
    },
    {
      "cell_type": "code",
      "execution_count": 47,
      "metadata": {
        "id": "40naJl53n7jT",
        "colab": {
          "base_uri": "https://localhost:8080/",
          "height": 86,
          "referenced_widgets": [
            "b09fcf8300b3403f9867ca42f8b47b53",
            "17b5b7aee2c74d2b81299e21603cd540",
            "5e5141ce115843d582a6bc38d3e9f463",
            "71ca185b97a74b409352dec53e15a884",
            "2f1537c747604890850cebad71e70959",
            "bef88aa796b04bb0b0c9cacc1ecf8784",
            "7e2c9843b52249e4977fcc5345d5f1e8",
            "4fdf3a6fdacb47d3af3e44b8158ec8a8",
            "4bec4bf1667a4b9ca32101c89d95b86e",
            "7386098d8b41498f893ad4766f28505a",
            "b157a61721f7460392e7f75f58e259fd"
          ]
        },
        "outputId": "13186d55-ffd4-495b-97b9-8fe91e1c06db"
      },
      "outputs": [
        {
          "output_type": "stream",
          "name": "stderr",
          "text": [
            "WARNING:datasets.builder:Reusing dataset timit_asr (/root/.cache/huggingface/datasets/timit_asr/clean/2.0.1/b11b576ddcccbcefa7c9f0c4e6c2a43756f3033adffe0fb686aa61043d0450ad)\n"
          ]
        },
        {
          "output_type": "display_data",
          "data": {
            "text/plain": [
              "  0%|          | 0/2 [00:00<?, ?it/s]"
            ],
            "application/vnd.jupyter.widget-view+json": {
              "version_major": 2,
              "version_minor": 0,
              "model_id": "b09fcf8300b3403f9867ca42f8b47b53"
            }
          },
          "metadata": {}
        }
      ],
      "source": [
        "from datasets import load_dataset\n",
        "\n",
        "timit = load_dataset(\"timit_asr\")\n"
      ]
    },
    {
      "cell_type": "code",
      "execution_count": 48,
      "metadata": {
        "id": "uPqH7gZqrGPi",
        "colab": {
          "base_uri": "https://localhost:8080/",
          "height": 81,
          "referenced_widgets": [
            "f0712463ef2543ccadd351e00b4a0f56",
            "000e89b861ed4bab8bcdcf8d5e1a299f",
            "b25adee92dbb447485be966c129d784d",
            "81582324dcb84f1dbb5dfa66debca85b",
            "b12ae66c2ebe43fba56e4759e5c4a907",
            "0835e1b4c6cc4879b99ff934c182781c",
            "c0622b61760540339f91743036b1a0e7",
            "0f07927a7fee4bad8dbd8488427661b4",
            "c3fd51519c2a4526969d2ebfe30d4847",
            "f675bdb3a2234721b9c3c849088e7f69",
            "03672f20d9a8436dbf1a32801b74ebe9",
            "7df3053c550c47d2911f10841cd1bef7",
            "d82b32e01a4a4433bf3ead3213ff064b",
            "5096fa50af274e968a438c7c27a82798",
            "62bb337c55754a27bc3b67e34cde300f",
            "a5330e76f3454321a584276a3455f7bd",
            "0c66ab6e17bf499aa026832fafabeda1",
            "8caef142837d41d18125b8127ed45f0a",
            "0ba401da4c1345c0a7728c25990a0388",
            "8f41cd1382dc43f8992865df3d44d97e",
            "ee704dff0eae407cae2bc3b6d3d326ce",
            "2175d9abe5ab4b40924868086b58e056"
          ]
        },
        "outputId": "ac5200b6-552c-42cc-b64a-544867ca95d9"
      },
      "outputs": [
        {
          "output_type": "display_data",
          "data": {
            "text/plain": [
              "0ex [00:00, ?ex/s]"
            ],
            "application/vnd.jupyter.widget-view+json": {
              "version_major": 2,
              "version_minor": 0,
              "model_id": "f0712463ef2543ccadd351e00b4a0f56"
            }
          },
          "metadata": {}
        },
        {
          "output_type": "display_data",
          "data": {
            "text/plain": [
              "0ex [00:00, ?ex/s]"
            ],
            "application/vnd.jupyter.widget-view+json": {
              "version_major": 2,
              "version_minor": 0,
              "model_id": "7df3053c550c47d2911f10841cd1bef7"
            }
          },
          "metadata": {}
        }
      ],
      "source": [
        "import torchaudio\n",
        "\n",
        "def prepare_dataset(batch):\n",
        "    # Resample the audio to 16000 Hz (as expected by Wav2Vec2)\n",
        "    speech_array, sampling_rate = torchaudio.load(batch[\"file\"])\n",
        "    resampler = torchaudio.transforms.Resample(orig_freq=sampling_rate, new_freq=16000)\n",
        "    batch[\"speech\"] = resampler(speech_array).squeeze().numpy()\n",
        "    # Tokenize the audio\n",
        "    batch[\"input_values\"] = processor(batch[\"speech\"], sampling_rate=16000, return_tensors=\"pt\", padding=True).input_values.squeeze()\n",
        "    return batch\n",
        "\n",
        "# Apply the function to preprocess the audio data\n",
        "timit = timit.map(prepare_dataset)\n"
      ]
    },
    {
      "cell_type": "code",
      "source": [
        "# Move the model to the correct device (GPU if available)\n",
        "device = \"cuda\" if torch.cuda.is_available() else \"cpu\"\n",
        "model = model.to(device)\n",
        "\n",
        "def predict(batch):\n",
        "    # Move input to the correct device\n",
        "    input_values = torch.tensor(batch[\"input_values\"]).unsqueeze(0).to(device)\n",
        "    with torch.no_grad():\n",
        "        logits = model(input_values).logits\n",
        "    predicted_ids = torch.argmax(logits, dim=-1)\n",
        "    batch[\"transcription\"] = processor.decode(predicted_ids[0])\n",
        "    return batch\n",
        "\n",
        "\n",
        "# Apply prediction to one example or more\n",
        "result = timit[\"test\"].select(range(5)).map(predict)\n",
        "for res in result:\n",
        "    print(\"Predicted transcription:\", res[\"transcription\"])\n",
        "    print(\"Actual transcription:\", res[\"text\"])\n"
      ],
      "metadata": {
        "id": "y5ZYDjklB80X",
        "colab": {
          "base_uri": "https://localhost:8080/",
          "height": 219,
          "referenced_widgets": [
            "9a11f7e8bcce49a88af5c9981c515dbd",
            "b145e6ce221346568e15d1a467b00a17",
            "0a9ba58f30fb445db8b6e6a8a90ce175",
            "2e6c90b17a09419da2bc68fadbc8b3e2",
            "4e385a55b190412e94cb1df94b8b6319",
            "7cc6df540b384193a22b68c2d46afd83",
            "57b37d46b2354924a309ce88b82eecb9",
            "d0b413a6646249e38e67aecc9be70071",
            "a79f582bcd4844bb9d2e0762ea490d01",
            "68b4283f85df45d7941c0e4e643aa49c",
            "d3e3266987ff4ad0b819a169eab4f1fa"
          ]
        },
        "outputId": "957d777f-9cb4-47a5-a954-6527db2cbc21"
      },
      "execution_count": 49,
      "outputs": [
        {
          "output_type": "display_data",
          "data": {
            "text/plain": [
              "0ex [00:00, ?ex/s]"
            ],
            "application/vnd.jupyter.widget-view+json": {
              "version_major": 2,
              "version_minor": 0,
              "model_id": "9a11f7e8bcce49a88af5c9981c515dbd"
            }
          },
          "metadata": {}
        },
        {
          "output_type": "stream",
          "name": "stdout",
          "text": [
            "Predicted transcription: THE BUNGALOW WAS PLEASANTLY SITUATED NEAR THE SHORE\n",
            "Actual transcription: The bungalow was pleasantly situated near the shore.\n",
            "Predicted transcription: DON'T ASK ME TO CARRY AN OILY RAG LIKE THAT\n",
            "Actual transcription: Don't ask me to carry an oily rag like that.\n",
            "Predicted transcription: ARE YOU LOOKING FOR EMPLOYMENT\n",
            "Actual transcription: Are you looking for employment?\n",
            "Predicted transcription: SHE HAD YOUR DARK SUIT AND GREASY WASHWATER ALL YEAR\n",
            "Actual transcription: She had your dark suit in greasy wash water all year.\n",
            "Predicted transcription: AT TWILIGHT ON THE TWELFTH DAY WE'LL HAVE CHABLI\n",
            "Actual transcription: At twilight on the twelfth day we'll have Chablis.\n"
          ]
        }
      ]
    },
    {
      "cell_type": "code",
      "source": [],
      "metadata": {
        "id": "KD3ktCCRuNRx"
      },
      "execution_count": null,
      "outputs": []
    }
  ],
  "metadata": {
    "accelerator": "GPU",
    "colab": {
      "provenance": [],
      "gpuType": "T4"
    },
    "kernelspec": {
      "display_name": "Python 3",
      "name": "python3"
    },
    "widgets": {
      "application/vnd.jupyter.widget-state+json": {
        "85e07a75fabd49a293865bd659625f82": {
          "model_module": "@jupyter-widgets/controls",
          "model_name": "HBoxModel",
          "model_module_version": "1.5.0",
          "state": {
            "_dom_classes": [],
            "_model_module": "@jupyter-widgets/controls",
            "_model_module_version": "1.5.0",
            "_model_name": "HBoxModel",
            "_view_count": null,
            "_view_module": "@jupyter-widgets/controls",
            "_view_module_version": "1.5.0",
            "_view_name": "HBoxView",
            "box_style": "",
            "children": [
              "IPY_MODEL_0def02df5e6f42d08d3d25c964bb09a5",
              "IPY_MODEL_828756e9be1244a6be382bc46c589f3a",
              "IPY_MODEL_46de9995ea404247b6bcf7c9c943a3c7"
            ],
            "layout": "IPY_MODEL_fc64c03ef2f143538f5928b76910909c"
          }
        },
        "0def02df5e6f42d08d3d25c964bb09a5": {
          "model_module": "@jupyter-widgets/controls",
          "model_name": "HTMLModel",
          "model_module_version": "1.5.0",
          "state": {
            "_dom_classes": [],
            "_model_module": "@jupyter-widgets/controls",
            "_model_module_version": "1.5.0",
            "_model_name": "HTMLModel",
            "_view_count": null,
            "_view_module": "@jupyter-widgets/controls",
            "_view_module_version": "1.5.0",
            "_view_name": "HTMLView",
            "description": "",
            "description_tooltip": null,
            "layout": "IPY_MODEL_1de26709022c4dcc91bdf0dea2dfbada",
            "placeholder": "​",
            "style": "IPY_MODEL_bd24b91cd2d84c24951c0c2a419e250f",
            "value": "100%"
          }
        },
        "828756e9be1244a6be382bc46c589f3a": {
          "model_module": "@jupyter-widgets/controls",
          "model_name": "FloatProgressModel",
          "model_module_version": "1.5.0",
          "state": {
            "_dom_classes": [],
            "_model_module": "@jupyter-widgets/controls",
            "_model_module_version": "1.5.0",
            "_model_name": "FloatProgressModel",
            "_view_count": null,
            "_view_module": "@jupyter-widgets/controls",
            "_view_module_version": "1.5.0",
            "_view_name": "ProgressView",
            "bar_style": "success",
            "description": "",
            "description_tooltip": null,
            "layout": "IPY_MODEL_790e2896101846f9babc4845674fd6b9",
            "max": 2,
            "min": 0,
            "orientation": "horizontal",
            "style": "IPY_MODEL_08e7123463114d63b332b906b31cb63a",
            "value": 2
          }
        },
        "46de9995ea404247b6bcf7c9c943a3c7": {
          "model_module": "@jupyter-widgets/controls",
          "model_name": "HTMLModel",
          "model_module_version": "1.5.0",
          "state": {
            "_dom_classes": [],
            "_model_module": "@jupyter-widgets/controls",
            "_model_module_version": "1.5.0",
            "_model_name": "HTMLModel",
            "_view_count": null,
            "_view_module": "@jupyter-widgets/controls",
            "_view_module_version": "1.5.0",
            "_view_name": "HTMLView",
            "description": "",
            "description_tooltip": null,
            "layout": "IPY_MODEL_5b71c8e858634d5ba9f17bfe35099f3e",
            "placeholder": "​",
            "style": "IPY_MODEL_03532fca73134ca78ecb7d18f2f7f7b7",
            "value": " 2/2 [00:00&lt;00:00, 38.80it/s]"
          }
        },
        "fc64c03ef2f143538f5928b76910909c": {
          "model_module": "@jupyter-widgets/base",
          "model_name": "LayoutModel",
          "model_module_version": "1.2.0",
          "state": {
            "_model_module": "@jupyter-widgets/base",
            "_model_module_version": "1.2.0",
            "_model_name": "LayoutModel",
            "_view_count": null,
            "_view_module": "@jupyter-widgets/base",
            "_view_module_version": "1.2.0",
            "_view_name": "LayoutView",
            "align_content": null,
            "align_items": null,
            "align_self": null,
            "border": null,
            "bottom": null,
            "display": null,
            "flex": null,
            "flex_flow": null,
            "grid_area": null,
            "grid_auto_columns": null,
            "grid_auto_flow": null,
            "grid_auto_rows": null,
            "grid_column": null,
            "grid_gap": null,
            "grid_row": null,
            "grid_template_areas": null,
            "grid_template_columns": null,
            "grid_template_rows": null,
            "height": null,
            "justify_content": null,
            "justify_items": null,
            "left": null,
            "margin": null,
            "max_height": null,
            "max_width": null,
            "min_height": null,
            "min_width": null,
            "object_fit": null,
            "object_position": null,
            "order": null,
            "overflow": null,
            "overflow_x": null,
            "overflow_y": null,
            "padding": null,
            "right": null,
            "top": null,
            "visibility": null,
            "width": null
          }
        },
        "1de26709022c4dcc91bdf0dea2dfbada": {
          "model_module": "@jupyter-widgets/base",
          "model_name": "LayoutModel",
          "model_module_version": "1.2.0",
          "state": {
            "_model_module": "@jupyter-widgets/base",
            "_model_module_version": "1.2.0",
            "_model_name": "LayoutModel",
            "_view_count": null,
            "_view_module": "@jupyter-widgets/base",
            "_view_module_version": "1.2.0",
            "_view_name": "LayoutView",
            "align_content": null,
            "align_items": null,
            "align_self": null,
            "border": null,
            "bottom": null,
            "display": null,
            "flex": null,
            "flex_flow": null,
            "grid_area": null,
            "grid_auto_columns": null,
            "grid_auto_flow": null,
            "grid_auto_rows": null,
            "grid_column": null,
            "grid_gap": null,
            "grid_row": null,
            "grid_template_areas": null,
            "grid_template_columns": null,
            "grid_template_rows": null,
            "height": null,
            "justify_content": null,
            "justify_items": null,
            "left": null,
            "margin": null,
            "max_height": null,
            "max_width": null,
            "min_height": null,
            "min_width": null,
            "object_fit": null,
            "object_position": null,
            "order": null,
            "overflow": null,
            "overflow_x": null,
            "overflow_y": null,
            "padding": null,
            "right": null,
            "top": null,
            "visibility": null,
            "width": null
          }
        },
        "bd24b91cd2d84c24951c0c2a419e250f": {
          "model_module": "@jupyter-widgets/controls",
          "model_name": "DescriptionStyleModel",
          "model_module_version": "1.5.0",
          "state": {
            "_model_module": "@jupyter-widgets/controls",
            "_model_module_version": "1.5.0",
            "_model_name": "DescriptionStyleModel",
            "_view_count": null,
            "_view_module": "@jupyter-widgets/base",
            "_view_module_version": "1.2.0",
            "_view_name": "StyleView",
            "description_width": ""
          }
        },
        "790e2896101846f9babc4845674fd6b9": {
          "model_module": "@jupyter-widgets/base",
          "model_name": "LayoutModel",
          "model_module_version": "1.2.0",
          "state": {
            "_model_module": "@jupyter-widgets/base",
            "_model_module_version": "1.2.0",
            "_model_name": "LayoutModel",
            "_view_count": null,
            "_view_module": "@jupyter-widgets/base",
            "_view_module_version": "1.2.0",
            "_view_name": "LayoutView",
            "align_content": null,
            "align_items": null,
            "align_self": null,
            "border": null,
            "bottom": null,
            "display": null,
            "flex": null,
            "flex_flow": null,
            "grid_area": null,
            "grid_auto_columns": null,
            "grid_auto_flow": null,
            "grid_auto_rows": null,
            "grid_column": null,
            "grid_gap": null,
            "grid_row": null,
            "grid_template_areas": null,
            "grid_template_columns": null,
            "grid_template_rows": null,
            "height": null,
            "justify_content": null,
            "justify_items": null,
            "left": null,
            "margin": null,
            "max_height": null,
            "max_width": null,
            "min_height": null,
            "min_width": null,
            "object_fit": null,
            "object_position": null,
            "order": null,
            "overflow": null,
            "overflow_x": null,
            "overflow_y": null,
            "padding": null,
            "right": null,
            "top": null,
            "visibility": null,
            "width": null
          }
        },
        "08e7123463114d63b332b906b31cb63a": {
          "model_module": "@jupyter-widgets/controls",
          "model_name": "ProgressStyleModel",
          "model_module_version": "1.5.0",
          "state": {
            "_model_module": "@jupyter-widgets/controls",
            "_model_module_version": "1.5.0",
            "_model_name": "ProgressStyleModel",
            "_view_count": null,
            "_view_module": "@jupyter-widgets/base",
            "_view_module_version": "1.2.0",
            "_view_name": "StyleView",
            "bar_color": null,
            "description_width": ""
          }
        },
        "5b71c8e858634d5ba9f17bfe35099f3e": {
          "model_module": "@jupyter-widgets/base",
          "model_name": "LayoutModel",
          "model_module_version": "1.2.0",
          "state": {
            "_model_module": "@jupyter-widgets/base",
            "_model_module_version": "1.2.0",
            "_model_name": "LayoutModel",
            "_view_count": null,
            "_view_module": "@jupyter-widgets/base",
            "_view_module_version": "1.2.0",
            "_view_name": "LayoutView",
            "align_content": null,
            "align_items": null,
            "align_self": null,
            "border": null,
            "bottom": null,
            "display": null,
            "flex": null,
            "flex_flow": null,
            "grid_area": null,
            "grid_auto_columns": null,
            "grid_auto_flow": null,
            "grid_auto_rows": null,
            "grid_column": null,
            "grid_gap": null,
            "grid_row": null,
            "grid_template_areas": null,
            "grid_template_columns": null,
            "grid_template_rows": null,
            "height": null,
            "justify_content": null,
            "justify_items": null,
            "left": null,
            "margin": null,
            "max_height": null,
            "max_width": null,
            "min_height": null,
            "min_width": null,
            "object_fit": null,
            "object_position": null,
            "order": null,
            "overflow": null,
            "overflow_x": null,
            "overflow_y": null,
            "padding": null,
            "right": null,
            "top": null,
            "visibility": null,
            "width": null
          }
        },
        "03532fca73134ca78ecb7d18f2f7f7b7": {
          "model_module": "@jupyter-widgets/controls",
          "model_name": "DescriptionStyleModel",
          "model_module_version": "1.5.0",
          "state": {
            "_model_module": "@jupyter-widgets/controls",
            "_model_module_version": "1.5.0",
            "_model_name": "DescriptionStyleModel",
            "_view_count": null,
            "_view_module": "@jupyter-widgets/base",
            "_view_module_version": "1.2.0",
            "_view_name": "StyleView",
            "description_width": ""
          }
        },
        "cb9c0408a1884d10baf803b4eda54a5c": {
          "model_module": "@jupyter-widgets/controls",
          "model_name": "HBoxModel",
          "model_module_version": "1.5.0",
          "state": {
            "_dom_classes": [],
            "_model_module": "@jupyter-widgets/controls",
            "_model_module_version": "1.5.0",
            "_model_name": "HBoxModel",
            "_view_count": null,
            "_view_module": "@jupyter-widgets/controls",
            "_view_module_version": "1.5.0",
            "_view_name": "HBoxView",
            "box_style": "",
            "children": [
              "IPY_MODEL_3e1ad87ccf8c449c9915e8f4138e3ec7",
              "IPY_MODEL_a042f4ebf6c64390840ced6e715d4817",
              "IPY_MODEL_fdf629f66ce34025b30f445b6d4f5b27"
            ],
            "layout": "IPY_MODEL_1797e0fc63e74cb1ba2a1776432c6594"
          }
        },
        "3e1ad87ccf8c449c9915e8f4138e3ec7": {
          "model_module": "@jupyter-widgets/controls",
          "model_name": "HTMLModel",
          "model_module_version": "1.5.0",
          "state": {
            "_dom_classes": [],
            "_model_module": "@jupyter-widgets/controls",
            "_model_module_version": "1.5.0",
            "_model_name": "HTMLModel",
            "_view_count": null,
            "_view_module": "@jupyter-widgets/controls",
            "_view_module_version": "1.5.0",
            "_view_name": "HTMLView",
            "description": "",
            "description_tooltip": null,
            "layout": "IPY_MODEL_92c52d6bdf4546edb45b5d04267c7740",
            "placeholder": "​",
            "style": "IPY_MODEL_3310731a980a4b27bb5b8613ac8713fb",
            "value": ""
          }
        },
        "a042f4ebf6c64390840ced6e715d4817": {
          "model_module": "@jupyter-widgets/controls",
          "model_name": "FloatProgressModel",
          "model_module_version": "1.5.0",
          "state": {
            "_dom_classes": [],
            "_model_module": "@jupyter-widgets/controls",
            "_model_module_version": "1.5.0",
            "_model_name": "FloatProgressModel",
            "_view_count": null,
            "_view_module": "@jupyter-widgets/controls",
            "_view_module_version": "1.5.0",
            "_view_name": "ProgressView",
            "bar_style": "success",
            "description": "",
            "description_tooltip": null,
            "layout": "IPY_MODEL_e80dcd901c4f4aeba315373d30bfe6a8",
            "max": 1,
            "min": 0,
            "orientation": "horizontal",
            "style": "IPY_MODEL_028b96bd3fb74a87819eca39657657fa",
            "value": 1
          }
        },
        "fdf629f66ce34025b30f445b6d4f5b27": {
          "model_module": "@jupyter-widgets/controls",
          "model_name": "HTMLModel",
          "model_module_version": "1.5.0",
          "state": {
            "_dom_classes": [],
            "_model_module": "@jupyter-widgets/controls",
            "_model_module_version": "1.5.0",
            "_model_name": "HTMLModel",
            "_view_count": null,
            "_view_module": "@jupyter-widgets/controls",
            "_view_module_version": "1.5.0",
            "_view_name": "HTMLView",
            "description": "",
            "description_tooltip": null,
            "layout": "IPY_MODEL_bf2913d6b1204307a03a94d2b1602c25",
            "placeholder": "​",
            "style": "IPY_MODEL_00b267d4ecbb49e7907880d0581ae109",
            "value": " 4620/? [00:00&lt;00:00, 6856.56ex/s]"
          }
        },
        "1797e0fc63e74cb1ba2a1776432c6594": {
          "model_module": "@jupyter-widgets/base",
          "model_name": "LayoutModel",
          "model_module_version": "1.2.0",
          "state": {
            "_model_module": "@jupyter-widgets/base",
            "_model_module_version": "1.2.0",
            "_model_name": "LayoutModel",
            "_view_count": null,
            "_view_module": "@jupyter-widgets/base",
            "_view_module_version": "1.2.0",
            "_view_name": "LayoutView",
            "align_content": null,
            "align_items": null,
            "align_self": null,
            "border": null,
            "bottom": null,
            "display": null,
            "flex": null,
            "flex_flow": null,
            "grid_area": null,
            "grid_auto_columns": null,
            "grid_auto_flow": null,
            "grid_auto_rows": null,
            "grid_column": null,
            "grid_gap": null,
            "grid_row": null,
            "grid_template_areas": null,
            "grid_template_columns": null,
            "grid_template_rows": null,
            "height": null,
            "justify_content": null,
            "justify_items": null,
            "left": null,
            "margin": null,
            "max_height": null,
            "max_width": null,
            "min_height": null,
            "min_width": null,
            "object_fit": null,
            "object_position": null,
            "order": null,
            "overflow": null,
            "overflow_x": null,
            "overflow_y": null,
            "padding": null,
            "right": null,
            "top": null,
            "visibility": null,
            "width": null
          }
        },
        "92c52d6bdf4546edb45b5d04267c7740": {
          "model_module": "@jupyter-widgets/base",
          "model_name": "LayoutModel",
          "model_module_version": "1.2.0",
          "state": {
            "_model_module": "@jupyter-widgets/base",
            "_model_module_version": "1.2.0",
            "_model_name": "LayoutModel",
            "_view_count": null,
            "_view_module": "@jupyter-widgets/base",
            "_view_module_version": "1.2.0",
            "_view_name": "LayoutView",
            "align_content": null,
            "align_items": null,
            "align_self": null,
            "border": null,
            "bottom": null,
            "display": null,
            "flex": null,
            "flex_flow": null,
            "grid_area": null,
            "grid_auto_columns": null,
            "grid_auto_flow": null,
            "grid_auto_rows": null,
            "grid_column": null,
            "grid_gap": null,
            "grid_row": null,
            "grid_template_areas": null,
            "grid_template_columns": null,
            "grid_template_rows": null,
            "height": null,
            "justify_content": null,
            "justify_items": null,
            "left": null,
            "margin": null,
            "max_height": null,
            "max_width": null,
            "min_height": null,
            "min_width": null,
            "object_fit": null,
            "object_position": null,
            "order": null,
            "overflow": null,
            "overflow_x": null,
            "overflow_y": null,
            "padding": null,
            "right": null,
            "top": null,
            "visibility": null,
            "width": null
          }
        },
        "3310731a980a4b27bb5b8613ac8713fb": {
          "model_module": "@jupyter-widgets/controls",
          "model_name": "DescriptionStyleModel",
          "model_module_version": "1.5.0",
          "state": {
            "_model_module": "@jupyter-widgets/controls",
            "_model_module_version": "1.5.0",
            "_model_name": "DescriptionStyleModel",
            "_view_count": null,
            "_view_module": "@jupyter-widgets/base",
            "_view_module_version": "1.2.0",
            "_view_name": "StyleView",
            "description_width": ""
          }
        },
        "e80dcd901c4f4aeba315373d30bfe6a8": {
          "model_module": "@jupyter-widgets/base",
          "model_name": "LayoutModel",
          "model_module_version": "1.2.0",
          "state": {
            "_model_module": "@jupyter-widgets/base",
            "_model_module_version": "1.2.0",
            "_model_name": "LayoutModel",
            "_view_count": null,
            "_view_module": "@jupyter-widgets/base",
            "_view_module_version": "1.2.0",
            "_view_name": "LayoutView",
            "align_content": null,
            "align_items": null,
            "align_self": null,
            "border": null,
            "bottom": null,
            "display": null,
            "flex": null,
            "flex_flow": null,
            "grid_area": null,
            "grid_auto_columns": null,
            "grid_auto_flow": null,
            "grid_auto_rows": null,
            "grid_column": null,
            "grid_gap": null,
            "grid_row": null,
            "grid_template_areas": null,
            "grid_template_columns": null,
            "grid_template_rows": null,
            "height": null,
            "justify_content": null,
            "justify_items": null,
            "left": null,
            "margin": null,
            "max_height": null,
            "max_width": null,
            "min_height": null,
            "min_width": null,
            "object_fit": null,
            "object_position": null,
            "order": null,
            "overflow": null,
            "overflow_x": null,
            "overflow_y": null,
            "padding": null,
            "right": null,
            "top": null,
            "visibility": null,
            "width": "20px"
          }
        },
        "028b96bd3fb74a87819eca39657657fa": {
          "model_module": "@jupyter-widgets/controls",
          "model_name": "ProgressStyleModel",
          "model_module_version": "1.5.0",
          "state": {
            "_model_module": "@jupyter-widgets/controls",
            "_model_module_version": "1.5.0",
            "_model_name": "ProgressStyleModel",
            "_view_count": null,
            "_view_module": "@jupyter-widgets/base",
            "_view_module_version": "1.2.0",
            "_view_name": "StyleView",
            "bar_color": null,
            "description_width": ""
          }
        },
        "bf2913d6b1204307a03a94d2b1602c25": {
          "model_module": "@jupyter-widgets/base",
          "model_name": "LayoutModel",
          "model_module_version": "1.2.0",
          "state": {
            "_model_module": "@jupyter-widgets/base",
            "_model_module_version": "1.2.0",
            "_model_name": "LayoutModel",
            "_view_count": null,
            "_view_module": "@jupyter-widgets/base",
            "_view_module_version": "1.2.0",
            "_view_name": "LayoutView",
            "align_content": null,
            "align_items": null,
            "align_self": null,
            "border": null,
            "bottom": null,
            "display": null,
            "flex": null,
            "flex_flow": null,
            "grid_area": null,
            "grid_auto_columns": null,
            "grid_auto_flow": null,
            "grid_auto_rows": null,
            "grid_column": null,
            "grid_gap": null,
            "grid_row": null,
            "grid_template_areas": null,
            "grid_template_columns": null,
            "grid_template_rows": null,
            "height": null,
            "justify_content": null,
            "justify_items": null,
            "left": null,
            "margin": null,
            "max_height": null,
            "max_width": null,
            "min_height": null,
            "min_width": null,
            "object_fit": null,
            "object_position": null,
            "order": null,
            "overflow": null,
            "overflow_x": null,
            "overflow_y": null,
            "padding": null,
            "right": null,
            "top": null,
            "visibility": null,
            "width": null
          }
        },
        "00b267d4ecbb49e7907880d0581ae109": {
          "model_module": "@jupyter-widgets/controls",
          "model_name": "DescriptionStyleModel",
          "model_module_version": "1.5.0",
          "state": {
            "_model_module": "@jupyter-widgets/controls",
            "_model_module_version": "1.5.0",
            "_model_name": "DescriptionStyleModel",
            "_view_count": null,
            "_view_module": "@jupyter-widgets/base",
            "_view_module_version": "1.2.0",
            "_view_name": "StyleView",
            "description_width": ""
          }
        },
        "44649c3f9b1c43799678cae19a49d135": {
          "model_module": "@jupyter-widgets/controls",
          "model_name": "HBoxModel",
          "model_module_version": "1.5.0",
          "state": {
            "_dom_classes": [],
            "_model_module": "@jupyter-widgets/controls",
            "_model_module_version": "1.5.0",
            "_model_name": "HBoxModel",
            "_view_count": null,
            "_view_module": "@jupyter-widgets/controls",
            "_view_module_version": "1.5.0",
            "_view_name": "HBoxView",
            "box_style": "",
            "children": [
              "IPY_MODEL_9b19d082e718462a9ec5f414a9133395",
              "IPY_MODEL_271c55bd3f4245678029ff10040e3e63",
              "IPY_MODEL_45f0ee40a31443a897085de5696c5216"
            ],
            "layout": "IPY_MODEL_ab1ce0dd12984584844c8482a93c78b1"
          }
        },
        "9b19d082e718462a9ec5f414a9133395": {
          "model_module": "@jupyter-widgets/controls",
          "model_name": "HTMLModel",
          "model_module_version": "1.5.0",
          "state": {
            "_dom_classes": [],
            "_model_module": "@jupyter-widgets/controls",
            "_model_module_version": "1.5.0",
            "_model_name": "HTMLModel",
            "_view_count": null,
            "_view_module": "@jupyter-widgets/controls",
            "_view_module_version": "1.5.0",
            "_view_name": "HTMLView",
            "description": "",
            "description_tooltip": null,
            "layout": "IPY_MODEL_f6c5bfd22ab24ff085321de7eba56a2b",
            "placeholder": "​",
            "style": "IPY_MODEL_606bc58288744e9584898022dcea717f",
            "value": ""
          }
        },
        "271c55bd3f4245678029ff10040e3e63": {
          "model_module": "@jupyter-widgets/controls",
          "model_name": "FloatProgressModel",
          "model_module_version": "1.5.0",
          "state": {
            "_dom_classes": [],
            "_model_module": "@jupyter-widgets/controls",
            "_model_module_version": "1.5.0",
            "_model_name": "FloatProgressModel",
            "_view_count": null,
            "_view_module": "@jupyter-widgets/controls",
            "_view_module_version": "1.5.0",
            "_view_name": "ProgressView",
            "bar_style": "success",
            "description": "",
            "description_tooltip": null,
            "layout": "IPY_MODEL_728e4b49370e4160aec242f42fbcab05",
            "max": 1,
            "min": 0,
            "orientation": "horizontal",
            "style": "IPY_MODEL_de27bd7e92904546a9cdc5ff29d6ead8",
            "value": 1
          }
        },
        "45f0ee40a31443a897085de5696c5216": {
          "model_module": "@jupyter-widgets/controls",
          "model_name": "HTMLModel",
          "model_module_version": "1.5.0",
          "state": {
            "_dom_classes": [],
            "_model_module": "@jupyter-widgets/controls",
            "_model_module_version": "1.5.0",
            "_model_name": "HTMLModel",
            "_view_count": null,
            "_view_module": "@jupyter-widgets/controls",
            "_view_module_version": "1.5.0",
            "_view_name": "HTMLView",
            "description": "",
            "description_tooltip": null,
            "layout": "IPY_MODEL_020b6b9b7c284b68ab44f8d274733fee",
            "placeholder": "​",
            "style": "IPY_MODEL_fb3cafcd9dd94afe8dff1f01cfbbf5e7",
            "value": " 1680/? [00:00&lt;00:00, 7157.40ex/s]"
          }
        },
        "ab1ce0dd12984584844c8482a93c78b1": {
          "model_module": "@jupyter-widgets/base",
          "model_name": "LayoutModel",
          "model_module_version": "1.2.0",
          "state": {
            "_model_module": "@jupyter-widgets/base",
            "_model_module_version": "1.2.0",
            "_model_name": "LayoutModel",
            "_view_count": null,
            "_view_module": "@jupyter-widgets/base",
            "_view_module_version": "1.2.0",
            "_view_name": "LayoutView",
            "align_content": null,
            "align_items": null,
            "align_self": null,
            "border": null,
            "bottom": null,
            "display": null,
            "flex": null,
            "flex_flow": null,
            "grid_area": null,
            "grid_auto_columns": null,
            "grid_auto_flow": null,
            "grid_auto_rows": null,
            "grid_column": null,
            "grid_gap": null,
            "grid_row": null,
            "grid_template_areas": null,
            "grid_template_columns": null,
            "grid_template_rows": null,
            "height": null,
            "justify_content": null,
            "justify_items": null,
            "left": null,
            "margin": null,
            "max_height": null,
            "max_width": null,
            "min_height": null,
            "min_width": null,
            "object_fit": null,
            "object_position": null,
            "order": null,
            "overflow": null,
            "overflow_x": null,
            "overflow_y": null,
            "padding": null,
            "right": null,
            "top": null,
            "visibility": null,
            "width": null
          }
        },
        "f6c5bfd22ab24ff085321de7eba56a2b": {
          "model_module": "@jupyter-widgets/base",
          "model_name": "LayoutModel",
          "model_module_version": "1.2.0",
          "state": {
            "_model_module": "@jupyter-widgets/base",
            "_model_module_version": "1.2.0",
            "_model_name": "LayoutModel",
            "_view_count": null,
            "_view_module": "@jupyter-widgets/base",
            "_view_module_version": "1.2.0",
            "_view_name": "LayoutView",
            "align_content": null,
            "align_items": null,
            "align_self": null,
            "border": null,
            "bottom": null,
            "display": null,
            "flex": null,
            "flex_flow": null,
            "grid_area": null,
            "grid_auto_columns": null,
            "grid_auto_flow": null,
            "grid_auto_rows": null,
            "grid_column": null,
            "grid_gap": null,
            "grid_row": null,
            "grid_template_areas": null,
            "grid_template_columns": null,
            "grid_template_rows": null,
            "height": null,
            "justify_content": null,
            "justify_items": null,
            "left": null,
            "margin": null,
            "max_height": null,
            "max_width": null,
            "min_height": null,
            "min_width": null,
            "object_fit": null,
            "object_position": null,
            "order": null,
            "overflow": null,
            "overflow_x": null,
            "overflow_y": null,
            "padding": null,
            "right": null,
            "top": null,
            "visibility": null,
            "width": null
          }
        },
        "606bc58288744e9584898022dcea717f": {
          "model_module": "@jupyter-widgets/controls",
          "model_name": "DescriptionStyleModel",
          "model_module_version": "1.5.0",
          "state": {
            "_model_module": "@jupyter-widgets/controls",
            "_model_module_version": "1.5.0",
            "_model_name": "DescriptionStyleModel",
            "_view_count": null,
            "_view_module": "@jupyter-widgets/base",
            "_view_module_version": "1.2.0",
            "_view_name": "StyleView",
            "description_width": ""
          }
        },
        "728e4b49370e4160aec242f42fbcab05": {
          "model_module": "@jupyter-widgets/base",
          "model_name": "LayoutModel",
          "model_module_version": "1.2.0",
          "state": {
            "_model_module": "@jupyter-widgets/base",
            "_model_module_version": "1.2.0",
            "_model_name": "LayoutModel",
            "_view_count": null,
            "_view_module": "@jupyter-widgets/base",
            "_view_module_version": "1.2.0",
            "_view_name": "LayoutView",
            "align_content": null,
            "align_items": null,
            "align_self": null,
            "border": null,
            "bottom": null,
            "display": null,
            "flex": null,
            "flex_flow": null,
            "grid_area": null,
            "grid_auto_columns": null,
            "grid_auto_flow": null,
            "grid_auto_rows": null,
            "grid_column": null,
            "grid_gap": null,
            "grid_row": null,
            "grid_template_areas": null,
            "grid_template_columns": null,
            "grid_template_rows": null,
            "height": null,
            "justify_content": null,
            "justify_items": null,
            "left": null,
            "margin": null,
            "max_height": null,
            "max_width": null,
            "min_height": null,
            "min_width": null,
            "object_fit": null,
            "object_position": null,
            "order": null,
            "overflow": null,
            "overflow_x": null,
            "overflow_y": null,
            "padding": null,
            "right": null,
            "top": null,
            "visibility": null,
            "width": "20px"
          }
        },
        "de27bd7e92904546a9cdc5ff29d6ead8": {
          "model_module": "@jupyter-widgets/controls",
          "model_name": "ProgressStyleModel",
          "model_module_version": "1.5.0",
          "state": {
            "_model_module": "@jupyter-widgets/controls",
            "_model_module_version": "1.5.0",
            "_model_name": "ProgressStyleModel",
            "_view_count": null,
            "_view_module": "@jupyter-widgets/base",
            "_view_module_version": "1.2.0",
            "_view_name": "StyleView",
            "bar_color": null,
            "description_width": ""
          }
        },
        "020b6b9b7c284b68ab44f8d274733fee": {
          "model_module": "@jupyter-widgets/base",
          "model_name": "LayoutModel",
          "model_module_version": "1.2.0",
          "state": {
            "_model_module": "@jupyter-widgets/base",
            "_model_module_version": "1.2.0",
            "_model_name": "LayoutModel",
            "_view_count": null,
            "_view_module": "@jupyter-widgets/base",
            "_view_module_version": "1.2.0",
            "_view_name": "LayoutView",
            "align_content": null,
            "align_items": null,
            "align_self": null,
            "border": null,
            "bottom": null,
            "display": null,
            "flex": null,
            "flex_flow": null,
            "grid_area": null,
            "grid_auto_columns": null,
            "grid_auto_flow": null,
            "grid_auto_rows": null,
            "grid_column": null,
            "grid_gap": null,
            "grid_row": null,
            "grid_template_areas": null,
            "grid_template_columns": null,
            "grid_template_rows": null,
            "height": null,
            "justify_content": null,
            "justify_items": null,
            "left": null,
            "margin": null,
            "max_height": null,
            "max_width": null,
            "min_height": null,
            "min_width": null,
            "object_fit": null,
            "object_position": null,
            "order": null,
            "overflow": null,
            "overflow_x": null,
            "overflow_y": null,
            "padding": null,
            "right": null,
            "top": null,
            "visibility": null,
            "width": null
          }
        },
        "fb3cafcd9dd94afe8dff1f01cfbbf5e7": {
          "model_module": "@jupyter-widgets/controls",
          "model_name": "DescriptionStyleModel",
          "model_module_version": "1.5.0",
          "state": {
            "_model_module": "@jupyter-widgets/controls",
            "_model_module_version": "1.5.0",
            "_model_name": "DescriptionStyleModel",
            "_view_count": null,
            "_view_module": "@jupyter-widgets/base",
            "_view_module_version": "1.2.0",
            "_view_name": "StyleView",
            "description_width": ""
          }
        },
        "42c99d28fc5047b1947e5a773ffd24cf": {
          "model_module": "@jupyter-widgets/controls",
          "model_name": "HBoxModel",
          "model_module_version": "1.5.0",
          "state": {
            "_dom_classes": [],
            "_model_module": "@jupyter-widgets/controls",
            "_model_module_version": "1.5.0",
            "_model_name": "HBoxModel",
            "_view_count": null,
            "_view_module": "@jupyter-widgets/controls",
            "_view_module_version": "1.5.0",
            "_view_name": "HBoxView",
            "box_style": "",
            "children": [
              "IPY_MODEL_a65b1ebada854544b4e286419d1d1054",
              "IPY_MODEL_8b53a301624e4e7ebd05dac4c35d33a0",
              "IPY_MODEL_b02945ebe6044ef3bd647f26d1f471fa"
            ],
            "layout": "IPY_MODEL_8cb16ebf48714360a69df4001f352f17"
          }
        },
        "a65b1ebada854544b4e286419d1d1054": {
          "model_module": "@jupyter-widgets/controls",
          "model_name": "HTMLModel",
          "model_module_version": "1.5.0",
          "state": {
            "_dom_classes": [],
            "_model_module": "@jupyter-widgets/controls",
            "_model_module_version": "1.5.0",
            "_model_name": "HTMLModel",
            "_view_count": null,
            "_view_module": "@jupyter-widgets/controls",
            "_view_module_version": "1.5.0",
            "_view_name": "HTMLView",
            "description": "",
            "description_tooltip": null,
            "layout": "IPY_MODEL_2b7c95d644ad49429e6c8a71c67a67c1",
            "placeholder": "​",
            "style": "IPY_MODEL_506cc5d2dbe04be3b1def3ee4d01c074",
            "value": "100%"
          }
        },
        "8b53a301624e4e7ebd05dac4c35d33a0": {
          "model_module": "@jupyter-widgets/controls",
          "model_name": "FloatProgressModel",
          "model_module_version": "1.5.0",
          "state": {
            "_dom_classes": [],
            "_model_module": "@jupyter-widgets/controls",
            "_model_module_version": "1.5.0",
            "_model_name": "FloatProgressModel",
            "_view_count": null,
            "_view_module": "@jupyter-widgets/controls",
            "_view_module_version": "1.5.0",
            "_view_name": "ProgressView",
            "bar_style": "success",
            "description": "",
            "description_tooltip": null,
            "layout": "IPY_MODEL_cdaabda8aa524463a8070cc07a8f4ddf",
            "max": 1,
            "min": 0,
            "orientation": "horizontal",
            "style": "IPY_MODEL_9a481ecc95604059afabbd2396874c24",
            "value": 1
          }
        },
        "b02945ebe6044ef3bd647f26d1f471fa": {
          "model_module": "@jupyter-widgets/controls",
          "model_name": "HTMLModel",
          "model_module_version": "1.5.0",
          "state": {
            "_dom_classes": [],
            "_model_module": "@jupyter-widgets/controls",
            "_model_module_version": "1.5.0",
            "_model_name": "HTMLModel",
            "_view_count": null,
            "_view_module": "@jupyter-widgets/controls",
            "_view_module_version": "1.5.0",
            "_view_name": "HTMLView",
            "description": "",
            "description_tooltip": null,
            "layout": "IPY_MODEL_2b4ca18c8d2e4b8ba9cea04a3016bb64",
            "placeholder": "​",
            "style": "IPY_MODEL_6be6130098344ec28bcd77d5d2e7012d",
            "value": " 1/1 [00:00&lt;00:00, 15.64ba/s]"
          }
        },
        "8cb16ebf48714360a69df4001f352f17": {
          "model_module": "@jupyter-widgets/base",
          "model_name": "LayoutModel",
          "model_module_version": "1.2.0",
          "state": {
            "_model_module": "@jupyter-widgets/base",
            "_model_module_version": "1.2.0",
            "_model_name": "LayoutModel",
            "_view_count": null,
            "_view_module": "@jupyter-widgets/base",
            "_view_module_version": "1.2.0",
            "_view_name": "LayoutView",
            "align_content": null,
            "align_items": null,
            "align_self": null,
            "border": null,
            "bottom": null,
            "display": null,
            "flex": null,
            "flex_flow": null,
            "grid_area": null,
            "grid_auto_columns": null,
            "grid_auto_flow": null,
            "grid_auto_rows": null,
            "grid_column": null,
            "grid_gap": null,
            "grid_row": null,
            "grid_template_areas": null,
            "grid_template_columns": null,
            "grid_template_rows": null,
            "height": null,
            "justify_content": null,
            "justify_items": null,
            "left": null,
            "margin": null,
            "max_height": null,
            "max_width": null,
            "min_height": null,
            "min_width": null,
            "object_fit": null,
            "object_position": null,
            "order": null,
            "overflow": null,
            "overflow_x": null,
            "overflow_y": null,
            "padding": null,
            "right": null,
            "top": null,
            "visibility": null,
            "width": null
          }
        },
        "2b7c95d644ad49429e6c8a71c67a67c1": {
          "model_module": "@jupyter-widgets/base",
          "model_name": "LayoutModel",
          "model_module_version": "1.2.0",
          "state": {
            "_model_module": "@jupyter-widgets/base",
            "_model_module_version": "1.2.0",
            "_model_name": "LayoutModel",
            "_view_count": null,
            "_view_module": "@jupyter-widgets/base",
            "_view_module_version": "1.2.0",
            "_view_name": "LayoutView",
            "align_content": null,
            "align_items": null,
            "align_self": null,
            "border": null,
            "bottom": null,
            "display": null,
            "flex": null,
            "flex_flow": null,
            "grid_area": null,
            "grid_auto_columns": null,
            "grid_auto_flow": null,
            "grid_auto_rows": null,
            "grid_column": null,
            "grid_gap": null,
            "grid_row": null,
            "grid_template_areas": null,
            "grid_template_columns": null,
            "grid_template_rows": null,
            "height": null,
            "justify_content": null,
            "justify_items": null,
            "left": null,
            "margin": null,
            "max_height": null,
            "max_width": null,
            "min_height": null,
            "min_width": null,
            "object_fit": null,
            "object_position": null,
            "order": null,
            "overflow": null,
            "overflow_x": null,
            "overflow_y": null,
            "padding": null,
            "right": null,
            "top": null,
            "visibility": null,
            "width": null
          }
        },
        "506cc5d2dbe04be3b1def3ee4d01c074": {
          "model_module": "@jupyter-widgets/controls",
          "model_name": "DescriptionStyleModel",
          "model_module_version": "1.5.0",
          "state": {
            "_model_module": "@jupyter-widgets/controls",
            "_model_module_version": "1.5.0",
            "_model_name": "DescriptionStyleModel",
            "_view_count": null,
            "_view_module": "@jupyter-widgets/base",
            "_view_module_version": "1.2.0",
            "_view_name": "StyleView",
            "description_width": ""
          }
        },
        "cdaabda8aa524463a8070cc07a8f4ddf": {
          "model_module": "@jupyter-widgets/base",
          "model_name": "LayoutModel",
          "model_module_version": "1.2.0",
          "state": {
            "_model_module": "@jupyter-widgets/base",
            "_model_module_version": "1.2.0",
            "_model_name": "LayoutModel",
            "_view_count": null,
            "_view_module": "@jupyter-widgets/base",
            "_view_module_version": "1.2.0",
            "_view_name": "LayoutView",
            "align_content": null,
            "align_items": null,
            "align_self": null,
            "border": null,
            "bottom": null,
            "display": null,
            "flex": null,
            "flex_flow": null,
            "grid_area": null,
            "grid_auto_columns": null,
            "grid_auto_flow": null,
            "grid_auto_rows": null,
            "grid_column": null,
            "grid_gap": null,
            "grid_row": null,
            "grid_template_areas": null,
            "grid_template_columns": null,
            "grid_template_rows": null,
            "height": null,
            "justify_content": null,
            "justify_items": null,
            "left": null,
            "margin": null,
            "max_height": null,
            "max_width": null,
            "min_height": null,
            "min_width": null,
            "object_fit": null,
            "object_position": null,
            "order": null,
            "overflow": null,
            "overflow_x": null,
            "overflow_y": null,
            "padding": null,
            "right": null,
            "top": null,
            "visibility": null,
            "width": null
          }
        },
        "9a481ecc95604059afabbd2396874c24": {
          "model_module": "@jupyter-widgets/controls",
          "model_name": "ProgressStyleModel",
          "model_module_version": "1.5.0",
          "state": {
            "_model_module": "@jupyter-widgets/controls",
            "_model_module_version": "1.5.0",
            "_model_name": "ProgressStyleModel",
            "_view_count": null,
            "_view_module": "@jupyter-widgets/base",
            "_view_module_version": "1.2.0",
            "_view_name": "StyleView",
            "bar_color": null,
            "description_width": ""
          }
        },
        "2b4ca18c8d2e4b8ba9cea04a3016bb64": {
          "model_module": "@jupyter-widgets/base",
          "model_name": "LayoutModel",
          "model_module_version": "1.2.0",
          "state": {
            "_model_module": "@jupyter-widgets/base",
            "_model_module_version": "1.2.0",
            "_model_name": "LayoutModel",
            "_view_count": null,
            "_view_module": "@jupyter-widgets/base",
            "_view_module_version": "1.2.0",
            "_view_name": "LayoutView",
            "align_content": null,
            "align_items": null,
            "align_self": null,
            "border": null,
            "bottom": null,
            "display": null,
            "flex": null,
            "flex_flow": null,
            "grid_area": null,
            "grid_auto_columns": null,
            "grid_auto_flow": null,
            "grid_auto_rows": null,
            "grid_column": null,
            "grid_gap": null,
            "grid_row": null,
            "grid_template_areas": null,
            "grid_template_columns": null,
            "grid_template_rows": null,
            "height": null,
            "justify_content": null,
            "justify_items": null,
            "left": null,
            "margin": null,
            "max_height": null,
            "max_width": null,
            "min_height": null,
            "min_width": null,
            "object_fit": null,
            "object_position": null,
            "order": null,
            "overflow": null,
            "overflow_x": null,
            "overflow_y": null,
            "padding": null,
            "right": null,
            "top": null,
            "visibility": null,
            "width": null
          }
        },
        "6be6130098344ec28bcd77d5d2e7012d": {
          "model_module": "@jupyter-widgets/controls",
          "model_name": "DescriptionStyleModel",
          "model_module_version": "1.5.0",
          "state": {
            "_model_module": "@jupyter-widgets/controls",
            "_model_module_version": "1.5.0",
            "_model_name": "DescriptionStyleModel",
            "_view_count": null,
            "_view_module": "@jupyter-widgets/base",
            "_view_module_version": "1.2.0",
            "_view_name": "StyleView",
            "description_width": ""
          }
        },
        "aeff8a98bd6d42fcb0789f2d3111e67d": {
          "model_module": "@jupyter-widgets/controls",
          "model_name": "HBoxModel",
          "model_module_version": "1.5.0",
          "state": {
            "_dom_classes": [],
            "_model_module": "@jupyter-widgets/controls",
            "_model_module_version": "1.5.0",
            "_model_name": "HBoxModel",
            "_view_count": null,
            "_view_module": "@jupyter-widgets/controls",
            "_view_module_version": "1.5.0",
            "_view_name": "HBoxView",
            "box_style": "",
            "children": [
              "IPY_MODEL_e3ad71cbd8614bca8069acd057bb2e2a",
              "IPY_MODEL_7631fe4ae696418e8bba554cfe36a8a8",
              "IPY_MODEL_c73312e521fa480aa451939735957095"
            ],
            "layout": "IPY_MODEL_45a2bd63f11e4830aab39eae5605c8f3"
          }
        },
        "e3ad71cbd8614bca8069acd057bb2e2a": {
          "model_module": "@jupyter-widgets/controls",
          "model_name": "HTMLModel",
          "model_module_version": "1.5.0",
          "state": {
            "_dom_classes": [],
            "_model_module": "@jupyter-widgets/controls",
            "_model_module_version": "1.5.0",
            "_model_name": "HTMLModel",
            "_view_count": null,
            "_view_module": "@jupyter-widgets/controls",
            "_view_module_version": "1.5.0",
            "_view_name": "HTMLView",
            "description": "",
            "description_tooltip": null,
            "layout": "IPY_MODEL_d82a05bb077f4d608b21c9f7ad8b65d5",
            "placeholder": "​",
            "style": "IPY_MODEL_b40db02ddbc444409d5881070aede13a",
            "value": "100%"
          }
        },
        "7631fe4ae696418e8bba554cfe36a8a8": {
          "model_module": "@jupyter-widgets/controls",
          "model_name": "FloatProgressModel",
          "model_module_version": "1.5.0",
          "state": {
            "_dom_classes": [],
            "_model_module": "@jupyter-widgets/controls",
            "_model_module_version": "1.5.0",
            "_model_name": "FloatProgressModel",
            "_view_count": null,
            "_view_module": "@jupyter-widgets/controls",
            "_view_module_version": "1.5.0",
            "_view_name": "ProgressView",
            "bar_style": "success",
            "description": "",
            "description_tooltip": null,
            "layout": "IPY_MODEL_ae19ead9778547e09265971528170826",
            "max": 1,
            "min": 0,
            "orientation": "horizontal",
            "style": "IPY_MODEL_80ddff7e0ead4c4ba88fd704e46da0dd",
            "value": 1
          }
        },
        "c73312e521fa480aa451939735957095": {
          "model_module": "@jupyter-widgets/controls",
          "model_name": "HTMLModel",
          "model_module_version": "1.5.0",
          "state": {
            "_dom_classes": [],
            "_model_module": "@jupyter-widgets/controls",
            "_model_module_version": "1.5.0",
            "_model_name": "HTMLModel",
            "_view_count": null,
            "_view_module": "@jupyter-widgets/controls",
            "_view_module_version": "1.5.0",
            "_view_name": "HTMLView",
            "description": "",
            "description_tooltip": null,
            "layout": "IPY_MODEL_ea8b3d79e89347779d51fca887947695",
            "placeholder": "​",
            "style": "IPY_MODEL_34b80be24ebd481ba958be858bd1db29",
            "value": " 1/1 [00:00&lt;00:00, 26.77ba/s]"
          }
        },
        "45a2bd63f11e4830aab39eae5605c8f3": {
          "model_module": "@jupyter-widgets/base",
          "model_name": "LayoutModel",
          "model_module_version": "1.2.0",
          "state": {
            "_model_module": "@jupyter-widgets/base",
            "_model_module_version": "1.2.0",
            "_model_name": "LayoutModel",
            "_view_count": null,
            "_view_module": "@jupyter-widgets/base",
            "_view_module_version": "1.2.0",
            "_view_name": "LayoutView",
            "align_content": null,
            "align_items": null,
            "align_self": null,
            "border": null,
            "bottom": null,
            "display": null,
            "flex": null,
            "flex_flow": null,
            "grid_area": null,
            "grid_auto_columns": null,
            "grid_auto_flow": null,
            "grid_auto_rows": null,
            "grid_column": null,
            "grid_gap": null,
            "grid_row": null,
            "grid_template_areas": null,
            "grid_template_columns": null,
            "grid_template_rows": null,
            "height": null,
            "justify_content": null,
            "justify_items": null,
            "left": null,
            "margin": null,
            "max_height": null,
            "max_width": null,
            "min_height": null,
            "min_width": null,
            "object_fit": null,
            "object_position": null,
            "order": null,
            "overflow": null,
            "overflow_x": null,
            "overflow_y": null,
            "padding": null,
            "right": null,
            "top": null,
            "visibility": null,
            "width": null
          }
        },
        "d82a05bb077f4d608b21c9f7ad8b65d5": {
          "model_module": "@jupyter-widgets/base",
          "model_name": "LayoutModel",
          "model_module_version": "1.2.0",
          "state": {
            "_model_module": "@jupyter-widgets/base",
            "_model_module_version": "1.2.0",
            "_model_name": "LayoutModel",
            "_view_count": null,
            "_view_module": "@jupyter-widgets/base",
            "_view_module_version": "1.2.0",
            "_view_name": "LayoutView",
            "align_content": null,
            "align_items": null,
            "align_self": null,
            "border": null,
            "bottom": null,
            "display": null,
            "flex": null,
            "flex_flow": null,
            "grid_area": null,
            "grid_auto_columns": null,
            "grid_auto_flow": null,
            "grid_auto_rows": null,
            "grid_column": null,
            "grid_gap": null,
            "grid_row": null,
            "grid_template_areas": null,
            "grid_template_columns": null,
            "grid_template_rows": null,
            "height": null,
            "justify_content": null,
            "justify_items": null,
            "left": null,
            "margin": null,
            "max_height": null,
            "max_width": null,
            "min_height": null,
            "min_width": null,
            "object_fit": null,
            "object_position": null,
            "order": null,
            "overflow": null,
            "overflow_x": null,
            "overflow_y": null,
            "padding": null,
            "right": null,
            "top": null,
            "visibility": null,
            "width": null
          }
        },
        "b40db02ddbc444409d5881070aede13a": {
          "model_module": "@jupyter-widgets/controls",
          "model_name": "DescriptionStyleModel",
          "model_module_version": "1.5.0",
          "state": {
            "_model_module": "@jupyter-widgets/controls",
            "_model_module_version": "1.5.0",
            "_model_name": "DescriptionStyleModel",
            "_view_count": null,
            "_view_module": "@jupyter-widgets/base",
            "_view_module_version": "1.2.0",
            "_view_name": "StyleView",
            "description_width": ""
          }
        },
        "ae19ead9778547e09265971528170826": {
          "model_module": "@jupyter-widgets/base",
          "model_name": "LayoutModel",
          "model_module_version": "1.2.0",
          "state": {
            "_model_module": "@jupyter-widgets/base",
            "_model_module_version": "1.2.0",
            "_model_name": "LayoutModel",
            "_view_count": null,
            "_view_module": "@jupyter-widgets/base",
            "_view_module_version": "1.2.0",
            "_view_name": "LayoutView",
            "align_content": null,
            "align_items": null,
            "align_self": null,
            "border": null,
            "bottom": null,
            "display": null,
            "flex": null,
            "flex_flow": null,
            "grid_area": null,
            "grid_auto_columns": null,
            "grid_auto_flow": null,
            "grid_auto_rows": null,
            "grid_column": null,
            "grid_gap": null,
            "grid_row": null,
            "grid_template_areas": null,
            "grid_template_columns": null,
            "grid_template_rows": null,
            "height": null,
            "justify_content": null,
            "justify_items": null,
            "left": null,
            "margin": null,
            "max_height": null,
            "max_width": null,
            "min_height": null,
            "min_width": null,
            "object_fit": null,
            "object_position": null,
            "order": null,
            "overflow": null,
            "overflow_x": null,
            "overflow_y": null,
            "padding": null,
            "right": null,
            "top": null,
            "visibility": null,
            "width": null
          }
        },
        "80ddff7e0ead4c4ba88fd704e46da0dd": {
          "model_module": "@jupyter-widgets/controls",
          "model_name": "ProgressStyleModel",
          "model_module_version": "1.5.0",
          "state": {
            "_model_module": "@jupyter-widgets/controls",
            "_model_module_version": "1.5.0",
            "_model_name": "ProgressStyleModel",
            "_view_count": null,
            "_view_module": "@jupyter-widgets/base",
            "_view_module_version": "1.2.0",
            "_view_name": "StyleView",
            "bar_color": null,
            "description_width": ""
          }
        },
        "ea8b3d79e89347779d51fca887947695": {
          "model_module": "@jupyter-widgets/base",
          "model_name": "LayoutModel",
          "model_module_version": "1.2.0",
          "state": {
            "_model_module": "@jupyter-widgets/base",
            "_model_module_version": "1.2.0",
            "_model_name": "LayoutModel",
            "_view_count": null,
            "_view_module": "@jupyter-widgets/base",
            "_view_module_version": "1.2.0",
            "_view_name": "LayoutView",
            "align_content": null,
            "align_items": null,
            "align_self": null,
            "border": null,
            "bottom": null,
            "display": null,
            "flex": null,
            "flex_flow": null,
            "grid_area": null,
            "grid_auto_columns": null,
            "grid_auto_flow": null,
            "grid_auto_rows": null,
            "grid_column": null,
            "grid_gap": null,
            "grid_row": null,
            "grid_template_areas": null,
            "grid_template_columns": null,
            "grid_template_rows": null,
            "height": null,
            "justify_content": null,
            "justify_items": null,
            "left": null,
            "margin": null,
            "max_height": null,
            "max_width": null,
            "min_height": null,
            "min_width": null,
            "object_fit": null,
            "object_position": null,
            "order": null,
            "overflow": null,
            "overflow_x": null,
            "overflow_y": null,
            "padding": null,
            "right": null,
            "top": null,
            "visibility": null,
            "width": null
          }
        },
        "34b80be24ebd481ba958be858bd1db29": {
          "model_module": "@jupyter-widgets/controls",
          "model_name": "DescriptionStyleModel",
          "model_module_version": "1.5.0",
          "state": {
            "_model_module": "@jupyter-widgets/controls",
            "_model_module_version": "1.5.0",
            "_model_name": "DescriptionStyleModel",
            "_view_count": null,
            "_view_module": "@jupyter-widgets/base",
            "_view_module_version": "1.2.0",
            "_view_name": "StyleView",
            "description_width": ""
          }
        },
        "00c7482875db45729d8688ea14c7a8fb": {
          "model_module": "@jupyter-widgets/controls",
          "model_name": "HBoxModel",
          "model_module_version": "1.5.0",
          "state": {
            "_dom_classes": [],
            "_model_module": "@jupyter-widgets/controls",
            "_model_module_version": "1.5.0",
            "_model_name": "HBoxModel",
            "_view_count": null,
            "_view_module": "@jupyter-widgets/controls",
            "_view_module_version": "1.5.0",
            "_view_name": "HBoxView",
            "box_style": "",
            "children": [
              "IPY_MODEL_e23de0801c904db1b27b0230a2a4f6d3",
              "IPY_MODEL_a0eeb97ece0e4de99b03283850541681",
              "IPY_MODEL_97ffc64e24fc4c7baed8d63c59accffb"
            ],
            "layout": "IPY_MODEL_69e73ca173634eef8a1735a6c88faa03"
          }
        },
        "e23de0801c904db1b27b0230a2a4f6d3": {
          "model_module": "@jupyter-widgets/controls",
          "model_name": "HTMLModel",
          "model_module_version": "1.5.0",
          "state": {
            "_dom_classes": [],
            "_model_module": "@jupyter-widgets/controls",
            "_model_module_version": "1.5.0",
            "_model_name": "HTMLModel",
            "_view_count": null,
            "_view_module": "@jupyter-widgets/controls",
            "_view_module_version": "1.5.0",
            "_view_name": "HTMLView",
            "description": "",
            "description_tooltip": null,
            "layout": "IPY_MODEL_7964799b85304336ba70ba11d325405d",
            "placeholder": "​",
            "style": "IPY_MODEL_ed4fa33629104fbeac908e73a4971aaa",
            "value": "100%"
          }
        },
        "a0eeb97ece0e4de99b03283850541681": {
          "model_module": "@jupyter-widgets/controls",
          "model_name": "FloatProgressModel",
          "model_module_version": "1.5.0",
          "state": {
            "_dom_classes": [],
            "_model_module": "@jupyter-widgets/controls",
            "_model_module_version": "1.5.0",
            "_model_name": "FloatProgressModel",
            "_view_count": null,
            "_view_module": "@jupyter-widgets/controls",
            "_view_module_version": "1.5.0",
            "_view_name": "ProgressView",
            "bar_style": "success",
            "description": "",
            "description_tooltip": null,
            "layout": "IPY_MODEL_ade3116f12bd473b914c880e2be35259",
            "max": 5,
            "min": 0,
            "orientation": "horizontal",
            "style": "IPY_MODEL_d51f96d27bf6424c91f51ad378ddc0e6",
            "value": 5
          }
        },
        "97ffc64e24fc4c7baed8d63c59accffb": {
          "model_module": "@jupyter-widgets/controls",
          "model_name": "HTMLModel",
          "model_module_version": "1.5.0",
          "state": {
            "_dom_classes": [],
            "_model_module": "@jupyter-widgets/controls",
            "_model_module_version": "1.5.0",
            "_model_name": "HTMLModel",
            "_view_count": null,
            "_view_module": "@jupyter-widgets/controls",
            "_view_module_version": "1.5.0",
            "_view_name": "HTMLView",
            "description": "",
            "description_tooltip": null,
            "layout": "IPY_MODEL_252f90a15f1d436d850b0990e7c05d45",
            "placeholder": "​",
            "style": "IPY_MODEL_280f4ad74ef0464da37e4fb4df034a9d",
            "value": " 5/5 [00:00&lt;00:00, 153.63ba/s]"
          }
        },
        "69e73ca173634eef8a1735a6c88faa03": {
          "model_module": "@jupyter-widgets/base",
          "model_name": "LayoutModel",
          "model_module_version": "1.2.0",
          "state": {
            "_model_module": "@jupyter-widgets/base",
            "_model_module_version": "1.2.0",
            "_model_name": "LayoutModel",
            "_view_count": null,
            "_view_module": "@jupyter-widgets/base",
            "_view_module_version": "1.2.0",
            "_view_name": "LayoutView",
            "align_content": null,
            "align_items": null,
            "align_self": null,
            "border": null,
            "bottom": null,
            "display": null,
            "flex": null,
            "flex_flow": null,
            "grid_area": null,
            "grid_auto_columns": null,
            "grid_auto_flow": null,
            "grid_auto_rows": null,
            "grid_column": null,
            "grid_gap": null,
            "grid_row": null,
            "grid_template_areas": null,
            "grid_template_columns": null,
            "grid_template_rows": null,
            "height": null,
            "justify_content": null,
            "justify_items": null,
            "left": null,
            "margin": null,
            "max_height": null,
            "max_width": null,
            "min_height": null,
            "min_width": null,
            "object_fit": null,
            "object_position": null,
            "order": null,
            "overflow": null,
            "overflow_x": null,
            "overflow_y": null,
            "padding": null,
            "right": null,
            "top": null,
            "visibility": null,
            "width": null
          }
        },
        "7964799b85304336ba70ba11d325405d": {
          "model_module": "@jupyter-widgets/base",
          "model_name": "LayoutModel",
          "model_module_version": "1.2.0",
          "state": {
            "_model_module": "@jupyter-widgets/base",
            "_model_module_version": "1.2.0",
            "_model_name": "LayoutModel",
            "_view_count": null,
            "_view_module": "@jupyter-widgets/base",
            "_view_module_version": "1.2.0",
            "_view_name": "LayoutView",
            "align_content": null,
            "align_items": null,
            "align_self": null,
            "border": null,
            "bottom": null,
            "display": null,
            "flex": null,
            "flex_flow": null,
            "grid_area": null,
            "grid_auto_columns": null,
            "grid_auto_flow": null,
            "grid_auto_rows": null,
            "grid_column": null,
            "grid_gap": null,
            "grid_row": null,
            "grid_template_areas": null,
            "grid_template_columns": null,
            "grid_template_rows": null,
            "height": null,
            "justify_content": null,
            "justify_items": null,
            "left": null,
            "margin": null,
            "max_height": null,
            "max_width": null,
            "min_height": null,
            "min_width": null,
            "object_fit": null,
            "object_position": null,
            "order": null,
            "overflow": null,
            "overflow_x": null,
            "overflow_y": null,
            "padding": null,
            "right": null,
            "top": null,
            "visibility": null,
            "width": null
          }
        },
        "ed4fa33629104fbeac908e73a4971aaa": {
          "model_module": "@jupyter-widgets/controls",
          "model_name": "DescriptionStyleModel",
          "model_module_version": "1.5.0",
          "state": {
            "_model_module": "@jupyter-widgets/controls",
            "_model_module_version": "1.5.0",
            "_model_name": "DescriptionStyleModel",
            "_view_count": null,
            "_view_module": "@jupyter-widgets/base",
            "_view_module_version": "1.2.0",
            "_view_name": "StyleView",
            "description_width": ""
          }
        },
        "ade3116f12bd473b914c880e2be35259": {
          "model_module": "@jupyter-widgets/base",
          "model_name": "LayoutModel",
          "model_module_version": "1.2.0",
          "state": {
            "_model_module": "@jupyter-widgets/base",
            "_model_module_version": "1.2.0",
            "_model_name": "LayoutModel",
            "_view_count": null,
            "_view_module": "@jupyter-widgets/base",
            "_view_module_version": "1.2.0",
            "_view_name": "LayoutView",
            "align_content": null,
            "align_items": null,
            "align_self": null,
            "border": null,
            "bottom": null,
            "display": null,
            "flex": null,
            "flex_flow": null,
            "grid_area": null,
            "grid_auto_columns": null,
            "grid_auto_flow": null,
            "grid_auto_rows": null,
            "grid_column": null,
            "grid_gap": null,
            "grid_row": null,
            "grid_template_areas": null,
            "grid_template_columns": null,
            "grid_template_rows": null,
            "height": null,
            "justify_content": null,
            "justify_items": null,
            "left": null,
            "margin": null,
            "max_height": null,
            "max_width": null,
            "min_height": null,
            "min_width": null,
            "object_fit": null,
            "object_position": null,
            "order": null,
            "overflow": null,
            "overflow_x": null,
            "overflow_y": null,
            "padding": null,
            "right": null,
            "top": null,
            "visibility": null,
            "width": null
          }
        },
        "d51f96d27bf6424c91f51ad378ddc0e6": {
          "model_module": "@jupyter-widgets/controls",
          "model_name": "ProgressStyleModel",
          "model_module_version": "1.5.0",
          "state": {
            "_model_module": "@jupyter-widgets/controls",
            "_model_module_version": "1.5.0",
            "_model_name": "ProgressStyleModel",
            "_view_count": null,
            "_view_module": "@jupyter-widgets/base",
            "_view_module_version": "1.2.0",
            "_view_name": "StyleView",
            "bar_color": null,
            "description_width": ""
          }
        },
        "252f90a15f1d436d850b0990e7c05d45": {
          "model_module": "@jupyter-widgets/base",
          "model_name": "LayoutModel",
          "model_module_version": "1.2.0",
          "state": {
            "_model_module": "@jupyter-widgets/base",
            "_model_module_version": "1.2.0",
            "_model_name": "LayoutModel",
            "_view_count": null,
            "_view_module": "@jupyter-widgets/base",
            "_view_module_version": "1.2.0",
            "_view_name": "LayoutView",
            "align_content": null,
            "align_items": null,
            "align_self": null,
            "border": null,
            "bottom": null,
            "display": null,
            "flex": null,
            "flex_flow": null,
            "grid_area": null,
            "grid_auto_columns": null,
            "grid_auto_flow": null,
            "grid_auto_rows": null,
            "grid_column": null,
            "grid_gap": null,
            "grid_row": null,
            "grid_template_areas": null,
            "grid_template_columns": null,
            "grid_template_rows": null,
            "height": null,
            "justify_content": null,
            "justify_items": null,
            "left": null,
            "margin": null,
            "max_height": null,
            "max_width": null,
            "min_height": null,
            "min_width": null,
            "object_fit": null,
            "object_position": null,
            "order": null,
            "overflow": null,
            "overflow_x": null,
            "overflow_y": null,
            "padding": null,
            "right": null,
            "top": null,
            "visibility": null,
            "width": null
          }
        },
        "280f4ad74ef0464da37e4fb4df034a9d": {
          "model_module": "@jupyter-widgets/controls",
          "model_name": "DescriptionStyleModel",
          "model_module_version": "1.5.0",
          "state": {
            "_model_module": "@jupyter-widgets/controls",
            "_model_module_version": "1.5.0",
            "_model_name": "DescriptionStyleModel",
            "_view_count": null,
            "_view_module": "@jupyter-widgets/base",
            "_view_module_version": "1.2.0",
            "_view_name": "StyleView",
            "description_width": ""
          }
        },
        "b09fcf8300b3403f9867ca42f8b47b53": {
          "model_module": "@jupyter-widgets/controls",
          "model_name": "HBoxModel",
          "model_module_version": "1.5.0",
          "state": {
            "_dom_classes": [],
            "_model_module": "@jupyter-widgets/controls",
            "_model_module_version": "1.5.0",
            "_model_name": "HBoxModel",
            "_view_count": null,
            "_view_module": "@jupyter-widgets/controls",
            "_view_module_version": "1.5.0",
            "_view_name": "HBoxView",
            "box_style": "",
            "children": [
              "IPY_MODEL_17b5b7aee2c74d2b81299e21603cd540",
              "IPY_MODEL_5e5141ce115843d582a6bc38d3e9f463",
              "IPY_MODEL_71ca185b97a74b409352dec53e15a884"
            ],
            "layout": "IPY_MODEL_2f1537c747604890850cebad71e70959"
          }
        },
        "17b5b7aee2c74d2b81299e21603cd540": {
          "model_module": "@jupyter-widgets/controls",
          "model_name": "HTMLModel",
          "model_module_version": "1.5.0",
          "state": {
            "_dom_classes": [],
            "_model_module": "@jupyter-widgets/controls",
            "_model_module_version": "1.5.0",
            "_model_name": "HTMLModel",
            "_view_count": null,
            "_view_module": "@jupyter-widgets/controls",
            "_view_module_version": "1.5.0",
            "_view_name": "HTMLView",
            "description": "",
            "description_tooltip": null,
            "layout": "IPY_MODEL_bef88aa796b04bb0b0c9cacc1ecf8784",
            "placeholder": "​",
            "style": "IPY_MODEL_7e2c9843b52249e4977fcc5345d5f1e8",
            "value": "100%"
          }
        },
        "5e5141ce115843d582a6bc38d3e9f463": {
          "model_module": "@jupyter-widgets/controls",
          "model_name": "FloatProgressModel",
          "model_module_version": "1.5.0",
          "state": {
            "_dom_classes": [],
            "_model_module": "@jupyter-widgets/controls",
            "_model_module_version": "1.5.0",
            "_model_name": "FloatProgressModel",
            "_view_count": null,
            "_view_module": "@jupyter-widgets/controls",
            "_view_module_version": "1.5.0",
            "_view_name": "ProgressView",
            "bar_style": "success",
            "description": "",
            "description_tooltip": null,
            "layout": "IPY_MODEL_4fdf3a6fdacb47d3af3e44b8158ec8a8",
            "max": 2,
            "min": 0,
            "orientation": "horizontal",
            "style": "IPY_MODEL_4bec4bf1667a4b9ca32101c89d95b86e",
            "value": 2
          }
        },
        "71ca185b97a74b409352dec53e15a884": {
          "model_module": "@jupyter-widgets/controls",
          "model_name": "HTMLModel",
          "model_module_version": "1.5.0",
          "state": {
            "_dom_classes": [],
            "_model_module": "@jupyter-widgets/controls",
            "_model_module_version": "1.5.0",
            "_model_name": "HTMLModel",
            "_view_count": null,
            "_view_module": "@jupyter-widgets/controls",
            "_view_module_version": "1.5.0",
            "_view_name": "HTMLView",
            "description": "",
            "description_tooltip": null,
            "layout": "IPY_MODEL_7386098d8b41498f893ad4766f28505a",
            "placeholder": "​",
            "style": "IPY_MODEL_b157a61721f7460392e7f75f58e259fd",
            "value": " 2/2 [00:00&lt;00:00, 70.45it/s]"
          }
        },
        "2f1537c747604890850cebad71e70959": {
          "model_module": "@jupyter-widgets/base",
          "model_name": "LayoutModel",
          "model_module_version": "1.2.0",
          "state": {
            "_model_module": "@jupyter-widgets/base",
            "_model_module_version": "1.2.0",
            "_model_name": "LayoutModel",
            "_view_count": null,
            "_view_module": "@jupyter-widgets/base",
            "_view_module_version": "1.2.0",
            "_view_name": "LayoutView",
            "align_content": null,
            "align_items": null,
            "align_self": null,
            "border": null,
            "bottom": null,
            "display": null,
            "flex": null,
            "flex_flow": null,
            "grid_area": null,
            "grid_auto_columns": null,
            "grid_auto_flow": null,
            "grid_auto_rows": null,
            "grid_column": null,
            "grid_gap": null,
            "grid_row": null,
            "grid_template_areas": null,
            "grid_template_columns": null,
            "grid_template_rows": null,
            "height": null,
            "justify_content": null,
            "justify_items": null,
            "left": null,
            "margin": null,
            "max_height": null,
            "max_width": null,
            "min_height": null,
            "min_width": null,
            "object_fit": null,
            "object_position": null,
            "order": null,
            "overflow": null,
            "overflow_x": null,
            "overflow_y": null,
            "padding": null,
            "right": null,
            "top": null,
            "visibility": null,
            "width": null
          }
        },
        "bef88aa796b04bb0b0c9cacc1ecf8784": {
          "model_module": "@jupyter-widgets/base",
          "model_name": "LayoutModel",
          "model_module_version": "1.2.0",
          "state": {
            "_model_module": "@jupyter-widgets/base",
            "_model_module_version": "1.2.0",
            "_model_name": "LayoutModel",
            "_view_count": null,
            "_view_module": "@jupyter-widgets/base",
            "_view_module_version": "1.2.0",
            "_view_name": "LayoutView",
            "align_content": null,
            "align_items": null,
            "align_self": null,
            "border": null,
            "bottom": null,
            "display": null,
            "flex": null,
            "flex_flow": null,
            "grid_area": null,
            "grid_auto_columns": null,
            "grid_auto_flow": null,
            "grid_auto_rows": null,
            "grid_column": null,
            "grid_gap": null,
            "grid_row": null,
            "grid_template_areas": null,
            "grid_template_columns": null,
            "grid_template_rows": null,
            "height": null,
            "justify_content": null,
            "justify_items": null,
            "left": null,
            "margin": null,
            "max_height": null,
            "max_width": null,
            "min_height": null,
            "min_width": null,
            "object_fit": null,
            "object_position": null,
            "order": null,
            "overflow": null,
            "overflow_x": null,
            "overflow_y": null,
            "padding": null,
            "right": null,
            "top": null,
            "visibility": null,
            "width": null
          }
        },
        "7e2c9843b52249e4977fcc5345d5f1e8": {
          "model_module": "@jupyter-widgets/controls",
          "model_name": "DescriptionStyleModel",
          "model_module_version": "1.5.0",
          "state": {
            "_model_module": "@jupyter-widgets/controls",
            "_model_module_version": "1.5.0",
            "_model_name": "DescriptionStyleModel",
            "_view_count": null,
            "_view_module": "@jupyter-widgets/base",
            "_view_module_version": "1.2.0",
            "_view_name": "StyleView",
            "description_width": ""
          }
        },
        "4fdf3a6fdacb47d3af3e44b8158ec8a8": {
          "model_module": "@jupyter-widgets/base",
          "model_name": "LayoutModel",
          "model_module_version": "1.2.0",
          "state": {
            "_model_module": "@jupyter-widgets/base",
            "_model_module_version": "1.2.0",
            "_model_name": "LayoutModel",
            "_view_count": null,
            "_view_module": "@jupyter-widgets/base",
            "_view_module_version": "1.2.0",
            "_view_name": "LayoutView",
            "align_content": null,
            "align_items": null,
            "align_self": null,
            "border": null,
            "bottom": null,
            "display": null,
            "flex": null,
            "flex_flow": null,
            "grid_area": null,
            "grid_auto_columns": null,
            "grid_auto_flow": null,
            "grid_auto_rows": null,
            "grid_column": null,
            "grid_gap": null,
            "grid_row": null,
            "grid_template_areas": null,
            "grid_template_columns": null,
            "grid_template_rows": null,
            "height": null,
            "justify_content": null,
            "justify_items": null,
            "left": null,
            "margin": null,
            "max_height": null,
            "max_width": null,
            "min_height": null,
            "min_width": null,
            "object_fit": null,
            "object_position": null,
            "order": null,
            "overflow": null,
            "overflow_x": null,
            "overflow_y": null,
            "padding": null,
            "right": null,
            "top": null,
            "visibility": null,
            "width": null
          }
        },
        "4bec4bf1667a4b9ca32101c89d95b86e": {
          "model_module": "@jupyter-widgets/controls",
          "model_name": "ProgressStyleModel",
          "model_module_version": "1.5.0",
          "state": {
            "_model_module": "@jupyter-widgets/controls",
            "_model_module_version": "1.5.0",
            "_model_name": "ProgressStyleModel",
            "_view_count": null,
            "_view_module": "@jupyter-widgets/base",
            "_view_module_version": "1.2.0",
            "_view_name": "StyleView",
            "bar_color": null,
            "description_width": ""
          }
        },
        "7386098d8b41498f893ad4766f28505a": {
          "model_module": "@jupyter-widgets/base",
          "model_name": "LayoutModel",
          "model_module_version": "1.2.0",
          "state": {
            "_model_module": "@jupyter-widgets/base",
            "_model_module_version": "1.2.0",
            "_model_name": "LayoutModel",
            "_view_count": null,
            "_view_module": "@jupyter-widgets/base",
            "_view_module_version": "1.2.0",
            "_view_name": "LayoutView",
            "align_content": null,
            "align_items": null,
            "align_self": null,
            "border": null,
            "bottom": null,
            "display": null,
            "flex": null,
            "flex_flow": null,
            "grid_area": null,
            "grid_auto_columns": null,
            "grid_auto_flow": null,
            "grid_auto_rows": null,
            "grid_column": null,
            "grid_gap": null,
            "grid_row": null,
            "grid_template_areas": null,
            "grid_template_columns": null,
            "grid_template_rows": null,
            "height": null,
            "justify_content": null,
            "justify_items": null,
            "left": null,
            "margin": null,
            "max_height": null,
            "max_width": null,
            "min_height": null,
            "min_width": null,
            "object_fit": null,
            "object_position": null,
            "order": null,
            "overflow": null,
            "overflow_x": null,
            "overflow_y": null,
            "padding": null,
            "right": null,
            "top": null,
            "visibility": null,
            "width": null
          }
        },
        "b157a61721f7460392e7f75f58e259fd": {
          "model_module": "@jupyter-widgets/controls",
          "model_name": "DescriptionStyleModel",
          "model_module_version": "1.5.0",
          "state": {
            "_model_module": "@jupyter-widgets/controls",
            "_model_module_version": "1.5.0",
            "_model_name": "DescriptionStyleModel",
            "_view_count": null,
            "_view_module": "@jupyter-widgets/base",
            "_view_module_version": "1.2.0",
            "_view_name": "StyleView",
            "description_width": ""
          }
        },
        "f0712463ef2543ccadd351e00b4a0f56": {
          "model_module": "@jupyter-widgets/controls",
          "model_name": "HBoxModel",
          "model_module_version": "1.5.0",
          "state": {
            "_dom_classes": [],
            "_model_module": "@jupyter-widgets/controls",
            "_model_module_version": "1.5.0",
            "_model_name": "HBoxModel",
            "_view_count": null,
            "_view_module": "@jupyter-widgets/controls",
            "_view_module_version": "1.5.0",
            "_view_name": "HBoxView",
            "box_style": "",
            "children": [
              "IPY_MODEL_000e89b861ed4bab8bcdcf8d5e1a299f",
              "IPY_MODEL_b25adee92dbb447485be966c129d784d",
              "IPY_MODEL_81582324dcb84f1dbb5dfa66debca85b"
            ],
            "layout": "IPY_MODEL_b12ae66c2ebe43fba56e4759e5c4a907"
          }
        },
        "000e89b861ed4bab8bcdcf8d5e1a299f": {
          "model_module": "@jupyter-widgets/controls",
          "model_name": "HTMLModel",
          "model_module_version": "1.5.0",
          "state": {
            "_dom_classes": [],
            "_model_module": "@jupyter-widgets/controls",
            "_model_module_version": "1.5.0",
            "_model_name": "HTMLModel",
            "_view_count": null,
            "_view_module": "@jupyter-widgets/controls",
            "_view_module_version": "1.5.0",
            "_view_name": "HTMLView",
            "description": "",
            "description_tooltip": null,
            "layout": "IPY_MODEL_0835e1b4c6cc4879b99ff934c182781c",
            "placeholder": "​",
            "style": "IPY_MODEL_c0622b61760540339f91743036b1a0e7",
            "value": ""
          }
        },
        "b25adee92dbb447485be966c129d784d": {
          "model_module": "@jupyter-widgets/controls",
          "model_name": "FloatProgressModel",
          "model_module_version": "1.5.0",
          "state": {
            "_dom_classes": [],
            "_model_module": "@jupyter-widgets/controls",
            "_model_module_version": "1.5.0",
            "_model_name": "FloatProgressModel",
            "_view_count": null,
            "_view_module": "@jupyter-widgets/controls",
            "_view_module_version": "1.5.0",
            "_view_name": "ProgressView",
            "bar_style": "success",
            "description": "",
            "description_tooltip": null,
            "layout": "IPY_MODEL_0f07927a7fee4bad8dbd8488427661b4",
            "max": 1,
            "min": 0,
            "orientation": "horizontal",
            "style": "IPY_MODEL_c3fd51519c2a4526969d2ebfe30d4847",
            "value": 1
          }
        },
        "81582324dcb84f1dbb5dfa66debca85b": {
          "model_module": "@jupyter-widgets/controls",
          "model_name": "HTMLModel",
          "model_module_version": "1.5.0",
          "state": {
            "_dom_classes": [],
            "_model_module": "@jupyter-widgets/controls",
            "_model_module_version": "1.5.0",
            "_model_name": "HTMLModel",
            "_view_count": null,
            "_view_module": "@jupyter-widgets/controls",
            "_view_module_version": "1.5.0",
            "_view_name": "HTMLView",
            "description": "",
            "description_tooltip": null,
            "layout": "IPY_MODEL_f675bdb3a2234721b9c3c849088e7f69",
            "placeholder": "​",
            "style": "IPY_MODEL_03672f20d9a8436dbf1a32801b74ebe9",
            "value": " 4620/? [00:31&lt;00:00, 388.87ex/s]"
          }
        },
        "b12ae66c2ebe43fba56e4759e5c4a907": {
          "model_module": "@jupyter-widgets/base",
          "model_name": "LayoutModel",
          "model_module_version": "1.2.0",
          "state": {
            "_model_module": "@jupyter-widgets/base",
            "_model_module_version": "1.2.0",
            "_model_name": "LayoutModel",
            "_view_count": null,
            "_view_module": "@jupyter-widgets/base",
            "_view_module_version": "1.2.0",
            "_view_name": "LayoutView",
            "align_content": null,
            "align_items": null,
            "align_self": null,
            "border": null,
            "bottom": null,
            "display": null,
            "flex": null,
            "flex_flow": null,
            "grid_area": null,
            "grid_auto_columns": null,
            "grid_auto_flow": null,
            "grid_auto_rows": null,
            "grid_column": null,
            "grid_gap": null,
            "grid_row": null,
            "grid_template_areas": null,
            "grid_template_columns": null,
            "grid_template_rows": null,
            "height": null,
            "justify_content": null,
            "justify_items": null,
            "left": null,
            "margin": null,
            "max_height": null,
            "max_width": null,
            "min_height": null,
            "min_width": null,
            "object_fit": null,
            "object_position": null,
            "order": null,
            "overflow": null,
            "overflow_x": null,
            "overflow_y": null,
            "padding": null,
            "right": null,
            "top": null,
            "visibility": null,
            "width": null
          }
        },
        "0835e1b4c6cc4879b99ff934c182781c": {
          "model_module": "@jupyter-widgets/base",
          "model_name": "LayoutModel",
          "model_module_version": "1.2.0",
          "state": {
            "_model_module": "@jupyter-widgets/base",
            "_model_module_version": "1.2.0",
            "_model_name": "LayoutModel",
            "_view_count": null,
            "_view_module": "@jupyter-widgets/base",
            "_view_module_version": "1.2.0",
            "_view_name": "LayoutView",
            "align_content": null,
            "align_items": null,
            "align_self": null,
            "border": null,
            "bottom": null,
            "display": null,
            "flex": null,
            "flex_flow": null,
            "grid_area": null,
            "grid_auto_columns": null,
            "grid_auto_flow": null,
            "grid_auto_rows": null,
            "grid_column": null,
            "grid_gap": null,
            "grid_row": null,
            "grid_template_areas": null,
            "grid_template_columns": null,
            "grid_template_rows": null,
            "height": null,
            "justify_content": null,
            "justify_items": null,
            "left": null,
            "margin": null,
            "max_height": null,
            "max_width": null,
            "min_height": null,
            "min_width": null,
            "object_fit": null,
            "object_position": null,
            "order": null,
            "overflow": null,
            "overflow_x": null,
            "overflow_y": null,
            "padding": null,
            "right": null,
            "top": null,
            "visibility": null,
            "width": null
          }
        },
        "c0622b61760540339f91743036b1a0e7": {
          "model_module": "@jupyter-widgets/controls",
          "model_name": "DescriptionStyleModel",
          "model_module_version": "1.5.0",
          "state": {
            "_model_module": "@jupyter-widgets/controls",
            "_model_module_version": "1.5.0",
            "_model_name": "DescriptionStyleModel",
            "_view_count": null,
            "_view_module": "@jupyter-widgets/base",
            "_view_module_version": "1.2.0",
            "_view_name": "StyleView",
            "description_width": ""
          }
        },
        "0f07927a7fee4bad8dbd8488427661b4": {
          "model_module": "@jupyter-widgets/base",
          "model_name": "LayoutModel",
          "model_module_version": "1.2.0",
          "state": {
            "_model_module": "@jupyter-widgets/base",
            "_model_module_version": "1.2.0",
            "_model_name": "LayoutModel",
            "_view_count": null,
            "_view_module": "@jupyter-widgets/base",
            "_view_module_version": "1.2.0",
            "_view_name": "LayoutView",
            "align_content": null,
            "align_items": null,
            "align_self": null,
            "border": null,
            "bottom": null,
            "display": null,
            "flex": null,
            "flex_flow": null,
            "grid_area": null,
            "grid_auto_columns": null,
            "grid_auto_flow": null,
            "grid_auto_rows": null,
            "grid_column": null,
            "grid_gap": null,
            "grid_row": null,
            "grid_template_areas": null,
            "grid_template_columns": null,
            "grid_template_rows": null,
            "height": null,
            "justify_content": null,
            "justify_items": null,
            "left": null,
            "margin": null,
            "max_height": null,
            "max_width": null,
            "min_height": null,
            "min_width": null,
            "object_fit": null,
            "object_position": null,
            "order": null,
            "overflow": null,
            "overflow_x": null,
            "overflow_y": null,
            "padding": null,
            "right": null,
            "top": null,
            "visibility": null,
            "width": "20px"
          }
        },
        "c3fd51519c2a4526969d2ebfe30d4847": {
          "model_module": "@jupyter-widgets/controls",
          "model_name": "ProgressStyleModel",
          "model_module_version": "1.5.0",
          "state": {
            "_model_module": "@jupyter-widgets/controls",
            "_model_module_version": "1.5.0",
            "_model_name": "ProgressStyleModel",
            "_view_count": null,
            "_view_module": "@jupyter-widgets/base",
            "_view_module_version": "1.2.0",
            "_view_name": "StyleView",
            "bar_color": null,
            "description_width": ""
          }
        },
        "f675bdb3a2234721b9c3c849088e7f69": {
          "model_module": "@jupyter-widgets/base",
          "model_name": "LayoutModel",
          "model_module_version": "1.2.0",
          "state": {
            "_model_module": "@jupyter-widgets/base",
            "_model_module_version": "1.2.0",
            "_model_name": "LayoutModel",
            "_view_count": null,
            "_view_module": "@jupyter-widgets/base",
            "_view_module_version": "1.2.0",
            "_view_name": "LayoutView",
            "align_content": null,
            "align_items": null,
            "align_self": null,
            "border": null,
            "bottom": null,
            "display": null,
            "flex": null,
            "flex_flow": null,
            "grid_area": null,
            "grid_auto_columns": null,
            "grid_auto_flow": null,
            "grid_auto_rows": null,
            "grid_column": null,
            "grid_gap": null,
            "grid_row": null,
            "grid_template_areas": null,
            "grid_template_columns": null,
            "grid_template_rows": null,
            "height": null,
            "justify_content": null,
            "justify_items": null,
            "left": null,
            "margin": null,
            "max_height": null,
            "max_width": null,
            "min_height": null,
            "min_width": null,
            "object_fit": null,
            "object_position": null,
            "order": null,
            "overflow": null,
            "overflow_x": null,
            "overflow_y": null,
            "padding": null,
            "right": null,
            "top": null,
            "visibility": null,
            "width": null
          }
        },
        "03672f20d9a8436dbf1a32801b74ebe9": {
          "model_module": "@jupyter-widgets/controls",
          "model_name": "DescriptionStyleModel",
          "model_module_version": "1.5.0",
          "state": {
            "_model_module": "@jupyter-widgets/controls",
            "_model_module_version": "1.5.0",
            "_model_name": "DescriptionStyleModel",
            "_view_count": null,
            "_view_module": "@jupyter-widgets/base",
            "_view_module_version": "1.2.0",
            "_view_name": "StyleView",
            "description_width": ""
          }
        },
        "7df3053c550c47d2911f10841cd1bef7": {
          "model_module": "@jupyter-widgets/controls",
          "model_name": "HBoxModel",
          "model_module_version": "1.5.0",
          "state": {
            "_dom_classes": [],
            "_model_module": "@jupyter-widgets/controls",
            "_model_module_version": "1.5.0",
            "_model_name": "HBoxModel",
            "_view_count": null,
            "_view_module": "@jupyter-widgets/controls",
            "_view_module_version": "1.5.0",
            "_view_name": "HBoxView",
            "box_style": "",
            "children": [
              "IPY_MODEL_d82b32e01a4a4433bf3ead3213ff064b",
              "IPY_MODEL_5096fa50af274e968a438c7c27a82798",
              "IPY_MODEL_62bb337c55754a27bc3b67e34cde300f"
            ],
            "layout": "IPY_MODEL_a5330e76f3454321a584276a3455f7bd"
          }
        },
        "d82b32e01a4a4433bf3ead3213ff064b": {
          "model_module": "@jupyter-widgets/controls",
          "model_name": "HTMLModel",
          "model_module_version": "1.5.0",
          "state": {
            "_dom_classes": [],
            "_model_module": "@jupyter-widgets/controls",
            "_model_module_version": "1.5.0",
            "_model_name": "HTMLModel",
            "_view_count": null,
            "_view_module": "@jupyter-widgets/controls",
            "_view_module_version": "1.5.0",
            "_view_name": "HTMLView",
            "description": "",
            "description_tooltip": null,
            "layout": "IPY_MODEL_0c66ab6e17bf499aa026832fafabeda1",
            "placeholder": "​",
            "style": "IPY_MODEL_8caef142837d41d18125b8127ed45f0a",
            "value": ""
          }
        },
        "5096fa50af274e968a438c7c27a82798": {
          "model_module": "@jupyter-widgets/controls",
          "model_name": "FloatProgressModel",
          "model_module_version": "1.5.0",
          "state": {
            "_dom_classes": [],
            "_model_module": "@jupyter-widgets/controls",
            "_model_module_version": "1.5.0",
            "_model_name": "FloatProgressModel",
            "_view_count": null,
            "_view_module": "@jupyter-widgets/controls",
            "_view_module_version": "1.5.0",
            "_view_name": "ProgressView",
            "bar_style": "success",
            "description": "",
            "description_tooltip": null,
            "layout": "IPY_MODEL_0ba401da4c1345c0a7728c25990a0388",
            "max": 1,
            "min": 0,
            "orientation": "horizontal",
            "style": "IPY_MODEL_8f41cd1382dc43f8992865df3d44d97e",
            "value": 1
          }
        },
        "62bb337c55754a27bc3b67e34cde300f": {
          "model_module": "@jupyter-widgets/controls",
          "model_name": "HTMLModel",
          "model_module_version": "1.5.0",
          "state": {
            "_dom_classes": [],
            "_model_module": "@jupyter-widgets/controls",
            "_model_module_version": "1.5.0",
            "_model_name": "HTMLModel",
            "_view_count": null,
            "_view_module": "@jupyter-widgets/controls",
            "_view_module_version": "1.5.0",
            "_view_name": "HTMLView",
            "description": "",
            "description_tooltip": null,
            "layout": "IPY_MODEL_ee704dff0eae407cae2bc3b6d3d326ce",
            "placeholder": "​",
            "style": "IPY_MODEL_2175d9abe5ab4b40924868086b58e056",
            "value": " 1680/? [00:07&lt;00:00, 397.18ex/s]"
          }
        },
        "a5330e76f3454321a584276a3455f7bd": {
          "model_module": "@jupyter-widgets/base",
          "model_name": "LayoutModel",
          "model_module_version": "1.2.0",
          "state": {
            "_model_module": "@jupyter-widgets/base",
            "_model_module_version": "1.2.0",
            "_model_name": "LayoutModel",
            "_view_count": null,
            "_view_module": "@jupyter-widgets/base",
            "_view_module_version": "1.2.0",
            "_view_name": "LayoutView",
            "align_content": null,
            "align_items": null,
            "align_self": null,
            "border": null,
            "bottom": null,
            "display": null,
            "flex": null,
            "flex_flow": null,
            "grid_area": null,
            "grid_auto_columns": null,
            "grid_auto_flow": null,
            "grid_auto_rows": null,
            "grid_column": null,
            "grid_gap": null,
            "grid_row": null,
            "grid_template_areas": null,
            "grid_template_columns": null,
            "grid_template_rows": null,
            "height": null,
            "justify_content": null,
            "justify_items": null,
            "left": null,
            "margin": null,
            "max_height": null,
            "max_width": null,
            "min_height": null,
            "min_width": null,
            "object_fit": null,
            "object_position": null,
            "order": null,
            "overflow": null,
            "overflow_x": null,
            "overflow_y": null,
            "padding": null,
            "right": null,
            "top": null,
            "visibility": null,
            "width": null
          }
        },
        "0c66ab6e17bf499aa026832fafabeda1": {
          "model_module": "@jupyter-widgets/base",
          "model_name": "LayoutModel",
          "model_module_version": "1.2.0",
          "state": {
            "_model_module": "@jupyter-widgets/base",
            "_model_module_version": "1.2.0",
            "_model_name": "LayoutModel",
            "_view_count": null,
            "_view_module": "@jupyter-widgets/base",
            "_view_module_version": "1.2.0",
            "_view_name": "LayoutView",
            "align_content": null,
            "align_items": null,
            "align_self": null,
            "border": null,
            "bottom": null,
            "display": null,
            "flex": null,
            "flex_flow": null,
            "grid_area": null,
            "grid_auto_columns": null,
            "grid_auto_flow": null,
            "grid_auto_rows": null,
            "grid_column": null,
            "grid_gap": null,
            "grid_row": null,
            "grid_template_areas": null,
            "grid_template_columns": null,
            "grid_template_rows": null,
            "height": null,
            "justify_content": null,
            "justify_items": null,
            "left": null,
            "margin": null,
            "max_height": null,
            "max_width": null,
            "min_height": null,
            "min_width": null,
            "object_fit": null,
            "object_position": null,
            "order": null,
            "overflow": null,
            "overflow_x": null,
            "overflow_y": null,
            "padding": null,
            "right": null,
            "top": null,
            "visibility": null,
            "width": null
          }
        },
        "8caef142837d41d18125b8127ed45f0a": {
          "model_module": "@jupyter-widgets/controls",
          "model_name": "DescriptionStyleModel",
          "model_module_version": "1.5.0",
          "state": {
            "_model_module": "@jupyter-widgets/controls",
            "_model_module_version": "1.5.0",
            "_model_name": "DescriptionStyleModel",
            "_view_count": null,
            "_view_module": "@jupyter-widgets/base",
            "_view_module_version": "1.2.0",
            "_view_name": "StyleView",
            "description_width": ""
          }
        },
        "0ba401da4c1345c0a7728c25990a0388": {
          "model_module": "@jupyter-widgets/base",
          "model_name": "LayoutModel",
          "model_module_version": "1.2.0",
          "state": {
            "_model_module": "@jupyter-widgets/base",
            "_model_module_version": "1.2.0",
            "_model_name": "LayoutModel",
            "_view_count": null,
            "_view_module": "@jupyter-widgets/base",
            "_view_module_version": "1.2.0",
            "_view_name": "LayoutView",
            "align_content": null,
            "align_items": null,
            "align_self": null,
            "border": null,
            "bottom": null,
            "display": null,
            "flex": null,
            "flex_flow": null,
            "grid_area": null,
            "grid_auto_columns": null,
            "grid_auto_flow": null,
            "grid_auto_rows": null,
            "grid_column": null,
            "grid_gap": null,
            "grid_row": null,
            "grid_template_areas": null,
            "grid_template_columns": null,
            "grid_template_rows": null,
            "height": null,
            "justify_content": null,
            "justify_items": null,
            "left": null,
            "margin": null,
            "max_height": null,
            "max_width": null,
            "min_height": null,
            "min_width": null,
            "object_fit": null,
            "object_position": null,
            "order": null,
            "overflow": null,
            "overflow_x": null,
            "overflow_y": null,
            "padding": null,
            "right": null,
            "top": null,
            "visibility": null,
            "width": "20px"
          }
        },
        "8f41cd1382dc43f8992865df3d44d97e": {
          "model_module": "@jupyter-widgets/controls",
          "model_name": "ProgressStyleModel",
          "model_module_version": "1.5.0",
          "state": {
            "_model_module": "@jupyter-widgets/controls",
            "_model_module_version": "1.5.0",
            "_model_name": "ProgressStyleModel",
            "_view_count": null,
            "_view_module": "@jupyter-widgets/base",
            "_view_module_version": "1.2.0",
            "_view_name": "StyleView",
            "bar_color": null,
            "description_width": ""
          }
        },
        "ee704dff0eae407cae2bc3b6d3d326ce": {
          "model_module": "@jupyter-widgets/base",
          "model_name": "LayoutModel",
          "model_module_version": "1.2.0",
          "state": {
            "_model_module": "@jupyter-widgets/base",
            "_model_module_version": "1.2.0",
            "_model_name": "LayoutModel",
            "_view_count": null,
            "_view_module": "@jupyter-widgets/base",
            "_view_module_version": "1.2.0",
            "_view_name": "LayoutView",
            "align_content": null,
            "align_items": null,
            "align_self": null,
            "border": null,
            "bottom": null,
            "display": null,
            "flex": null,
            "flex_flow": null,
            "grid_area": null,
            "grid_auto_columns": null,
            "grid_auto_flow": null,
            "grid_auto_rows": null,
            "grid_column": null,
            "grid_gap": null,
            "grid_row": null,
            "grid_template_areas": null,
            "grid_template_columns": null,
            "grid_template_rows": null,
            "height": null,
            "justify_content": null,
            "justify_items": null,
            "left": null,
            "margin": null,
            "max_height": null,
            "max_width": null,
            "min_height": null,
            "min_width": null,
            "object_fit": null,
            "object_position": null,
            "order": null,
            "overflow": null,
            "overflow_x": null,
            "overflow_y": null,
            "padding": null,
            "right": null,
            "top": null,
            "visibility": null,
            "width": null
          }
        },
        "2175d9abe5ab4b40924868086b58e056": {
          "model_module": "@jupyter-widgets/controls",
          "model_name": "DescriptionStyleModel",
          "model_module_version": "1.5.0",
          "state": {
            "_model_module": "@jupyter-widgets/controls",
            "_model_module_version": "1.5.0",
            "_model_name": "DescriptionStyleModel",
            "_view_count": null,
            "_view_module": "@jupyter-widgets/base",
            "_view_module_version": "1.2.0",
            "_view_name": "StyleView",
            "description_width": ""
          }
        },
        "9a11f7e8bcce49a88af5c9981c515dbd": {
          "model_module": "@jupyter-widgets/controls",
          "model_name": "HBoxModel",
          "model_module_version": "1.5.0",
          "state": {
            "_dom_classes": [],
            "_model_module": "@jupyter-widgets/controls",
            "_model_module_version": "1.5.0",
            "_model_name": "HBoxModel",
            "_view_count": null,
            "_view_module": "@jupyter-widgets/controls",
            "_view_module_version": "1.5.0",
            "_view_name": "HBoxView",
            "box_style": "",
            "children": [
              "IPY_MODEL_b145e6ce221346568e15d1a467b00a17",
              "IPY_MODEL_0a9ba58f30fb445db8b6e6a8a90ce175",
              "IPY_MODEL_2e6c90b17a09419da2bc68fadbc8b3e2"
            ],
            "layout": "IPY_MODEL_4e385a55b190412e94cb1df94b8b6319"
          }
        },
        "b145e6ce221346568e15d1a467b00a17": {
          "model_module": "@jupyter-widgets/controls",
          "model_name": "HTMLModel",
          "model_module_version": "1.5.0",
          "state": {
            "_dom_classes": [],
            "_model_module": "@jupyter-widgets/controls",
            "_model_module_version": "1.5.0",
            "_model_name": "HTMLModel",
            "_view_count": null,
            "_view_module": "@jupyter-widgets/controls",
            "_view_module_version": "1.5.0",
            "_view_name": "HTMLView",
            "description": "",
            "description_tooltip": null,
            "layout": "IPY_MODEL_7cc6df540b384193a22b68c2d46afd83",
            "placeholder": "​",
            "style": "IPY_MODEL_57b37d46b2354924a309ce88b82eecb9",
            "value": ""
          }
        },
        "0a9ba58f30fb445db8b6e6a8a90ce175": {
          "model_module": "@jupyter-widgets/controls",
          "model_name": "FloatProgressModel",
          "model_module_version": "1.5.0",
          "state": {
            "_dom_classes": [],
            "_model_module": "@jupyter-widgets/controls",
            "_model_module_version": "1.5.0",
            "_model_name": "FloatProgressModel",
            "_view_count": null,
            "_view_module": "@jupyter-widgets/controls",
            "_view_module_version": "1.5.0",
            "_view_name": "ProgressView",
            "bar_style": "success",
            "description": "",
            "description_tooltip": null,
            "layout": "IPY_MODEL_d0b413a6646249e38e67aecc9be70071",
            "max": 1,
            "min": 0,
            "orientation": "horizontal",
            "style": "IPY_MODEL_a79f582bcd4844bb9d2e0762ea490d01",
            "value": 1
          }
        },
        "2e6c90b17a09419da2bc68fadbc8b3e2": {
          "model_module": "@jupyter-widgets/controls",
          "model_name": "HTMLModel",
          "model_module_version": "1.5.0",
          "state": {
            "_dom_classes": [],
            "_model_module": "@jupyter-widgets/controls",
            "_model_module_version": "1.5.0",
            "_model_name": "HTMLModel",
            "_view_count": null,
            "_view_module": "@jupyter-widgets/controls",
            "_view_module_version": "1.5.0",
            "_view_name": "HTMLView",
            "description": "",
            "description_tooltip": null,
            "layout": "IPY_MODEL_68b4283f85df45d7941c0e4e643aa49c",
            "placeholder": "​",
            "style": "IPY_MODEL_d3e3266987ff4ad0b819a169eab4f1fa",
            "value": " 5/? [00:00&lt;00:00,  7.29ex/s]"
          }
        },
        "4e385a55b190412e94cb1df94b8b6319": {
          "model_module": "@jupyter-widgets/base",
          "model_name": "LayoutModel",
          "model_module_version": "1.2.0",
          "state": {
            "_model_module": "@jupyter-widgets/base",
            "_model_module_version": "1.2.0",
            "_model_name": "LayoutModel",
            "_view_count": null,
            "_view_module": "@jupyter-widgets/base",
            "_view_module_version": "1.2.0",
            "_view_name": "LayoutView",
            "align_content": null,
            "align_items": null,
            "align_self": null,
            "border": null,
            "bottom": null,
            "display": null,
            "flex": null,
            "flex_flow": null,
            "grid_area": null,
            "grid_auto_columns": null,
            "grid_auto_flow": null,
            "grid_auto_rows": null,
            "grid_column": null,
            "grid_gap": null,
            "grid_row": null,
            "grid_template_areas": null,
            "grid_template_columns": null,
            "grid_template_rows": null,
            "height": null,
            "justify_content": null,
            "justify_items": null,
            "left": null,
            "margin": null,
            "max_height": null,
            "max_width": null,
            "min_height": null,
            "min_width": null,
            "object_fit": null,
            "object_position": null,
            "order": null,
            "overflow": null,
            "overflow_x": null,
            "overflow_y": null,
            "padding": null,
            "right": null,
            "top": null,
            "visibility": null,
            "width": null
          }
        },
        "7cc6df540b384193a22b68c2d46afd83": {
          "model_module": "@jupyter-widgets/base",
          "model_name": "LayoutModel",
          "model_module_version": "1.2.0",
          "state": {
            "_model_module": "@jupyter-widgets/base",
            "_model_module_version": "1.2.0",
            "_model_name": "LayoutModel",
            "_view_count": null,
            "_view_module": "@jupyter-widgets/base",
            "_view_module_version": "1.2.0",
            "_view_name": "LayoutView",
            "align_content": null,
            "align_items": null,
            "align_self": null,
            "border": null,
            "bottom": null,
            "display": null,
            "flex": null,
            "flex_flow": null,
            "grid_area": null,
            "grid_auto_columns": null,
            "grid_auto_flow": null,
            "grid_auto_rows": null,
            "grid_column": null,
            "grid_gap": null,
            "grid_row": null,
            "grid_template_areas": null,
            "grid_template_columns": null,
            "grid_template_rows": null,
            "height": null,
            "justify_content": null,
            "justify_items": null,
            "left": null,
            "margin": null,
            "max_height": null,
            "max_width": null,
            "min_height": null,
            "min_width": null,
            "object_fit": null,
            "object_position": null,
            "order": null,
            "overflow": null,
            "overflow_x": null,
            "overflow_y": null,
            "padding": null,
            "right": null,
            "top": null,
            "visibility": null,
            "width": null
          }
        },
        "57b37d46b2354924a309ce88b82eecb9": {
          "model_module": "@jupyter-widgets/controls",
          "model_name": "DescriptionStyleModel",
          "model_module_version": "1.5.0",
          "state": {
            "_model_module": "@jupyter-widgets/controls",
            "_model_module_version": "1.5.0",
            "_model_name": "DescriptionStyleModel",
            "_view_count": null,
            "_view_module": "@jupyter-widgets/base",
            "_view_module_version": "1.2.0",
            "_view_name": "StyleView",
            "description_width": ""
          }
        },
        "d0b413a6646249e38e67aecc9be70071": {
          "model_module": "@jupyter-widgets/base",
          "model_name": "LayoutModel",
          "model_module_version": "1.2.0",
          "state": {
            "_model_module": "@jupyter-widgets/base",
            "_model_module_version": "1.2.0",
            "_model_name": "LayoutModel",
            "_view_count": null,
            "_view_module": "@jupyter-widgets/base",
            "_view_module_version": "1.2.0",
            "_view_name": "LayoutView",
            "align_content": null,
            "align_items": null,
            "align_self": null,
            "border": null,
            "bottom": null,
            "display": null,
            "flex": null,
            "flex_flow": null,
            "grid_area": null,
            "grid_auto_columns": null,
            "grid_auto_flow": null,
            "grid_auto_rows": null,
            "grid_column": null,
            "grid_gap": null,
            "grid_row": null,
            "grid_template_areas": null,
            "grid_template_columns": null,
            "grid_template_rows": null,
            "height": null,
            "justify_content": null,
            "justify_items": null,
            "left": null,
            "margin": null,
            "max_height": null,
            "max_width": null,
            "min_height": null,
            "min_width": null,
            "object_fit": null,
            "object_position": null,
            "order": null,
            "overflow": null,
            "overflow_x": null,
            "overflow_y": null,
            "padding": null,
            "right": null,
            "top": null,
            "visibility": null,
            "width": "20px"
          }
        },
        "a79f582bcd4844bb9d2e0762ea490d01": {
          "model_module": "@jupyter-widgets/controls",
          "model_name": "ProgressStyleModel",
          "model_module_version": "1.5.0",
          "state": {
            "_model_module": "@jupyter-widgets/controls",
            "_model_module_version": "1.5.0",
            "_model_name": "ProgressStyleModel",
            "_view_count": null,
            "_view_module": "@jupyter-widgets/base",
            "_view_module_version": "1.2.0",
            "_view_name": "StyleView",
            "bar_color": null,
            "description_width": ""
          }
        },
        "68b4283f85df45d7941c0e4e643aa49c": {
          "model_module": "@jupyter-widgets/base",
          "model_name": "LayoutModel",
          "model_module_version": "1.2.0",
          "state": {
            "_model_module": "@jupyter-widgets/base",
            "_model_module_version": "1.2.0",
            "_model_name": "LayoutModel",
            "_view_count": null,
            "_view_module": "@jupyter-widgets/base",
            "_view_module_version": "1.2.0",
            "_view_name": "LayoutView",
            "align_content": null,
            "align_items": null,
            "align_self": null,
            "border": null,
            "bottom": null,
            "display": null,
            "flex": null,
            "flex_flow": null,
            "grid_area": null,
            "grid_auto_columns": null,
            "grid_auto_flow": null,
            "grid_auto_rows": null,
            "grid_column": null,
            "grid_gap": null,
            "grid_row": null,
            "grid_template_areas": null,
            "grid_template_columns": null,
            "grid_template_rows": null,
            "height": null,
            "justify_content": null,
            "justify_items": null,
            "left": null,
            "margin": null,
            "max_height": null,
            "max_width": null,
            "min_height": null,
            "min_width": null,
            "object_fit": null,
            "object_position": null,
            "order": null,
            "overflow": null,
            "overflow_x": null,
            "overflow_y": null,
            "padding": null,
            "right": null,
            "top": null,
            "visibility": null,
            "width": null
          }
        },
        "d3e3266987ff4ad0b819a169eab4f1fa": {
          "model_module": "@jupyter-widgets/controls",
          "model_name": "DescriptionStyleModel",
          "model_module_version": "1.5.0",
          "state": {
            "_model_module": "@jupyter-widgets/controls",
            "_model_module_version": "1.5.0",
            "_model_name": "DescriptionStyleModel",
            "_view_count": null,
            "_view_module": "@jupyter-widgets/base",
            "_view_module_version": "1.2.0",
            "_view_name": "StyleView",
            "description_width": ""
          }
        }
      }
    }
  },
  "nbformat": 4,
  "nbformat_minor": 0
}