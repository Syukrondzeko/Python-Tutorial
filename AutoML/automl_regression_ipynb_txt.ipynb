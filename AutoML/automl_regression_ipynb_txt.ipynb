{
  "nbformat": 4,
  "nbformat_minor": 0,
  "metadata": {
    "kernelspec": {
      "display_name": "Python 3",
      "language": "python",
      "name": "python3"
    },
    "language_info": {
      "codemirror_mode": {
        "name": "ipython",
        "version": 3
      },
      "file_extension": ".py",
      "mimetype": "text/x-python",
      "name": "python",
      "nbconvert_exporter": "python",
      "pygments_lexer": "ipython3",
      "version": "3.5.2"
    },
    "colab": {
      "name": "automl_regression.ipynb.txt",
      "provenance": []
    }
  },
  "cells": [
    {
      "cell_type": "markdown",
      "metadata": {
        "id": "BkbqqymoRRiy"
      },
      "source": [
        "# H2O AutoML Regression Demo\n",
        "\n",
        "\n",
        "### Start H2O\n",
        "\n",
        "Import the **h2o** Python module and `H2OAutoML` class and initialize a local H2O cluster."
      ]
    },
    {
      "cell_type": "code",
      "metadata": {
        "colab": {
          "base_uri": "https://localhost:8080/"
        },
        "id": "y02ICLf1SJM0",
        "outputId": "1bdbe468-d8a7-4644-eed7-b50340b57e9c"
      },
      "source": [
        "!pip install h2o"
      ],
      "execution_count": null,
      "outputs": [
        {
          "output_type": "stream",
          "text": [
            "Requirement already satisfied: h2o in /usr/local/lib/python3.7/dist-packages (3.32.1.3)\n",
            "Requirement already satisfied: requests in /usr/local/lib/python3.7/dist-packages (from h2o) (2.23.0)\n",
            "Requirement already satisfied: colorama>=0.3.8 in /usr/local/lib/python3.7/dist-packages (from h2o) (0.4.4)\n",
            "Requirement already satisfied: future in /usr/local/lib/python3.7/dist-packages (from h2o) (0.16.0)\n",
            "Requirement already satisfied: tabulate in /usr/local/lib/python3.7/dist-packages (from h2o) (0.8.9)\n",
            "Requirement already satisfied: idna<3,>=2.5 in /usr/local/lib/python3.7/dist-packages (from requests->h2o) (2.10)\n",
            "Requirement already satisfied: urllib3!=1.25.0,!=1.25.1,<1.26,>=1.21.1 in /usr/local/lib/python3.7/dist-packages (from requests->h2o) (1.24.3)\n",
            "Requirement already satisfied: certifi>=2017.4.17 in /usr/local/lib/python3.7/dist-packages (from requests->h2o) (2020.12.5)\n",
            "Requirement already satisfied: chardet<4,>=3.0.2 in /usr/local/lib/python3.7/dist-packages (from requests->h2o) (3.0.4)\n"
          ],
          "name": "stdout"
        }
      ]
    },
    {
      "cell_type": "code",
      "metadata": {
        "colab": {
          "base_uri": "https://localhost:8080/",
          "height": 385
        },
        "id": "lP1BJ6zwRRiz",
        "outputId": "f00f9bef-f9e6-43f3-c5ea-eb856e849eb0"
      },
      "source": [
        "import h2o\n",
        "from h2o.automl import H2OAutoML\n",
        "h2o.init()"
      ],
      "execution_count": null,
      "outputs": [
        {
          "output_type": "stream",
          "text": [
            "Checking whether there is an H2O instance running at http://localhost:54321 . connected.\n"
          ],
          "name": "stdout"
        },
        {
          "output_type": "display_data",
          "data": {
            "text/html": [
              "<div style=\"overflow:auto\"><table style=\"width:50%\"><tr><td>H2O_cluster_uptime:</td>\n",
              "<td>17 mins 57 secs</td></tr>\n",
              "<tr><td>H2O_cluster_timezone:</td>\n",
              "<td>Etc/UTC</td></tr>\n",
              "<tr><td>H2O_data_parsing_timezone:</td>\n",
              "<td>UTC</td></tr>\n",
              "<tr><td>H2O_cluster_version:</td>\n",
              "<td>3.32.1.3</td></tr>\n",
              "<tr><td>H2O_cluster_version_age:</td>\n",
              "<td>22 days </td></tr>\n",
              "<tr><td>H2O_cluster_name:</td>\n",
              "<td>H2O_from_python_unknownUser_1zng51</td></tr>\n",
              "<tr><td>H2O_cluster_total_nodes:</td>\n",
              "<td>1</td></tr>\n",
              "<tr><td>H2O_cluster_free_memory:</td>\n",
              "<td>3.165 Gb</td></tr>\n",
              "<tr><td>H2O_cluster_total_cores:</td>\n",
              "<td>2</td></tr>\n",
              "<tr><td>H2O_cluster_allowed_cores:</td>\n",
              "<td>2</td></tr>\n",
              "<tr><td>H2O_cluster_status:</td>\n",
              "<td>locked, healthy</td></tr>\n",
              "<tr><td>H2O_connection_url:</td>\n",
              "<td>http://localhost:54321</td></tr>\n",
              "<tr><td>H2O_connection_proxy:</td>\n",
              "<td>{\"http\": null, \"https\": null}</td></tr>\n",
              "<tr><td>H2O_internal_security:</td>\n",
              "<td>False</td></tr>\n",
              "<tr><td>H2O_API_Extensions:</td>\n",
              "<td>Amazon S3, XGBoost, Algos, AutoML, Core V3, TargetEncoder, Core V4</td></tr>\n",
              "<tr><td>Python_version:</td>\n",
              "<td>3.7.10 final</td></tr></table></div>"
            ],
            "text/plain": [
              "--------------------------  ------------------------------------------------------------------\n",
              "H2O_cluster_uptime:         17 mins 57 secs\n",
              "H2O_cluster_timezone:       Etc/UTC\n",
              "H2O_data_parsing_timezone:  UTC\n",
              "H2O_cluster_version:        3.32.1.3\n",
              "H2O_cluster_version_age:    22 days\n",
              "H2O_cluster_name:           H2O_from_python_unknownUser_1zng51\n",
              "H2O_cluster_total_nodes:    1\n",
              "H2O_cluster_free_memory:    3.165 Gb\n",
              "H2O_cluster_total_cores:    2\n",
              "H2O_cluster_allowed_cores:  2\n",
              "H2O_cluster_status:         locked, healthy\n",
              "H2O_connection_url:         http://localhost:54321\n",
              "H2O_connection_proxy:       {\"http\": null, \"https\": null}\n",
              "H2O_internal_security:      False\n",
              "H2O_API_Extensions:         Amazon S3, XGBoost, Algos, AutoML, Core V3, TargetEncoder, Core V4\n",
              "Python_version:             3.7.10 final\n",
              "--------------------------  ------------------------------------------------------------------"
            ]
          },
          "metadata": {
            "tags": []
          }
        }
      ]
    },
    {
      "cell_type": "markdown",
      "metadata": {
        "id": "FWTnhhHMRRi0"
      },
      "source": [
        "### Load Data\n",
        "\n",
        "For the AutoML regression demo, we use the [Combined Cycle Power Plant](http://archive.ics.uci.edu/ml/datasets/Combined+Cycle+Power+Plant) dataset.  The goal here is to predict the energy output (in megawatts), given the temperature, ambient pressure, relative humidity and exhaust vacuum values.  In this demo, you will use H2O's AutoML to outperform the [state of the art results](https://www.sciencedirect.com/science/article/pii/S0142061514000908) on this task."
      ]
    },
    {
      "cell_type": "code",
      "metadata": {
        "colab": {
          "base_uri": "https://localhost:8080/"
        },
        "id": "dg1u4--cRRi1",
        "outputId": "1d33cfd0-ae60-4840-a732-a36b8a7ef68f"
      },
      "source": [
        "# Use local data file or download from GitHub\n",
        "data_path = \"https://github.com/h2oai/h2o-tutorials/raw/master/h2o-world-2017/automl/data/powerplant_output.csv\"\n",
        "\n",
        "# Load data into H2O\n",
        "df = h2o.import_file(data_path)"
      ],
      "execution_count": null,
      "outputs": [
        {
          "output_type": "stream",
          "text": [
            "Parse progress: |█████████████████████████████████████████████████████████| 100%\n"
          ],
          "name": "stdout"
        }
      ]
    },
    {
      "cell_type": "markdown",
      "metadata": {
        "id": "ZJve6DYIRRi1"
      },
      "source": [
        "Let's take a look at the data."
      ]
    },
    {
      "cell_type": "code",
      "metadata": {
        "colab": {
          "base_uri": "https://localhost:8080/",
          "height": 461
        },
        "id": "Tj_70OKiRRi2",
        "outputId": "3a79a3c0-50fe-42a2-e6f6-b690de23d031"
      },
      "source": [
        "df.describe()"
      ],
      "execution_count": null,
      "outputs": [
        {
          "output_type": "stream",
          "text": [
            "Rows:9568\n",
            "Cols:5\n",
            "\n",
            "\n"
          ],
          "name": "stdout"
        },
        {
          "output_type": "display_data",
          "data": {
            "text/html": [
              "<table>\n",
              "<thead>\n",
              "<tr><th>       </th><th>TemperatureCelcius  </th><th>ExhaustVacuumHg   </th><th>AmbientPressureMillibar  </th><th>RelativeHumidity  </th><th>HourlyEnergyOutputMW  </th></tr>\n",
              "</thead>\n",
              "<tbody>\n",
              "<tr><td>type   </td><td>real                </td><td>real              </td><td>real                     </td><td>real              </td><td>real                  </td></tr>\n",
              "<tr><td>mins   </td><td>1.81                </td><td>25.36             </td><td>992.89                   </td><td>25.56             </td><td>420.26                </td></tr>\n",
              "<tr><td>mean   </td><td>19.651231187290957  </td><td>54.3058037207358  </td><td>1013.2590781772578       </td><td>73.30897784280936 </td><td>454.36500940635455    </td></tr>\n",
              "<tr><td>maxs   </td><td>37.11               </td><td>81.56             </td><td>1033.3                   </td><td>100.16            </td><td>495.76                </td></tr>\n",
              "<tr><td>sigma  </td><td>7.452473229611082   </td><td>12.707892998326807</td><td>5.93878370581162         </td><td>14.600268756728957</td><td>17.066994999803423    </td></tr>\n",
              "<tr><td>zeros  </td><td>0                   </td><td>0                 </td><td>0                        </td><td>0                 </td><td>0                     </td></tr>\n",
              "<tr><td>missing</td><td>0                   </td><td>0                 </td><td>0                        </td><td>0                 </td><td>0                     </td></tr>\n",
              "<tr><td>0      </td><td>14.96               </td><td>41.76             </td><td>1024.07                  </td><td>73.17             </td><td>463.26                </td></tr>\n",
              "<tr><td>1      </td><td>25.18               </td><td>62.96             </td><td>1020.04                  </td><td>59.08             </td><td>444.37                </td></tr>\n",
              "<tr><td>2      </td><td>5.11                </td><td>39.4              </td><td>1012.16                  </td><td>92.14             </td><td>488.56                </td></tr>\n",
              "<tr><td>3      </td><td>20.86               </td><td>57.32             </td><td>1010.24                  </td><td>76.64             </td><td>446.48                </td></tr>\n",
              "<tr><td>4      </td><td>10.82               </td><td>37.5              </td><td>1009.23                  </td><td>96.62             </td><td>473.9                 </td></tr>\n",
              "<tr><td>5      </td><td>26.27               </td><td>59.44             </td><td>1012.23                  </td><td>58.77             </td><td>443.67                </td></tr>\n",
              "<tr><td>6      </td><td>15.89               </td><td>43.96             </td><td>1014.02                  </td><td>75.24             </td><td>467.35                </td></tr>\n",
              "<tr><td>7      </td><td>9.48                </td><td>44.71             </td><td>1019.12                  </td><td>66.43             </td><td>478.42                </td></tr>\n",
              "<tr><td>8      </td><td>14.64               </td><td>45.0              </td><td>1021.78                  </td><td>41.25             </td><td>475.98                </td></tr>\n",
              "<tr><td>9      </td><td>11.74               </td><td>43.56             </td><td>1015.14                  </td><td>70.72             </td><td>477.5                 </td></tr>\n",
              "</tbody>\n",
              "</table>"
            ]
          },
          "metadata": {
            "tags": []
          }
        }
      ]
    },
    {
      "cell_type": "markdown",
      "metadata": {
        "id": "QdsUbxmkRRi2"
      },
      "source": [
        "Next, let's identify the response column and save the column name as `y`.  In this dataset, we will use all columns except the response as predictors, so we can skip setting the `x` argument explicitly."
      ]
    },
    {
      "cell_type": "code",
      "metadata": {
        "id": "hn3lHmQURRi2"
      },
      "source": [
        "y = \"HourlyEnergyOutputMW\""
      ],
      "execution_count": null,
      "outputs": []
    },
    {
      "cell_type": "markdown",
      "metadata": {
        "id": "I4htO6PDRRi3"
      },
      "source": [
        "Lastly, let's split the data into two frames, a `train` (80%) and a `test` frame (20%).  The `test` frame will be used to score the leaderboard and to demonstrate how to generate predictions using an AutoML leader model."
      ]
    },
    {
      "cell_type": "code",
      "metadata": {
        "id": "DizEQSzLRRi3"
      },
      "source": [
        "splits = df.split_frame(ratios = [0.8], seed = 1)\n",
        "train = splits[0]\n",
        "test = splits[1]"
      ],
      "execution_count": null,
      "outputs": []
    },
    {
      "cell_type": "markdown",
      "metadata": {
        "id": "vx184tWkRRi3"
      },
      "source": [
        "## Run AutoML \n",
        "\n",
        "The `test` frame is passed explicitly to the `leaderboard_frame` argument here, which means that instead of using cross-validated metrics, we use test set metrics for generating the leaderboard."
      ]
    },
    {
      "cell_type": "code",
      "metadata": {
        "colab": {
          "base_uri": "https://localhost:8080/"
        },
        "id": "OGXMR6pARRi3",
        "outputId": "67b33074-84f9-48fb-bead-c7ba916ab0fd"
      },
      "source": [
        "aml = H2OAutoML(max_runtime_secs = 60, seed = 1, project_name = \"powerplant\")\n",
        "aml.train(y = y, training_frame = train, leaderboard_frame = test)"
      ],
      "execution_count": null,
      "outputs": [
        {
          "output_type": "stream",
          "text": [
            "AutoML progress: |████████████████████████████████████████████████████████| 100%\n"
          ],
          "name": "stdout"
        }
      ]
    },
    {
      "cell_type": "markdown",
      "metadata": {
        "id": "pUsQoRN3RRi4"
      },
      "source": [
        "*Note: If you see the following error, it means that you need to install the pandas module.*\n",
        "```\n",
        "H2OTypeError: Argument `python_obj` should be a None | list | tuple | dict | numpy.ndarray | pandas.DataFrame | scipy.sparse.issparse, got H2OTwoDimTable \n",
        "``` "
      ]
    },
    {
      "cell_type": "markdown",
      "metadata": {
        "id": "ZyT__Cw8RRi5"
      },
      "source": [
        "## Leaderboard\n",
        "\n",
        "\n",
        "A default performance metric for each machine learning task (binary classification, multiclass classification, regression) is specified internally and the leaderboard will be sorted by that metric.  In the case of regression, the default ranking metric is mean residual deviance.  In the future, the user will be able to specify any of the H2O metrics so that different metrics can be used to generate rankings on the leaderboard."
      ]
    },
    {
      "cell_type": "code",
      "metadata": {
        "colab": {
          "base_uri": "https://localhost:8080/",
          "height": 247
        },
        "id": "5LgjrMF2RRi5",
        "outputId": "cac07d00-9bce-4dfb-8f21-808aa50488d2"
      },
      "source": [
        "aml.leaderboard.head()"
      ],
      "execution_count": null,
      "outputs": [
        {
          "output_type": "display_data",
          "data": {
            "text/html": [
              "<table>\n",
              "<thead>\n",
              "<tr><th>model_id                                      </th><th style=\"text-align: right;\">  mean_residual_deviance</th><th style=\"text-align: right;\">   rmse</th><th style=\"text-align: right;\">    mse</th><th style=\"text-align: right;\">    mae</th><th style=\"text-align: right;\">     rmsle</th></tr>\n",
              "</thead>\n",
              "<tbody>\n",
              "<tr><td>XGBoost_grid__1_AutoML_20210611_000357_model_1</td><td style=\"text-align: right;\">                 11.7239</td><td style=\"text-align: right;\">3.42402</td><td style=\"text-align: right;\">11.7239</td><td style=\"text-align: right;\">2.34031</td><td style=\"text-align: right;\">0.00751901</td></tr>\n",
              "<tr><td>XGBoost_1_AutoML_20210611_000357              </td><td style=\"text-align: right;\">                 12.2895</td><td style=\"text-align: right;\">3.50565</td><td style=\"text-align: right;\">12.2895</td><td style=\"text-align: right;\">2.55107</td><td style=\"text-align: right;\">0.00772691</td></tr>\n",
              "<tr><td>XGBoost_2_AutoML_20210611_000357              </td><td style=\"text-align: right;\">                 14.1029</td><td style=\"text-align: right;\">3.75538</td><td style=\"text-align: right;\">14.1029</td><td style=\"text-align: right;\">2.75173</td><td style=\"text-align: right;\">0.00826118</td></tr>\n",
              "<tr><td>XGBoost_grid__1_AutoML_20210611_000357_model_2</td><td style=\"text-align: right;\">                 14.1326</td><td style=\"text-align: right;\">3.75933</td><td style=\"text-align: right;\">14.1326</td><td style=\"text-align: right;\">2.73014</td><td style=\"text-align: right;\">0.00825646</td></tr>\n",
              "<tr><td>GBM_grid__1_AutoML_20210611_000357_model_2    </td><td style=\"text-align: right;\">                 14.3148</td><td style=\"text-align: right;\">3.7835 </td><td style=\"text-align: right;\">14.3148</td><td style=\"text-align: right;\">2.78255</td><td style=\"text-align: right;\">0.00832357</td></tr>\n",
              "<tr><td>XGBoost_3_AutoML_20210611_000357              </td><td style=\"text-align: right;\">                 14.8167</td><td style=\"text-align: right;\">3.84924</td><td style=\"text-align: right;\">14.8167</td><td style=\"text-align: right;\">2.85931</td><td style=\"text-align: right;\">0.0084692 </td></tr>\n",
              "<tr><td>XRT_1_AutoML_20210611_000357                  </td><td style=\"text-align: right;\">                 15.5593</td><td style=\"text-align: right;\">3.94453</td><td style=\"text-align: right;\">15.5593</td><td style=\"text-align: right;\">2.8226 </td><td style=\"text-align: right;\">0.00869352</td></tr>\n",
              "<tr><td>GBM_3_AutoML_20210611_000357                  </td><td style=\"text-align: right;\">                 15.6261</td><td style=\"text-align: right;\">3.95299</td><td style=\"text-align: right;\">15.6261</td><td style=\"text-align: right;\">3.00367</td><td style=\"text-align: right;\">0.00868289</td></tr>\n",
              "<tr><td>DRF_1_AutoML_20210611_000357                  </td><td style=\"text-align: right;\">                 15.8346</td><td style=\"text-align: right;\">3.97927</td><td style=\"text-align: right;\">15.8346</td><td style=\"text-align: right;\">2.83185</td><td style=\"text-align: right;\">0.00875305</td></tr>\n",
              "<tr><td>GBM_grid__1_AutoML_20210611_000357_model_1    </td><td style=\"text-align: right;\">                 15.8912</td><td style=\"text-align: right;\">3.98638</td><td style=\"text-align: right;\">15.8912</td><td style=\"text-align: right;\">2.96458</td><td style=\"text-align: right;\">0.00876373</td></tr>\n",
              "</tbody>\n",
              "</table>"
            ]
          },
          "metadata": {
            "tags": []
          }
        },
        {
          "output_type": "execute_result",
          "data": {
            "text/plain": [
              ""
            ]
          },
          "metadata": {
            "tags": []
          },
          "execution_count": 31
        }
      ]
    },
    {
      "cell_type": "markdown",
      "metadata": {
        "id": "KfLS8f9WRRi6"
      },
      "source": [
        "This dataset comes from the [UCI Machine Learning Repository](http://archive.ics.uci.edu/ml/datasets/Combined+Cycle+Power+Plant) of machine learning datasets.  The data was used in a [publication](https://www.sciencedirect.com/science/article/pii/S0142061514000908) in the *International Journal of Electrical Power & Energy Systems* in 2014.  In the paper, the authors achieved a mean absolute error (MAE) of 2.818 and a Root Mean-Squared Error (RMSE) of 3.787 on their best model.  So, with H2O's AutoML, we've already beaten the state-of-the-art in just 60 seconds of compute time!"
      ]
    },
    {
      "cell_type": "markdown",
      "metadata": {
        "id": "0n5UUWUSRRi7"
      },
      "source": [
        "## Predict Using Leader Model\n",
        "\n",
        "If you need to generate predictions on a test set, you can make predictions on the `\"H2OAutoML\"` object directly, or on the leader model object."
      ]
    },
    {
      "cell_type": "code",
      "metadata": {
        "colab": {
          "base_uri": "https://localhost:8080/",
          "height": 264
        },
        "id": "tuCDipUFRRi7",
        "outputId": "76e9ce53-fe44-4c90-b9d3-0e5138309613"
      },
      "source": [
        "pred = aml.predict(test)\n",
        "pred.head()"
      ],
      "execution_count": null,
      "outputs": [
        {
          "output_type": "stream",
          "text": [
            "xgboost prediction progress: |████████████████████████████████████████████| 100%\n"
          ],
          "name": "stdout"
        },
        {
          "output_type": "display_data",
          "data": {
            "text/html": [
              "<table>\n",
              "<thead>\n",
              "<tr><th style=\"text-align: right;\">  predict</th></tr>\n",
              "</thead>\n",
              "<tbody>\n",
              "<tr><td style=\"text-align: right;\">  485.695</td></tr>\n",
              "<tr><td style=\"text-align: right;\">  473.756</td></tr>\n",
              "<tr><td style=\"text-align: right;\">  467.413</td></tr>\n",
              "<tr><td style=\"text-align: right;\">  450.41 </td></tr>\n",
              "<tr><td style=\"text-align: right;\">  448.128</td></tr>\n",
              "<tr><td style=\"text-align: right;\">  468.133</td></tr>\n",
              "<tr><td style=\"text-align: right;\">  442.936</td></tr>\n",
              "<tr><td style=\"text-align: right;\">  466.101</td></tr>\n",
              "<tr><td style=\"text-align: right;\">  442.655</td></tr>\n",
              "<tr><td style=\"text-align: right;\">  431.161</td></tr>\n",
              "</tbody>\n",
              "</table>"
            ]
          },
          "metadata": {
            "tags": []
          }
        },
        {
          "output_type": "execute_result",
          "data": {
            "text/plain": [
              ""
            ]
          },
          "metadata": {
            "tags": []
          },
          "execution_count": 32
        }
      ]
    },
    {
      "cell_type": "markdown",
      "metadata": {
        "id": "qB1z4QiVRRi7"
      },
      "source": [
        "If needed, the standard `model_performance()` method can be applied to the AutoML leader model and a test set to generate an H2O model performance object."
      ]
    },
    {
      "cell_type": "code",
      "metadata": {
        "colab": {
          "base_uri": "https://localhost:8080/"
        },
        "id": "ICOg1BJKRRi8",
        "outputId": "7d6ceb58-d074-4a46-fe22-3b24a78db06b"
      },
      "source": [
        "perf = aml.leader.model_performance(test)\n",
        "perf"
      ],
      "execution_count": null,
      "outputs": [
        {
          "output_type": "stream",
          "text": [
            "\n",
            "ModelMetricsRegression: xgboost\n",
            "** Reported on test data. **\n",
            "\n",
            "MSE: 11.723888817434862\n",
            "RMSE: 3.4240164744689623\n",
            "MAE: 2.3403112773602754\n",
            "RMSLE: 0.007519009129557612\n",
            "Mean Residual Deviance: 11.723888817434862\n"
          ],
          "name": "stdout"
        },
        {
          "output_type": "execute_result",
          "data": {
            "text/plain": [
              ""
            ]
          },
          "metadata": {
            "tags": []
          },
          "execution_count": 33
        }
      ]
    },
    {
      "cell_type": "code",
      "metadata": {
        "id": "1gHtSuQDUcno"
      },
      "source": [
        ""
      ],
      "execution_count": null,
      "outputs": []
    }
  ]
}