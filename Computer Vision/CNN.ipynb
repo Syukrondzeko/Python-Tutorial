{
  "nbformat": 4,
  "nbformat_minor": 0,
  "metadata": {
    "colab": {
      "name": "CNN",
      "provenance": [],
      "collapsed_sections": []
    },
    "kernelspec": {
      "name": "python3",
      "display_name": "Python 3"
    },
    "accelerator": "TPU"
  },
  "cells": [
    {
      "cell_type": "code",
      "metadata": {
        "id": "OZdBz1CNKWf7",
        "colab_type": "code",
        "colab": {}
      },
      "source": [
        "import zipfile, os\n",
        "local_zip = '/content/drive/My Drive/cnnMS.zip'\n",
        "zip_ref = zipfile.ZipFile(local_zip, 'r')\n",
        "zip_ref.extractall()\n",
        "zip_ref.close()"
      ],
      "execution_count": null,
      "outputs": []
    },
    {
      "cell_type": "code",
      "metadata": {
        "id": "AX3Dl-6eRA1P",
        "colab_type": "code",
        "colab": {}
      },
      "source": [
        "print(\"Jumlah Data Train Tiap Kelas\")\n",
        "print('Jumlah gambar gajah    :', len(os.listdir('train/train/gajah/')))\n",
        "print('Jumlah gambar kucing   :', len(os.listdir('train/train/kucing/')))\n",
        "print('Jumlah gambar burung   :', len(os.listdir('train/train/burung/')))\n"
      ],
      "execution_count": null,
      "outputs": []
    },
    {
      "cell_type": "code",
      "metadata": {
        "id": "gzUk_ighukEj",
        "colab_type": "code",
        "colab": {}
      },
      "source": [
        "os.mkdir('/tmp/s/')\n",
        "os.mkdir('/tmp/s/train/')\n",
        "os.mkdir('/tmp/s/val/')\n",
        "os.mkdir('/tmp/s/train/gajah/')\n",
        "os.mkdir('/tmp/s/val/gajah/')\n",
        "os.mkdir('/tmp/s/train/kucing/')\n",
        "os.mkdir('/tmp/s/val/kucing/')\n",
        "os.mkdir('/tmp/s/train/burung/')\n",
        "os.mkdir('/tmp/s/val/burung/')"
      ],
      "execution_count": null,
      "outputs": []
    },
    {
      "cell_type": "markdown",
      "metadata": {
        "id": "EneKyOatUY8-",
        "colab_type": "text"
      },
      "source": [
        ""
      ]
    },
    {
      "cell_type": "code",
      "metadata": {
        "id": "ua7NiG1Epgky",
        "colab_type": "code",
        "colab": {}
      },
      "source": [
        "import random\n",
        "from shutil import copyfile\n",
        "\n",
        "def train_val_split(source, train, val, train_ratio):\n",
        "  total_size = len(os.listdir(source))\n",
        "  train_size = int(train_ratio * total_size)\n",
        "  val_size = total_size - train_size\n",
        "\n",
        "  randomized = random.sample(os.listdir(source), total_size)\n",
        "  train_files = randomized[0:train_size]\n",
        "  val_files = randomized[train_size:total_size]\n",
        "\n",
        "  for i in train_files:\n",
        "    i_file = source + i\n",
        "    destination = train + i\n",
        "    copyfile(i_file, destination)\n",
        "\n",
        "  for i in val_files:\n",
        "    i_file = source + i\n",
        "    destination = val + i\n",
        "    copyfile(i_file, destination)\n",
        "\n",
        "train_ratio = 0.8\n",
        "\n",
        "#Pembagian Training dan Validasi\n",
        "\n",
        "source_00 = 'train/train/gajah/'\n",
        "train_00 = '/tmp/s/train/gajah/'\n",
        "val_00 = '/tmp/s/val/gajah/'\n",
        "train_val_split(source_00, train_00, val_00, train_ratio)\n",
        "\n",
        "source_01 = 'train/train/kucing/'\n",
        "train_01 = '/tmp/s/train/kucing/'\n",
        "val_01 = '/tmp/s/val/kucing/'\n",
        "train_val_split(source_01, train_01, val_01, train_ratio)\n",
        "\n",
        "source_02 = 'train/train/burung/'\n",
        "train_02 = '/tmp/s/train/burung/'\n",
        "val_02 = '/tmp/s/val/burung/'\n",
        "train_val_split(source_02, train_02, val_02, train_ratio)"
      ],
      "execution_count": null,
      "outputs": []
    },
    {
      "cell_type": "code",
      "metadata": {
        "id": "wOiVXFyNvafe",
        "colab_type": "code",
        "colab": {}
      },
      "source": [
        "print('Jumlah All gajah     :', len(os.listdir('train/train/gajah')))\n",
        "print('Jumlah Train gajah   :', len(os.listdir('/tmp/s/train/gajah')))\n",
        "print('Jumlah Val gajah     :', len(os.listdir('/tmp/s/val/gajah')))"
      ],
      "execution_count": null,
      "outputs": []
    },
    {
      "cell_type": "code",
      "metadata": {
        "id": "6AHB8Ndkvr8m",
        "colab_type": "code",
        "colab": {}
      },
      "source": [
        "import tensorflow as tf\n",
        "from tensorflow.keras.optimizers import Adam\n",
        "from tensorflow.keras.preprocessing.image import ImageDataGenerator"
      ],
      "execution_count": null,
      "outputs": []
    },
    {
      "cell_type": "code",
      "metadata": {
        "id": "u_8zwYhnAo1N",
        "colab_type": "code",
        "colab": {}
      },
      "source": [
        "train_datagen = ImageDataGenerator(\n",
        "                  rescale = 1./255.,\n",
        "                  rotation_range = 30,\n",
        "                  horizontal_flip = True,\n",
        "                  shear_range = 0.3,\n",
        "                  fill_mode = 'nearest',\n",
        "                  width_shift_range = 0.2,\n",
        "                  height_shift_range = 0.2,\n",
        "                  zoom_range = 0.1\n",
        ")\n",
        "\n",
        "val_datagen = ImageDataGenerator(\n",
        "                rescale = 1./255.,\n",
        "                rotation_range = 30,\n",
        "                horizontal_flip = True,\n",
        "                shear_range = 0.3,\n",
        "                fill_mode = 'nearest',\n",
        "                width_shift_range = 0.2,\n",
        "                height_shift_range = 0.2,\n",
        "                zoom_range = 0.1\n",
        ")"
      ],
      "execution_count": null,
      "outputs": []
    },
    {
      "cell_type": "code",
      "metadata": {
        "id": "gPsf3Am-Augp",
        "colab_type": "code",
        "colab": {}
      },
      "source": [
        "train_dir = '/tmp/s/train/'\n",
        "train_generator = train_datagen.flow_from_directory(\n",
        "    train_dir,\n",
        "    target_size = (150, 150),\n",
        "    batch_size = 3,\n",
        "    class_mode = 'categorical'\n",
        ")\n",
        "\n",
        "val_dir = '/tmp/s/val/'\n",
        "val_generator = val_datagen.flow_from_directory(\n",
        "    val_dir,\n",
        "    target_size = (150, 150),\n",
        "    batch_size = 3,\n",
        "    class_mode = 'categorical'\n",
        ")"
      ],
      "execution_count": null,
      "outputs": []
    },
    {
      "cell_type": "code",
      "metadata": {
        "id": "bC9006f6A6QI",
        "colab_type": "code",
        "colab": {}
      },
      "source": [
        "# callbacks\n",
        "class myCallback(tf.keras.callbacks.Callback):\n",
        "  def on_epoch_end(self, epoch, logs = {}):\n",
        "    if(logs.get('accuracy') > 0.99):\n",
        "      print('\\nAkurasi mencapai 99%')\n",
        "      self.model.stop_training = True\n",
        "\n",
        "callbacks = myCallback()"
      ],
      "execution_count": null,
      "outputs": []
    },
    {
      "cell_type": "code",
      "metadata": {
        "id": "n-kQZwdABF-x",
        "colab_type": "code",
        "colab": {}
      },
      "source": [
        "model = tf.keras.models.Sequential([\n",
        "          tf.keras.layers.Conv2D(32, (3, 3), activation = 'relu', input_shape = (150, 150, 3)),\n",
        "          tf.keras.layers.MaxPooling2D(2, 2),\n",
        "          tf.keras.layers.Conv2D(64, (3, 3), activation = 'relu'),\n",
        "          tf.keras.layers.MaxPooling2D(2, 2),\n",
        "          tf.keras.layers.Conv2D(32, (3, 3), activation = 'relu'),\n",
        "          tf.keras.layers.MaxPooling2D(2, 2),\n",
        "          tf.keras.layers.Flatten(),\n",
        "          tf.keras.layers.Dense(200, activation = 'relu'),\n",
        "          tf.keras.layers.Dropout(0.3,seed=112),\n",
        "          tf.keras.layers.Dense(500, activation = 'relu'),\n",
        "          tf.keras.layers.Dropout(0.5,seed=112),\n",
        "          tf.keras.layers.Dense(3, activation = 'softmax')\n",
        "])"
      ],
      "execution_count": null,
      "outputs": []
    },
    {
      "cell_type": "code",
      "metadata": {
        "id": "pF424N7MOC4X",
        "colab_type": "code",
        "colab": {}
      },
      "source": [
        "model.summary()"
      ],
      "execution_count": null,
      "outputs": []
    },
    {
      "cell_type": "code",
      "metadata": {
        "id": "L8K2z5wNc_Fm",
        "colab_type": "code",
        "colab": {}
      },
      "source": [
        "model.compile(loss = 'categorical_crossentropy',\n",
        "              optimizer = 'Adam',\n",
        "              metrics = ['accuracy'])"
      ],
      "execution_count": null,
      "outputs": []
    },
    {
      "cell_type": "code",
      "metadata": {
        "id": "1v-OYVCzBPNf",
        "colab_type": "code",
        "colab": {}
      },
      "source": [
        "history = model.fit(\n",
        "            train_generator,\n",
        "            steps_per_epoch = 20,\n",
        "            epochs = 250,\n",
        "            validation_data = val_generator,\n",
        "            validation_steps = 5,\n",
        "            verbose = 1,\n",
        "            callbacks = [callbacks]\n",
        ")"
      ],
      "execution_count": null,
      "outputs": []
    },
    {
      "cell_type": "code",
      "metadata": {
        "id": "G9ibq9NgBYHX",
        "colab_type": "code",
        "colab": {}
      },
      "source": [
        "%matplotlib inline\n",
        "\n",
        "import matplotlib.image  as mpimg\n",
        "import matplotlib.pyplot as plt\n",
        "\n",
        "\n",
        "acc = history.history['accuracy']\n",
        "val_acc = history.history['val_accuracy']\n",
        "loss = history.history['loss']\n",
        "val_loss = history.history['val_loss']\n",
        "\n",
        "epochs = range(len(acc))\n",
        "\n",
        "plt.plot(epochs, acc, 'r', label = 'Training Accuracy')\n",
        "plt.plot(epochs, val_acc, 'b', label = 'Validation Accuracy')\n",
        "plt.title('Training and Validation accuracy')\n",
        "plt.legend(loc = 'best')\n",
        "plt.show()\n",
        "\n",
        "plt.plot(epochs, loss, 'r', label = 'Training Loss')\n",
        "plt.plot(epochs, val_loss, 'b', label = 'Validation Loss')\n",
        "plt.title('Training and Validation accuracy')\n",
        "plt.legend(loc = 'best')\n",
        "plt.show()"
      ],
      "execution_count": null,
      "outputs": []
    },
    {
      "cell_type": "code",
      "metadata": {
        "id": "F0prK_sskmwe",
        "colab_type": "code",
        "colab": {}
      },
      "source": [
        "import numpy as np\n",
        "from keras.preprocessing import image\n",
        "from google.colab import files\n",
        "\n",
        "uploaded = files.upload()\n",
        "\n",
        "for fn in uploaded.keys():\n",
        "\n",
        "  # predicting images\n",
        "  path = fn\n",
        "  img = image.load_img(path, target_size = (150, 150))\n",
        "  imgplot = plt.imshow(img)\n",
        "  x = image.img_to_array(img)\n",
        "  x = np.expand_dims(x, axis = 0)\n",
        "\n",
        "  images = np.vstack([x])\n",
        "  classes = model.predict(images, batch_size = 100)\n",
        "\n",
        "  print(fn)\n",
        "\n",
        "  class_list = os.listdir('train/train/')\n",
        "  \n",
        "  for j in range(42):\n",
        "    if classes[0][j] == 1. :\n",
        "      print('This image belongs to class', class_list[j])\n",
        "      break"
      ],
      "execution_count": null,
      "outputs": []
    },
    {
      "cell_type": "code",
      "metadata": {
        "id": "7JmnsHGUnCZR",
        "colab_type": "code",
        "colab": {}
      },
      "source": [
        ""
      ],
      "execution_count": null,
      "outputs": []
    }
  ]
}