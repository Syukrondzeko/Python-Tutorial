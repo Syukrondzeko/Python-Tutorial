{
 "cells": [
  {
   "cell_type": "markdown",
   "metadata": {},
   "source": [
    "# Exponential Smoothing"
   ]
  },
  {
   "cell_type": "code",
   "execution_count": 10,
   "metadata": {},
   "outputs": [],
   "source": [
    "import pandas as pd\n",
    "from matplotlib import pyplot as plt\n",
    "from statsmodels.tsa.api import SimpleExpSmoothing, Holt, ExponentialSmoothing as HWES"
   ]
  },
  {
   "cell_type": "code",
   "execution_count": 11,
   "metadata": {},
   "outputs": [],
   "source": [
    "df = pd.read_csv('F:/Course/youtube/41. Eksponential Smoothing/retail_sales_used_car_dealers_us_1992_2020.csv', header=0, infer_datetime_format=True, parse_dates=[0], index_col=[0])"
   ]
  },
  {
   "cell_type": "code",
   "execution_count": 12,
   "metadata": {},
   "outputs": [
    {
     "data": {
      "text/html": [
       "<div>\n",
       "<style scoped>\n",
       "    .dataframe tbody tr th:only-of-type {\n",
       "        vertical-align: middle;\n",
       "    }\n",
       "\n",
       "    .dataframe tbody tr th {\n",
       "        vertical-align: top;\n",
       "    }\n",
       "\n",
       "    .dataframe thead th {\n",
       "        text-align: right;\n",
       "    }\n",
       "</style>\n",
       "<table border=\"1\" class=\"dataframe\">\n",
       "  <thead>\n",
       "    <tr style=\"text-align: right;\">\n",
       "      <th></th>\n",
       "      <th>Retail_Sales</th>\n",
       "    </tr>\n",
       "    <tr>\n",
       "      <th>DATE</th>\n",
       "      <th></th>\n",
       "    </tr>\n",
       "  </thead>\n",
       "  <tbody>\n",
       "    <tr>\n",
       "      <th>1992-01-01</th>\n",
       "      <td>1744</td>\n",
       "    </tr>\n",
       "    <tr>\n",
       "      <th>1992-01-02</th>\n",
       "      <td>1990</td>\n",
       "    </tr>\n",
       "    <tr>\n",
       "      <th>1992-01-03</th>\n",
       "      <td>2177</td>\n",
       "    </tr>\n",
       "    <tr>\n",
       "      <th>1992-01-04</th>\n",
       "      <td>2601</td>\n",
       "    </tr>\n",
       "    <tr>\n",
       "      <th>1992-01-05</th>\n",
       "      <td>2171</td>\n",
       "    </tr>\n",
       "  </tbody>\n",
       "</table>\n",
       "</div>"
      ],
      "text/plain": [
       "            Retail_Sales\n",
       "DATE                    \n",
       "1992-01-01          1744\n",
       "1992-01-02          1990\n",
       "1992-01-03          2177\n",
       "1992-01-04          2601\n",
       "1992-01-05          2171"
      ]
     },
     "execution_count": 12,
     "metadata": {},
     "output_type": "execute_result"
    }
   ],
   "source": [
    "df.head()"
   ]
  },
  {
   "cell_type": "code",
   "execution_count": 13,
   "metadata": {},
   "outputs": [
    {
     "data": {
      "image/png": "[encoded data removed]",
      "text/plain": [
       "<Figure size 720x360 with 1 Axes>"
      ]
     },
     "metadata": {
      "needs_background": "light"
     },
     "output_type": "display_data"
    }
   ],
   "source": [
    "df.plot(figsize=(10,5))\n",
    "plt.show()"
   ]
  },
  {
   "cell_type": "code",
   "execution_count": 14,
   "metadata": {},
   "outputs": [],
   "source": [
    "df_train = df.iloc[:-12]\n",
    "df_test = df.iloc[-12:]"
   ]
  },
  {
   "cell_type": "code",
   "execution_count": 15,
   "metadata": {},
   "outputs": [],
   "source": [
    "import warnings\n",
    "warnings.filterwarnings(\"ignore\")"
   ]
  },
  {
   "cell_type": "markdown",
   "metadata": {},
   "source": [
    "## SES"
   ]
  },
  {
   "cell_type": "code",
   "execution_count": 16,
   "metadata": {},
   "outputs": [
    {
     "name": "stdout",
     "output_type": "stream",
     "text": [
      "                       SimpleExpSmoothing Model Results                       \n",
      "==============================================================================\n",
      "Dep. Variable:           Retail_Sales   No. Observations:                  328\n",
      "Model:             SimpleExpSmoothing   SSE                      119874850.760\n",
      "Optimized:                      False   AIC                           4205.334\n",
      "Trend:                           None   BIC                           4212.920\n",
      "Seasonal:                        None   AICC                          4205.458\n",
      "Seasonal Periods:                None   Date:                 Tue, 22 Dec 2020\n",
      "Box-Cox:                        False   Time:                         07:14:12\n",
      "Box-Cox Coeff.:                  None                                         \n",
      "==============================================================================\n",
      "                       coeff                 code              optimized      \n",
      "------------------------------------------------------------------------------\n",
      "smoothing_level            0.2000000                alpha                False\n",
      "initial_level              1744.0000                  l.0                False\n",
      "------------------------------------------------------------------------------\n"
     ]
    }
   ],
   "source": [
    "fit1 = SimpleExpSmoothing(df_train).fit(smoothing_level=0.2,optimized=False)\n",
    "print(fit1.summary())\n",
    "fcast1 = fit1.forecast(12).rename(r'$\\alpha=0.2$')"
   ]
  },
  {
   "cell_type": "markdown",
   "metadata": {},
   "source": [
    "In fit3, we use the auto-optimization that allow statsmodels to automatically find an optimized value for us. This is the recommended approach."
   ]
  },
  {
   "cell_type": "code",
   "execution_count": 17,
   "metadata": {},
   "outputs": [
    {
     "name": "stdout",
     "output_type": "stream",
     "text": [
      "                       SimpleExpSmoothing Model Results                       \n",
      "==============================================================================\n",
      "Dep. Variable:           Retail_Sales   No. Observations:                  328\n",
      "Model:             SimpleExpSmoothing   SSE                       92167770.776\n",
      "Optimized:                       True   AIC                           4119.123\n",
      "Trend:                           None   BIC                           4126.709\n",
      "Seasonal:                        None   AICC                          4119.247\n",
      "Seasonal Periods:                None   Date:                 Tue, 22 Dec 2020\n",
      "Box-Cox:                        False   Time:                         07:15:01\n",
      "Box-Cox Coeff.:                  None                                         \n",
      "==============================================================================\n",
      "                       coeff                 code              optimized      \n",
      "------------------------------------------------------------------------------\n",
      "smoothing_level            0.9604651                alpha                 True\n",
      "initial_level              1744.0000                  l.0                 True\n",
      "------------------------------------------------------------------------------\n"
     ]
    }
   ],
   "source": [
    "fit2 = SimpleExpSmoothing(df_train).fit()\n",
    "print(fit2.summary())\n",
    "fcast2 = fit2.forecast(12).rename(r'$\\alpha=%s$'%fit2.model.params['smoothing_level'])"
   ]
  },
  {
   "cell_type": "markdown",
   "metadata": {},
   "source": [
    "## Holt's Method"
   ]
  },
  {
   "cell_type": "code",
   "execution_count": 18,
   "metadata": {},
   "outputs": [
    {
     "name": "stdout",
     "output_type": "stream",
     "text": [
      "                              Holt Model Results                              \n",
      "==============================================================================\n",
      "Dep. Variable:           Retail_Sales   No. Observations:                  328\n",
      "Model:                           Holt   SSE                      111088309.338\n",
      "Optimized:                      False   AIC                           4184.366\n",
      "Trend:                       Additive   BIC                           4199.538\n",
      "Seasonal:                        None   AICC                          4184.627\n",
      "Seasonal Periods:                None   Date:                 Tue, 22 Dec 2020\n",
      "Box-Cox:                        False   Time:                         07:15:53\n",
      "Box-Cox Coeff.:                  None                                         \n",
      "==============================================================================\n",
      "                       coeff                 code              optimized      \n",
      "------------------------------------------------------------------------------\n",
      "smoothing_level            0.8000000                alpha                False\n",
      "smoothing_trend            0.2000000                 beta                False\n",
      "initial_level              1744.0000                  l.0                False\n",
      "initial_trend              246.00000                  b.0                False\n",
      "------------------------------------------------------------------------------\n"
     ]
    }
   ],
   "source": [
    "fit1 = Holt(df_train).fit(smoothing_level=0.8, smoothing_slope=0.2, optimized=False)\n",
    "print(fit1.summary())\n",
    "fcast1 = fit1.forecast(12).rename(\"Holt's linear trend\")"
   ]
  },
  {
   "cell_type": "code",
   "execution_count": 19,
   "metadata": {},
   "outputs": [
    {
     "name": "stdout",
     "output_type": "stream",
     "text": [
      "328    10849.433994\n",
      "329    11055.548523\n",
      "330    11261.663052\n",
      "331    11467.777581\n",
      "332    11673.892110\n",
      "333    11880.006639\n",
      "334    12086.121168\n",
      "335    12292.235697\n",
      "336    12498.350226\n",
      "337    12704.464755\n",
      "338    12910.579283\n",
      "339    13116.693812\n",
      "Name: Holt's linear trend, dtype: float64\n"
     ]
    }
   ],
   "source": [
    "print(fcast1)"
   ]
  },
  {
   "cell_type": "markdown",
   "metadata": {},
   "source": [
    "## Holt Winters"
   ]
  },
  {
   "cell_type": "code",
   "execution_count": 20,
   "metadata": {},
   "outputs": [
    {
     "name": "stdout",
     "output_type": "stream",
     "text": [
      "                       ExponentialSmoothing Model Results                       \n",
      "================================================================================\n",
      "Dep. Variable:             Retail_Sales   No. Observations:                  328\n",
      "Model:             ExponentialSmoothing   SSE                       22756985.616\n",
      "Optimized:                         True   AIC                           3688.337\n",
      "Trend:                         Additive   BIC                           3749.025\n",
      "Seasonal:                      Additive   AICC                          3690.551\n",
      "Seasonal Periods:                    12   Date:                 Tue, 22 Dec 2020\n",
      "Box-Cox:                          False   Time:                         07:17:22\n",
      "Box-Cox Coeff.:                    None                                         \n",
      "=================================================================================\n",
      "                          coeff                 code              optimized      \n",
      "---------------------------------------------------------------------------------\n",
      "smoothing_level               0.4013376                alpha                 True\n",
      "smoothing_trend               0.0003295                 beta                 True\n",
      "smoothing_seasonal            0.4300344                gamma                 True\n",
      "initial_level                 5266.0465                  l.0                 True\n",
      "initial_trend                 23.955832                  b.0                 True\n",
      "initial_seasons.0            -3523.6123                  s.0                 True\n",
      "initial_seasons.1            -3279.7842                  s.1                 True\n",
      "initial_seasons.2            -3093.1408                  s.2                 True\n",
      "initial_seasons.3            -2679.9920                  s.3                 True\n",
      "initial_seasons.4            -3103.9854                  s.4                 True\n",
      "initial_seasons.5            -3068.4441                  s.5                 True\n",
      "initial_seasons.6            -3024.6785                  s.6                 True\n",
      "initial_seasons.7            -3187.2288                  s.7                 True\n",
      "initial_seasons.8            -3261.7857                  s.8                 True\n",
      "initial_seasons.9            -3127.8598                  s.9                 True\n",
      "initial_seasons.10           -3604.6658                 s.10                 True\n",
      "initial_seasons.11           -3691.7932                 s.11                 True\n",
      "---------------------------------------------------------------------------------\n"
     ]
    }
   ],
   "source": [
    "#additive\n",
    "model = HWES(df_train, seasonal_periods=12, trend='add', seasonal='add')\n",
    "fitted = model.fit()\n",
    "print(fitted.summary())"
   ]
  },
  {
   "cell_type": "code",
   "execution_count": 21,
   "metadata": {},
   "outputs": [
    {
     "name": "stdout",
     "output_type": "stream",
     "text": [
      "                       ExponentialSmoothing Model Results                       \n",
      "================================================================================\n",
      "Dep. Variable:             Retail_Sales   No. Observations:                  328\n",
      "Model:             ExponentialSmoothing   SSE                       23449173.977\n",
      "Optimized:                         True   AIC                           3698.165\n",
      "Trend:                         Additive   BIC                           3758.853\n",
      "Seasonal:                Multiplicative   AICC                          3700.379\n",
      "Seasonal Periods:                    12   Date:                 Tue, 22 Dec 2020\n",
      "Box-Cox:                          False   Time:                         07:17:36\n",
      "Box-Cox Coeff.:                    None                                         \n",
      "=================================================================================\n",
      "                          coeff                 code              optimized      \n",
      "---------------------------------------------------------------------------------\n",
      "smoothing_level               0.3941808                alpha                 True\n",
      "smoothing_trend               0.0002647                 beta                 True\n",
      "smoothing_seasonal            0.4128865                gamma                 True\n",
      "initial_level                 5272.8335                  l.0                 True\n",
      "initial_trend                 57.685172                  b.0                 True\n",
      "initial_seasons.0             0.3773387                  s.0                 True\n",
      "initial_seasons.1             0.4187835                  s.1                 True\n",
      "initial_seasons.2             0.4565324                  s.2                 True\n",
      "initial_seasons.3             0.5090397                  s.3                 True\n",
      "initial_seasons.4             0.4425943                  s.4                 True\n",
      "initial_seasons.5             0.4482427                  s.5                 True\n",
      "initial_seasons.6             0.4579633                  s.6                 True\n",
      "initial_seasons.7             0.4393566                  s.7                 True\n",
      "initial_seasons.8             0.4148508                  s.8                 True\n",
      "initial_seasons.9             0.4399782                  s.9                 True\n",
      "initial_seasons.10            0.3843904                 s.10                 True\n",
      "initial_seasons.11            0.3534129                 s.11                 True\n",
      "---------------------------------------------------------------------------------\n"
     ]
    }
   ],
   "source": [
    "model = HWES(df_train, seasonal_periods=12, trend='add', seasonal='mul')\n",
    "fitted = model.fit()\n",
    "print(fitted.summary())"
   ]
  },
  {
   "cell_type": "code",
   "execution_count": 24,
   "metadata": {},
   "outputs": [],
   "source": [
    "sales_forecast = fitted.forecast(steps=12)"
   ]
  },
  {
   "cell_type": "code",
   "execution_count": 25,
   "metadata": {},
   "outputs": [
    {
     "data": {
      "image/png": "[encoded data removed]",
      "text/plain": [
       "<Figure size 720x360 with 1 Axes>"
      ]
     },
     "metadata": {
      "needs_background": "light"
     },
     "output_type": "display_data"
    }
   ],
   "source": [
    "fig = plt.figure(figsize=(10,5))\n",
    "fig.suptitle('Retail Sales of Used Cars in the US (1992-2020)')\n",
    "past, = plt.plot(df_train.index, df_train, 'b.-', label='Sales History')\n",
    "future, = plt.plot(df_test.index, df_test, 'r.-', label='Actual Sales')\n",
    "predicted_future, = plt.plot(df_test.index, sales_forecast, 'g.-', label='Sales Forecast')\n",
    "plt.legend(handles=[past, future, predicted_future])\n",
    "plt.show()"
   ]
  },
  {
   "cell_type": "code",
   "execution_count": null,
   "metadata": {},
   "outputs": [],
   "source": []
  },
  {
   "cell_type": "code",
   "execution_count": null,
   "metadata": {},
   "outputs": [],
   "source": [
    "#from statsmodels.tsa.holtwinters import ExponentialSmoothing as HWES"
   ]
  },
  {
   "cell_type": "markdown",
   "metadata": {},
   "source": [
    "###### yang atas : https://towardsdatascience.com/holt-winters-exponential-smoothing-d703072c0572"
   ]
  },
  {
   "cell_type": "markdown",
   "metadata": {},
   "source": [
    "###### https://www.kaggle.com/krish525/holtwinters"
   ]
  },
  {
   "cell_type": "code",
   "execution_count": null,
   "metadata": {},
   "outputs": [],
   "source": [
    "!pip install timeseries"
   ]
  },
  {
   "cell_type": "code",
   "execution_count": null,
   "metadata": {},
   "outputs": [],
   "source": [
    "pip install time-series"
   ]
  },
  {
   "cell_type": "code",
   "execution_count": null,
   "metadata": {},
   "outputs": [],
   "source": [
    "pip install statsmodels --upgrade"
   ]
  },
  {
   "cell_type": "code",
   "execution_count": null,
   "metadata": {},
   "outputs": [],
   "source": [
    "from time_series import TimeSeries\n",
    "\n",
    "# Imports for data visualization\n",
    "import matplotlib.pyplot as plt\n",
    "from pandas.plotting import register_matplotlib_converters\n",
    "from matplotlib.dates import DateFormatter\n",
    "from matplotlib import dates as mpld\n",
    "\n",
    "register_matplotlib_converters()"
   ]
  },
  {
   "cell_type": "code",
   "execution_count": null,
   "metadata": {},
   "outputs": [],
   "source": [
    "import pandas as pd\n",
    "data = pd.read_csv('F:/Course/youtube/41. Eksponential Smoothing/data_hw.csv')\n",
    "ts = TimeSeries(data, train_size=0.8)\n",
    "\n",
    "print(\"Sales Data\")\n",
    "print(ts.data.describe())\n",
    "\n",
    "print(\"Head and Tail of the time series\")\n",
    "print(ts.data.head(5).iloc[:,1])\n",
    "print(ts.data.tail(5).iloc[:,1])"
   ]
  },
  {
   "cell_type": "code",
   "execution_count": null,
   "metadata": {},
   "outputs": [],
   "source": [
    "from statsmodels.tsa.seasonal import seasonal_decompose\n",
    "\n",
    "result_add = seasonal_decompose(ts.data.iloc[:,1],period=12,model='additive')\n",
    "result_add.plot()\n",
    "plt.gcf().autofmt_xdate()\n",
    "date_format = mpld.DateFormatter('%y-%m')\n",
    "plt.gca().xaxis.set_major_formatter(date_format)\n",
    "\n",
    "result_mul = seasonal_decompose(ts.data.iloc[:,1],period=12,model='multiplicative')\n",
    "result_mul.plot()\n",
    "plt.gcf().autofmt_xdate()\n",
    "date_format = mpld.DateFormatter('%y-%m')\n",
    "plt.gca().xaxis.set_major_formatter(date_format)\n",
    "plt.show()"
   ]
  },
  {
   "cell_type": "code",
   "execution_count": null,
   "metadata": {},
   "outputs": [],
   "source": [
    "from statsmodels.tsa.holtwinters import ExponentialSmoothing\n",
    "# Scaling down the data by a factor of 1000\n",
    "ts.set_scale(1000)\n",
    "\n",
    "# Training the model\n",
    "model = ExponentialSmoothing(ts.train,trend='additive',seasonal='additive',seasonal_periods=12).fit(damping_slope=1)\n",
    "plt.plot(ts.train.index,ts.train,label=\"Train\")\n",
    "plt.plot(ts.test.index,ts.test,label=\"Actual\")\n",
    "\n",
    "# Create a 5 year forecast\n",
    "plt.plot(model.forecast(60),label=\"Forecast\")\n",
    "\n",
    "plt.legend(['Train','Actual','Forecast'])\n",
    "plt.gcf().autofmt_xdate()\n",
    "date_format = mpld.DateFormatter('%Y-%m')\n",
    "plt.gca().xaxis.set_major_formatter(date_format)\n",
    "plt.title(\"Sales Data Analysis (2013-2016)\")\n",
    "plt.xlabel(\"Time\")\n",
    "plt.ylabel(\"Sales (x1000)\")\n",
    "plt.show()"
   ]
  },
  {
   "cell_type": "code",
   "execution_count": null,
   "metadata": {},
   "outputs": [],
   "source": [
    "from statsmodels.tsa.holtwinters import ExponentialSmoothing\n",
    "\n",
    "ts = TimeSeries(data, train_size=0.8)\n",
    "# Additive model\n",
    "model_add = ExponentialSmoothing(ts.data.iloc[:,1],trend='additive',seasonal='additive',seasonal_periods=12,damped=True).fit(damping_slope=0.98)\n",
    "prediction = model_add.predict(start=ts.data.iloc[:,1].index[0],end=ts.data.iloc[:,1].index[-1])\n",
    "\n",
    "plt.plot(ts.data.iloc[:,1].index,ts.data.iloc[:,1],label=\"Train\")\n",
    "plt.plot(ts.data.iloc[:,1].index,prediction,label=\"Model\")\n",
    "plt.plot(model_add.forecast(60))\n",
    "\n",
    "plt.legend(['Actual','Model','Forecast'])\n",
    "plt.gcf().autofmt_xdate()\n",
    "date_format = mpld.DateFormatter('%Y-%m')\n",
    "plt.gca().xaxis.set_major_formatter(date_format)\n",
    "plt.title(\"Sales Data Analysis (2013-2016)\")\n",
    "plt.xlabel(\"Time\")\n",
    "plt.ylabel(\"Sales\")\n",
    "plt.show()\n",
    "\n",
    "\n",
    "# Multiplicative model\n",
    "model_mul = ExponentialSmoothing(ts.data.iloc[:,1],trend='additive',seasonal='multiplicative',seasonal_periods=12,damped=True).fit()\n",
    "prediction = model_mul.predict(start=ts.data.iloc[:,1].index[0],end=ts.data.iloc[:,1].index[-1])\n",
    "\n",
    "plt.plot(ts.data.iloc[:,1].index,ts.data.iloc[:,1],label=\"Train\")\n",
    "plt.plot(ts.data.iloc[:,1].index,prediction,label=\"Model\")\n",
    "plt.plot(model_mul.forecast(60))\n",
    "plt.legend(['Actual','Model','Forecast'])\n",
    "plt.gcf().autofmt_xdate()\n",
    "date_format = mpld.DateFormatter('%Y-%m')\n",
    "plt.gca().xaxis.set_major_formatter(date_format)\n",
    "plt.title(\"Sales Data Analysis (2013-2016)\")\n",
    "plt.xlabel(\"Time\")\n",
    "plt.ylabel(\"Sales\")\n",
    "plt.show()"
   ]
  },
  {
   "cell_type": "markdown",
   "metadata": {},
   "source": [
    "###### https://medium.com/datadriveninvestor/how-to-build-exponential-smoothing-models-using-python-simple-exponential-smoothing-holt-and-da371189e1a1"
   ]
  },
  {
   "cell_type": "code",
   "execution_count": null,
   "metadata": {},
   "outputs": [],
   "source": [
    "from statsmodels.tsa.api import ExponentialSmoothing, SimpleExpSmoothing, Holt"
   ]
  },
  {
   "cell_type": "code",
   "execution_count": null,
   "metadata": {},
   "outputs": [],
   "source": [
    "df.plot.line(x = 'YEAR_MONTH_SALE_DATE', \n",
    "             y = 'COUNT_YEAR_MONTH_SALE_SAMPLE')\n",
    "plt.show()"
   ]
  },
  {
   "cell_type": "code",
   "execution_count": null,
   "metadata": {},
   "outputs": [],
   "source": [
    "# Simple Exponential Smoothing\n",
    "fit1 = SimpleExpSmoothing(df).fit(smoothing_level=0.2,optimized=False)\n",
    "fcast1 = fit1.forecast(12).rename(r'$\\alpha=0.2$')\n",
    "# plot\n",
    "#fcast1.plot(marker='o', color='blue', legend=True)\n",
    "#fit1.fittedvalues.plot(marker='o',  color='blue')\n",
    "\n",
    "\n",
    "\n",
    "fit2 = SimpleExpSmoothing(df).fit(smoothing_level=0.6,optimized=False)\n",
    "fcast2 = fit2.forecast(12).rename(r'$\\alpha=0.6$')\n",
    "# plot\n",
    "#fcast2.plot(marker='o', color='red', legend=True)\n",
    "#fit2.fittedvalues.plot(marker='o', color='red')\n",
    "\n",
    "\n",
    "fit3 = SimpleExpSmoothing(df).fit()\n",
    "fcast3 = fit3.forecast(12).rename(r'$\\alpha=%s$'%fit3.model.params['smoothing_level'])\n",
    "# plot\n",
    "#fcast3.plot(marker='o', color='green', legend=True)\n",
    "#fit3.fittedvalues.plot(marker='o', color='green')\n",
    "\n",
    "#plt.show()"
   ]
  },
  {
   "cell_type": "code",
   "execution_count": null,
   "metadata": {},
   "outputs": [],
   "source": [
    "#holt\n",
    "\n",
    "fit1 = Holt(saledata).fit(smoothing_level=0.8, smoothing_slope=0.2, optimized=False)\n",
    "fcast1 = fit1.forecast(12).rename(\"Holt's linear trend\")\n",
    "\n",
    "fit2 = Holt(saledata, exponential=True).fit(smoothing_level=0.8, smoothing_slope=0.2, optimized=False)\n",
    "fcast2 = fit2.forecast(12).rename(\"Exponential trend\")\n",
    "\n",
    "fit3 = Holt(saledata, damped=True).fit(smoothing_level=0.8, smoothing_slope=0.2)\n",
    "fcast3 = fit3.forecast(12).rename(\"Additive damped trend\")\n",
    "\n",
    "\n",
    "fit1.fittedvalues.plot(marker=\"o\", color='blue')\n",
    "fcast1.plot(color='blue', marker=\"o\", legend=True)\n",
    "fit2.fittedvalues.plot(marker=\"o\", color='red')\n",
    "fcast2.plot(color='red', marker=\"o\", legend=True)\n",
    "fit3.fittedvalues.plot(marker=\"o\", color='green')\n",
    "fcast3.plot(color='green', marker=\"o\", legend=True)\n",
    "\n",
    "plt.show()"
   ]
  },
  {
   "cell_type": "code",
   "execution_count": null,
   "metadata": {},
   "outputs": [],
   "source": [
    "#holt winters\n",
    "fit1 = ExponentialSmoothing(saledata, seasonal_periods=4, trend='add', seasonal='add').fit(use_boxcox=True)\n",
    "fit2 = ExponentialSmoothing(saledata, seasonal_periods=4, trend='add', seasonal='mul').fit(use_boxcox=True)\n",
    "fit3 = ExponentialSmoothing(saledata, seasonal_periods=4, trend='add', seasonal='add', damped=True).fit(use_boxcox=True)\n",
    "fit4 = ExponentialSmoothing(saledata, seasonal_periods=4, trend='add', seasonal='mul', damped=True).fit(use_boxcox=True)\n",
    "fit1.fittedvalues.plot(style='--', color='red')\n",
    "fit2.fittedvalues.plot(style='--', color='green')\n",
    "\n",
    "fit1.forecast(12).plot(style='--', marker='o', color='red', legend=True)\n",
    "fit2.forecast(12).plot(style='--', marker='o', color='green', legend=True)\n",
    "\n",
    "plt.show()\n",
    "print(\"Forecasting sales of properties using Holt-Winters method with both additive and multiplicative seasonality.\")\n"
   ]
  },
  {
   "cell_type": "code",
   "execution_count": null,
   "metadata": {},
   "outputs": [],
   "source": []
  }
 ],
 "metadata": {
  "kernelspec": {
   "display_name": "Python 3",
   "language": "python",
   "name": "python3"
  },
  "language_info": {
   "codemirror_mode": {
    "name": "ipython",
    "version": 3
   },
   "file_extension": ".py",
   "mimetype": "text/x-python",
   "name": "python",
   "nbconvert_exporter": "python",
   "pygments_lexer": "ipython3",
   "version": "3.7.3"
  }
 },
 "nbformat": 4,
 "nbformat_minor": 2
}
