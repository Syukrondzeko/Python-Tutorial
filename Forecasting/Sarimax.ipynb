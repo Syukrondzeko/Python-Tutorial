{
 "cells": [
  {
   "cell_type": "code",
   "execution_count": 1,
   "metadata": {
    "executionInfo": {
     "elapsed": 1008,
     "status": "ok",
     "timestamp": 1609155609703,
     "user": {
      "displayName": "muhamad syukron",
      "photoUrl": "https://lh3.googleusercontent.com/a-/AOh14GgjAWl5BufQ4SqD9gPjo73ER4avxUyTeny2ssTd=s64",
      "userId": "15631103231316248908"
     },
     "user_tz": -420
    },
    "id": "GrAsx5hmvqWT"
   },
   "outputs": [],
   "source": [
    "import pandas as pd\n",
    "import matplotlib.pyplot as plt\n",
    "import seaborn as sns\n",
    "import numpy as np\n",
    "import statsmodels.api as sm"
   ]
  },
  {
   "cell_type": "code",
   "execution_count": 3,
   "metadata": {
    "executionInfo": {
     "elapsed": 1037,
     "status": "ok",
     "timestamp": 1609156412050,
     "user": {
      "displayName": "muhamad syukron",
      "photoUrl": "https://lh3.googleusercontent.com/a-/AOh14GgjAWl5BufQ4SqD9gPjo73ER4avxUyTeny2ssTd=s64",
      "userId": "15631103231316248908"
     },
     "user_tz": -420
    },
    "id": "QnieKUA2v8r8"
   },
   "outputs": [],
   "source": [
    "train = pd.read_csv('F:/Course/youtube/42. Sarimax/train.csv' ,parse_dates=['date'])\n",
    "test = pd.read_csv('F:/Course/youtube/42. Sarimax/test.csv', parse_dates=['date'])\n",
    "df = pd.concat([train,test],sort=True)"
   ]
  },
  {
   "cell_type": "code",
   "execution_count": 4,
   "metadata": {
    "colab": {
     "base_uri": "https://localhost:8080/"
    },
    "executionInfo": {
     "elapsed": 1114,
     "status": "ok",
     "timestamp": 1609156414319,
     "user": {
      "displayName": "muhamad syukron",
      "photoUrl": "https://lh3.googleusercontent.com/a-/AOh14GgjAWl5BufQ4SqD9gPjo73ER4avxUyTeny2ssTd=s64",
      "userId": "15631103231316248908"
     },
     "user_tz": -420
    },
    "id": "TKGIItkmyU0S",
    "outputId": "faadc2dc-f16f-428e-8873-b22072cb9287"
   },
   "outputs": [
    {
     "name": "stdout",
     "output_type": "stream",
     "text": [
      "<class 'pandas.core.frame.DataFrame'>\n",
      "Int64Index: 958000 entries, 0 to 44999\n",
      "Data columns (total 5 columns):\n",
      " #   Column  Non-Null Count   Dtype         \n",
      "---  ------  --------------   -----         \n",
      " 0   date    958000 non-null  datetime64[ns]\n",
      " 1   id      45000 non-null   float64       \n",
      " 2   item    958000 non-null  int64         \n",
      " 3   sales   913000 non-null  float64       \n",
      " 4   store   958000 non-null  int64         \n",
      "dtypes: datetime64[ns](1), float64(2), int64(2)\n",
      "memory usage: 43.9 MB\n"
     ]
    }
   ],
   "source": [
    "df.info()"
   ]
  },
  {
   "cell_type": "code",
   "execution_count": 5,
   "metadata": {
    "colab": {
     "base_uri": "https://localhost:8080/",
     "height": 204
    },
    "executionInfo": {
     "elapsed": 1097,
     "status": "ok",
     "timestamp": 1609156416402,
     "user": {
      "displayName": "muhamad syukron",
      "photoUrl": "https://lh3.googleusercontent.com/a-/AOh14GgjAWl5BufQ4SqD9gPjo73ER4avxUyTeny2ssTd=s64",
      "userId": "15631103231316248908"
     },
     "user_tz": -420
    },
    "id": "ng2PSp9HJACG",
    "outputId": "78250a3d-882a-4e9d-b7b6-4379e530b7e4"
   },
   "outputs": [
    {
     "data": {
      "text/html": [
       "<div>\n",
       "<style scoped>\n",
       "    .dataframe tbody tr th:only-of-type {\n",
       "        vertical-align: middle;\n",
       "    }\n",
       "\n",
       "    .dataframe tbody tr th {\n",
       "        vertical-align: top;\n",
       "    }\n",
       "\n",
       "    .dataframe thead th {\n",
       "        text-align: right;\n",
       "    }\n",
       "</style>\n",
       "<table border=\"1\" class=\"dataframe\">\n",
       "  <thead>\n",
       "    <tr style=\"text-align: right;\">\n",
       "      <th></th>\n",
       "      <th>date</th>\n",
       "      <th>id</th>\n",
       "      <th>item</th>\n",
       "      <th>sales</th>\n",
       "      <th>store</th>\n",
       "      <th>tahun</th>\n",
       "    </tr>\n",
       "  </thead>\n",
       "  <tbody>\n",
       "    <tr>\n",
       "      <th>0</th>\n",
       "      <td>2013-01-01</td>\n",
       "      <td>NaN</td>\n",
       "      <td>1</td>\n",
       "      <td>13.0</td>\n",
       "      <td>1</td>\n",
       "      <td>2013</td>\n",
       "    </tr>\n",
       "    <tr>\n",
       "      <th>1</th>\n",
       "      <td>2013-01-02</td>\n",
       "      <td>NaN</td>\n",
       "      <td>1</td>\n",
       "      <td>11.0</td>\n",
       "      <td>1</td>\n",
       "      <td>2013</td>\n",
       "    </tr>\n",
       "    <tr>\n",
       "      <th>2</th>\n",
       "      <td>2013-01-03</td>\n",
       "      <td>NaN</td>\n",
       "      <td>1</td>\n",
       "      <td>14.0</td>\n",
       "      <td>1</td>\n",
       "      <td>2013</td>\n",
       "    </tr>\n",
       "    <tr>\n",
       "      <th>3</th>\n",
       "      <td>2013-01-04</td>\n",
       "      <td>NaN</td>\n",
       "      <td>1</td>\n",
       "      <td>13.0</td>\n",
       "      <td>1</td>\n",
       "      <td>2013</td>\n",
       "    </tr>\n",
       "    <tr>\n",
       "      <th>4</th>\n",
       "      <td>2013-01-05</td>\n",
       "      <td>NaN</td>\n",
       "      <td>1</td>\n",
       "      <td>10.0</td>\n",
       "      <td>1</td>\n",
       "      <td>2013</td>\n",
       "    </tr>\n",
       "  </tbody>\n",
       "</table>\n",
       "</div>"
      ],
      "text/plain": [
       "        date  id  item  sales  store  tahun\n",
       "0 2013-01-01 NaN     1   13.0      1   2013\n",
       "1 2013-01-02 NaN     1   11.0      1   2013\n",
       "2 2013-01-03 NaN     1   14.0      1   2013\n",
       "3 2013-01-04 NaN     1   13.0      1   2013\n",
       "4 2013-01-05 NaN     1   10.0      1   2013"
      ]
     },
     "execution_count": 5,
     "metadata": {},
     "output_type": "execute_result"
    }
   ],
   "source": [
    "df['tahun']=df['date'].dt.year\n",
    "df.head()"
   ]
  },
  {
   "cell_type": "code",
   "execution_count": 6,
   "metadata": {
    "executionInfo": {
     "elapsed": 1076,
     "status": "ok",
     "timestamp": 1609156423790,
     "user": {
      "displayName": "muhamad syukron",
      "photoUrl": "https://lh3.googleusercontent.com/a-/AOh14GgjAWl5BufQ4SqD9gPjo73ER4avxUyTeny2ssTd=s64",
      "userId": "15631103231316248908"
     },
     "user_tz": -420
    },
    "id": "xfNdx-ekJlqv"
   },
   "outputs": [],
   "source": [
    "df=df.loc[(df['tahun'] == 2016) & (df['store'] == 1) & (df['item'] == 1)]"
   ]
  },
  {
   "cell_type": "code",
   "execution_count": 7,
   "metadata": {
    "colab": {
     "base_uri": "https://localhost:8080/"
    },
    "executionInfo": {
     "elapsed": 984,
     "status": "ok",
     "timestamp": 1609156092773,
     "user": {
      "displayName": "muhamad syukron",
      "photoUrl": "https://lh3.googleusercontent.com/a-/AOh14GgjAWl5BufQ4SqD9gPjo73ER4avxUyTeny2ssTd=s64",
      "userId": "15631103231316248908"
     },
     "user_tz": -420
    },
    "id": "ZwvtChsCKo0A",
    "outputId": "f1d88afa-7341-4553-bb44-32dd10428a28"
   },
   "outputs": [
    {
     "data": {
      "text/plain": [
       "(366, 6)"
      ]
     },
     "execution_count": 7,
     "metadata": {},
     "output_type": "execute_result"
    }
   ],
   "source": [
    "df.shape"
   ]
  },
  {
   "cell_type": "code",
   "execution_count": 8,
   "metadata": {
    "executionInfo": {
     "elapsed": 1019,
     "status": "ok",
     "timestamp": 1609156426446,
     "user": {
      "displayName": "muhamad syukron",
      "photoUrl": "https://lh3.googleusercontent.com/a-/AOh14GgjAWl5BufQ4SqD9gPjo73ER4avxUyTeny2ssTd=s64",
      "userId": "15631103231316248908"
     },
     "user_tz": -420
    },
    "id": "7O6P3sStJSr4"
   },
   "outputs": [],
   "source": [
    "df=df.drop(['id','item','store','tahun'], axis=1)"
   ]
  },
  {
   "cell_type": "code",
   "execution_count": 9,
   "metadata": {},
   "outputs": [
    {
     "data": {
      "text/html": [
       "<div>\n",
       "<style scoped>\n",
       "    .dataframe tbody tr th:only-of-type {\n",
       "        vertical-align: middle;\n",
       "    }\n",
       "\n",
       "    .dataframe tbody tr th {\n",
       "        vertical-align: top;\n",
       "    }\n",
       "\n",
       "    .dataframe thead th {\n",
       "        text-align: right;\n",
       "    }\n",
       "</style>\n",
       "<table border=\"1\" class=\"dataframe\">\n",
       "  <thead>\n",
       "    <tr style=\"text-align: right;\">\n",
       "      <th></th>\n",
       "      <th>date</th>\n",
       "      <th>sales</th>\n",
       "    </tr>\n",
       "  </thead>\n",
       "  <tbody>\n",
       "    <tr>\n",
       "      <th>1095</th>\n",
       "      <td>2016-01-01</td>\n",
       "      <td>21.0</td>\n",
       "    </tr>\n",
       "    <tr>\n",
       "      <th>1096</th>\n",
       "      <td>2016-01-02</td>\n",
       "      <td>13.0</td>\n",
       "    </tr>\n",
       "    <tr>\n",
       "      <th>1097</th>\n",
       "      <td>2016-01-03</td>\n",
       "      <td>12.0</td>\n",
       "    </tr>\n",
       "    <tr>\n",
       "      <th>1098</th>\n",
       "      <td>2016-01-04</td>\n",
       "      <td>12.0</td>\n",
       "    </tr>\n",
       "    <tr>\n",
       "      <th>1099</th>\n",
       "      <td>2016-01-05</td>\n",
       "      <td>12.0</td>\n",
       "    </tr>\n",
       "  </tbody>\n",
       "</table>\n",
       "</div>"
      ],
      "text/plain": [
       "           date  sales\n",
       "1095 2016-01-01   21.0\n",
       "1096 2016-01-02   13.0\n",
       "1097 2016-01-03   12.0\n",
       "1098 2016-01-04   12.0\n",
       "1099 2016-01-05   12.0"
      ]
     },
     "execution_count": 9,
     "metadata": {},
     "output_type": "execute_result"
    }
   ],
   "source": [
    "df.head()"
   ]
  },
  {
   "cell_type": "code",
   "execution_count": 10,
   "metadata": {
    "colab": {
     "base_uri": "https://localhost:8080/",
     "height": 204
    },
    "executionInfo": {
     "elapsed": 1078,
     "status": "ok",
     "timestamp": 1609156437879,
     "user": {
      "displayName": "muhamad syukron",
      "photoUrl": "https://lh3.googleusercontent.com/a-/AOh14GgjAWl5BufQ4SqD9gPjo73ER4avxUyTeny2ssTd=s64",
      "userId": "15631103231316248908"
     },
     "user_tz": -420
    },
    "id": "qSdI23lMyamz",
    "outputId": "6973ad73-28a7-444e-8657-b7812f6a10ae"
   },
   "outputs": [
    {
     "data": {
      "text/html": [
       "<div>\n",
       "<style scoped>\n",
       "    .dataframe tbody tr th:only-of-type {\n",
       "        vertical-align: middle;\n",
       "    }\n",
       "\n",
       "    .dataframe tbody tr th {\n",
       "        vertical-align: top;\n",
       "    }\n",
       "\n",
       "    .dataframe thead th {\n",
       "        text-align: right;\n",
       "    }\n",
       "</style>\n",
       "<table border=\"1\" class=\"dataframe\">\n",
       "  <thead>\n",
       "    <tr style=\"text-align: right;\">\n",
       "      <th></th>\n",
       "      <th>date</th>\n",
       "      <th>sales</th>\n",
       "      <th>acak</th>\n",
       "    </tr>\n",
       "  </thead>\n",
       "  <tbody>\n",
       "    <tr>\n",
       "      <th>1095</th>\n",
       "      <td>2016-01-01</td>\n",
       "      <td>21.0</td>\n",
       "      <td>10</td>\n",
       "    </tr>\n",
       "    <tr>\n",
       "      <th>1096</th>\n",
       "      <td>2016-01-02</td>\n",
       "      <td>13.0</td>\n",
       "      <td>15</td>\n",
       "    </tr>\n",
       "    <tr>\n",
       "      <th>1097</th>\n",
       "      <td>2016-01-03</td>\n",
       "      <td>12.0</td>\n",
       "      <td>7</td>\n",
       "    </tr>\n",
       "    <tr>\n",
       "      <th>1098</th>\n",
       "      <td>2016-01-04</td>\n",
       "      <td>12.0</td>\n",
       "      <td>7</td>\n",
       "    </tr>\n",
       "    <tr>\n",
       "      <th>1099</th>\n",
       "      <td>2016-01-05</td>\n",
       "      <td>12.0</td>\n",
       "      <td>8</td>\n",
       "    </tr>\n",
       "  </tbody>\n",
       "</table>\n",
       "</div>"
      ],
      "text/plain": [
       "           date  sales  acak\n",
       "1095 2016-01-01   21.0    10\n",
       "1096 2016-01-02   13.0    15\n",
       "1097 2016-01-03   12.0     7\n",
       "1098 2016-01-04   12.0     7\n",
       "1099 2016-01-05   12.0     8"
      ]
     },
     "execution_count": 10,
     "metadata": {},
     "output_type": "execute_result"
    }
   ],
   "source": [
    "df['acak'] = np.random.randint(5,30,size=366)\n",
    "df.head()"
   ]
  },
  {
   "cell_type": "code",
   "execution_count": 11,
   "metadata": {
    "executionInfo": {
     "elapsed": 1278,
     "status": "ok",
     "timestamp": 1609156532126,
     "user": {
      "displayName": "muhamad syukron",
      "photoUrl": "https://lh3.googleusercontent.com/a-/AOh14GgjAWl5BufQ4SqD9gPjo73ER4avxUyTeny2ssTd=s64",
      "userId": "15631103231316248908"
     },
     "user_tz": -420
    },
    "id": "bzMKdONPNAB0"
   },
   "outputs": [],
   "source": [
    "df.set_index('date', inplace=True)"
   ]
  },
  {
   "cell_type": "code",
   "execution_count": 12,
   "metadata": {
    "colab": {
     "base_uri": "https://localhost:8080/",
     "height": 308
    },
    "executionInfo": {
     "elapsed": 1550,
     "status": "ok",
     "timestamp": 1609156534953,
     "user": {
      "displayName": "muhamad syukron",
      "photoUrl": "https://lh3.googleusercontent.com/a-/AOh14GgjAWl5BufQ4SqD9gPjo73ER4avxUyTeny2ssTd=s64",
      "userId": "15631103231316248908"
     },
     "user_tz": -420
    },
    "id": "w6Jit1NDwkgt",
    "outputId": "a63ae5b4-1c4c-4725-bc98-92643d17df63"
   },
   "outputs": [
    {
     "data": {
      "text/plain": [
       "<matplotlib.axes._subplots.AxesSubplot at 0x19b90003860>"
      ]
     },
     "execution_count": 12,
     "metadata": {},
     "output_type": "execute_result"
    },
    {
     "data": {
      "image/png": "[encoded data removed]",
      "text/plain": [
       "<Figure size 432x288 with 1 Axes>"
      ]
     },
     "metadata": {
      "needs_background": "light"
     },
     "output_type": "display_data"
    }
   ],
   "source": [
    "df['sales'].plot()"
   ]
  },
  {
   "cell_type": "code",
   "execution_count": 13,
   "metadata": {
    "colab": {
     "base_uri": "https://localhost:8080/"
    },
    "executionInfo": {
     "elapsed": 1184,
     "status": "ok",
     "timestamp": 1609156603054,
     "user": {
      "displayName": "muhamad syukron",
      "photoUrl": "https://lh3.googleusercontent.com/a-/AOh14GgjAWl5BufQ4SqD9gPjo73ER4avxUyTeny2ssTd=s64",
      "userId": "15631103231316248908"
     },
     "user_tz": -420
    },
    "id": "PCIZFOmqNIpz",
    "outputId": "9060345f-99fc-4793-f046-c62b4a2e57b1"
   },
   "outputs": [
    {
     "data": {
      "text/plain": [
       "False"
      ]
     },
     "execution_count": 13,
     "metadata": {},
     "output_type": "execute_result"
    }
   ],
   "source": [
    "df.isnull().values.any()"
   ]
  },
  {
   "cell_type": "code",
   "execution_count": 14,
   "metadata": {
    "colab": {
     "base_uri": "https://localhost:8080/"
    },
    "executionInfo": {
     "elapsed": 1386,
     "status": "ok",
     "timestamp": 1609156616836,
     "user": {
      "displayName": "muhamad syukron",
      "photoUrl": "https://lh3.googleusercontent.com/a-/AOh14GgjAWl5BufQ4SqD9gPjo73ER4avxUyTeny2ssTd=s64",
      "userId": "15631103231316248908"
     },
     "user_tz": -420
    },
    "id": "nzkQBhiQwUzV",
    "outputId": "a5b6d5f0-b46f-45d5-963a-6ae282c0346d"
   },
   "outputs": [
    {
     "name": "stdout",
     "output_type": "stream",
     "text": [
      "p-value:0.3914250398272302\n"
     ]
    }
   ],
   "source": [
    "#ADF-test(Original-time-series)\n",
    "res = sm.tsa.adfuller(df['sales'])\n",
    "print('p-value:{}'.format(res[1]))"
   ]
  },
  {
   "cell_type": "code",
   "execution_count": 15,
   "metadata": {
    "colab": {
     "base_uri": "https://localhost:8080/"
    },
    "executionInfo": {
     "elapsed": 1341,
     "status": "ok",
     "timestamp": 1609156666617,
     "user": {
      "displayName": "muhamad syukron",
      "photoUrl": "https://lh3.googleusercontent.com/a-/AOh14GgjAWl5BufQ4SqD9gPjo73ER4avxUyTeny2ssTd=s64",
      "userId": "15631103231316248908"
     },
     "user_tz": -420
    },
    "id": "vhCrcfCfwVbu",
    "outputId": "d2077c5f-8ba1-4c9b-f983-f33c9a4c6389"
   },
   "outputs": [
    {
     "name": "stdout",
     "output_type": "stream",
     "text": [
      "p-value:8.367878477067533e-17\n"
     ]
    }
   ],
   "source": [
    "#ADF-test(differenced-time-series)\n",
    "res = sm.tsa.adfuller(df['sales'].diff().dropna(),regression='c')\n",
    "print('p-value:{}'.format(res[1]))"
   ]
  },
  {
   "cell_type": "code",
   "execution_count": 16,
   "metadata": {
    "colab": {
     "base_uri": "https://localhost:8080/",
     "height": 607
    },
    "executionInfo": {
     "elapsed": 1313,
     "status": "ok",
     "timestamp": 1609156741929,
     "user": {
      "displayName": "muhamad syukron",
      "photoUrl": "https://lh3.googleusercontent.com/a-/AOh14GgjAWl5BufQ4SqD9gPjo73ER4avxUyTeny2ssTd=s64",
      "userId": "15631103231316248908"
     },
     "user_tz": -420
    },
    "id": "wJc8Kpwowc8e",
    "outputId": "cd9f1d27-f5e4-4397-95ac-cfce96c39a6a"
   },
   "outputs": [
    {
     "data": {
      "image/png": "[encoded data removed]",
      "text/plain": [
       "<Figure size 1440x720 with 2 Axes>"
      ]
     },
     "metadata": {
      "needs_background": "light"
     },
     "output_type": "display_data"
    }
   ],
   "source": [
    "#acf pacf\n",
    "fig,ax = plt.subplots(2,1,figsize=(20,10))\n",
    "fig = sm.graphics.tsa.plot_acf(df['sales'].diff().dropna(), lags=50, ax=ax[0])\n",
    "fig = sm.graphics.tsa.plot_pacf(df['sales'].diff().dropna(), lags=50, ax=ax[1])\n",
    "plt.show()"
   ]
  },
  {
   "cell_type": "code",
   "execution_count": 17,
   "metadata": {
    "executionInfo": {
     "elapsed": 1111,
     "status": "ok",
     "timestamp": 1609157019287,
     "user": {
      "displayName": "muhamad syukron",
      "photoUrl": "https://lh3.googleusercontent.com/a-/AOh14GgjAWl5BufQ4SqD9gPjo73ER4avxUyTeny2ssTd=s64",
      "userId": "15631103231316248908"
     },
     "user_tz": -420
    },
    "id": "icBqS8hdwtKu"
   },
   "outputs": [],
   "source": [
    "import warnings\n",
    "warnings.filterwarnings(\"ignore\")\n",
    "from statsmodels.tsa.statespace.sarimax import SARIMAX\n",
    "modelku=SARIMAX(df['sales'],order=(2,1,7),seasonal_order=(1,1,1,8),exog=df['acak'])"
   ]
  },
  {
   "cell_type": "code",
   "execution_count": 18,
   "metadata": {
    "executionInfo": {
     "elapsed": 9997,
     "status": "ok",
     "timestamp": 1609157034658,
     "user": {
      "displayName": "muhamad syukron",
      "photoUrl": "https://lh3.googleusercontent.com/a-/AOh14GgjAWl5BufQ4SqD9gPjo73ER4avxUyTeny2ssTd=s64",
      "userId": "15631103231316248908"
     },
     "user_tz": -420
    },
    "id": "eFsIqYWPw6EN"
   },
   "outputs": [],
   "source": [
    "res=modelku.fit(disp=False)"
   ]
  },
  {
   "cell_type": "code",
   "execution_count": 19,
   "metadata": {
    "colab": {
     "base_uri": "https://localhost:8080/",
     "height": 633
    },
    "executionInfo": {
     "elapsed": 1110,
     "status": "ok",
     "timestamp": 1609157038761,
     "user": {
      "displayName": "muhamad syukron",
      "photoUrl": "https://lh3.googleusercontent.com/a-/AOh14GgjAWl5BufQ4SqD9gPjo73ER4avxUyTeny2ssTd=s64",
      "userId": "15631103231316248908"
     },
     "user_tz": -420
    },
    "id": "5pQ3ph_lxAWQ",
    "outputId": "20f69b3e-3073-42c5-95a4-0a1201d4ba41"
   },
   "outputs": [
    {
     "data": {
      "text/html": [
       "<table class=\"simpletable\">\n",
       "<caption>SARIMAX Results</caption>\n",
       "<tr>\n",
       "  <th>Dep. Variable:</th>                <td>sales</td>              <th>  No. Observations:  </th>    <td>366</td>   \n",
       "</tr>\n",
       "<tr>\n",
       "  <th>Model:</th>           <td>SARIMAX(2, 1, 7)x(1, 1, [1], 8)</td> <th>  Log Likelihood     </th> <td>-1117.457</td>\n",
       "</tr>\n",
       "<tr>\n",
       "  <th>Date:</th>                   <td>Sat, 02 Jan 2021</td>         <th>  AIC                </th> <td>2260.914</td> \n",
       "</tr>\n",
       "<tr>\n",
       "  <th>Time:</th>                       <td>05:37:11</td>             <th>  BIC                </th> <td>2311.325</td> \n",
       "</tr>\n",
       "<tr>\n",
       "  <th>Sample:</th>                    <td>01-01-2016</td>            <th>  HQIC               </th> <td>2280.965</td> \n",
       "</tr>\n",
       "<tr>\n",
       "  <th></th>                          <td>- 12-31-2016</td>           <th>                     </th>     <td> </td>    \n",
       "</tr>\n",
       "<tr>\n",
       "  <th>Covariance Type:</th>               <td>opg</td>               <th>                     </th>     <td> </td>    \n",
       "</tr>\n",
       "</table>\n",
       "<table class=\"simpletable\">\n",
       "<tr>\n",
       "     <td></td>        <th>coef</th>     <th>std err</th>      <th>z</th>      <th>P>|z|</th>  <th>[0.025</th>    <th>0.975]</th>  \n",
       "</tr>\n",
       "<tr>\n",
       "  <th>acak</th>    <td>   -0.0021</td> <td>    0.040</td> <td>   -0.052</td> <td> 0.958</td> <td>   -0.080</td> <td>    0.076</td>\n",
       "</tr>\n",
       "<tr>\n",
       "  <th>ar.L1</th>   <td>   -0.3033</td> <td>    0.057</td> <td>   -5.299</td> <td> 0.000</td> <td>   -0.415</td> <td>   -0.191</td>\n",
       "</tr>\n",
       "<tr>\n",
       "  <th>ar.L2</th>   <td>   -0.9063</td> <td>    0.056</td> <td>  -16.064</td> <td> 0.000</td> <td>   -1.017</td> <td>   -0.796</td>\n",
       "</tr>\n",
       "<tr>\n",
       "  <th>ma.L1</th>   <td>   -0.5411</td> <td>    0.085</td> <td>   -6.362</td> <td> 0.000</td> <td>   -0.708</td> <td>   -0.374</td>\n",
       "</tr>\n",
       "<tr>\n",
       "  <th>ma.L2</th>   <td>    0.5886</td> <td>    0.089</td> <td>    6.637</td> <td> 0.000</td> <td>    0.415</td> <td>    0.762</td>\n",
       "</tr>\n",
       "<tr>\n",
       "  <th>ma.L3</th>   <td>   -0.9225</td> <td>    0.080</td> <td>  -11.603</td> <td> 0.000</td> <td>   -1.078</td> <td>   -0.767</td>\n",
       "</tr>\n",
       "<tr>\n",
       "  <th>ma.L4</th>   <td>   -0.0016</td> <td>    0.082</td> <td>   -0.020</td> <td> 0.984</td> <td>   -0.163</td> <td>    0.160</td>\n",
       "</tr>\n",
       "<tr>\n",
       "  <th>ma.L5</th>   <td>   -0.1147</td> <td>    0.070</td> <td>   -1.644</td> <td> 0.100</td> <td>   -0.252</td> <td>    0.022</td>\n",
       "</tr>\n",
       "<tr>\n",
       "  <th>ma.L6</th>   <td>    0.1869</td> <td>    0.067</td> <td>    2.789</td> <td> 0.005</td> <td>    0.056</td> <td>    0.318</td>\n",
       "</tr>\n",
       "<tr>\n",
       "  <th>ma.L7</th>   <td>    0.0463</td> <td>    0.068</td> <td>    0.682</td> <td> 0.495</td> <td>   -0.087</td> <td>    0.179</td>\n",
       "</tr>\n",
       "<tr>\n",
       "  <th>ar.S.L8</th> <td>   -0.0211</td> <td>    0.070</td> <td>   -0.302</td> <td> 0.763</td> <td>   -0.158</td> <td>    0.116</td>\n",
       "</tr>\n",
       "<tr>\n",
       "  <th>ma.S.L8</th> <td>   -0.9715</td> <td>    0.054</td> <td>  -17.994</td> <td> 0.000</td> <td>   -1.077</td> <td>   -0.866</td>\n",
       "</tr>\n",
       "<tr>\n",
       "  <th>sigma2</th>  <td>   28.3921</td> <td>    2.453</td> <td>   11.572</td> <td> 0.000</td> <td>   23.583</td> <td>   33.201</td>\n",
       "</tr>\n",
       "</table>\n",
       "<table class=\"simpletable\">\n",
       "<tr>\n",
       "  <th>Ljung-Box (L1) (Q):</th>     <td>0.04</td> <th>  Jarque-Bera (JB):  </th> <td>1.24</td>\n",
       "</tr>\n",
       "<tr>\n",
       "  <th>Prob(Q):</th>                <td>0.85</td> <th>  Prob(JB):          </th> <td>0.54</td>\n",
       "</tr>\n",
       "<tr>\n",
       "  <th>Heteroskedasticity (H):</th> <td>1.15</td> <th>  Skew:              </th> <td>0.14</td>\n",
       "</tr>\n",
       "<tr>\n",
       "  <th>Prob(H) (two-sided):</th>    <td>0.43</td> <th>  Kurtosis:          </th> <td>3.08</td>\n",
       "</tr>\n",
       "</table><br/><br/>Warnings:<br/>[1] Covariance matrix calculated using the outer product of gradients (complex-step)."
      ],
      "text/plain": [
       "<class 'statsmodels.iolib.summary.Summary'>\n",
       "\"\"\"\n",
       "                                      SARIMAX Results                                      \n",
       "===========================================================================================\n",
       "Dep. Variable:                               sales   No. Observations:                  366\n",
       "Model:             SARIMAX(2, 1, 7)x(1, 1, [1], 8)   Log Likelihood               -1117.457\n",
       "Date:                             Sat, 02 Jan 2021   AIC                           2260.914\n",
       "Time:                                     05:37:11   BIC                           2311.325\n",
       "Sample:                                 01-01-2016   HQIC                          2280.965\n",
       "                                      - 12-31-2016                                         \n",
       "Covariance Type:                               opg                                         \n",
       "==============================================================================\n",
       "                 coef    std err          z      P>|z|      [0.025      0.975]\n",
       "------------------------------------------------------------------------------\n",
       "acak          -0.0021      0.040     -0.052      0.958      -0.080       0.076\n",
       "ar.L1         -0.3033      0.057     -5.299      0.000      -0.415      -0.191\n",
       "ar.L2         -0.9063      0.056    -16.064      0.000      -1.017      -0.796\n",
       "ma.L1         -0.5411      0.085     -6.362      0.000      -0.708      -0.374\n",
       "ma.L2          0.5886      0.089      6.637      0.000       0.415       0.762\n",
       "ma.L3         -0.9225      0.080    -11.603      0.000      -1.078      -0.767\n",
       "ma.L4         -0.0016      0.082     -0.020      0.984      -0.163       0.160\n",
       "ma.L5         -0.1147      0.070     -1.644      0.100      -0.252       0.022\n",
       "ma.L6          0.1869      0.067      2.789      0.005       0.056       0.318\n",
       "ma.L7          0.0463      0.068      0.682      0.495      -0.087       0.179\n",
       "ar.S.L8       -0.0211      0.070     -0.302      0.763      -0.158       0.116\n",
       "ma.S.L8       -0.9715      0.054    -17.994      0.000      -1.077      -0.866\n",
       "sigma2        28.3921      2.453     11.572      0.000      23.583      33.201\n",
       "===================================================================================\n",
       "Ljung-Box (L1) (Q):                   0.04   Jarque-Bera (JB):                 1.24\n",
       "Prob(Q):                              0.85   Prob(JB):                         0.54\n",
       "Heteroskedasticity (H):               1.15   Skew:                             0.14\n",
       "Prob(H) (two-sided):                  0.43   Kurtosis:                         3.08\n",
       "===================================================================================\n",
       "\n",
       "Warnings:\n",
       "[1] Covariance matrix calculated using the outer product of gradients (complex-step).\n",
       "\"\"\""
      ]
     },
     "execution_count": 19,
     "metadata": {},
     "output_type": "execute_result"
    }
   ],
   "source": [
    "res.summary()"
   ]
  },
  {
   "cell_type": "code",
   "execution_count": 20,
   "metadata": {
    "colab": {
     "base_uri": "https://localhost:8080/",
     "height": 525
    },
    "executionInfo": {
     "elapsed": 1994,
     "status": "ok",
     "timestamp": 1609157527553,
     "user": {
      "displayName": "muhamad syukron",
      "photoUrl": "https://lh3.googleusercontent.com/a-/AOh14GgjAWl5BufQ4SqD9gPjo73ER4avxUyTeny2ssTd=s64",
      "userId": "15631103231316248908"
     },
     "user_tz": -420
    },
    "id": "vhnIeD9FxEMx",
    "outputId": "c77451ec-bdfe-4a65-d080-66432c0edc6f"
   },
   "outputs": [
    {
     "data": {
      "text/plain": [
       "<matplotlib.axes._subplots.AxesSubplot at 0x19b90662710>"
      ]
     },
     "execution_count": 20,
     "metadata": {},
     "output_type": "execute_result"
    },
    {
     "data": {
      "image/png": "[encoded data removed]",
      "text/plain": [
       "<Figure size 576x360 with 1 Axes>"
      ]
     },
     "metadata": {
      "needs_background": "light"
     },
     "output_type": "display_data"
    }
   ],
   "source": [
    "df['forecast']=res.predict(start=300,end=365,dynamic=True,exog=df['acak'])\n",
    "df[['sales','forecast']].plot(figsize=(8,5))"
   ]
  },
  {
   "cell_type": "code",
   "execution_count": 21,
   "metadata": {
    "colab": {
     "base_uri": "https://localhost:8080/",
     "height": 235
    },
    "executionInfo": {
     "elapsed": 1193,
     "status": "ok",
     "timestamp": 1609157797931,
     "user": {
      "displayName": "muhamad syukron",
      "photoUrl": "https://lh3.googleusercontent.com/a-/AOh14GgjAWl5BufQ4SqD9gPjo73ER4avxUyTeny2ssTd=s64",
      "userId": "15631103231316248908"
     },
     "user_tz": -420
    },
    "id": "45-xKYYnRO2-",
    "outputId": "e722248d-73c3-4dda-8f88-764edc5863bf"
   },
   "outputs": [
    {
     "data": {
      "text/html": [
       "<div>\n",
       "<style scoped>\n",
       "    .dataframe tbody tr th:only-of-type {\n",
       "        vertical-align: middle;\n",
       "    }\n",
       "\n",
       "    .dataframe tbody tr th {\n",
       "        vertical-align: top;\n",
       "    }\n",
       "\n",
       "    .dataframe thead th {\n",
       "        text-align: right;\n",
       "    }\n",
       "</style>\n",
       "<table border=\"1\" class=\"dataframe\">\n",
       "  <thead>\n",
       "    <tr style=\"text-align: right;\">\n",
       "      <th></th>\n",
       "      <th>sales</th>\n",
       "      <th>acak</th>\n",
       "      <th>forecast</th>\n",
       "    </tr>\n",
       "    <tr>\n",
       "      <th>date</th>\n",
       "      <th></th>\n",
       "      <th></th>\n",
       "      <th></th>\n",
       "    </tr>\n",
       "  </thead>\n",
       "  <tbody>\n",
       "    <tr>\n",
       "      <th>2016-12-27</th>\n",
       "      <td>10.0</td>\n",
       "      <td>6</td>\n",
       "      <td>22.136525</td>\n",
       "    </tr>\n",
       "    <tr>\n",
       "      <th>2016-12-28</th>\n",
       "      <td>16.0</td>\n",
       "      <td>8</td>\n",
       "      <td>21.862668</td>\n",
       "    </tr>\n",
       "    <tr>\n",
       "      <th>2016-12-29</th>\n",
       "      <td>21.0</td>\n",
       "      <td>25</td>\n",
       "      <td>21.424262</td>\n",
       "    </tr>\n",
       "    <tr>\n",
       "      <th>2016-12-30</th>\n",
       "      <td>24.0</td>\n",
       "      <td>10</td>\n",
       "      <td>22.683104</td>\n",
       "    </tr>\n",
       "    <tr>\n",
       "      <th>2016-12-31</th>\n",
       "      <td>14.0</td>\n",
       "      <td>8</td>\n",
       "      <td>22.444287</td>\n",
       "    </tr>\n",
       "  </tbody>\n",
       "</table>\n",
       "</div>"
      ],
      "text/plain": [
       "            sales  acak   forecast\n",
       "date                              \n",
       "2016-12-27   10.0     6  22.136525\n",
       "2016-12-28   16.0     8  21.862668\n",
       "2016-12-29   21.0    25  21.424262\n",
       "2016-12-30   24.0    10  22.683104\n",
       "2016-12-31   14.0     8  22.444287"
      ]
     },
     "execution_count": 21,
     "metadata": {},
     "output_type": "execute_result"
    }
   ],
   "source": [
    "df.tail()"
   ]
  },
  {
   "cell_type": "code",
   "execution_count": null,
   "metadata": {
    "id": "KjXg-oyFRzt7"
   },
   "outputs": [],
   "source": []
  }
 ],
 "metadata": {
  "accelerator": "GPU",
  "colab": {
   "authorship_tag": "ABX9TyOTQyXKCP6ufwsZjsbTwQ/E",
   "collapsed_sections": [],
   "mount_file_id": "1LV0M0urINuX-pGp17vkQun2WgTosiTnJ",
   "name": "Sarimax.ipynb",
   "provenance": []
  },
  "kernelspec": {
   "display_name": "Python 3",
   "language": "python",
   "name": "python3"
  },
  "language_info": {
   "codemirror_mode": {
    "name": "ipython",
    "version": 3
   },
   "file_extension": ".py",
   "mimetype": "text/x-python",
   "name": "python",
   "nbconvert_exporter": "python",
   "pygments_lexer": "ipython3",
   "version": "3.7.3"
  }
 },
 "nbformat": 4,
 "nbformat_minor": 1
}
