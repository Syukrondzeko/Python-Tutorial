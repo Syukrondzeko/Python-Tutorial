{
 "cells": [
  {
   "cell_type": "markdown",
   "id": "bbb5fd28",
   "metadata": {},
   "source": [
    "## Instalasi"
   ]
  },
  {
   "cell_type": "code",
   "execution_count": null,
   "id": "35606d5c",
   "metadata": {},
   "outputs": [],
   "source": [
    "#pip install google_trans_new\n",
    "#pip uninstall google_trans_new\n",
    "#Change line 151 in google_trans_new/google_trans_new.py which is: response = (decoded_line + ']') to response = decoded_line"
   ]
  },
  {
   "cell_type": "code",
   "execution_count": 4,
   "id": "025d6173",
   "metadata": {},
   "outputs": [],
   "source": [
    "from google_trans_new import google_translator  "
   ]
  },
  {
   "cell_type": "code",
   "execution_count": 5,
   "id": "670816a8",
   "metadata": {},
   "outputs": [],
   "source": [
    "translator = google_translator()  "
   ]
  },
  {
   "cell_type": "code",
   "execution_count": 8,
   "id": "af5cc5f7",
   "metadata": {},
   "outputs": [
    {
     "name": "stdout",
     "output_type": "stream",
     "text": [
      "are you OK \n"
     ]
    }
   ],
   "source": [
    "translate_text = translator.translate('estas bien', lang_src='es', lang_tgt='en')  \n",
    "print(translate_text)"
   ]
  },
  {
   "cell_type": "code",
   "execution_count": 12,
   "id": "2616da8f",
   "metadata": {},
   "outputs": [
    {
     "name": "stdout",
     "output_type": "stream",
     "text": [
      "You love me \n"
     ]
    }
   ],
   "source": [
    "#without specific source\n",
    "translate_text = translator.translate('คุณรักฉันไม',lang_tgt='en')  \n",
    "print(translate_text)"
   ]
  },
  {
   "cell_type": "code",
   "execution_count": 13,
   "id": "5c476901",
   "metadata": {},
   "outputs": [
    {
     "name": "stdout",
     "output_type": "stream",
     "text": [
      "['You love me ', 'Khuṇ rạk c̄hạn mị', None]\n"
     ]
    }
   ],
   "source": [
    "#pronounce  \n",
    "Pronounce = translator.translate('คุณรักฉันไม',lang_tgt='en',pronounce=True)  \n",
    "print(Pronounce)"
   ]
  },
  {
   "cell_type": "code",
   "execution_count": null,
   "id": "2c4d75a3",
   "metadata": {},
   "outputs": [],
   "source": [
    "#list of language: https://py-googletrans.readthedocs.io/en/latest/"
   ]
  },
  {
   "cell_type": "code",
   "execution_count": null,
   "id": "6645a55c",
   "metadata": {},
   "outputs": [],
   "source": [
    "translate_text = translator.translate('Hello my friends', lang_src='en', lang_tgt='id')  \n",
    "print(translate_text)"
   ]
  },
  {
   "cell_type": "code",
   "execution_count": null,
   "id": "94c8a913",
   "metadata": {},
   "outputs": [],
   "source": []
  }
 ],
 "metadata": {
  "kernelspec": {
   "display_name": "Python 3",
   "language": "python",
   "name": "python3"
  },
  "language_info": {
   "codemirror_mode": {
    "name": "ipython",
    "version": 3
   },
   "file_extension": ".py",
   "mimetype": "text/x-python",
   "name": "python",
   "nbconvert_exporter": "python",
   "pygments_lexer": "ipython3",
   "version": "3.8.8"
  }
 },
 "nbformat": 4,
 "nbformat_minor": 5
}
