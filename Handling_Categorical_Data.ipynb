{
  "nbformat": 4,
  "nbformat_minor": 0,
  "metadata": {
    "colab": {
      "name": "Handling Categorical Data.ipynb",
      "provenance": [],
      "collapsed_sections": [],
      "toc_visible": true
    },
    "kernelspec": {
      "name": "python3",
      "display_name": "Python 3"
    },
    "language_info": {
      "name": "python"
    }
  },
  "cells": [
    {
      "cell_type": "markdown",
      "metadata": {
        "id": "gvEZDJJ30j0_"
      },
      "source": [
        "# Why do we need encoding?\n",
        "\n",
        "Most machine learning algorithms cannot handle categorical variables unless we convert them to numerical values"
      ]
    },
    {
      "cell_type": "markdown",
      "metadata": {
        "id": "wxVR9_df07WC"
      },
      "source": [
        "### Creating Dataframe"
      ]
    },
    {
      "cell_type": "code",
      "metadata": {
        "id": "NCdxkxu11ueh"
      },
      "source": [
        "import warnings\n",
        "warnings.filterwarnings(\"ignore\")"
      ],
      "execution_count": null,
      "outputs": []
    },
    {
      "cell_type": "code",
      "metadata": {
        "colab": {
          "base_uri": "https://localhost:8080/",
          "height": 206
        },
        "id": "Jw2LWY8B0RpM",
        "outputId": "09a73f32-e6c1-4794-87fe-90bb5e0a39d6"
      },
      "source": [
        "import pandas as pd\n",
        "data = pd.DataFrame({ 'gender' : ['Male', 'Female', 'Male', 'Female', 'Female'],\n",
        "                       'class' : ['A','B','C','D','A'],\n",
        "                        'city' : ['Delhi','Gurugram','Delhi','Delhi','Gurugram'] })\n",
        "data.head()"
      ],
      "execution_count": null,
      "outputs": [
        {
          "output_type": "execute_result",
          "data": {
            "text/html": [
              "<div>\n",
              "<style scoped>\n",
              "    .dataframe tbody tr th:only-of-type {\n",
              "        vertical-align: middle;\n",
              "    }\n",
              "\n",
              "    .dataframe tbody tr th {\n",
              "        vertical-align: top;\n",
              "    }\n",
              "\n",
              "    .dataframe thead th {\n",
              "        text-align: right;\n",
              "    }\n",
              "</style>\n",
              "<table border=\"1\" class=\"dataframe\">\n",
              "  <thead>\n",
              "    <tr style=\"text-align: right;\">\n",
              "      <th></th>\n",
              "      <th>gender</th>\n",
              "      <th>class</th>\n",
              "      <th>city</th>\n",
              "    </tr>\n",
              "  </thead>\n",
              "  <tbody>\n",
              "    <tr>\n",
              "      <th>0</th>\n",
              "      <td>Male</td>\n",
              "      <td>A</td>\n",
              "      <td>Delhi</td>\n",
              "    </tr>\n",
              "    <tr>\n",
              "      <th>1</th>\n",
              "      <td>Female</td>\n",
              "      <td>B</td>\n",
              "      <td>Gurugram</td>\n",
              "    </tr>\n",
              "    <tr>\n",
              "      <th>2</th>\n",
              "      <td>Male</td>\n",
              "      <td>C</td>\n",
              "      <td>Delhi</td>\n",
              "    </tr>\n",
              "    <tr>\n",
              "      <th>3</th>\n",
              "      <td>Female</td>\n",
              "      <td>D</td>\n",
              "      <td>Delhi</td>\n",
              "    </tr>\n",
              "    <tr>\n",
              "      <th>4</th>\n",
              "      <td>Female</td>\n",
              "      <td>A</td>\n",
              "      <td>Gurugram</td>\n",
              "    </tr>\n",
              "  </tbody>\n",
              "</table>\n",
              "</div>"
            ],
            "text/plain": [
              "   gender class      city\n",
              "0    Male     A     Delhi\n",
              "1  Female     B  Gurugram\n",
              "2    Male     C     Delhi\n",
              "3  Female     D     Delhi\n",
              "4  Female     A  Gurugram"
            ]
          },
          "metadata": {},
          "execution_count": 140
        }
      ]
    },
    {
      "cell_type": "markdown",
      "metadata": {
        "id": "XjF-Wv1v2L2s"
      },
      "source": [
        "# Category Encoder Library"
      ]
    },
    {
      "cell_type": "markdown",
      "metadata": {
        "id": "bPDHijrm1j9X"
      },
      "source": [
        "### One-Hot Encoding"
      ]
    },
    {
      "cell_type": "code",
      "metadata": {
        "colab": {
          "base_uri": "https://localhost:8080/",
          "height": 206
        },
        "id": "bLV8PRe-1Jxq",
        "outputId": "795ee322-4fbf-4e5a-b7bd-5e88c26a438e"
      },
      "source": [
        "#!pip install category_encoders\n",
        "import category_encoders as ce\n",
        "ce_OHE = ce.OneHotEncoder(cols=['gender','city'])\n",
        "\n",
        "data1 = ce_OHE.fit_transform(data)\n",
        "data1.head()"
      ],
      "execution_count": null,
      "outputs": [
        {
          "output_type": "execute_result",
          "data": {
            "text/html": [
              "<div>\n",
              "<style scoped>\n",
              "    .dataframe tbody tr th:only-of-type {\n",
              "        vertical-align: middle;\n",
              "    }\n",
              "\n",
              "    .dataframe tbody tr th {\n",
              "        vertical-align: top;\n",
              "    }\n",
              "\n",
              "    .dataframe thead th {\n",
              "        text-align: right;\n",
              "    }\n",
              "</style>\n",
              "<table border=\"1\" class=\"dataframe\">\n",
              "  <thead>\n",
              "    <tr style=\"text-align: right;\">\n",
              "      <th></th>\n",
              "      <th>gender_1</th>\n",
              "      <th>gender_2</th>\n",
              "      <th>class</th>\n",
              "      <th>city_1</th>\n",
              "      <th>city_2</th>\n",
              "    </tr>\n",
              "  </thead>\n",
              "  <tbody>\n",
              "    <tr>\n",
              "      <th>0</th>\n",
              "      <td>1</td>\n",
              "      <td>0</td>\n",
              "      <td>A</td>\n",
              "      <td>1</td>\n",
              "      <td>0</td>\n",
              "    </tr>\n",
              "    <tr>\n",
              "      <th>1</th>\n",
              "      <td>0</td>\n",
              "      <td>1</td>\n",
              "      <td>B</td>\n",
              "      <td>0</td>\n",
              "      <td>1</td>\n",
              "    </tr>\n",
              "    <tr>\n",
              "      <th>2</th>\n",
              "      <td>1</td>\n",
              "      <td>0</td>\n",
              "      <td>C</td>\n",
              "      <td>1</td>\n",
              "      <td>0</td>\n",
              "    </tr>\n",
              "    <tr>\n",
              "      <th>3</th>\n",
              "      <td>0</td>\n",
              "      <td>1</td>\n",
              "      <td>D</td>\n",
              "      <td>1</td>\n",
              "      <td>0</td>\n",
              "    </tr>\n",
              "    <tr>\n",
              "      <th>4</th>\n",
              "      <td>0</td>\n",
              "      <td>1</td>\n",
              "      <td>A</td>\n",
              "      <td>0</td>\n",
              "      <td>1</td>\n",
              "    </tr>\n",
              "  </tbody>\n",
              "</table>\n",
              "</div>"
            ],
            "text/plain": [
              "   gender_1  gender_2 class  city_1  city_2\n",
              "0         1         0     A       1       0\n",
              "1         0         1     B       0       1\n",
              "2         1         0     C       1       0\n",
              "3         0         1     D       1       0\n",
              "4         0         1     A       0       1"
            ]
          },
          "metadata": {},
          "execution_count": 10
        }
      ]
    },
    {
      "cell_type": "markdown",
      "metadata": {
        "id": "IWZiTJbG3fDX"
      },
      "source": [
        "### Binary Encoding"
      ]
    },
    {
      "cell_type": "markdown",
      "metadata": {
        "id": "F5e4_CqD3bYo"
      },
      "source": [
        "![binary encoding.png](data:image/png;base64,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)"
      ]
    },
    {
      "cell_type": "code",
      "metadata": {
        "colab": {
          "base_uri": "https://localhost:8080/",
          "height": 206
        },
        "id": "yeewy-cI1p-5",
        "outputId": "34b8b280-edee-4d16-b206-e6c93e897207"
      },
      "source": [
        "ce_be = ce.BinaryEncoder(cols=['class']);\n",
        "data1 = ce_be.fit_transform(data[\"class\"]);\n",
        "data1"
      ],
      "execution_count": null,
      "outputs": [
        {
          "output_type": "execute_result",
          "data": {
            "text/html": [
              "<div>\n",
              "<style scoped>\n",
              "    .dataframe tbody tr th:only-of-type {\n",
              "        vertical-align: middle;\n",
              "    }\n",
              "\n",
              "    .dataframe tbody tr th {\n",
              "        vertical-align: top;\n",
              "    }\n",
              "\n",
              "    .dataframe thead th {\n",
              "        text-align: right;\n",
              "    }\n",
              "</style>\n",
              "<table border=\"1\" class=\"dataframe\">\n",
              "  <thead>\n",
              "    <tr style=\"text-align: right;\">\n",
              "      <th></th>\n",
              "      <th>class_0</th>\n",
              "      <th>class_1</th>\n",
              "      <th>class_2</th>\n",
              "    </tr>\n",
              "  </thead>\n",
              "  <tbody>\n",
              "    <tr>\n",
              "      <th>0</th>\n",
              "      <td>0</td>\n",
              "      <td>0</td>\n",
              "      <td>1</td>\n",
              "    </tr>\n",
              "    <tr>\n",
              "      <th>1</th>\n",
              "      <td>0</td>\n",
              "      <td>1</td>\n",
              "      <td>0</td>\n",
              "    </tr>\n",
              "    <tr>\n",
              "      <th>2</th>\n",
              "      <td>0</td>\n",
              "      <td>1</td>\n",
              "      <td>1</td>\n",
              "    </tr>\n",
              "    <tr>\n",
              "      <th>3</th>\n",
              "      <td>1</td>\n",
              "      <td>0</td>\n",
              "      <td>0</td>\n",
              "    </tr>\n",
              "    <tr>\n",
              "      <th>4</th>\n",
              "      <td>0</td>\n",
              "      <td>0</td>\n",
              "      <td>1</td>\n",
              "    </tr>\n",
              "  </tbody>\n",
              "</table>\n",
              "</div>"
            ],
            "text/plain": [
              "   class_0  class_1  class_2\n",
              "0        0        0        1\n",
              "1        0        1        0\n",
              "2        0        1        1\n",
              "3        1        0        0\n",
              "4        0        0        1"
            ]
          },
          "metadata": {},
          "execution_count": 11
        }
      ]
    },
    {
      "cell_type": "markdown",
      "metadata": {
        "id": "m7a8cgoR3mk_"
      },
      "source": [
        "# Pandas Library"
      ]
    },
    {
      "cell_type": "markdown",
      "metadata": {
        "id": "kEZMbUAh3rIs"
      },
      "source": [
        "### One-Hot Encoding"
      ]
    },
    {
      "cell_type": "code",
      "metadata": {
        "colab": {
          "base_uri": "https://localhost:8080/",
          "height": 206
        },
        "id": "XNyST5Ql2b8O",
        "outputId": "a6b0340f-5a80-4c18-966e-598dfd7913be"
      },
      "source": [
        "pd.get_dummies(data,columns=[\"gender\",\"city\"])"
      ],
      "execution_count": null,
      "outputs": [
        {
          "output_type": "execute_result",
          "data": {
            "text/html": [
              "<div>\n",
              "<style scoped>\n",
              "    .dataframe tbody tr th:only-of-type {\n",
              "        vertical-align: middle;\n",
              "    }\n",
              "\n",
              "    .dataframe tbody tr th {\n",
              "        vertical-align: top;\n",
              "    }\n",
              "\n",
              "    .dataframe thead th {\n",
              "        text-align: right;\n",
              "    }\n",
              "</style>\n",
              "<table border=\"1\" class=\"dataframe\">\n",
              "  <thead>\n",
              "    <tr style=\"text-align: right;\">\n",
              "      <th></th>\n",
              "      <th>class</th>\n",
              "      <th>gender_Female</th>\n",
              "      <th>gender_Male</th>\n",
              "      <th>city_Delhi</th>\n",
              "      <th>city_Gurugram</th>\n",
              "    </tr>\n",
              "  </thead>\n",
              "  <tbody>\n",
              "    <tr>\n",
              "      <th>0</th>\n",
              "      <td>A</td>\n",
              "      <td>0</td>\n",
              "      <td>1</td>\n",
              "      <td>1</td>\n",
              "      <td>0</td>\n",
              "    </tr>\n",
              "    <tr>\n",
              "      <th>1</th>\n",
              "      <td>B</td>\n",
              "      <td>1</td>\n",
              "      <td>0</td>\n",
              "      <td>0</td>\n",
              "      <td>1</td>\n",
              "    </tr>\n",
              "    <tr>\n",
              "      <th>2</th>\n",
              "      <td>C</td>\n",
              "      <td>0</td>\n",
              "      <td>1</td>\n",
              "      <td>1</td>\n",
              "      <td>0</td>\n",
              "    </tr>\n",
              "    <tr>\n",
              "      <th>3</th>\n",
              "      <td>D</td>\n",
              "      <td>1</td>\n",
              "      <td>0</td>\n",
              "      <td>1</td>\n",
              "      <td>0</td>\n",
              "    </tr>\n",
              "    <tr>\n",
              "      <th>4</th>\n",
              "      <td>A</td>\n",
              "      <td>1</td>\n",
              "      <td>0</td>\n",
              "      <td>0</td>\n",
              "      <td>1</td>\n",
              "    </tr>\n",
              "  </tbody>\n",
              "</table>\n",
              "</div>"
            ],
            "text/plain": [
              "  class  gender_Female  gender_Male  city_Delhi  city_Gurugram\n",
              "0     A              0            1           1              0\n",
              "1     B              1            0           0              1\n",
              "2     C              0            1           1              0\n",
              "3     D              1            0           1              0\n",
              "4     A              1            0           0              1"
            ]
          },
          "metadata": {},
          "execution_count": 12
        }
      ]
    },
    {
      "cell_type": "markdown",
      "metadata": {
        "id": "YDDIKAsc4Dd2"
      },
      "source": [
        "# Sklearn Library"
      ]
    },
    {
      "cell_type": "markdown",
      "metadata": {
        "id": "oPtXx_av4KKB"
      },
      "source": [
        "### One-Hot Encoding"
      ]
    },
    {
      "cell_type": "code",
      "metadata": {
        "colab": {
          "base_uri": "https://localhost:8080/"
        },
        "id": "38Ik0qTr4XHr",
        "outputId": "cdb8a71f-2774-4f0f-d0c7-5318a227e4d3"
      },
      "source": [
        "s = (data.dtypes == 'object')\n",
        "cols = list(s[s].index)\n",
        "cols"
      ],
      "execution_count": null,
      "outputs": [
        {
          "output_type": "execute_result",
          "data": {
            "text/plain": [
              "['gender', 'class', 'city']"
            ]
          },
          "metadata": {},
          "execution_count": 14
        }
      ]
    },
    {
      "cell_type": "code",
      "metadata": {
        "id": "Lk0Jb6Wb31IJ"
      },
      "source": [
        "from sklearn.preprocessing import OneHotEncoder\n",
        "ohe = OneHotEncoder(handle_unknown='ignore',sparse=False)"
      ],
      "execution_count": null,
      "outputs": []
    },
    {
      "cell_type": "code",
      "metadata": {
        "colab": {
          "base_uri": "https://localhost:8080/",
          "height": 206
        },
        "id": "cFNr-nsA4e_G",
        "outputId": "995401cc-0712-4b5f-94f8-a0e77ffe5abc"
      },
      "source": [
        "data_gender = pd.DataFrame(ohe.fit_transform(data[[\"gender\"]]))\n",
        "data_gender"
      ],
      "execution_count": null,
      "outputs": [
        {
          "output_type": "execute_result",
          "data": {
            "text/html": [
              "<div>\n",
              "<style scoped>\n",
              "    .dataframe tbody tr th:only-of-type {\n",
              "        vertical-align: middle;\n",
              "    }\n",
              "\n",
              "    .dataframe tbody tr th {\n",
              "        vertical-align: top;\n",
              "    }\n",
              "\n",
              "    .dataframe thead th {\n",
              "        text-align: right;\n",
              "    }\n",
              "</style>\n",
              "<table border=\"1\" class=\"dataframe\">\n",
              "  <thead>\n",
              "    <tr style=\"text-align: right;\">\n",
              "      <th></th>\n",
              "      <th>0</th>\n",
              "      <th>1</th>\n",
              "    </tr>\n",
              "  </thead>\n",
              "  <tbody>\n",
              "    <tr>\n",
              "      <th>0</th>\n",
              "      <td>0.0</td>\n",
              "      <td>1.0</td>\n",
              "    </tr>\n",
              "    <tr>\n",
              "      <th>1</th>\n",
              "      <td>1.0</td>\n",
              "      <td>0.0</td>\n",
              "    </tr>\n",
              "    <tr>\n",
              "      <th>2</th>\n",
              "      <td>0.0</td>\n",
              "      <td>1.0</td>\n",
              "    </tr>\n",
              "    <tr>\n",
              "      <th>3</th>\n",
              "      <td>1.0</td>\n",
              "      <td>0.0</td>\n",
              "    </tr>\n",
              "    <tr>\n",
              "      <th>4</th>\n",
              "      <td>1.0</td>\n",
              "      <td>0.0</td>\n",
              "    </tr>\n",
              "  </tbody>\n",
              "</table>\n",
              "</div>"
            ],
            "text/plain": [
              "     0    1\n",
              "0  0.0  1.0\n",
              "1  1.0  0.0\n",
              "2  0.0  1.0\n",
              "3  1.0  0.0\n",
              "4  1.0  0.0"
            ]
          },
          "metadata": {},
          "execution_count": 17
        }
      ]
    },
    {
      "cell_type": "code",
      "metadata": {
        "colab": {
          "base_uri": "https://localhost:8080/",
          "height": 206
        },
        "id": "s5DY68_V4gEc",
        "outputId": "a182e684-6672-4761-d9c0-962f9030ba5b"
      },
      "source": [
        "#for all categorical variables\n",
        "data_cols = pd.DataFrame(ohe.fit_transform(data[cols]))\n",
        "data_cols"
      ],
      "execution_count": null,
      "outputs": [
        {
          "output_type": "execute_result",
          "data": {
            "text/html": [
              "<div>\n",
              "<style scoped>\n",
              "    .dataframe tbody tr th:only-of-type {\n",
              "        vertical-align: middle;\n",
              "    }\n",
              "\n",
              "    .dataframe tbody tr th {\n",
              "        vertical-align: top;\n",
              "    }\n",
              "\n",
              "    .dataframe thead th {\n",
              "        text-align: right;\n",
              "    }\n",
              "</style>\n",
              "<table border=\"1\" class=\"dataframe\">\n",
              "  <thead>\n",
              "    <tr style=\"text-align: right;\">\n",
              "      <th></th>\n",
              "      <th>0</th>\n",
              "      <th>1</th>\n",
              "      <th>2</th>\n",
              "      <th>3</th>\n",
              "      <th>4</th>\n",
              "      <th>5</th>\n",
              "      <th>6</th>\n",
              "      <th>7</th>\n",
              "    </tr>\n",
              "  </thead>\n",
              "  <tbody>\n",
              "    <tr>\n",
              "      <th>0</th>\n",
              "      <td>0.0</td>\n",
              "      <td>1.0</td>\n",
              "      <td>1.0</td>\n",
              "      <td>0.0</td>\n",
              "      <td>0.0</td>\n",
              "      <td>0.0</td>\n",
              "      <td>1.0</td>\n",
              "      <td>0.0</td>\n",
              "    </tr>\n",
              "    <tr>\n",
              "      <th>1</th>\n",
              "      <td>1.0</td>\n",
              "      <td>0.0</td>\n",
              "      <td>0.0</td>\n",
              "      <td>1.0</td>\n",
              "      <td>0.0</td>\n",
              "      <td>0.0</td>\n",
              "      <td>0.0</td>\n",
              "      <td>1.0</td>\n",
              "    </tr>\n",
              "    <tr>\n",
              "      <th>2</th>\n",
              "      <td>0.0</td>\n",
              "      <td>1.0</td>\n",
              "      <td>0.0</td>\n",
              "      <td>0.0</td>\n",
              "      <td>1.0</td>\n",
              "      <td>0.0</td>\n",
              "      <td>1.0</td>\n",
              "      <td>0.0</td>\n",
              "    </tr>\n",
              "    <tr>\n",
              "      <th>3</th>\n",
              "      <td>1.0</td>\n",
              "      <td>0.0</td>\n",
              "      <td>0.0</td>\n",
              "      <td>0.0</td>\n",
              "      <td>0.0</td>\n",
              "      <td>1.0</td>\n",
              "      <td>1.0</td>\n",
              "      <td>0.0</td>\n",
              "    </tr>\n",
              "    <tr>\n",
              "      <th>4</th>\n",
              "      <td>1.0</td>\n",
              "      <td>0.0</td>\n",
              "      <td>1.0</td>\n",
              "      <td>0.0</td>\n",
              "      <td>0.0</td>\n",
              "      <td>0.0</td>\n",
              "      <td>0.0</td>\n",
              "      <td>1.0</td>\n",
              "    </tr>\n",
              "  </tbody>\n",
              "</table>\n",
              "</div>"
            ],
            "text/plain": [
              "     0    1    2    3    4    5    6    7\n",
              "0  0.0  1.0  1.0  0.0  0.0  0.0  1.0  0.0\n",
              "1  1.0  0.0  0.0  1.0  0.0  0.0  0.0  1.0\n",
              "2  0.0  1.0  0.0  0.0  1.0  0.0  1.0  0.0\n",
              "3  1.0  0.0  0.0  0.0  0.0  1.0  1.0  0.0\n",
              "4  1.0  0.0  1.0  0.0  0.0  0.0  0.0  1.0"
            ]
          },
          "metadata": {},
          "execution_count": 18
        }
      ]
    },
    {
      "cell_type": "markdown",
      "metadata": {
        "id": "wMnyOqmp85Mg"
      },
      "source": [
        "### Label Encoding"
      ]
    },
    {
      "cell_type": "markdown",
      "metadata": {
        "id": "J2ogL2AJ-RQL"
      },
      "source": [
        "In label encoding, each category is assigned a value from 1 through N where N is the number of categories for the feature. There is no relation or order between these assignments."
      ]
    },
    {
      "cell_type": "code",
      "metadata": {
        "colab": {
          "base_uri": "https://localhost:8080/",
          "height": 241
        },
        "id": "i2MLSGq69lRH",
        "outputId": "c23aed20-326a-4e6f-bcfb-70e7140831ba"
      },
      "source": [
        "print(data[[\"class\"]].dtypes)\n",
        "data[[\"class\"]]"
      ],
      "execution_count": null,
      "outputs": [
        {
          "output_type": "stream",
          "name": "stdout",
          "text": [
            "class    object\n",
            "dtype: object\n"
          ]
        },
        {
          "output_type": "execute_result",
          "data": {
            "text/html": [
              "<div>\n",
              "<style scoped>\n",
              "    .dataframe tbody tr th:only-of-type {\n",
              "        vertical-align: middle;\n",
              "    }\n",
              "\n",
              "    .dataframe tbody tr th {\n",
              "        vertical-align: top;\n",
              "    }\n",
              "\n",
              "    .dataframe thead th {\n",
              "        text-align: right;\n",
              "    }\n",
              "</style>\n",
              "<table border=\"1\" class=\"dataframe\">\n",
              "  <thead>\n",
              "    <tr style=\"text-align: right;\">\n",
              "      <th></th>\n",
              "      <th>class</th>\n",
              "    </tr>\n",
              "  </thead>\n",
              "  <tbody>\n",
              "    <tr>\n",
              "      <th>0</th>\n",
              "      <td>A</td>\n",
              "    </tr>\n",
              "    <tr>\n",
              "      <th>1</th>\n",
              "      <td>B</td>\n",
              "    </tr>\n",
              "    <tr>\n",
              "      <th>2</th>\n",
              "      <td>C</td>\n",
              "    </tr>\n",
              "    <tr>\n",
              "      <th>3</th>\n",
              "      <td>D</td>\n",
              "    </tr>\n",
              "    <tr>\n",
              "      <th>4</th>\n",
              "      <td>A</td>\n",
              "    </tr>\n",
              "  </tbody>\n",
              "</table>\n",
              "</div>"
            ],
            "text/plain": [
              "  class\n",
              "0     A\n",
              "1     B\n",
              "2     C\n",
              "3     D\n",
              "4     A"
            ]
          },
          "metadata": {},
          "execution_count": 148
        }
      ]
    },
    {
      "cell_type": "code",
      "metadata": {
        "colab": {
          "base_uri": "https://localhost:8080/"
        },
        "id": "5B_EkH0l40Ko",
        "outputId": "e1e77a62-e3e5-4dd0-a81e-66751837cb9a"
      },
      "source": [
        "from sklearn.preprocessing import LabelEncoder\n",
        "\n",
        "le = LabelEncoder()\n",
        "le_class = le.fit_transform(data[[\"class\"]])\n",
        "print(le_class.dtype)\n",
        "print(le_class.shape)\n",
        "le_class"
      ],
      "execution_count": null,
      "outputs": [
        {
          "output_type": "stream",
          "name": "stdout",
          "text": [
            "int64\n",
            "(5,)\n"
          ]
        },
        {
          "output_type": "execute_result",
          "data": {
            "text/plain": [
              "array([0, 1, 2, 3, 0])"
            ]
          },
          "metadata": {},
          "execution_count": 149
        }
      ]
    },
    {
      "cell_type": "markdown",
      "metadata": {
        "id": "mBE0TBTlNJus"
      },
      "source": [
        "Note: It will be error if input is more than one columns because it's for label (Label Encoder) not input"
      ]
    },
    {
      "cell_type": "markdown",
      "metadata": {
        "id": "iMvb4ddULrqV"
      },
      "source": [
        "### Ordinal Encoding"
      ]
    },
    {
      "cell_type": "code",
      "metadata": {
        "colab": {
          "base_uri": "https://localhost:8080/"
        },
        "id": "iltUiV7DLSiP",
        "outputId": "1906bfd3-73f8-4e3d-85d7-51179fda0d53"
      },
      "source": [
        "from sklearn.preprocessing import OrdinalEncoder\n",
        "\n",
        "oe = OrdinalEncoder()\n",
        "oe_class = oe.fit_transform(data[[\"class\"]])\n",
        "print(oe_class.dtype)\n",
        "print(oe_class.shape)\n",
        "oe_class"
      ],
      "execution_count": null,
      "outputs": [
        {
          "output_type": "stream",
          "name": "stdout",
          "text": [
            "float64\n",
            "(5, 1)\n"
          ]
        },
        {
          "output_type": "execute_result",
          "data": {
            "text/plain": [
              "array([[0.],\n",
              "       [1.],\n",
              "       [2.],\n",
              "       [3.],\n",
              "       [0.]])"
            ]
          },
          "metadata": {},
          "execution_count": 144
        }
      ]
    },
    {
      "cell_type": "markdown",
      "metadata": {
        "id": "B30ueDwI_EhN"
      },
      "source": [
        "# Without Library"
      ]
    },
    {
      "cell_type": "markdown",
      "metadata": {
        "id": "qQSVgeBo-vsL"
      },
      "source": [
        "### Ordinal Encoding"
      ]
    },
    {
      "cell_type": "code",
      "metadata": {
        "colab": {
          "base_uri": "https://localhost:8080/",
          "height": 206
        },
        "id": "w3cX_E1m9e6u",
        "outputId": "342a7b9a-f8cf-4ba5-ff5e-548cdc966a49"
      },
      "source": [
        "temp = {'temperature' :['very cold', 'cold', 'warm', 'hot', 'very hot']}\n",
        "df = pd.DataFrame(temp,columns=[\"temperature\"])\n",
        "\n",
        "temp_dict = {'very cold': 1,'cold': 2,'warm': 3,'hot': 4,\"very hot\":5}\n",
        "df"
      ],
      "execution_count": null,
      "outputs": [
        {
          "output_type": "execute_result",
          "data": {
            "text/html": [
              "<div>\n",
              "<style scoped>\n",
              "    .dataframe tbody tr th:only-of-type {\n",
              "        vertical-align: middle;\n",
              "    }\n",
              "\n",
              "    .dataframe tbody tr th {\n",
              "        vertical-align: top;\n",
              "    }\n",
              "\n",
              "    .dataframe thead th {\n",
              "        text-align: right;\n",
              "    }\n",
              "</style>\n",
              "<table border=\"1\" class=\"dataframe\">\n",
              "  <thead>\n",
              "    <tr style=\"text-align: right;\">\n",
              "      <th></th>\n",
              "      <th>temperature</th>\n",
              "    </tr>\n",
              "  </thead>\n",
              "  <tbody>\n",
              "    <tr>\n",
              "      <th>0</th>\n",
              "      <td>very cold</td>\n",
              "    </tr>\n",
              "    <tr>\n",
              "      <th>1</th>\n",
              "      <td>cold</td>\n",
              "    </tr>\n",
              "    <tr>\n",
              "      <th>2</th>\n",
              "      <td>warm</td>\n",
              "    </tr>\n",
              "    <tr>\n",
              "      <th>3</th>\n",
              "      <td>hot</td>\n",
              "    </tr>\n",
              "    <tr>\n",
              "      <th>4</th>\n",
              "      <td>very hot</td>\n",
              "    </tr>\n",
              "  </tbody>\n",
              "</table>\n",
              "</div>"
            ],
            "text/plain": [
              "  temperature\n",
              "0   very cold\n",
              "1        cold\n",
              "2        warm\n",
              "3         hot\n",
              "4    very hot"
            ]
          },
          "metadata": {},
          "execution_count": 33
        }
      ]
    },
    {
      "cell_type": "code",
      "metadata": {
        "colab": {
          "base_uri": "https://localhost:8080/",
          "height": 206
        },
        "id": "wi85sqE--4KU",
        "outputId": "ff824557-35ac-4eec-f3c4-836f8879415f"
      },
      "source": [
        "df[\"temp_ordinal\"] = df.temperature.map(temp_dict)\n",
        "df"
      ],
      "execution_count": null,
      "outputs": [
        {
          "output_type": "execute_result",
          "data": {
            "text/html": [
              "<div>\n",
              "<style scoped>\n",
              "    .dataframe tbody tr th:only-of-type {\n",
              "        vertical-align: middle;\n",
              "    }\n",
              "\n",
              "    .dataframe tbody tr th {\n",
              "        vertical-align: top;\n",
              "    }\n",
              "\n",
              "    .dataframe thead th {\n",
              "        text-align: right;\n",
              "    }\n",
              "</style>\n",
              "<table border=\"1\" class=\"dataframe\">\n",
              "  <thead>\n",
              "    <tr style=\"text-align: right;\">\n",
              "      <th></th>\n",
              "      <th>temperature</th>\n",
              "      <th>temp_ordinal</th>\n",
              "    </tr>\n",
              "  </thead>\n",
              "  <tbody>\n",
              "    <tr>\n",
              "      <th>0</th>\n",
              "      <td>very cold</td>\n",
              "      <td>1</td>\n",
              "    </tr>\n",
              "    <tr>\n",
              "      <th>1</th>\n",
              "      <td>cold</td>\n",
              "      <td>2</td>\n",
              "    </tr>\n",
              "    <tr>\n",
              "      <th>2</th>\n",
              "      <td>warm</td>\n",
              "      <td>3</td>\n",
              "    </tr>\n",
              "    <tr>\n",
              "      <th>3</th>\n",
              "      <td>hot</td>\n",
              "      <td>4</td>\n",
              "    </tr>\n",
              "    <tr>\n",
              "      <th>4</th>\n",
              "      <td>very hot</td>\n",
              "      <td>5</td>\n",
              "    </tr>\n",
              "  </tbody>\n",
              "</table>\n",
              "</div>"
            ],
            "text/plain": [
              "  temperature  temp_ordinal\n",
              "0   very cold             1\n",
              "1        cold             2\n",
              "2        warm             3\n",
              "3         hot             4\n",
              "4    very hot             5"
            ]
          },
          "metadata": {},
          "execution_count": 34
        }
      ]
    },
    {
      "cell_type": "markdown",
      "metadata": {
        "id": "x4X3w8y5AOfo"
      },
      "source": [
        "# Encoding for Machine Learning"
      ]
    },
    {
      "cell_type": "code",
      "metadata": {
        "colab": {
          "base_uri": "https://localhost:8080/",
          "height": 206
        },
        "id": "eHghMx-b_up0",
        "outputId": "ccd21ae4-3fdc-4f0b-aca4-b441c20b4be0"
      },
      "source": [
        "url = 'https://raw.githubusercontent.com/jbrownlee/Datasets/master/breast-cancer.csv'\n",
        "dataset = pd.read_csv(url, header=None)\n",
        "dataset.head()"
      ],
      "execution_count": null,
      "outputs": [
        {
          "output_type": "execute_result",
          "data": {
            "text/html": [
              "<div>\n",
              "<style scoped>\n",
              "    .dataframe tbody tr th:only-of-type {\n",
              "        vertical-align: middle;\n",
              "    }\n",
              "\n",
              "    .dataframe tbody tr th {\n",
              "        vertical-align: top;\n",
              "    }\n",
              "\n",
              "    .dataframe thead th {\n",
              "        text-align: right;\n",
              "    }\n",
              "</style>\n",
              "<table border=\"1\" class=\"dataframe\">\n",
              "  <thead>\n",
              "    <tr style=\"text-align: right;\">\n",
              "      <th></th>\n",
              "      <th>0</th>\n",
              "      <th>1</th>\n",
              "      <th>2</th>\n",
              "      <th>3</th>\n",
              "      <th>4</th>\n",
              "      <th>5</th>\n",
              "      <th>6</th>\n",
              "      <th>7</th>\n",
              "      <th>8</th>\n",
              "      <th>9</th>\n",
              "    </tr>\n",
              "  </thead>\n",
              "  <tbody>\n",
              "    <tr>\n",
              "      <th>0</th>\n",
              "      <td>'40-49'</td>\n",
              "      <td>'premeno'</td>\n",
              "      <td>'15-19'</td>\n",
              "      <td>'0-2'</td>\n",
              "      <td>'yes'</td>\n",
              "      <td>'3'</td>\n",
              "      <td>'right'</td>\n",
              "      <td>'left_up'</td>\n",
              "      <td>'no'</td>\n",
              "      <td>'recurrence-events'</td>\n",
              "    </tr>\n",
              "    <tr>\n",
              "      <th>1</th>\n",
              "      <td>'50-59'</td>\n",
              "      <td>'ge40'</td>\n",
              "      <td>'15-19'</td>\n",
              "      <td>'0-2'</td>\n",
              "      <td>'no'</td>\n",
              "      <td>'1'</td>\n",
              "      <td>'right'</td>\n",
              "      <td>'central'</td>\n",
              "      <td>'no'</td>\n",
              "      <td>'no-recurrence-events'</td>\n",
              "    </tr>\n",
              "    <tr>\n",
              "      <th>2</th>\n",
              "      <td>'50-59'</td>\n",
              "      <td>'ge40'</td>\n",
              "      <td>'35-39'</td>\n",
              "      <td>'0-2'</td>\n",
              "      <td>'no'</td>\n",
              "      <td>'2'</td>\n",
              "      <td>'left'</td>\n",
              "      <td>'left_low'</td>\n",
              "      <td>'no'</td>\n",
              "      <td>'recurrence-events'</td>\n",
              "    </tr>\n",
              "    <tr>\n",
              "      <th>3</th>\n",
              "      <td>'40-49'</td>\n",
              "      <td>'premeno'</td>\n",
              "      <td>'35-39'</td>\n",
              "      <td>'0-2'</td>\n",
              "      <td>'yes'</td>\n",
              "      <td>'3'</td>\n",
              "      <td>'right'</td>\n",
              "      <td>'left_low'</td>\n",
              "      <td>'yes'</td>\n",
              "      <td>'no-recurrence-events'</td>\n",
              "    </tr>\n",
              "    <tr>\n",
              "      <th>4</th>\n",
              "      <td>'40-49'</td>\n",
              "      <td>'premeno'</td>\n",
              "      <td>'30-34'</td>\n",
              "      <td>'3-5'</td>\n",
              "      <td>'yes'</td>\n",
              "      <td>'2'</td>\n",
              "      <td>'left'</td>\n",
              "      <td>'right_up'</td>\n",
              "      <td>'no'</td>\n",
              "      <td>'recurrence-events'</td>\n",
              "    </tr>\n",
              "  </tbody>\n",
              "</table>\n",
              "</div>"
            ],
            "text/plain": [
              "         0          1        2  ...           7      8                       9\n",
              "0  '40-49'  'premeno'  '15-19'  ...   'left_up'   'no'     'recurrence-events'\n",
              "1  '50-59'     'ge40'  '15-19'  ...   'central'   'no'  'no-recurrence-events'\n",
              "2  '50-59'     'ge40'  '35-39'  ...  'left_low'   'no'     'recurrence-events'\n",
              "3  '40-49'  'premeno'  '35-39'  ...  'left_low'  'yes'  'no-recurrence-events'\n",
              "4  '40-49'  'premeno'  '30-34'  ...  'right_up'   'no'     'recurrence-events'\n",
              "\n",
              "[5 rows x 10 columns]"
            ]
          },
          "metadata": {},
          "execution_count": 160
        }
      ]
    },
    {
      "cell_type": "code",
      "metadata": {
        "colab": {
          "base_uri": "https://localhost:8080/"
        },
        "id": "1DHjPVZKAdZH",
        "outputId": "675df930-c992-4f72-995b-65f6d63d2f5e"
      },
      "source": [
        "data = dataset.values\n",
        "data.shape"
      ],
      "execution_count": null,
      "outputs": [
        {
          "output_type": "execute_result",
          "data": {
            "text/plain": [
              "(286, 10)"
            ]
          },
          "metadata": {},
          "execution_count": 161
        }
      ]
    },
    {
      "cell_type": "code",
      "metadata": {
        "colab": {
          "base_uri": "https://localhost:8080/"
        },
        "id": "ELgKBGUyBCcG",
        "outputId": "8e510d10-4232-491d-a87d-e688e058d9d5"
      },
      "source": [
        "data[0]"
      ],
      "execution_count": null,
      "outputs": [
        {
          "output_type": "execute_result",
          "data": {
            "text/plain": [
              "array([\"'40-49'\", \"'premeno'\", \"'15-19'\", \"'0-2'\", \"'yes'\", \"'3'\",\n",
              "       \"'right'\", \"'left_up'\", \"'no'\", \"'recurrence-events'\"],\n",
              "      dtype=object)"
            ]
          },
          "metadata": {},
          "execution_count": 162
        }
      ]
    },
    {
      "cell_type": "code",
      "metadata": {
        "id": "3EvfVkyEAoIm"
      },
      "source": [
        "X = data[:, :-1].astype(str)\n",
        "y = data[:, -1].astype(str)"
      ],
      "execution_count": null,
      "outputs": []
    },
    {
      "cell_type": "code",
      "metadata": {
        "id": "pgH_dv_EA73y"
      },
      "source": [
        "from sklearn.model_selection import train_test_split\n",
        "X_train, X_test, y_train, y_test = train_test_split(X, y, test_size=0.33, random_state=1)"
      ],
      "execution_count": null,
      "outputs": []
    },
    {
      "cell_type": "code",
      "metadata": {
        "colab": {
          "base_uri": "https://localhost:8080/"
        },
        "id": "HbcKXPLPBp50",
        "outputId": "f3c21c94-4899-41b3-d6fc-87809ede3ddf"
      },
      "source": [
        "X_train"
      ],
      "execution_count": null,
      "outputs": [
        {
          "output_type": "execute_result",
          "data": {
            "text/plain": [
              "array([[\"'50-59'\", \"'ge40'\", \"'25-29'\", ..., \"'left'\", \"'right_low'\",\n",
              "        \"'no'\"],\n",
              "       [\"'30-39'\", \"'premeno'\", \"'5-9'\", ..., \"'left'\", \"'right_low'\",\n",
              "        \"'no'\"],\n",
              "       [\"'50-59'\", \"'premeno'\", \"'50-54'\", ..., \"'right'\", \"'left_up'\",\n",
              "        \"'yes'\"],\n",
              "       ...,\n",
              "       [\"'60-69'\", \"'ge40'\", \"'10-14'\", ..., \"'right'\", \"'left_low'\",\n",
              "        \"'no'\"],\n",
              "       [\"'60-69'\", \"'ge40'\", \"'40-44'\", ..., \"'right'\", \"'left_low'\",\n",
              "        \"'no'\"],\n",
              "       [\"'60-69'\", \"'ge40'\", \"'45-49'\", ..., \"'left'\", \"'central'\",\n",
              "        \"'no'\"]], dtype='<U11')"
            ]
          },
          "metadata": {},
          "execution_count": 165
        }
      ]
    },
    {
      "cell_type": "markdown",
      "metadata": {
        "id": "cd91ar3kCf-9"
      },
      "source": [
        "### Ordinal Encoding"
      ]
    },
    {
      "cell_type": "code",
      "metadata": {
        "id": "GxZQFwQ0A9Uk"
      },
      "source": [
        "from sklearn.preprocessing import OrdinalEncoder\n",
        "ordinal_encoder = OrdinalEncoder()\n",
        "ordinal_encoder.fit(X_train)\n",
        "X_train = ordinal_encoder.transform(X_train)\n",
        "X_test = ordinal_encoder.transform(X_test)"
      ],
      "execution_count": null,
      "outputs": []
    },
    {
      "cell_type": "code",
      "metadata": {
        "colab": {
          "base_uri": "https://localhost:8080/"
        },
        "id": "fC3vMzlSBffX",
        "outputId": "099e5bce-07c5-4762-d5fc-764ce90d1871"
      },
      "source": [
        "X_train"
      ],
      "execution_count": null,
      "outputs": [
        {
          "output_type": "execute_result",
          "data": {
            "text/plain": [
              "array([[ 3.,  0.,  4., ...,  0.,  3.,  0.],\n",
              "       [ 1.,  2.,  9., ...,  0.,  3.,  0.],\n",
              "       [ 3.,  2., 10., ...,  1.,  2.,  1.],\n",
              "       ...,\n",
              "       [ 4.,  0.,  1., ...,  1.,  1.,  0.],\n",
              "       [ 4.,  0.,  7., ...,  1.,  1.,  0.],\n",
              "       [ 4.,  0.,  8., ...,  0.,  0.,  0.]])"
            ]
          },
          "metadata": {},
          "execution_count": 157
        }
      ]
    },
    {
      "cell_type": "code",
      "metadata": {
        "colab": {
          "base_uri": "https://localhost:8080/"
        },
        "id": "b4-GFfjiMmLT",
        "outputId": "77bae0a6-c0f9-4e65-c654-3513fbaef987"
      },
      "source": [
        "X_train.shape"
      ],
      "execution_count": null,
      "outputs": [
        {
          "output_type": "execute_result",
          "data": {
            "text/plain": [
              "(191, 9)"
            ]
          },
          "metadata": {},
          "execution_count": 158
        }
      ]
    },
    {
      "cell_type": "code",
      "metadata": {
        "colab": {
          "base_uri": "https://localhost:8080/"
        },
        "id": "KCJe7Np0CNI3",
        "outputId": "91d2b7e5-cb69-469c-9586-e791a28ee6c8"
      },
      "source": [
        "X_train.dtype"
      ],
      "execution_count": null,
      "outputs": [
        {
          "output_type": "execute_result",
          "data": {
            "text/plain": [
              "dtype('float64')"
            ]
          },
          "metadata": {},
          "execution_count": 127
        }
      ]
    },
    {
      "cell_type": "code",
      "metadata": {
        "id": "ODHW04jTCJ8e"
      },
      "source": [
        "#Ordinal encode target variable using Label Encoder\n",
        "label_encoder = LabelEncoder()\n",
        "label_encoder.fit(y_train)\n",
        "y_train = label_encoder.transform(y_train)\n",
        "y_test = label_encoder.transform(y_test)"
      ],
      "execution_count": null,
      "outputs": []
    },
    {
      "cell_type": "code",
      "metadata": {
        "colab": {
          "base_uri": "https://localhost:8080/"
        },
        "id": "FBESiYY_CXrL",
        "outputId": "19b137b0-6602-48aa-f57c-4288924286aa"
      },
      "source": [
        "y_test[0:5]"
      ],
      "execution_count": null,
      "outputs": [
        {
          "output_type": "execute_result",
          "data": {
            "text/plain": [
              "array([1, 0, 0, 1, 1])"
            ]
          },
          "metadata": {},
          "execution_count": 129
        }
      ]
    },
    {
      "cell_type": "code",
      "metadata": {
        "colab": {
          "base_uri": "https://localhost:8080/"
        },
        "id": "-MNVR2onDsFn",
        "outputId": "dd5871a9-4eb0-4fa9-b0ec-da8e80c016bd"
      },
      "source": [
        "from sklearn.linear_model import LogisticRegression\n",
        "model = LogisticRegression()\n",
        "model.fit(X_train, y_train)\n",
        "yhat = model.predict(X_test)\n",
        "yhat"
      ],
      "execution_count": null,
      "outputs": [
        {
          "output_type": "execute_result",
          "data": {
            "text/plain": [
              "array([1, 0, 0, 0, 0, 0, 0, 0, 0, 0, 0, 1, 0, 0, 0, 0, 0, 0, 0, 1, 0, 0,\n",
              "       1, 1, 0, 1, 0, 0, 0, 0, 0, 0, 0, 0, 0, 0, 0, 0, 0, 1, 0, 0, 0, 0,\n",
              "       0, 1, 0, 0, 0, 0, 0, 0, 0, 0, 0, 0, 0, 0, 0, 0, 0, 0, 1, 0, 0, 1,\n",
              "       0, 0, 0, 0, 0, 0, 0, 0, 0, 0, 0, 0, 0, 0, 0, 1, 0, 1, 0, 0, 0, 0,\n",
              "       0, 0, 0, 0, 0, 0, 0])"
            ]
          },
          "metadata": {},
          "execution_count": 130
        }
      ]
    },
    {
      "cell_type": "code",
      "metadata": {
        "colab": {
          "base_uri": "https://localhost:8080/"
        },
        "id": "ZHZaMFS4D5gT",
        "outputId": "b2d01c59-77e0-4d22-cd73-9e80c827d4a2"
      },
      "source": [
        "model.coef_"
      ],
      "execution_count": null,
      "outputs": [
        {
          "output_type": "execute_result",
          "data": {
            "text/plain": [
              "array([[-0.15999111, -0.01254931,  0.03559176,  0.09381466,  0.38863796,\n",
              "         0.80481491, -0.55715284,  0.14885472,  0.10726919]])"
            ]
          },
          "metadata": {},
          "execution_count": 131
        }
      ]
    },
    {
      "cell_type": "code",
      "metadata": {
        "id": "ytLZarH_JPPW"
      },
      "source": [
        "# from sklearn.ensemble import RandomForestClassifier\n",
        "# rfc = RandomForestClassifier(max_depth = 5)\n",
        "# rfc = rfc.fit(X_train,y_train)\n",
        "\n",
        "# fn = [\"X1\",\"X2\",\"X3\",\"X4\",\"X5\",\"X6\",\"X7\",\"X8\",\"X9\"]\n",
        "# cn = [\"No\",\"Yes\"]"
      ],
      "execution_count": null,
      "outputs": []
    },
    {
      "cell_type": "code",
      "metadata": {
        "id": "wJk6DINZJnou"
      },
      "source": [
        "# from sklearn import tree\n",
        "# import matplotlib.pyplot as plt\n",
        "# plt.figure(figsize=(20,20))\n",
        "# _ = tree.plot_tree(rfc.estimators_[1], feature_names=fn, class_names=cn, filled=True)"
      ],
      "execution_count": null,
      "outputs": []
    },
    {
      "cell_type": "markdown",
      "metadata": {
        "id": "7-P5mx8TCoi3"
      },
      "source": [
        "### One-Hot Encoding"
      ]
    },
    {
      "cell_type": "code",
      "metadata": {
        "id": "c28w4TwgBl3z"
      },
      "source": [
        "from sklearn.preprocessing import OneHotEncoder\n",
        "X_train, X_test, y_train, y_test = train_test_split(X, y, test_size=0.33, random_state=1)\n",
        "\n",
        "onehot_encoder = OneHotEncoder()\n",
        "onehot_encoder.fit(X_train)\n",
        "X_train = onehot_encoder.transform(X_train)\n",
        "X_test = onehot_encoder.transform(X_test)\n",
        "\n",
        "label_encoder = LabelEncoder()\n",
        "label_encoder.fit(y_train)\n",
        "y_train = label_encoder.transform(y_train)\n",
        "y_test = label_encoder.transform(y_test)"
      ],
      "execution_count": null,
      "outputs": []
    },
    {
      "cell_type": "code",
      "metadata": {
        "colab": {
          "base_uri": "https://localhost:8080/"
        },
        "id": "k6yty6P4C7SM",
        "outputId": "9be62269-b1cd-40c7-95b8-129e8ba07aaf"
      },
      "source": [
        "X_train"
      ],
      "execution_count": null,
      "outputs": [
        {
          "output_type": "execute_result",
          "data": {
            "text/plain": [
              "<191x43 sparse matrix of type '<class 'numpy.float64'>'\n",
              "\twith 1719 stored elements in Compressed Sparse Row format>"
            ]
          },
          "metadata": {},
          "execution_count": 92
        }
      ]
    },
    {
      "cell_type": "code",
      "metadata": {
        "colab": {
          "base_uri": "https://localhost:8080/"
        },
        "id": "5fu5Y-IjC8ca",
        "outputId": "d670fbfd-2d03-4d84-adb6-42496a91c4d8"
      },
      "source": [
        "y_train[0:5]"
      ],
      "execution_count": null,
      "outputs": [
        {
          "output_type": "execute_result",
          "data": {
            "text/plain": [
              "array([0, 0, 0, 0, 0])"
            ]
          },
          "metadata": {},
          "execution_count": 93
        }
      ]
    },
    {
      "cell_type": "code",
      "metadata": {
        "colab": {
          "base_uri": "https://localhost:8080/"
        },
        "id": "JW_q3nsDDURv",
        "outputId": "9aa132ac-3ece-49ea-9ff9-336dd222b802"
      },
      "source": [
        "from sklearn.linear_model import LogisticRegression\n",
        "model = LogisticRegression()\n",
        "model.fit(X_train, y_train)\n",
        "yhat = model.predict(X_test)\n",
        "yhat"
      ],
      "execution_count": null,
      "outputs": [
        {
          "output_type": "execute_result",
          "data": {
            "text/plain": [
              "array([1, 0, 0, 0, 0, 1, 0, 0, 0, 0, 0, 1, 0, 1, 0, 0, 0, 0, 1, 1, 0, 0,\n",
              "       1, 0, 0, 1, 0, 0, 0, 1, 0, 0, 0, 0, 0, 0, 1, 0, 0, 1, 0, 0, 0, 0,\n",
              "       0, 0, 0, 0, 0, 0, 0, 0, 0, 0, 0, 0, 0, 0, 0, 0, 0, 0, 0, 0, 0, 1,\n",
              "       0, 0, 1, 0, 1, 0, 0, 0, 0, 0, 0, 0, 0, 0, 1, 1, 0, 0, 0, 0, 0, 0,\n",
              "       0, 0, 0, 0, 0, 1, 0])"
            ]
          },
          "metadata": {},
          "execution_count": 94
        }
      ]
    },
    {
      "cell_type": "code",
      "metadata": {
        "colab": {
          "base_uri": "https://localhost:8080/"
        },
        "id": "oldPUNdsDeXF",
        "outputId": "bb83c61b-4d9e-4f75-f3c6-1141d956f200"
      },
      "source": [
        "model.coef_"
      ],
      "execution_count": null,
      "outputs": [
        {
          "output_type": "execute_result",
          "data": {
            "text/plain": [
              "array([[-9.21479643e-02,  7.63602994e-01, -2.36516522e-01,\n",
              "        -2.36938170e-01, -5.09390026e-02, -1.47067681e-01,\n",
              "        -2.38835421e-01,  3.91888597e-01, -1.53059522e-01,\n",
              "        -3.13997303e-01, -1.14120405e+00,  4.57098959e-01,\n",
              "         4.88760959e-01,  4.59600810e-01,  7.26091881e-01,\n",
              "        -3.44753208e-01,  2.78235559e-02, -2.71385835e-01,\n",
              "        -3.94554613e-01,  3.06512500e-01, -3.48167402e-01,\n",
              "         1.88580752e-01,  7.26708538e-03,  2.21558504e-01,\n",
              "        -2.90248754e-01, -1.13151672e-02,  2.32318636e-01,\n",
              "        -2.80279276e-01,  2.80020689e-01,  2.52240604e-04,\n",
              "        -4.14423839e-01, -3.84927487e-01,  7.99344980e-01,\n",
              "         2.30486807e-01, -2.30493154e-01, -9.20470385e-01,\n",
              "         2.52637649e-01,  7.95849421e-02, -1.91994116e-01,\n",
              "         3.49359654e-01,  4.30875910e-01, -3.91047568e-02,\n",
              "         3.90984107e-02]])"
            ]
          },
          "metadata": {},
          "execution_count": 95
        }
      ]
    },
    {
      "cell_type": "code",
      "metadata": {
        "colab": {
          "base_uri": "https://localhost:8080/"
        },
        "id": "iypoaRxSEGLY",
        "outputId": "c63488f3-86a4-464a-dc2d-f7dbb91eb1b6"
      },
      "source": [
        "X.shape"
      ],
      "execution_count": null,
      "outputs": [
        {
          "output_type": "execute_result",
          "data": {
            "text/plain": [
              "(286, 9)"
            ]
          },
          "metadata": {},
          "execution_count": 96
        }
      ]
    },
    {
      "cell_type": "code",
      "metadata": {
        "colab": {
          "base_uri": "https://localhost:8080/"
        },
        "id": "em1eCSuUELUj",
        "outputId": "88ee7c6c-b6c2-4494-b538-e99dbc015964"
      },
      "source": [
        "X_train.shape"
      ],
      "execution_count": null,
      "outputs": [
        {
          "output_type": "execute_result",
          "data": {
            "text/plain": [
              "(191, 43)"
            ]
          },
          "metadata": {},
          "execution_count": 97
        }
      ]
    },
    {
      "cell_type": "code",
      "metadata": {
        "colab": {
          "base_uri": "https://localhost:8080/"
        },
        "id": "Urt4DO1eEQ4f",
        "outputId": "216c0658-f744-483a-9c2a-92eb6ddf1952"
      },
      "source": [
        "jml = 0\n",
        "for i in range(len(dataset.columns)):\n",
        "  print(set(dataset[i]))\n",
        "  jml = jml+len(set(dataset[i]))"
      ],
      "execution_count": null,
      "outputs": [
        {
          "output_type": "stream",
          "name": "stdout",
          "text": [
            "{\"'50-59'\", \"'30-39'\", \"'60-69'\", \"'70-79'\", \"'40-49'\", \"'20-29'\"}\n",
            "{\"'lt40'\", \"'ge40'\", \"'premeno'\"}\n",
            "{\"'10-14'\", \"'5-9'\", \"'45-49'\", \"'50-54'\", \"'20-24'\", \"'0-4'\", \"'15-19'\", \"'35-39'\", \"'40-44'\", \"'25-29'\", \"'30-34'\"}\n",
            "{\"'0-2'\", \"'3-5'\", \"'24-26'\", \"'9-11'\", \"'6-8'\", \"'12-14'\", \"'15-17'\"}\n",
            "{nan, \"'yes'\", \"'no'\"}\n",
            "{\"'1'\", \"'3'\", \"'2'\"}\n",
            "{\"'left'\", \"'right'\"}\n",
            "{nan, \"'left_up'\", \"'central'\", \"'right_up'\", \"'left_low'\", \"'right_low'\"}\n",
            "{\"'yes'\", \"'no'\"}\n",
            "{\"'no-recurrence-events'\", \"'recurrence-events'\"}\n"
          ]
        }
      ]
    },
    {
      "cell_type": "code",
      "metadata": {
        "colab": {
          "base_uri": "https://localhost:8080/"
        },
        "id": "07tfIr4zExa-",
        "outputId": "2ca66afc-e652-4ff6-ca60-e802dc889d81"
      },
      "source": [
        "shape_y = 2\n",
        "shape_x = jml - shape_y\n",
        "shape_x"
      ],
      "execution_count": null,
      "outputs": [
        {
          "output_type": "execute_result",
          "data": {
            "text/plain": [
              "43"
            ]
          },
          "metadata": {},
          "execution_count": 117
        }
      ]
    },
    {
      "cell_type": "markdown",
      "metadata": {
        "id": "heMDdhYTOmuf"
      },
      "source": [
        "# Avoiding One-Hot Encoding"
      ]
    },
    {
      "cell_type": "markdown",
      "metadata": {
        "id": "j9VgQsoTOuj4"
      },
      "source": [
        "\n",
        "\n",
        "*   A lower amount of dimensions is better\n",
        "*   There will be a sea of zeroes\n",
        "*   Can causes problems of parallelism and multicollinearity in high dimensions\n",
        "*   List item\n",
        "\n",
        "\n",
        "\n"
      ]
    },
    {
      "cell_type": "markdown",
      "metadata": {
        "id": "UwWegX8vPHzA"
      },
      "source": [
        "![image.png](data:image/png;base64,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)"
      ]
    },
    {
      "cell_type": "markdown",
      "metadata": {
        "id": "BgTnZ6buPtf3"
      },
      "source": [
        "### Target Encoding\n",
        "\n",
        "\n",
        "Pros:\n",
        "*   Low dimensionality\n",
        "*   Each value in the column is replaced with the mean target value for that category\n",
        "\n",
        "Cons:\n",
        "*   It more difficult for the model to learn relationships between a mean-encoded variable and another variable\n",
        "*   Very sensitive to the y-variable\n",
        "* Homogenous values after encoding\n",
        "\n",
        "\n"
      ]
    },
    {
      "cell_type": "markdown",
      "metadata": {
        "id": "ERxKST3WTgWO"
      },
      "source": [
        "[Target Encoding Example](https://miro.medium.com/max/629/1*W77md1OC9HSuAFy9b0LEIw.png)"
      ]
    },
    {
      "cell_type": "code",
      "metadata": {
        "id": "YpORbmgIUvmT"
      },
      "source": [
        "label_encoder = LabelEncoder()\n",
        "label_encoder.fit(y_train)\n",
        "y_train = label_encoder.transform(y_train)\n",
        "y_test = label_encoder.transform(y_test)"
      ],
      "execution_count": null,
      "outputs": []
    },
    {
      "cell_type": "code",
      "metadata": {
        "id": "-5JGw0NVFWEh",
        "colab": {
          "base_uri": "https://localhost:8080/",
          "height": 206
        },
        "outputId": "d600230a-5778-4a69-ab85-dffe16084154"
      },
      "source": [
        "from category_encoders import TargetEncoder\n",
        "enc = TargetEncoder()\n",
        "\n",
        "training_set = enc.fit(X_train, y_train)\n",
        "training_set = enc.transform(X_train)\n",
        "training_set.head()"
      ],
      "execution_count": null,
      "outputs": [
        {
          "output_type": "execute_result",
          "data": {
            "text/html": [
              "<div>\n",
              "<style scoped>\n",
              "    .dataframe tbody tr th:only-of-type {\n",
              "        vertical-align: middle;\n",
              "    }\n",
              "\n",
              "    .dataframe tbody tr th {\n",
              "        vertical-align: top;\n",
              "    }\n",
              "\n",
              "    .dataframe thead th {\n",
              "        text-align: right;\n",
              "    }\n",
              "</style>\n",
              "<table border=\"1\" class=\"dataframe\">\n",
              "  <thead>\n",
              "    <tr style=\"text-align: right;\">\n",
              "      <th></th>\n",
              "      <th>0</th>\n",
              "      <th>1</th>\n",
              "      <th>2</th>\n",
              "      <th>3</th>\n",
              "      <th>4</th>\n",
              "      <th>5</th>\n",
              "      <th>6</th>\n",
              "      <th>7</th>\n",
              "      <th>8</th>\n",
              "    </tr>\n",
              "  </thead>\n",
              "  <tbody>\n",
              "    <tr>\n",
              "      <th>0</th>\n",
              "      <td>0.246154</td>\n",
              "      <td>0.261905</td>\n",
              "      <td>0.324324</td>\n",
              "      <td>0.211268</td>\n",
              "      <td>0.217687</td>\n",
              "      <td>0.159091</td>\n",
              "      <td>0.317308</td>\n",
              "      <td>0.277778</td>\n",
              "      <td>0.230769</td>\n",
              "    </tr>\n",
              "    <tr>\n",
              "      <th>1</th>\n",
              "      <td>0.434783</td>\n",
              "      <td>0.274510</td>\n",
              "      <td>0.012912</td>\n",
              "      <td>0.211268</td>\n",
              "      <td>0.217687</td>\n",
              "      <td>0.184783</td>\n",
              "      <td>0.317308</td>\n",
              "      <td>0.277778</td>\n",
              "      <td>0.230769</td>\n",
              "    </tr>\n",
              "    <tr>\n",
              "      <th>2</th>\n",
              "      <td>0.246154</td>\n",
              "      <td>0.274510</td>\n",
              "      <td>0.326052</td>\n",
              "      <td>0.211268</td>\n",
              "      <td>0.459459</td>\n",
              "      <td>0.184783</td>\n",
              "      <td>0.218391</td>\n",
              "      <td>0.269841</td>\n",
              "      <td>0.395833</td>\n",
              "    </tr>\n",
              "    <tr>\n",
              "      <th>3</th>\n",
              "      <td>0.434783</td>\n",
              "      <td>0.274510</td>\n",
              "      <td>0.324324</td>\n",
              "      <td>0.211268</td>\n",
              "      <td>0.217687</td>\n",
              "      <td>0.159091</td>\n",
              "      <td>0.317308</td>\n",
              "      <td>0.062500</td>\n",
              "      <td>0.230769</td>\n",
              "    </tr>\n",
              "    <tr>\n",
              "      <th>4</th>\n",
              "      <td>0.254237</td>\n",
              "      <td>0.274510</td>\n",
              "      <td>0.290323</td>\n",
              "      <td>0.211268</td>\n",
              "      <td>0.217687</td>\n",
              "      <td>0.184783</td>\n",
              "      <td>0.218391</td>\n",
              "      <td>0.300000</td>\n",
              "      <td>0.230769</td>\n",
              "    </tr>\n",
              "  </tbody>\n",
              "</table>\n",
              "</div>"
            ],
            "text/plain": [
              "          0         1         2  ...         6         7         8\n",
              "0  0.246154  0.261905  0.324324  ...  0.317308  0.277778  0.230769\n",
              "1  0.434783  0.274510  0.012912  ...  0.317308  0.277778  0.230769\n",
              "2  0.246154  0.274510  0.326052  ...  0.218391  0.269841  0.395833\n",
              "3  0.434783  0.274510  0.324324  ...  0.317308  0.062500  0.230769\n",
              "4  0.254237  0.274510  0.290323  ...  0.218391  0.300000  0.230769\n",
              "\n",
              "[5 rows x 9 columns]"
            ]
          },
          "metadata": {},
          "execution_count": 181
        }
      ]
    },
    {
      "cell_type": "markdown",
      "metadata": {
        "id": "DqqUEBNXSLma"
      },
      "source": [
        "###Leave-one-out encoding\n",
        "- Calculating the average, excluding the current row value \n",
        "- This levels off the effect of outliers and creates more diverse encoded values"
      ]
    },
    {
      "cell_type": "code",
      "metadata": {
        "id": "mS1O6fwOI85v",
        "colab": {
          "base_uri": "https://localhost:8080/",
          "height": 206
        },
        "outputId": "4b2e7aa6-10cc-4798-ab40-454240544696"
      },
      "source": [
        "from category_encoders import LeaveOneOutEncoder\n",
        "loe = LeaveOneOutEncoder()\n",
        "\n",
        "training_set = loe.fit(X_train, y_train)\n",
        "training_set = loe.transform(X_train)\n",
        "training_set.head()"
      ],
      "execution_count": null,
      "outputs": [
        {
          "output_type": "execute_result",
          "data": {
            "text/html": [
              "<div>\n",
              "<style scoped>\n",
              "    .dataframe tbody tr th:only-of-type {\n",
              "        vertical-align: middle;\n",
              "    }\n",
              "\n",
              "    .dataframe tbody tr th {\n",
              "        vertical-align: top;\n",
              "    }\n",
              "\n",
              "    .dataframe thead th {\n",
              "        text-align: right;\n",
              "    }\n",
              "</style>\n",
              "<table border=\"1\" class=\"dataframe\">\n",
              "  <thead>\n",
              "    <tr style=\"text-align: right;\">\n",
              "      <th></th>\n",
              "      <th>0</th>\n",
              "      <th>1</th>\n",
              "      <th>2</th>\n",
              "      <th>3</th>\n",
              "      <th>4</th>\n",
              "      <th>5</th>\n",
              "      <th>6</th>\n",
              "      <th>7</th>\n",
              "      <th>8</th>\n",
              "    </tr>\n",
              "  </thead>\n",
              "  <tbody>\n",
              "    <tr>\n",
              "      <th>0</th>\n",
              "      <td>0.246154</td>\n",
              "      <td>0.261905</td>\n",
              "      <td>0.324324</td>\n",
              "      <td>0.211268</td>\n",
              "      <td>0.217687</td>\n",
              "      <td>0.159091</td>\n",
              "      <td>0.317308</td>\n",
              "      <td>0.277778</td>\n",
              "      <td>0.230769</td>\n",
              "    </tr>\n",
              "    <tr>\n",
              "      <th>1</th>\n",
              "      <td>0.434783</td>\n",
              "      <td>0.274510</td>\n",
              "      <td>0.000000</td>\n",
              "      <td>0.211268</td>\n",
              "      <td>0.217687</td>\n",
              "      <td>0.184783</td>\n",
              "      <td>0.317308</td>\n",
              "      <td>0.277778</td>\n",
              "      <td>0.230769</td>\n",
              "    </tr>\n",
              "    <tr>\n",
              "      <th>2</th>\n",
              "      <td>0.246154</td>\n",
              "      <td>0.274510</td>\n",
              "      <td>0.333333</td>\n",
              "      <td>0.211268</td>\n",
              "      <td>0.459459</td>\n",
              "      <td>0.184783</td>\n",
              "      <td>0.218391</td>\n",
              "      <td>0.269841</td>\n",
              "      <td>0.395833</td>\n",
              "    </tr>\n",
              "    <tr>\n",
              "      <th>3</th>\n",
              "      <td>0.434783</td>\n",
              "      <td>0.274510</td>\n",
              "      <td>0.324324</td>\n",
              "      <td>0.211268</td>\n",
              "      <td>0.217687</td>\n",
              "      <td>0.159091</td>\n",
              "      <td>0.317308</td>\n",
              "      <td>0.062500</td>\n",
              "      <td>0.230769</td>\n",
              "    </tr>\n",
              "    <tr>\n",
              "      <th>4</th>\n",
              "      <td>0.254237</td>\n",
              "      <td>0.274510</td>\n",
              "      <td>0.290323</td>\n",
              "      <td>0.211268</td>\n",
              "      <td>0.217687</td>\n",
              "      <td>0.184783</td>\n",
              "      <td>0.218391</td>\n",
              "      <td>0.300000</td>\n",
              "      <td>0.230769</td>\n",
              "    </tr>\n",
              "  </tbody>\n",
              "</table>\n",
              "</div>"
            ],
            "text/plain": [
              "          0         1         2  ...         6         7         8\n",
              "0  0.246154  0.261905  0.324324  ...  0.317308  0.277778  0.230769\n",
              "1  0.434783  0.274510  0.000000  ...  0.317308  0.277778  0.230769\n",
              "2  0.246154  0.274510  0.333333  ...  0.218391  0.269841  0.395833\n",
              "3  0.434783  0.274510  0.324324  ...  0.317308  0.062500  0.230769\n",
              "4  0.254237  0.274510  0.290323  ...  0.218391  0.300000  0.230769\n",
              "\n",
              "[5 rows x 9 columns]"
            ]
          },
          "metadata": {},
          "execution_count": 182
        }
      ]
    },
    {
      "cell_type": "markdown",
      "metadata": {
        "id": "vzedMA5h_gqg"
      },
      "source": [
        "### Frequency Encoding"
      ]
    },
    {
      "cell_type": "code",
      "metadata": {
        "colab": {
          "base_uri": "https://localhost:8080/"
        },
        "id": "2XTtcUIm_Azj",
        "outputId": "1e55b36d-3244-4ec5-b00e-d1cd2484a024"
      },
      "source": [
        "data_freq = pd.DataFrame({'class' : ['A','B','C','D','A',\"B\",\"E\",\"E\",\"D\",\"C\",\"C\",\"C\",\"E\",\"A\",\"A\"]})\n",
        "fe = data_freq.groupby(\"class\").size()\n",
        "fe"
      ],
      "execution_count": null,
      "outputs": [
        {
          "output_type": "execute_result",
          "data": {
            "text/plain": [
              "class\n",
              "A    4\n",
              "B    2\n",
              "C    4\n",
              "D    2\n",
              "E    3\n",
              "dtype: int64"
            ]
          },
          "metadata": {},
          "execution_count": 37
        }
      ]
    },
    {
      "cell_type": "code",
      "metadata": {
        "colab": {
          "base_uri": "https://localhost:8080/",
          "height": 206
        },
        "id": "SFTZ9Dy8_iq4",
        "outputId": "ea1ba0e9-7d56-4f1a-ed3a-cbee084fe104"
      },
      "source": [
        "fe_ = fe/len(data_freq)\n",
        "data_freq[\"data_fe\"] = data_freq[\"class\"].map(fe_).round(2)\n",
        "data_freq.head()"
      ],
      "execution_count": null,
      "outputs": [
        {
          "output_type": "execute_result",
          "data": {
            "text/html": [
              "<div>\n",
              "<style scoped>\n",
              "    .dataframe tbody tr th:only-of-type {\n",
              "        vertical-align: middle;\n",
              "    }\n",
              "\n",
              "    .dataframe tbody tr th {\n",
              "        vertical-align: top;\n",
              "    }\n",
              "\n",
              "    .dataframe thead th {\n",
              "        text-align: right;\n",
              "    }\n",
              "</style>\n",
              "<table border=\"1\" class=\"dataframe\">\n",
              "  <thead>\n",
              "    <tr style=\"text-align: right;\">\n",
              "      <th></th>\n",
              "      <th>class</th>\n",
              "      <th>data_fe</th>\n",
              "    </tr>\n",
              "  </thead>\n",
              "  <tbody>\n",
              "    <tr>\n",
              "      <th>0</th>\n",
              "      <td>A</td>\n",
              "      <td>0.27</td>\n",
              "    </tr>\n",
              "    <tr>\n",
              "      <th>1</th>\n",
              "      <td>B</td>\n",
              "      <td>0.13</td>\n",
              "    </tr>\n",
              "    <tr>\n",
              "      <th>2</th>\n",
              "      <td>C</td>\n",
              "      <td>0.27</td>\n",
              "    </tr>\n",
              "    <tr>\n",
              "      <th>3</th>\n",
              "      <td>D</td>\n",
              "      <td>0.13</td>\n",
              "    </tr>\n",
              "    <tr>\n",
              "      <th>4</th>\n",
              "      <td>A</td>\n",
              "      <td>0.27</td>\n",
              "    </tr>\n",
              "  </tbody>\n",
              "</table>\n",
              "</div>"
            ],
            "text/plain": [
              "  class  data_fe\n",
              "0     A     0.27\n",
              "1     B     0.13\n",
              "2     C     0.27\n",
              "3     D     0.13\n",
              "4     A     0.27"
            ]
          },
          "metadata": {},
          "execution_count": 39
        }
      ]
    },
    {
      "cell_type": "markdown",
      "metadata": {
        "id": "SbuHojfUVtCq"
      },
      "source": [
        "### Time-Series Encoding"
      ]
    },
    {
      "cell_type": "markdown",
      "metadata": {
        "id": "4tYA93Rszs8u"
      },
      "source": [
        "- Time-based features such as day of month, day of week, day of year, etc have a cyclic nature and have many feature values. \n",
        "- One-hot encoding day of monthfeature results in 30 dimensionality vector, day of year results in 366 dimension vector. "
      ]
    },
    {
      "cell_type": "markdown",
      "metadata": {
        "id": "sYDl4TEB0Aev"
      },
      "source": [
        "[Sinus Cosinus](https://www.google.com/url?sa=i&url=https%3A%2F%2Fkumparan.com%2Fberita-unik%2Fsin-cos-tan-cara-menghitung-fungsi-dan-contoh-soal-1w8WIWJaJxO&psig=AOvVaw050kze5u4lXmLq2KfBXNRA&ust=1631600376253000&source=images&cd=vfe&ved=0CAsQjRxqFwoTCKCv75mn-_ICFQAAAAAdAAAAABAD)"
      ]
    },
    {
      "cell_type": "code",
      "metadata": {
        "colab": {
          "base_uri": "https://localhost:8080/",
          "height": 206
        },
        "id": "WYCRZqREVi37",
        "outputId": "4440fdcb-497c-44e5-c4ae-e41bf4d83352"
      },
      "source": [
        "import pandas as pd\n",
        "data = pd.DataFrame({ 'weekday_name' : ['Sunday', 'Thursday', 'Friday', 'Saturday', 'Sunday'],\n",
        "                       'class' : [6, 3, 4, 5, 6]})\n",
        "data.head()"
      ],
      "execution_count": null,
      "outputs": [
        {
          "output_type": "execute_result",
          "data": {
            "text/html": [
              "<div>\n",
              "<style scoped>\n",
              "    .dataframe tbody tr th:only-of-type {\n",
              "        vertical-align: middle;\n",
              "    }\n",
              "\n",
              "    .dataframe tbody tr th {\n",
              "        vertical-align: top;\n",
              "    }\n",
              "\n",
              "    .dataframe thead th {\n",
              "        text-align: right;\n",
              "    }\n",
              "</style>\n",
              "<table border=\"1\" class=\"dataframe\">\n",
              "  <thead>\n",
              "    <tr style=\"text-align: right;\">\n",
              "      <th></th>\n",
              "      <th>weekday_name</th>\n",
              "      <th>class</th>\n",
              "    </tr>\n",
              "  </thead>\n",
              "  <tbody>\n",
              "    <tr>\n",
              "      <th>0</th>\n",
              "      <td>Sunday</td>\n",
              "      <td>6</td>\n",
              "    </tr>\n",
              "    <tr>\n",
              "      <th>1</th>\n",
              "      <td>Thursday</td>\n",
              "      <td>3</td>\n",
              "    </tr>\n",
              "    <tr>\n",
              "      <th>2</th>\n",
              "      <td>Friday</td>\n",
              "      <td>4</td>\n",
              "    </tr>\n",
              "    <tr>\n",
              "      <th>3</th>\n",
              "      <td>Saturday</td>\n",
              "      <td>5</td>\n",
              "    </tr>\n",
              "    <tr>\n",
              "      <th>4</th>\n",
              "      <td>Sunday</td>\n",
              "      <td>6</td>\n",
              "    </tr>\n",
              "  </tbody>\n",
              "</table>\n",
              "</div>"
            ],
            "text/plain": [
              "  weekday_name  class\n",
              "0       Sunday      6\n",
              "1     Thursday      3\n",
              "2       Friday      4\n",
              "3     Saturday      5\n",
              "4       Sunday      6"
            ]
          },
          "metadata": {},
          "execution_count": 183
        }
      ]
    },
    {
      "cell_type": "code",
      "metadata": {
        "id": "BA6Y4WycWl5z"
      },
      "source": [
        "import math\n",
        "from math import pi\n",
        "\n",
        "def transformation(column):\n",
        "  max_value = column.max()\n",
        "  sin_values = [math.sin((2*pi*x)/max_value) for x in list(column)]\n",
        "  cos_values = [math.cos((2*pi*x)/max_value) for x in list(column)]\n",
        "  return sin_values, cos_values"
      ],
      "execution_count": null,
      "outputs": []
    },
    {
      "cell_type": "code",
      "metadata": {
        "colab": {
          "base_uri": "https://localhost:8080/"
        },
        "id": "LkjfVxCAWpVa",
        "outputId": "fa03ab36-b1a8-4c2a-b43c-306c0c5834c8"
      },
      "source": [
        "transformation(data['class'])"
      ],
      "execution_count": null,
      "outputs": [
        {
          "output_type": "execute_result",
          "data": {
            "text/plain": [
              "([-2.4492935982947064e-16,\n",
              "  1.2246467991473532e-16,\n",
              "  -0.8660254037844384,\n",
              "  -0.8660254037844386,\n",
              "  -2.4492935982947064e-16],\n",
              " [1.0, -1.0, -0.5000000000000004, 0.5000000000000001, 1.0])"
            ]
          },
          "metadata": {},
          "execution_count": 189
        }
      ]
    }
  ]
}