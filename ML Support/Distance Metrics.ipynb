{
 "cells": [
  {
   "cell_type": "markdown",
   "metadata": {},
   "source": [
    "Euclidian Distance"
   ]
  },
  {
   "cell_type": "code",
   "execution_count": 15,
   "metadata": {},
   "outputs": [],
   "source": [
    "import numpy as np\n",
    "#Function to calculate the Euclidean Distance between two points\n",
    "def euclidean(a,b)->float:\n",
    "    distance = 0\n",
    "    for index, feature in enumerate(a):\n",
    "        d =(feature - b[index])**2\n",
    "        distance = distance + d\n",
    "        \n",
    "    return np.sqrt(distance)"
   ]
  },
  {
   "cell_type": "code",
   "execution_count": 3,
   "metadata": {},
   "outputs": [
    {
     "name": "stdout",
     "output_type": "stream",
     "text": [
      "5.715767664977295\n",
      "5.715767664977295\n"
     ]
    }
   ],
   "source": [
    "from scipy.spatial import distance\n",
    "# Our observations\n",
    "a = np.array((1.1, 2.2, 3.3))\n",
    "b = np.array((4.4, 5.5, 6.6))\n",
    "#numpy_dist = np.linalg.norm(a-b)\n",
    "function_dist = euclidean(a,b)\n",
    "print(function_dist)\n",
    "scipy_dist = distance.euclidean(a, b)\n",
    "print(scipy_dist)"
   ]
  },
  {
   "cell_type": "markdown",
   "metadata": {},
   "source": [
    "Manhattan Distance"
   ]
  },
  {
   "cell_type": "code",
   "execution_count": 18,
   "metadata": {},
   "outputs": [
    {
     "data": {
      "text/plain": [
       "9"
      ]
     },
     "execution_count": 18,
     "metadata": {},
     "output_type": "execute_result"
    }
   ],
   "source": [
    "import numpy as np\n",
    "#Function to calculate the Manhattan Distance between two points\n",
    "def manhattan(a,b)->int:\n",
    "    distance = 0\n",
    "    for index, feature in enumerate(a):\n",
    "        d = np.abs(feature - b[index])\n",
    "        distance = distance + d\n",
    "        \n",
    "    return distance\n",
    "\n",
    "a = np.array((1, 2, 3))\n",
    "b = np.array((4, 5, 6))\n",
    "manhattan(a,b)"
   ]
  },
  {
   "cell_type": "markdown",
   "metadata": {},
   "source": [
    "Minkowski Distance"
   ]
  },
  {
   "cell_type": "code",
   "execution_count": 5,
   "metadata": {},
   "outputs": [],
   "source": [
    "# import libraries\n",
    "import math\n",
    "import numpy as np\n",
    "from decimal import Decimal\n",
    "\n",
    "# Calculate the p root of a certain numeric value  \n",
    "def p_root(value, root): \n",
    "      \n",
    "    root_value = 1 / float(root) \n",
    "    return round (Decimal(value) **\n",
    "             Decimal(root_value), 3)"
   ]
  },
  {
   "cell_type": "code",
   "execution_count": 6,
   "metadata": {},
   "outputs": [],
   "source": [
    "# Function implementing the Minkowski distance\n",
    "def minkowski_distance(x, y, p): \n",
    "      \n",
    "    # pass the p_root function to calculate \n",
    "    # all the value of vector \n",
    "    return (p_root(sum(pow(abs(a-b), p) \n",
    "            for a, b in zip(x, y)), p))"
   ]
  },
  {
   "cell_type": "code",
   "execution_count": 7,
   "metadata": {},
   "outputs": [
    {
     "name": "stdout",
     "output_type": "stream",
     "text": [
      "Manhattan Distance (p = 1)\n",
      "9.900\n",
      "Euclidean Distance (p = 2)\n",
      "5.716\n",
      "Intermediate norm Distance (p = 1.5)\n",
      "6.864\n"
     ]
    }
   ],
   "source": [
    "# Our observations\n",
    "a = np.array((1.1, 2.2, 3.3))\n",
    "b = np.array((4.4, 5.5, 6.6))\n",
    "# Calculate Manhattan Distance\n",
    "p = 1\n",
    "print(\"Manhattan Distance (p = 1)\")\n",
    "print(minkowski_distance(a, b, p))\n",
    "# Calculate Euclidean Distance\n",
    "p = 2\n",
    "print(\"Euclidean Distance (p = 2)\")\n",
    "print(minkowski_distance(a, b, p)) \n",
    "# Calculate intermediate norm distance\n",
    "p = 1.5\n",
    "print(\"Intermediate norm Distance (p = 1.5)\")\n",
    "print(minkowski_distance(a, b, p))"
   ]
  },
  {
   "cell_type": "markdown",
   "metadata": {},
   "source": [
    "Minkowski Distance with Scipy"
   ]
  },
  {
   "cell_type": "code",
   "execution_count": 8,
   "metadata": {},
   "outputs": [
    {
     "name": "stdout",
     "output_type": "stream",
     "text": [
      "Manhattan Distance (p = 1)\n",
      "9.899999999999999\n",
      "Euclidean Distance (p = 2)\n",
      "5.715767664977295\n",
      "Intermidiate norm Distance (p = 1.5)\n",
      "6.864276616071283\n"
     ]
    }
   ],
   "source": [
    "a = np.array((1.1, 2.2, 3.3))\n",
    "b = np.array((4.4, 5.5, 6.6))\n",
    "from scipy.spatial import distance\n",
    "# Calculate Manhattan Distance\n",
    "p = 1\n",
    "print(\"Manhattan Distance (p = 1)\")\n",
    "print(distance.minkowski(a, b, p))\n",
    "# Calculate Euclidean Distance\n",
    "p = 2\n",
    "print(\"Euclidean Distance (p = 2)\")\n",
    "print(distance.minkowski(a, b, p))\n",
    "# Calculate intermediate norm distance\n",
    "p = 1.5\n",
    "print(\"Intermidiate norm Distance (p = 1.5)\")\n",
    "print(distance.minkowski(a, b, p))"
   ]
  },
  {
   "cell_type": "markdown",
   "metadata": {},
   "source": [
    "Hamming Distance"
   ]
  },
  {
   "cell_type": "code",
   "execution_count": 9,
   "metadata": {},
   "outputs": [
    {
     "name": "stdout",
     "output_type": "stream",
     "text": [
      "4\n"
     ]
    }
   ],
   "source": [
    "# Our Data points with binary features\n",
    "a = np.array((1, 0, 1, 0, 0, 1, 0))\n",
    "b = np.array((0, 0, 1, 1,0 , 0, 1))\n",
    "# Calculating the Hamming Distance using XOR and sum\n",
    "hamming_distance = np.bitwise_xor(a,b).sum()\n",
    "print(hamming_distance) # 4"
   ]
  },
  {
   "cell_type": "markdown",
   "metadata": {},
   "source": [
    "Hamming Distance Normalized"
   ]
  },
  {
   "cell_type": "code",
   "execution_count": 11,
   "metadata": {},
   "outputs": [
    {
     "name": "stdout",
     "output_type": "stream",
     "text": [
      "0.5714285714285714\n"
     ]
    }
   ],
   "source": [
    "# Our Data points with binary features\n",
    "a = np.array((1, 0, 1, 0, 0, 1, 0))\n",
    "b = np.array((0, 0, 1, 1,0 , 0, 1))\n",
    "# Calculating the Hamming Distance using XOR and sum\n",
    "hamming_distance = np.bitwise_xor(a,b).sum()/len(a)\n",
    "print(hamming_distance) # 0.571428"
   ]
  },
  {
   "cell_type": "markdown",
   "metadata": {},
   "source": [
    "Hamming Distance with Scipy"
   ]
  },
  {
   "cell_type": "code",
   "execution_count": 12,
   "metadata": {},
   "outputs": [
    {
     "name": "stdout",
     "output_type": "stream",
     "text": [
      "0.5714285714285714\n"
     ]
    }
   ],
   "source": [
    "# Our Data points with binary features\n",
    "a = np.array((1, 0, 1, 0, 0, 1, 0))\n",
    "b = np.array((0, 0, 1, 1,0 , 0, 1))\n",
    "# Calculating the Hamming Distance Scipy\n",
    "from scipy.spatial import distance\n",
    "# Calculate Hamming Distance\n",
    "print(distance.hamming(a,b)) # 0.5714"
   ]
  },
  {
   "cell_type": "code",
   "execution_count": null,
   "metadata": {},
   "outputs": [],
   "source": []
  }
 ],
 "metadata": {
  "kernelspec": {
   "display_name": "Python 3",
   "language": "python",
   "name": "python3"
  },
  "language_info": {
   "codemirror_mode": {
    "name": "ipython",
    "version": 3
   },
   "file_extension": ".py",
   "mimetype": "text/x-python",
   "name": "python",
   "nbconvert_exporter": "python",
   "pygments_lexer": "ipython3",
   "version": "3.7.3"
  }
 },
 "nbformat": 4,
 "nbformat_minor": 2
}
