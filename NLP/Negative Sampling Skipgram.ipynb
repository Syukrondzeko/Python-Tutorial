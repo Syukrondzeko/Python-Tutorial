{
 "cells": [
  {
   "cell_type": "code",
   "execution_count": 1,
   "id": "60d692af",
   "metadata": {},
   "outputs": [],
   "source": [
    "from gensim.models import Word2Vec\n",
    "\n",
    "# Sample sentences\n",
    "sentences = [['the', 'team', 'played', 'well', 'tonight'],\n",
    "                      ['he', 'scored', 'a', 'brilliant', 'goal'],\n",
    "                      ['football', 'is', 'a', 'popular', 'sport', 'worldwide'],\n",
    "                      ['the', 'stadium', 'was', 'packed', 'with', 'fans'],\n",
    "                      ['they', 'won', 'the', 'championship', 'last', 'season']]\n",
    "\n",
    "\n",
    "\n",
    "# Train the model with Skip-Gram and Negative Sampling\n",
    "model = Word2Vec(sentences, vector_size=100, window=5, min_count=1, workers=4, sg=1, negative=5)\n",
    "\n",
    "# 'sg=1' indicates Skip-Gram. Default is CBOW (sg=0).\n",
    "# 'negative=5' means it'll use 5 negative samples.\n"
   ]
  },
  {
   "cell_type": "code",
   "execution_count": 2,
   "id": "33b6c657",
   "metadata": {},
   "outputs": [],
   "source": [
    "# Get vector for 'sample'\n",
    "vector = model.wv['won']\n",
    "\n",
    "# Find most similar words to 'sample'\n",
    "similar_words = model.wv.most_similar('won')\n"
   ]
  },
  {
   "cell_type": "code",
   "execution_count": 3,
   "id": "eeeafec9",
   "metadata": {},
   "outputs": [
    {
     "data": {
      "text/plain": [
       "[('worldwide', 0.19613048434257507),\n",
       " ('a', 0.18855659663677216),\n",
       " ('championship', 0.10761941969394684),\n",
       " ('goal', 0.09932063519954681),\n",
       " ('brilliant', 0.0777018666267395),\n",
       " ('they', 0.06735220551490784),\n",
       " ('with', 0.04958251118659973),\n",
       " ('season', 0.04802983999252319),\n",
       " ('fans', 0.04637978598475456),\n",
       " ('last', 0.0456664115190506)]"
      ]
     },
     "execution_count": 3,
     "metadata": {},
     "output_type": "execute_result"
    }
   ],
   "source": [
    "similar_words"
   ]
  },
  {
   "cell_type": "code",
   "execution_count": null,
   "id": "e56a4ce4",
   "metadata": {},
   "outputs": [],
   "source": [
    "vector"
   ]
  },
  {
   "cell_type": "code",
   "execution_count": null,
   "id": "46c75c3a",
   "metadata": {},
   "outputs": [],
   "source": []
  }
 ],
 "metadata": {
  "kernelspec": {
   "display_name": "Python 3 (ipykernel)",
   "language": "python",
   "name": "python3"
  },
  "language_info": {
   "codemirror_mode": {
    "name": "ipython",
    "version": 3
   },
   "file_extension": ".py",
   "mimetype": "text/x-python",
   "name": "python",
   "nbconvert_exporter": "python",
   "pygments_lexer": "ipython3",
   "version": "3.10.9"
  }
 },
 "nbformat": 4,
 "nbformat_minor": 5
}
