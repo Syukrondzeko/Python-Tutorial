{
 "cells": [
  {
   "cell_type": "markdown",
   "id": "0ebddf5a",
   "metadata": {},
   "source": [
    "# Pengolahan NLP Bahasa Thailand"
   ]
  },
  {
   "cell_type": "markdown",
   "id": "4032327f",
   "metadata": {},
   "source": [
    "## 1. Setup\n",
    "It is highly recommended to create a virtual environment before you continue with the installation process."
   ]
  },
  {
   "cell_type": "code",
   "execution_count": 1,
   "id": "2379bcc5",
   "metadata": {},
   "outputs": [],
   "source": [
    "#pip install numpy"
   ]
  },
  {
   "cell_type": "code",
   "execution_count": 2,
   "id": "61283d7d",
   "metadata": {},
   "outputs": [],
   "source": [
    "#pip install pythainlp"
   ]
  },
  {
   "cell_type": "code",
   "execution_count": 3,
   "id": "5f90023f",
   "metadata": {},
   "outputs": [],
   "source": [
    "#if you want to upgrade\n",
    "#!pip3 install -U pythainlp "
   ]
  },
  {
   "cell_type": "markdown",
   "id": "4c5fa3f6",
   "metadata": {},
   "source": [
    "## 2. Usage"
   ]
  },
  {
   "cell_type": "code",
   "execution_count": 4,
   "id": "5754135c",
   "metadata": {},
   "outputs": [
    {
     "data": {
      "text/plain": [
       "True"
      ]
     },
     "execution_count": 4,
     "metadata": {},
     "output_type": "execute_result"
    }
   ],
   "source": [
    "#Case 1: Check apakah yang kita masukkan adalah bahasa Thailand\n",
    "\n",
    "import pythainlp.util\n",
    "pythainlp.util.isthai(\"สวัสดี\")"
   ]
  },
  {
   "cell_type": "code",
   "execution_count": 5,
   "id": "70cd6e00",
   "metadata": {},
   "outputs": [
    {
     "data": {
      "text/plain": [
       "54.54545454545454"
      ]
     },
     "execution_count": 5,
     "metadata": {},
     "output_type": "execute_result"
    }
   ],
   "source": [
    "#Case 2: Percentage count of Thai characters in the whole string\n",
    "\n",
    "pythainlp.util.countthai(\"Hello สวัสดี\")"
   ]
  },
  {
   "cell_type": "code",
   "execution_count": 6,
   "id": "17d8b7d0",
   "metadata": {},
   "outputs": [
    {
     "data": {
      "text/plain": [
       "['กล้วย', 'ทุเรียน', 'มะละกอ', 'ส้ม', 'สับปะรด', 'แอปเปิ้ล']"
      ]
     },
     "execution_count": 6,
     "metadata": {},
     "output_type": "execute_result"
    }
   ],
   "source": [
    "#Case 3: Arrange it alphabetically based on the actual order in Thai dictionary\n",
    "\n",
    "from pythainlp.util import collate\n",
    "words = ['แอปเปิ้ล', 'กล้วย', 'ส้ม', 'สับปะรด', 'มะละกอ', 'ทุเรียน']\n",
    "collate(words)"
   ]
  },
  {
   "cell_type": "code",
   "execution_count": 7,
   "id": "6b436514",
   "metadata": {},
   "outputs": [
    {
     "data": {
      "text/plain": [
       "['แอปเปิ้ล', 'สับปะรด', 'ส้ม', 'มะละกอ', 'ทุเรียน', 'กล้วย']"
      ]
     },
     "execution_count": 7,
     "metadata": {},
     "output_type": "execute_result"
    }
   ],
   "source": [
    "#Case 4: Reverse order\n",
    "collate(words, reverse=True)"
   ]
  },
  {
   "cell_type": "code",
   "execution_count": null,
   "id": "fdebae4f",
   "metadata": {},
   "outputs": [],
   "source": [
    "#Requirement for case 5\n",
    "#pip install python-crfsuite"
   ]
  },
  {
   "cell_type": "code",
   "execution_count": 8,
   "id": "2c5911f0",
   "metadata": {
    "scrolled": true
   },
   "outputs": [
    {
     "data": {
      "text/plain": [
       "['เมื่อวันที่ 28 ก.ค.เวลา 07.00 น. ณ บริเวณท้องสนามหลวง พล.อ.อนุพงษ์ เผ่าจินดา รมว.มหาดไทย พร้อมด้วย นายนิพนธ์ บุญญามณี รมช.มหาดไทย ',\n",
       " 'นายทรงศักดิ์ ทองศรี ',\n",
       " 'รมช.มหาดไทย ',\n",
       " 'นายฉัตรชัย พรหมเลิศ ',\n",
       " 'ปลัดกระทรวงมหาดไทย และผู้บริหารระดับสูงของกระทรวงมหาดไทย ร่วมพิธีเจริญพระพุทธมนต์ และพิธีทำบุญตักบาตรถวายเป็นพระราชกุศล ',\n",
       " 'เนื่องในโอกาสวันเฉลิมพระชนมพรรษา พระบาทสมเด็จพระเจ้าอยู่หัว ประจำปี 2563  ในเวลา 07.30 น. พล.อ. อนุพงษ์ และคณะ ร่วมประกอบพิธีถวายสัตย์ปฏิญาณ เพื่อเป็นข้าราชการที่ดีและพลังของแผ่นดิน']"
      ]
     },
     "execution_count": 8,
     "metadata": {},
     "output_type": "execute_result"
    }
   ],
   "source": [
    "#Case 5: Sentence Tokenizer\n",
    "from pythainlp import sent_tokenize\n",
    "text = \"เมื่อวันที่ 28 ก.ค.เวลา 07.00 น. ณ บริเวณท้องสนามหลวง พล.อ.อนุพงษ์ เผ่าจินดา รมว.มหาดไทย พร้อมด้วย นายนิพนธ์ บุญญามณี รมช.มหาดไทย นายทรงศักดิ์ ทองศรี รมช.มหาดไทย นายฉัตรชัย พรหมเลิศ ปลัดกระทรวงมหาดไทย และผู้บริหารระดับสูงของกระทรวงมหาดไทย ร่วมพิธีเจริญพระพุทธมนต์ และพิธีทำบุญตักบาตรถวายเป็นพระราชกุศล เนื่องในโอกาสวันเฉลิมพระชนมพรรษา พระบาทสมเด็จพระเจ้าอยู่หัว ประจำปี 2563  ในเวลา 07.30 น. พล.อ. อนุพงษ์ และคณะ ร่วมประกอบพิธีถวายสัตย์ปฏิญาณ เพื่อเป็นข้าราชการที่ดีและพลังของแผ่นดิน\"\n",
    "sent_tokenize(text)"
   ]
  },
  {
   "cell_type": "code",
   "execution_count": 9,
   "id": "fe8d256b",
   "metadata": {},
   "outputs": [
    {
     "data": {
      "text/plain": [
       "['เมื่อวันที่',\n",
       " '28',\n",
       " 'ก.ค.เวลา',\n",
       " '07.00',\n",
       " 'น.',\n",
       " 'ณ',\n",
       " 'บริเวณท้องสนามหลวง',\n",
       " 'พล.อ.อนุพงษ์',\n",
       " 'เผ่าจินดา',\n",
       " 'รมว.มหาดไทย',\n",
       " 'พร้อมด้วย',\n",
       " 'นายนิพนธ์',\n",
       " 'บุญญามณี',\n",
       " 'รมช.มหาดไทย',\n",
       " 'นายทรงศักดิ์',\n",
       " 'ทองศรี',\n",
       " 'รมช.มหาดไทย',\n",
       " 'นายฉัตรชัย',\n",
       " 'พรหมเลิศ',\n",
       " 'ปลัดกระทรวงมหาดไทย',\n",
       " 'และผู้บริหารระดับสูงของกระทรวงมหาดไทย',\n",
       " 'ร่วมพิธีเจริญพระพุทธมนต์',\n",
       " 'และพิธีทำบุญตักบาตรถวายเป็นพระราชกุศล',\n",
       " 'เนื่องในโอกาสวันเฉลิมพระชนมพรรษา',\n",
       " 'พระบาทสมเด็จพระเจ้าอยู่หัว',\n",
       " 'ประจำปี',\n",
       " '2563',\n",
       " 'ในเวลา',\n",
       " '07.30',\n",
       " 'น.',\n",
       " 'พล.อ.',\n",
       " 'อนุพงษ์',\n",
       " 'และคณะ',\n",
       " 'ร่วมประกอบพิธีถวายสัตย์ปฏิญาณ',\n",
       " 'เพื่อเป็นข้าราชการที่ดีและพลังของแผ่นดิน']"
      ]
     },
     "execution_count": 9,
     "metadata": {},
     "output_type": "execute_result"
    }
   ],
   "source": [
    "sent_tokenize(text, engine = 'whitespace+newline')"
   ]
  },
  {
   "cell_type": "code",
   "execution_count": 10,
   "id": "35a69e0f",
   "metadata": {},
   "outputs": [
    {
     "data": {
      "text/plain": [
       "['เมื่อ',\n",
       " 'วันที่',\n",
       " '28',\n",
       " 'ก.ค.',\n",
       " 'เวลา',\n",
       " '07.00',\n",
       " 'น.',\n",
       " 'ณ',\n",
       " 'บริเวณ',\n",
       " 'ท้องสนามหลวง',\n",
       " 'พล',\n",
       " '.',\n",
       " 'อ.',\n",
       " 'อนุ',\n",
       " 'พงษ์',\n",
       " 'เผ่า',\n",
       " 'จินดา',\n",
       " 'รมว.',\n",
       " 'มหาดไทย',\n",
       " 'พร้อมด้วย',\n",
       " 'นาย',\n",
       " 'นิพนธ์',\n",
       " 'บุญ',\n",
       " 'ญา',\n",
       " 'มณี',\n",
       " 'รมช.',\n",
       " 'มหาดไทย']"
      ]
     },
     "execution_count": 10,
     "metadata": {},
     "output_type": "execute_result"
    }
   ],
   "source": [
    "#Case 6: Word Tokenizer\n",
    "\n",
    "from pythainlp import word_tokenize\n",
    "text = \"เมื่อวันที่ 28 ก.ค.เวลา 07.00 น. ณ บริเวณท้องสนามหลวง พล.อ.อนุพงษ์ เผ่าจินดา รมว.มหาดไทย พร้อมด้วย นายนิพนธ์ บุญญามณี รมช.มหาดไทย\"\n",
    "word_tokenize(text, keep_whitespace=False)"
   ]
  },
  {
   "cell_type": "code",
   "execution_count": 11,
   "id": "f50ce33b",
   "metadata": {},
   "outputs": [
    {
     "data": {
      "text/plain": [
       "'แปลก'"
      ]
     },
     "execution_count": 11,
     "metadata": {},
     "output_type": "execute_result"
    }
   ],
   "source": [
    "#Case 7: Normalization\n",
    "\n",
    "\"\"\"\n",
    "remove zero-width spaces, duplicated spaces, repeating vowels, and dangling characters\n",
    "\"\"\"\n",
    "\n",
    "from pythainlp.util import normalize\n",
    "\n",
    "normalize(\"เเปลก\")"
   ]
  },
  {
   "cell_type": "code",
   "execution_count": 12,
   "id": "203cf257",
   "metadata": {},
   "outputs": [
    {
     "data": {
      "text/plain": [
       "'๑๒๓'"
      ]
     },
     "execution_count": 12,
     "metadata": {},
     "output_type": "execute_result"
    }
   ],
   "source": [
    "#Case 8: Translate Digit to Roman/Arabic\n",
    "from pythainlp.util import arabic_digit_to_thai_digit, thai_digit_to_arabic_digit, digit_to_text\n",
    "text = \"123\"\n",
    "arabic_digit_to_thai_digit(text)"
   ]
  },
  {
   "cell_type": "code",
   "execution_count": 13,
   "id": "baa22cc6",
   "metadata": {},
   "outputs": [
    {
     "data": {
      "text/plain": [
       "'123'"
      ]
     },
     "execution_count": 13,
     "metadata": {},
     "output_type": "execute_result"
    }
   ],
   "source": [
    "thai_digit_to_arabic_digit('๑๒๓')"
   ]
  },
  {
   "cell_type": "code",
   "execution_count": 14,
   "id": "3171d539",
   "metadata": {},
   "outputs": [
    {
     "data": {
      "text/plain": [
       "'หนึ่งสองสาม'"
      ]
     },
     "execution_count": 14,
     "metadata": {},
     "output_type": "execute_result"
    }
   ],
   "source": [
    "digit_to_text(text)"
   ]
  },
  {
   "cell_type": "code",
   "execution_count": 15,
   "id": "a2efb69e",
   "metadata": {},
   "outputs": [
    {
     "name": "stdout",
     "output_type": "stream",
     "text": [
      "[('แอปเปิ้ล', 'NOUN')]\n",
      "[('ส้ม', 'NOUN')]\n",
      "[('กล้วย', 'NOUN')]\n"
     ]
    }
   ],
   "source": [
    "#Case 9: Part-of-speech Tagging\n",
    "from pythainlp.tag import pos_tag\n",
    "doc = [\"แอปเปิ้ล\", \"ส้ม\", \"กล้วย\"]\n",
    "for i in doc:\n",
    "    print(pos_tag([i], corpus=\"orchid_ud\"))"
   ]
  },
  {
   "cell_type": "code",
   "execution_count": 16,
   "id": "5125c761",
   "metadata": {},
   "outputs": [],
   "source": [
    "#Casw 10: Romanization\n",
    "from pythainlp.transliterate import romanize"
   ]
  },
  {
   "cell_type": "code",
   "execution_count": 17,
   "id": "b1aae006",
   "metadata": {},
   "outputs": [
    {
     "data": {
      "text/plain": [
       "'maeo'"
      ]
     },
     "execution_count": 17,
     "metadata": {},
     "output_type": "execute_result"
    }
   ],
   "source": [
    "romanize(\"แมว\")"
   ]
  },
  {
   "cell_type": "code",
   "execution_count": 18,
   "id": "71e30788",
   "metadata": {},
   "outputs": [
    {
     "data": {
      "text/plain": [
       "'phapn'"
      ]
     },
     "execution_count": 18,
     "metadata": {},
     "output_type": "execute_result"
    }
   ],
   "source": [
    "romanize(\"ภาพยนตร์\")"
   ]
  },
  {
   "cell_type": "code",
   "execution_count": null,
   "id": "9acbf021",
   "metadata": {},
   "outputs": [],
   "source": []
  }
 ],
 "metadata": {
  "kernelspec": {
   "display_name": "Python 3 (ipykernel)",
   "language": "python",
   "name": "python3"
  },
  "language_info": {
   "codemirror_mode": {
    "name": "ipython",
    "version": 3
   },
   "file_extension": ".py",
   "mimetype": "text/x-python",
   "name": "python",
   "nbconvert_exporter": "python",
   "pygments_lexer": "ipython3",
   "version": "3.9.12"
  }
 },
 "nbformat": 4,
 "nbformat_minor": 5
}
