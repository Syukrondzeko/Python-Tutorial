{
  "nbformat": 4,
  "nbformat_minor": 0,
  "metadata": {
    "colab": {
      "name": "Sentiment Twitter",
      "provenance": [],
      "collapsed_sections": []
    },
    "kernelspec": {
      "name": "python3",
      "display_name": "Python 3"
    },
    "accelerator": "TPU"
  },
  "cells": [
    {
      "cell_type": "code",
      "metadata": {
        "id": "Jdu6O8UWqGWm",
        "colab_type": "code",
        "colab": {}
      },
      "source": [
        "import pandas as pd\n",
        "\n",
        "df_review = pd.read_csv(\"/content/review.csv\")"
      ],
      "execution_count": null,
      "outputs": []
    },
    {
      "cell_type": "code",
      "metadata": {
        "id": "lZ1h7wVbwDVl",
        "colab_type": "code",
        "colab": {}
      },
      "source": [
        "df_review.tail()"
      ],
      "execution_count": null,
      "outputs": []
    },
    {
      "cell_type": "code",
      "metadata": {
        "id": "4uVEj4yZxtCv",
        "colab_type": "code",
        "colab": {}
      },
      "source": [
        "df_review[\"Star\"].value_counts()"
      ],
      "execution_count": null,
      "outputs": []
    },
    {
      "cell_type": "code",
      "metadata": {
        "id": "iBBDaM9Ux3q5",
        "colab_type": "code",
        "colab": {}
      },
      "source": [
        "label = []\n",
        "for index, row in df_review.iterrows():\n",
        "    if row[\"Star\"] == 5:\n",
        "        label.append(1)\n",
        "    else:\n",
        "        label.append(0)\n",
        "\n",
        "df_review[\"label\"] = label\n",
        "df_review = df_review.drop(columns=['Star'])\n",
        "df_review.tail()\n"
      ],
      "execution_count": null,
      "outputs": []
    },
    {
      "cell_type": "code",
      "metadata": {
        "id": "p_K_V0Hpyo0X",
        "colab_type": "code",
        "colab": {}
      },
      "source": [
        "df_review['label'].value_counts()"
      ],
      "execution_count": null,
      "outputs": []
    },
    {
      "cell_type": "code",
      "metadata": {
        "id": "TIHfi0QqywkL",
        "colab_type": "code",
        "colab": {}
      },
      "source": [
        "df_preprocessed = df_review.copy()\n",
        "df_preprocessed = df_preprocessed.drop(columns=['Date', 'Name'])\n",
        "df_preprocessed.head()"
      ],
      "execution_count": null,
      "outputs": []
    },
    {
      "cell_type": "code",
      "metadata": {
        "id": "k2Q6ZAsXy4_N",
        "colab_type": "code",
        "colab": {}
      },
      "source": [
        "s_1 = df_preprocessed[df_preprocessed['label']==0].sample(25000,replace=True)\n",
        "s_2 = df_preprocessed[df_preprocessed['label']==1].sample(25000,replace=True)\n",
        "df_preprocessed = pd.concat([s_1, s_2])\n",
        "\n",
        "print(df_preprocessed.shape)\n",
        "print(df_preprocessed['label'].value_counts(normalize=True))"
      ],
      "execution_count": null,
      "outputs": []
    },
    {
      "cell_type": "code",
      "metadata": {
        "id": "dA6BMns3y-Qy",
        "colab_type": "code",
        "colab": {}
      },
      "source": [
        "from wordcloud import WordCloud\n",
        "import matplotlib.pyplot as plt\n",
        "\n",
        "\n",
        "# Polarity == 0 negative\n",
        "train_s0 = df_preprocessed[df_preprocessed[\"label\"] == 0]\n",
        "all_text_s0 = ' '.join(word for word in train_s0[\"Comment\"])\n",
        "wordcloud = WordCloud(colormap='Reds', width=1000, height=1000, mode='RGBA', background_color='white').generate(all_text_s0)\n",
        "plt.figure(figsize=(20,10))\n",
        "plt.imshow(wordcloud, interpolation='bilinear')\n",
        "plt.axis(\"off\")\n",
        "plt.margins(x=0, y=0)\n",
        "plt.show()\n",
        "\n",
        "# Polarity == 1 positive\n",
        "train_s1 = df_preprocessed[df_preprocessed[\"label\"] == 1]\n",
        "all_text_s1 = ' '.join(word for word in train_s1[\"Comment\"])\n",
        "wordcloud = WordCloud(width=1000, height=1000, colormap='Blues', background_color='white', mode='RGBA').generate(all_text_s1)\n",
        "plt.figure( figsize=(20,10))\n",
        "plt.imshow(wordcloud, interpolation='bilinear')\n",
        "plt.axis(\"off\")\n",
        "plt.margins(x=0, y=0)\n",
        "plt.show()"
      ],
      "execution_count": null,
      "outputs": []
    },
    {
      "cell_type": "code",
      "metadata": {
        "id": "jcPIPR5Q-Kda",
        "colab_type": "code",
        "colab": {}
      },
      "source": [
        "wf=wordcloud.words_"
      ],
      "execution_count": null,
      "outputs": []
    },
    {
      "cell_type": "code",
      "metadata": {
        "id": "H51Lbgx3zQHq",
        "colab_type": "code",
        "colab": {}
      },
      "source": [
        "import string, re\n",
        "\n",
        "def cleansing(data):\n",
        "    # lower text\n",
        "    data = data.lower()\n",
        "    \n",
        "    # hapus punctuation\n",
        "    remove = string.punctuation\n",
        "    translator = str.maketrans(remove, ' '*len(remove))\n",
        "    data = data.translate(translator)\n",
        "    \n",
        "    # remove ASCII dan unicode\n",
        "    data = data.encode('ascii', 'ignore').decode('utf-8')\n",
        "    data = re.sub(r'[^\\x00-\\x7f]',r'', data)\n",
        "    \n",
        "    # remove newline\n",
        "    data = data.replace('\\n', ' ')\n",
        "    \n",
        "    return data"
      ],
      "execution_count": null,
      "outputs": []
    },
    {
      "cell_type": "code",
      "metadata": {
        "id": "kJzhCHq3zVc6",
        "colab_type": "code",
        "colab": {}
      },
      "source": [
        "# jalankan cleansing data\n",
        "review = []\n",
        "for index, row in df_preprocessed.iterrows():\n",
        "    review.append(cleansing(row[\"Comment\"]))\n",
        "    \n",
        "df_preprocessed[\"Comment\"] = review\n",
        "df_preprocessed.head()"
      ],
      "execution_count": null,
      "outputs": []
    },
    {
      "cell_type": "code",
      "metadata": {
        "id": "_5-YP75uztVb",
        "colab_type": "code",
        "colab": {}
      },
      "source": [
        "!pip install Sastrawi"
      ],
      "execution_count": null,
      "outputs": []
    },
    {
      "cell_type": "code",
      "metadata": {
        "id": "nQdTUD6Fzt7t",
        "colab_type": "code",
        "colab": {}
      },
      "source": [
        "# import library\n",
        "from Sastrawi.StopWordRemover.StopWordRemoverFactory import StopWordRemoverFactory\n",
        " \n",
        "factory = StopWordRemoverFactory()\n",
        "stopword = factory.create_stop_word_remover()\n",
        " \n",
        "# Contoh\n",
        "kalimat = 'Dengan Menggunakan Python dan Library Sastrawi saya dapat melakukan proses Stopword Removal'\n",
        "stop = stopword.remove(kalimat)\n",
        "print(stop)"
      ],
      "execution_count": null,
      "outputs": []
    },
    {
      "cell_type": "code",
      "metadata": {
        "id": "NTT5lXCXz0dZ",
        "colab_type": "code",
        "colab": {}
      },
      "source": [
        "# lakukan pada data kita\n",
        "\n",
        "review = []\n",
        "for index, row in df_preprocessed.iterrows():\n",
        "    review.append(stopword.remove(row[\"Comment\"]))\n",
        "    \n",
        "df_preprocessed[\"Comment\"] = review\n",
        "df_preprocessed.head()"
      ],
      "execution_count": null,
      "outputs": []
    },
    {
      "cell_type": "code",
      "metadata": {
        "id": "pqRvjqvkz-G8",
        "colab_type": "code",
        "colab": {}
      },
      "source": [
        "from Sastrawi.Stemmer.StemmerFactory import StemmerFactory\n",
        "factory = StemmerFactory()\n",
        "stemmer = factory.create_stemmer()\n",
        "\n",
        "# contoh\n",
        "kalimat = 'Liverpool adalah klub hebat tidak seperti si itu WkwkWK'\n",
        "katadasar = stemmer.stem(kalimat)\n",
        " \n",
        "print(katadasar)"
      ],
      "execution_count": null,
      "outputs": []
    },
    {
      "cell_type": "code",
      "metadata": {
        "id": "WFQmwS7M0MlP",
        "colab_type": "code",
        "colab": {}
      },
      "source": [
        "# implementasi pada data kita\n",
        "review = []\n",
        "for index, row in df_preprocessed.iterrows():\n",
        "    review.append(stemmer.stem(row[\"Comment\"]))\n",
        "    \n",
        "df_preprocessed[\"Comment\"] = review\n",
        "df_preprocessed.head()"
      ],
      "execution_count": null,
      "outputs": []
    },
    {
      "cell_type": "code",
      "metadata": {
        "id": "0HKj6bsN0bvr",
        "colab_type": "code",
        "colab": {}
      },
      "source": [
        "from sklearn.model_selection import train_test_split\n",
        "\n",
        "X_train, X_test, y_train, y_test = train_test_split(df_preprocessed['Comment'], df_preprocessed['label'], \n",
        "                                                    test_size=0.1, stratify=df_preprocessed['label'], random_state=30)"
      ],
      "execution_count": null,
      "outputs": []
    },
    {
      "cell_type": "code",
      "metadata": {
        "id": "4eesOyYR0sFk",
        "colab_type": "code",
        "colab": {}
      },
      "source": [
        "from sklearn.feature_extraction.text import TfidfVectorizer\n",
        "\n",
        "corpus = [\n",
        "    'Pusing satu kali',\n",
        "    'Pusing dua kali',\n",
        "    'Pusing tiga kali',\n",
        "    'Pusing lagi']\n",
        "\n",
        "vectorizer = TfidfVectorizer()\n",
        "\n",
        "# contoh\n",
        "X = vectorizer.fit_transform(corpus)\n",
        "X.toarray()"
      ],
      "execution_count": null,
      "outputs": []
    },
    {
      "cell_type": "code",
      "metadata": {
        "id": "pvgTDVoy3jEP",
        "colab_type": "code",
        "colab": {}
      },
      "source": [
        "# implementasi pada dokumen kita\n",
        "X_train = vectorizer.fit_transform(X_train)\n",
        "X_test = vectorizer.transform(X_test)\n",
        "\n",
        "print(X_train.shape)\n",
        "print(X_test.shape)"
      ],
      "execution_count": null,
      "outputs": []
    },
    {
      "cell_type": "code",
      "metadata": {
        "id": "FBPbFhX23m_a",
        "colab_type": "code",
        "colab": {}
      },
      "source": [
        "def preprocess_data(data):\n",
        "    # cleansing data\n",
        "    data = cleansing(data)\n",
        "    \n",
        "    # hapus stopwords\n",
        "    factory = StopWordRemoverFactory()\n",
        "    stopword = factory.create_stop_word_remover()\n",
        "    data = stopword.remove(data)\n",
        "    \n",
        "    # stemming\n",
        "    factory = StemmerFactory()\n",
        "    stemmer = factory.create_stemmer()\n",
        "    data = stemmer.stem(data)\n",
        "    \n",
        "    # count vectorizer\n",
        "    data = vectorizer.transform([data])\n",
        "    \n",
        "    return data"
      ],
      "execution_count": null,
      "outputs": []
    },
    {
      "cell_type": "code",
      "metadata": {
        "id": "EDpBjaK433sX",
        "colab_type": "code",
        "colab": {}
      },
      "source": [
        "from sklearn import svm\n",
        "from sklearn.model_selection import cross_val_score\n",
        "\n",
        "clf = svm.SVC(kernel=\"linear\")\n",
        "\n",
        "#cross_val_score(clf, X_train, y_train, cv=10)"
      ],
      "execution_count": null,
      "outputs": []
    },
    {
      "cell_type": "code",
      "metadata": {
        "id": "Cui3yR7C5XFk",
        "colab_type": "code",
        "colab": {}
      },
      "source": [
        "# lakukan prediksi pada data test\n",
        "clf.fit(X_train,y_train)\n",
        "predict = clf.predict(X_test)"
      ],
      "execution_count": null,
      "outputs": []
    },
    {
      "cell_type": "code",
      "metadata": {
        "id": "avRdSeY95Z5Q",
        "colab_type": "code",
        "colab": {}
      },
      "source": [
        "# import library evaluation\n",
        "from sklearn.metrics import f1_score, recall_score, precision_score, confusion_matrix, accuracy_score"
      ],
      "execution_count": null,
      "outputs": []
    },
    {
      "cell_type": "code",
      "metadata": {
        "id": "_YxI9si15b8M",
        "colab_type": "code",
        "colab": {}
      },
      "source": [
        "# f1_score\n",
        "print(\"f1 score hasil prediksi adalah: \")\n",
        "print(f1_score(y_test, predict))\n",
        "\n",
        "# accuracy score\n",
        "print(\"accuracy score hasil prediksi adalah: \")\n",
        "print(accuracy_score(y_test, predict))\n",
        "\n",
        "# precision score\n",
        "print(\"precision score hasil prediksi adalah: \")\n",
        "print(precision_score(y_test, predict))\n",
        "\n",
        "# recall score\n",
        "print(\"recall score hasil prediksi adalah: \")\n",
        "print(recall_score(y_test, predict))"
      ],
      "execution_count": null,
      "outputs": []
    },
    {
      "cell_type": "code",
      "metadata": {
        "id": "oYyjUGr45eDq",
        "colab_type": "code",
        "colab": {}
      },
      "source": [
        "# confusion matrix\n",
        "tn, fp, fn, tp = confusion_matrix(y_test, predict).ravel()\n",
        "tn, fp, fn, tp"
      ],
      "execution_count": null,
      "outputs": []
    },
    {
      "cell_type": "code",
      "metadata": {
        "id": "5xs711F26JSQ",
        "colab_type": "code",
        "colab": {}
      },
      "source": [
        "review_positif = \"kualitas brand milik toko liverpool memang mantap banget pokoknya\"\n",
        "review_negatif = \"respon toko tim sebelah kok jelek banget sih\""
      ],
      "execution_count": null,
      "outputs": []
    },
    {
      "cell_type": "code",
      "metadata": {
        "id": "GERu3_hQ6TlH",
        "colab_type": "code",
        "colab": {}
      },
      "source": [
        "clf.predict(preprocess_data(review_positif))"
      ],
      "execution_count": null,
      "outputs": []
    },
    {
      "cell_type": "code",
      "metadata": {
        "id": "phQu5hv06Ul3",
        "colab_type": "code",
        "colab": {}
      },
      "source": [
        "clf.predict(preprocess_data(review_negatif))"
      ],
      "execution_count": null,
      "outputs": []
    },
    {
      "cell_type": "code",
      "metadata": {
        "id": "SgQw54H8DNXi",
        "colab_type": "code",
        "colab": {}
      },
      "source": [
        ""
      ],
      "execution_count": null,
      "outputs": []
    }
  ]
}